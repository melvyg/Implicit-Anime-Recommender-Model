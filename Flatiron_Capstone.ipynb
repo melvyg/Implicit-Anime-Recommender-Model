{
 "cells": [
  {
   "cell_type": "markdown",
   "metadata": {},
   "source": [
    "# Introduction\n",
    "The aim of this project is..."
   ]
  },
  {
   "cell_type": "markdown",
   "metadata": {},
   "source": [
    "# Import Dependencies"
   ]
  },
  {
   "cell_type": "code",
   "execution_count": 3,
   "metadata": {
    "ExecuteTime": {
     "end_time": "2021-11-17T03:23:21.507302Z",
     "start_time": "2021-11-17T03:23:15.214789Z"
    }
   },
   "outputs": [],
   "source": [
    "import requests as req\n",
    "import pandas as pd\n",
    "import numpy as np\n",
    "import random\n",
    "import math\n",
    "\n",
    "import scipy.sparse as sparse\n",
    "from scipy.sparse.linalg import spsolve\n",
    "import implicit\n",
    "from sklearn.preprocessing import MinMaxScaler\n",
    "from sklearn import metrics\n",
    "\n",
    "import ast\n",
    "import pprint\n",
    "\n",
    "from tqdm import tqdm"
   ]
  },
  {
   "cell_type": "markdown",
   "metadata": {},
   "source": [
    "# Data Collection\n",
    "The cells below will follow a series of steps to collect data about our users and Anime content."
   ]
  },
  {
   "cell_type": "markdown",
   "metadata": {},
   "source": [
    "## Kitsu API\n",
    "\n",
    "Kitsu is a modern anime discovery platform that helps you track the anime you're watching, discover new anime and socialize with other fans.\n",
    "\n",
    "Within the Kitsu API __https://kitsu.docs.apiary.io/__ -- it contains data pertaining to users and the anime they have watched, rated, liked, commented, and overall have interacted with.\n",
    "\n",
    "In the next few cells we will aim to pull a initial sample of ~500 users and their interaction data.\n",
    "\n",
    "In total, there are 1,182,501 users and through the API, we are able to traverse through 20 results at a time. If we traverse through all 1.1M users only 20 at a time, we will need to make 59,125 iterations. \n",
    "\n",
    "For MVP purposes, we will pull a sample of 5,000 random users only needing 250 iterations."
   ]
  },
  {
   "cell_type": "markdown",
   "metadata": {},
   "source": [
    "To randomly select the 5,000 users knowing we can pull 20 from a page at a time -- we will use the following code to select for those users."
   ]
  },
  {
   "cell_type": "code",
   "execution_count": 4,
   "metadata": {
    "ExecuteTime": {
     "end_time": "2021-11-17T03:23:23.494195Z",
     "start_time": "2021-11-17T03:23:23.467198Z"
    }
   },
   "outputs": [
    {
     "name": "stdout",
     "output_type": "stream",
     "text": [
      "The pages to iterate through: 250 \n",
      "The number of users data to collect: 5000\n"
     ]
    }
   ],
   "source": [
    "num_users = 1182501\n",
    "sample_n = 5000\n",
    "users_per_page = 20\n",
    "pages_n = int(sample_n / users_per_page)\n",
    "\n",
    "# Increment the pages\n",
    "pages_array = np.arange(0,num_users,pages_n)\n",
    "\n",
    "# Shuffle the array of pages\n",
    "np.random.shuffle(pages_array)\n",
    "\n",
    "# Get the first pages_n from pages_array\n",
    "pages_to_query = pages_array[:pages_n]\n",
    "\n",
    "print(f'The pages to iterate through: {pages_n} \\nThe number of users data to collect: {pages_n*users_per_page}')"
   ]
  },
  {
   "cell_type": "code",
   "execution_count": 5,
   "metadata": {
    "ExecuteTime": {
     "end_time": "2021-11-17T03:23:25.931826Z",
     "start_time": "2021-11-17T03:23:25.918828Z"
    }
   },
   "outputs": [],
   "source": [
    "# Create users dict to collect data\n",
    "users_dict = {'id':[],\n",
    "              'name':[],\n",
    "              'location':[],\n",
    "              'createdAt':[],\n",
    "              'lifeSpentOnAnime':[],\n",
    "              'followersCount':[],\n",
    "              'followingCount':[],\n",
    "              'birthday':[],\n",
    "              'commentsCount':[],\n",
    "              'favoritesCount':[],\n",
    "              'likesGivenCount':[],\n",
    "              'reviewsCount':[],\n",
    "              'likesReceivedCount':[],\n",
    "              'postsCount':[],\n",
    "              'ratingsCount':[],\n",
    "              'likesReceivedCount':[],\n",
    "              'proTier':[],\n",
    "              'relationships':[]}"
   ]
  },
  {
   "cell_type": "markdown",
   "metadata": {},
   "source": [
    "## Iterate through pages of the Kitsu API to retrieve user data"
   ]
  },
  {
   "cell_type": "code",
   "execution_count": 6,
   "metadata": {
    "ExecuteTime": {
     "end_time": "2021-11-17T03:23:33.313623Z",
     "start_time": "2021-11-17T03:23:33.300593Z"
    },
    "scrolled": true
   },
   "outputs": [],
   "source": [
    "# Create list of keys to later iterate through \n",
    "data_extract = list(users_dict.keys())\n",
    "data_extract.remove('id')\n",
    "data_extract.remove('relationships')\n",
    "\n",
    "# Set up link to iterate through\n",
    "for page_num in tqdm(pages_to_query):\n",
    "# for page_num in [20]:\n",
    "    \n",
    "    # Set up link to retrieve response from\n",
    "    kitsu_link = f\"https://kitsu.io/api/edge/users?page%5Blimit%5D=20&page%5Boffset%5D={page_num}\"\n",
    "\n",
    "    # Retrieve response\n",
    "    response = req.get(kitsu_link)\n",
    "    data = response.json()\n",
    "\n",
    "    # Iterate through 'data' list in json API response\n",
    "    for user in data['data']:\n",
    "        \n",
    "        # Retrieve desired data points\n",
    "        attr = user['attributes']\n",
    "        user_id = user['id']\n",
    "        rel = user['relationships']\n",
    "        \n",
    "        users_dict['id'].append(user_id)\n",
    "        users_dict['relationships'].append(rel)\n",
    "        \n",
    "        # Iterate through users_dict keys for particular data points of interest\n",
    "        for key in data_extract:\n",
    "            users_dict[key].append(attr.get(key, np.nan))"
   ]
  },
  {
   "cell_type": "code",
   "execution_count": 99,
   "metadata": {
    "ExecuteTime": {
     "end_time": "2021-11-16T07:36:38.255971Z",
     "start_time": "2021-11-16T07:36:38.234414Z"
    }
   },
   "outputs": [],
   "source": [
    "# convert users_dict to a dataframe\n",
    "# animeUsers_df = pd.DataFrame(users_dict)\n",
    "\n",
    "# Save to csv\n",
    "# animeUsers_df.to_csv('animeUsers.csv',index=False)"
   ]
  },
  {
   "cell_type": "code",
   "execution_count": 7,
   "metadata": {
    "ExecuteTime": {
     "end_time": "2021-11-17T03:23:43.745476Z",
     "start_time": "2021-11-17T03:23:43.398550Z"
    }
   },
   "outputs": [],
   "source": [
    "animeUsers_df = pd.read_csv('animeUsers.csv')"
   ]
  },
  {
   "cell_type": "code",
   "execution_count": 8,
   "metadata": {
    "ExecuteTime": {
     "end_time": "2021-11-17T03:23:43.951789Z",
     "start_time": "2021-11-17T03:23:43.911752Z"
    },
    "scrolled": false
   },
   "outputs": [
    {
     "data": {
      "text/html": [
       "<div>\n",
       "<style scoped>\n",
       "    .dataframe tbody tr th:only-of-type {\n",
       "        vertical-align: middle;\n",
       "    }\n",
       "\n",
       "    .dataframe tbody tr th {\n",
       "        vertical-align: top;\n",
       "    }\n",
       "\n",
       "    .dataframe thead th {\n",
       "        text-align: right;\n",
       "    }\n",
       "</style>\n",
       "<table border=\"1\" class=\"dataframe\">\n",
       "  <thead>\n",
       "    <tr style=\"text-align: right;\">\n",
       "      <th></th>\n",
       "      <th>id</th>\n",
       "      <th>name</th>\n",
       "      <th>location</th>\n",
       "      <th>createdAt</th>\n",
       "      <th>lifeSpentOnAnime</th>\n",
       "      <th>followersCount</th>\n",
       "      <th>followingCount</th>\n",
       "      <th>birthday</th>\n",
       "      <th>commentsCount</th>\n",
       "      <th>favoritesCount</th>\n",
       "      <th>likesGivenCount</th>\n",
       "      <th>reviewsCount</th>\n",
       "      <th>likesReceivedCount</th>\n",
       "      <th>postsCount</th>\n",
       "      <th>ratingsCount</th>\n",
       "      <th>proTier</th>\n",
       "      <th>relationships</th>\n",
       "    </tr>\n",
       "  </thead>\n",
       "  <tbody>\n",
       "    <tr>\n",
       "      <th>0</th>\n",
       "      <td>717575</td>\n",
       "      <td>ybicona</td>\n",
       "      <td>Baltimore</td>\n",
       "      <td>2020-04-29T16:36:29.021Z</td>\n",
       "      <td>0</td>\n",
       "      <td>0</td>\n",
       "      <td>0</td>\n",
       "      <td>NaN</td>\n",
       "      <td>0</td>\n",
       "      <td>0</td>\n",
       "      <td>0</td>\n",
       "      <td>0</td>\n",
       "      <td>0</td>\n",
       "      <td>0</td>\n",
       "      <td>0</td>\n",
       "      <td>NaN</td>\n",
       "      <td>{'waifu': {'links': {'self': 'https://kitsu.io...</td>\n",
       "    </tr>\n",
       "    <tr>\n",
       "      <th>1</th>\n",
       "      <td>717576</td>\n",
       "      <td>skgsudhirkumar</td>\n",
       "      <td>NaN</td>\n",
       "      <td>2020-04-29T16:36:35.763Z</td>\n",
       "      <td>0</td>\n",
       "      <td>0</td>\n",
       "      <td>0</td>\n",
       "      <td>NaN</td>\n",
       "      <td>0</td>\n",
       "      <td>0</td>\n",
       "      <td>0</td>\n",
       "      <td>0</td>\n",
       "      <td>0</td>\n",
       "      <td>0</td>\n",
       "      <td>0</td>\n",
       "      <td>NaN</td>\n",
       "      <td>{'waifu': {'links': {'self': 'https://kitsu.io...</td>\n",
       "    </tr>\n",
       "    <tr>\n",
       "      <th>2</th>\n",
       "      <td>717577</td>\n",
       "      <td>βαγγέλης_μαχαίρας</td>\n",
       "      <td>NaN</td>\n",
       "      <td>2020-04-29T16:37:05.758Z</td>\n",
       "      <td>0</td>\n",
       "      <td>0</td>\n",
       "      <td>0</td>\n",
       "      <td>NaN</td>\n",
       "      <td>0</td>\n",
       "      <td>0</td>\n",
       "      <td>0</td>\n",
       "      <td>0</td>\n",
       "      <td>0</td>\n",
       "      <td>0</td>\n",
       "      <td>12</td>\n",
       "      <td>NaN</td>\n",
       "      <td>{'waifu': {'links': {'self': 'https://kitsu.io...</td>\n",
       "    </tr>\n",
       "    <tr>\n",
       "      <th>3</th>\n",
       "      <td>717578</td>\n",
       "      <td>Mame</td>\n",
       "      <td>NaN</td>\n",
       "      <td>2020-04-29T16:37:44.164Z</td>\n",
       "      <td>0</td>\n",
       "      <td>0</td>\n",
       "      <td>0</td>\n",
       "      <td>NaN</td>\n",
       "      <td>0</td>\n",
       "      <td>0</td>\n",
       "      <td>0</td>\n",
       "      <td>0</td>\n",
       "      <td>0</td>\n",
       "      <td>0</td>\n",
       "      <td>5</td>\n",
       "      <td>NaN</td>\n",
       "      <td>{'waifu': {'links': {'self': 'https://kitsu.io...</td>\n",
       "    </tr>\n",
       "    <tr>\n",
       "      <th>4</th>\n",
       "      <td>717579</td>\n",
       "      <td>ryan_maulana</td>\n",
       "      <td>NaN</td>\n",
       "      <td>2020-04-29T16:38:07.323Z</td>\n",
       "      <td>0</td>\n",
       "      <td>0</td>\n",
       "      <td>0</td>\n",
       "      <td>NaN</td>\n",
       "      <td>0</td>\n",
       "      <td>0</td>\n",
       "      <td>0</td>\n",
       "      <td>0</td>\n",
       "      <td>0</td>\n",
       "      <td>0</td>\n",
       "      <td>0</td>\n",
       "      <td>NaN</td>\n",
       "      <td>{'waifu': {'links': {'self': 'https://kitsu.io...</td>\n",
       "    </tr>\n",
       "  </tbody>\n",
       "</table>\n",
       "</div>"
      ],
      "text/plain": [
       "       id               name   location                 createdAt  \\\n",
       "0  717575            ybicona  Baltimore  2020-04-29T16:36:29.021Z   \n",
       "1  717576     skgsudhirkumar        NaN  2020-04-29T16:36:35.763Z   \n",
       "2  717577  βαγγέλης_μαχαίρας        NaN  2020-04-29T16:37:05.758Z   \n",
       "3  717578               Mame        NaN  2020-04-29T16:37:44.164Z   \n",
       "4  717579       ryan_maulana        NaN  2020-04-29T16:38:07.323Z   \n",
       "\n",
       "   lifeSpentOnAnime  followersCount  followingCount birthday  commentsCount  \\\n",
       "0                 0               0               0      NaN              0   \n",
       "1                 0               0               0      NaN              0   \n",
       "2                 0               0               0      NaN              0   \n",
       "3                 0               0               0      NaN              0   \n",
       "4                 0               0               0      NaN              0   \n",
       "\n",
       "   favoritesCount  likesGivenCount  reviewsCount  likesReceivedCount  \\\n",
       "0               0                0             0                   0   \n",
       "1               0                0             0                   0   \n",
       "2               0                0             0                   0   \n",
       "3               0                0             0                   0   \n",
       "4               0                0             0                   0   \n",
       "\n",
       "   postsCount  ratingsCount proTier  \\\n",
       "0           0             0     NaN   \n",
       "1           0             0     NaN   \n",
       "2           0            12     NaN   \n",
       "3           0             5     NaN   \n",
       "4           0             0     NaN   \n",
       "\n",
       "                                       relationships  \n",
       "0  {'waifu': {'links': {'self': 'https://kitsu.io...  \n",
       "1  {'waifu': {'links': {'self': 'https://kitsu.io...  \n",
       "2  {'waifu': {'links': {'self': 'https://kitsu.io...  \n",
       "3  {'waifu': {'links': {'self': 'https://kitsu.io...  \n",
       "4  {'waifu': {'links': {'self': 'https://kitsu.io...  "
      ]
     },
     "execution_count": 8,
     "metadata": {},
     "output_type": "execute_result"
    }
   ],
   "source": [
    "# Peek at data\n",
    "animeUsers_df.head()"
   ]
  },
  {
   "cell_type": "code",
   "execution_count": 9,
   "metadata": {
    "ExecuteTime": {
     "end_time": "2021-11-17T03:23:44.527576Z",
     "start_time": "2021-11-17T03:23:44.478137Z"
    }
   },
   "outputs": [
    {
     "data": {
      "text/html": [
       "<div>\n",
       "<style scoped>\n",
       "    .dataframe tbody tr th:only-of-type {\n",
       "        vertical-align: middle;\n",
       "    }\n",
       "\n",
       "    .dataframe tbody tr th {\n",
       "        vertical-align: top;\n",
       "    }\n",
       "\n",
       "    .dataframe thead th {\n",
       "        text-align: right;\n",
       "    }\n",
       "</style>\n",
       "<table border=\"1\" class=\"dataframe\">\n",
       "  <thead>\n",
       "    <tr style=\"text-align: right;\">\n",
       "      <th></th>\n",
       "      <th>id</th>\n",
       "      <th>name</th>\n",
       "      <th>location</th>\n",
       "      <th>createdAt</th>\n",
       "      <th>lifeSpentOnAnime</th>\n",
       "      <th>followersCount</th>\n",
       "      <th>followingCount</th>\n",
       "      <th>birthday</th>\n",
       "      <th>commentsCount</th>\n",
       "      <th>favoritesCount</th>\n",
       "      <th>likesGivenCount</th>\n",
       "      <th>reviewsCount</th>\n",
       "      <th>likesReceivedCount</th>\n",
       "      <th>postsCount</th>\n",
       "      <th>ratingsCount</th>\n",
       "      <th>proTier</th>\n",
       "      <th>relationships</th>\n",
       "    </tr>\n",
       "  </thead>\n",
       "  <tbody>\n",
       "    <tr>\n",
       "      <th>979</th>\n",
       "      <td>85539</td>\n",
       "      <td>maria12021</td>\n",
       "      <td>Norway</td>\n",
       "      <td>2015-04-06T00:55:29.333Z</td>\n",
       "      <td>74217</td>\n",
       "      <td>4</td>\n",
       "      <td>2</td>\n",
       "      <td>2001-04-18</td>\n",
       "      <td>0</td>\n",
       "      <td>209</td>\n",
       "      <td>0</td>\n",
       "      <td>0</td>\n",
       "      <td>0</td>\n",
       "      <td>0</td>\n",
       "      <td>605</td>\n",
       "      <td>NaN</td>\n",
       "      <td>{'waifu': {'links': {'self': 'https://kitsu.io...</td>\n",
       "    </tr>\n",
       "    <tr>\n",
       "      <th>2754</th>\n",
       "      <td>143115</td>\n",
       "      <td>Liv_Martin_Strong</td>\n",
       "      <td>UK</td>\n",
       "      <td>2017-01-16T01:03:19.919Z</td>\n",
       "      <td>0</td>\n",
       "      <td>36</td>\n",
       "      <td>28</td>\n",
       "      <td>1991-08-14</td>\n",
       "      <td>44</td>\n",
       "      <td>139</td>\n",
       "      <td>26</td>\n",
       "      <td>27</td>\n",
       "      <td>30</td>\n",
       "      <td>33</td>\n",
       "      <td>280</td>\n",
       "      <td>NaN</td>\n",
       "      <td>{'waifu': {'links': {'self': 'https://kitsu.io...</td>\n",
       "    </tr>\n",
       "    <tr>\n",
       "      <th>3747</th>\n",
       "      <td>121938</td>\n",
       "      <td>70a573r</td>\n",
       "      <td>The Government</td>\n",
       "      <td>2016-03-20T23:46:32.451Z</td>\n",
       "      <td>20854</td>\n",
       "      <td>6</td>\n",
       "      <td>2</td>\n",
       "      <td>2001-09-11</td>\n",
       "      <td>2</td>\n",
       "      <td>86</td>\n",
       "      <td>4</td>\n",
       "      <td>1</td>\n",
       "      <td>7</td>\n",
       "      <td>3</td>\n",
       "      <td>5</td>\n",
       "      <td>NaN</td>\n",
       "      <td>{'waifu': {'links': {'self': 'https://kitsu.io...</td>\n",
       "    </tr>\n",
       "    <tr>\n",
       "      <th>3971</th>\n",
       "      <td>70211</td>\n",
       "      <td>LadyGira</td>\n",
       "      <td>Pirate Ship</td>\n",
       "      <td>2014-12-09T04:44:12.856Z</td>\n",
       "      <td>451853</td>\n",
       "      <td>5</td>\n",
       "      <td>10</td>\n",
       "      <td>NaN</td>\n",
       "      <td>0</td>\n",
       "      <td>82</td>\n",
       "      <td>10</td>\n",
       "      <td>0</td>\n",
       "      <td>1</td>\n",
       "      <td>0</td>\n",
       "      <td>1040</td>\n",
       "      <td>NaN</td>\n",
       "      <td>{'waifu': {'links': {'self': 'https://kitsu.io...</td>\n",
       "    </tr>\n",
       "    <tr>\n",
       "      <th>2523</th>\n",
       "      <td>86869</td>\n",
       "      <td>nick_gooeygrass</td>\n",
       "      <td>NaN</td>\n",
       "      <td>2015-04-15T23:18:46.962Z</td>\n",
       "      <td>73828</td>\n",
       "      <td>1</td>\n",
       "      <td>1</td>\n",
       "      <td>NaN</td>\n",
       "      <td>0</td>\n",
       "      <td>55</td>\n",
       "      <td>0</td>\n",
       "      <td>0</td>\n",
       "      <td>0</td>\n",
       "      <td>0</td>\n",
       "      <td>96</td>\n",
       "      <td>NaN</td>\n",
       "      <td>{'waifu': {'links': {'self': 'https://kitsu.io...</td>\n",
       "    </tr>\n",
       "    <tr>\n",
       "      <th>2149</th>\n",
       "      <td>78730</td>\n",
       "      <td>Iago</td>\n",
       "      <td>South</td>\n",
       "      <td>2015-02-07T13:48:55.698Z</td>\n",
       "      <td>137029</td>\n",
       "      <td>69</td>\n",
       "      <td>61</td>\n",
       "      <td>NaN</td>\n",
       "      <td>6</td>\n",
       "      <td>51</td>\n",
       "      <td>986</td>\n",
       "      <td>0</td>\n",
       "      <td>-9</td>\n",
       "      <td>3</td>\n",
       "      <td>655</td>\n",
       "      <td>NaN</td>\n",
       "      <td>{'waifu': {'links': {'self': 'https://kitsu.io...</td>\n",
       "    </tr>\n",
       "    <tr>\n",
       "      <th>2487</th>\n",
       "      <td>561112</td>\n",
       "      <td>kevintombs20</td>\n",
       "      <td>NaN</td>\n",
       "      <td>2019-08-13T18:19:22.094Z</td>\n",
       "      <td>0</td>\n",
       "      <td>0</td>\n",
       "      <td>0</td>\n",
       "      <td>NaN</td>\n",
       "      <td>0</td>\n",
       "      <td>46</td>\n",
       "      <td>0</td>\n",
       "      <td>0</td>\n",
       "      <td>0</td>\n",
       "      <td>0</td>\n",
       "      <td>71</td>\n",
       "      <td>NaN</td>\n",
       "      <td>{'waifu': {'links': {'self': 'https://kitsu.io...</td>\n",
       "    </tr>\n",
       "    <tr>\n",
       "      <th>4833</th>\n",
       "      <td>100364</td>\n",
       "      <td>Wolfwood93</td>\n",
       "      <td>Colorado</td>\n",
       "      <td>2015-08-08T17:34:30.626Z</td>\n",
       "      <td>96306</td>\n",
       "      <td>15</td>\n",
       "      <td>6</td>\n",
       "      <td>1993-09-13</td>\n",
       "      <td>2</td>\n",
       "      <td>44</td>\n",
       "      <td>14</td>\n",
       "      <td>0</td>\n",
       "      <td>-2</td>\n",
       "      <td>-1</td>\n",
       "      <td>178</td>\n",
       "      <td>NaN</td>\n",
       "      <td>{'waifu': {'links': {'self': 'https://kitsu.io...</td>\n",
       "    </tr>\n",
       "    <tr>\n",
       "      <th>119</th>\n",
       "      <td>278590</td>\n",
       "      <td>BarretKun</td>\n",
       "      <td>São Bernardo do Campo, SP, Brazil</td>\n",
       "      <td>2018-05-29T16:05:06.030Z</td>\n",
       "      <td>0</td>\n",
       "      <td>1</td>\n",
       "      <td>1</td>\n",
       "      <td>1999-06-24</td>\n",
       "      <td>0</td>\n",
       "      <td>41</td>\n",
       "      <td>0</td>\n",
       "      <td>0</td>\n",
       "      <td>0</td>\n",
       "      <td>0</td>\n",
       "      <td>172</td>\n",
       "      <td>NaN</td>\n",
       "      <td>{'waifu': {'links': {'self': 'https://kitsu.io...</td>\n",
       "    </tr>\n",
       "    <tr>\n",
       "      <th>1970</th>\n",
       "      <td>582074</td>\n",
       "      <td>Legorion</td>\n",
       "      <td>Latvia,Riga</td>\n",
       "      <td>2019-09-22T15:42:08.578Z</td>\n",
       "      <td>0</td>\n",
       "      <td>4</td>\n",
       "      <td>5</td>\n",
       "      <td>1986-09-22</td>\n",
       "      <td>1</td>\n",
       "      <td>39</td>\n",
       "      <td>3</td>\n",
       "      <td>0</td>\n",
       "      <td>0</td>\n",
       "      <td>0</td>\n",
       "      <td>37</td>\n",
       "      <td>NaN</td>\n",
       "      <td>{'waifu': {'links': {'self': 'https://kitsu.io...</td>\n",
       "    </tr>\n",
       "  </tbody>\n",
       "</table>\n",
       "</div>"
      ],
      "text/plain": [
       "          id               name                           location  \\\n",
       "979    85539         maria12021                             Norway   \n",
       "2754  143115  Liv_Martin_Strong                                 UK   \n",
       "3747  121938            70a573r                     The Government   \n",
       "3971   70211           LadyGira                        Pirate Ship   \n",
       "2523   86869    nick_gooeygrass                                NaN   \n",
       "2149   78730               Iago                              South   \n",
       "2487  561112       kevintombs20                                NaN   \n",
       "4833  100364         Wolfwood93                           Colorado   \n",
       "119   278590          BarretKun  São Bernardo do Campo, SP, Brazil   \n",
       "1970  582074           Legorion                        Latvia,Riga   \n",
       "\n",
       "                     createdAt  lifeSpentOnAnime  followersCount  \\\n",
       "979   2015-04-06T00:55:29.333Z             74217               4   \n",
       "2754  2017-01-16T01:03:19.919Z                 0              36   \n",
       "3747  2016-03-20T23:46:32.451Z             20854               6   \n",
       "3971  2014-12-09T04:44:12.856Z            451853               5   \n",
       "2523  2015-04-15T23:18:46.962Z             73828               1   \n",
       "2149  2015-02-07T13:48:55.698Z            137029              69   \n",
       "2487  2019-08-13T18:19:22.094Z                 0               0   \n",
       "4833  2015-08-08T17:34:30.626Z             96306              15   \n",
       "119   2018-05-29T16:05:06.030Z                 0               1   \n",
       "1970  2019-09-22T15:42:08.578Z                 0               4   \n",
       "\n",
       "      followingCount    birthday  commentsCount  favoritesCount  \\\n",
       "979                2  2001-04-18              0             209   \n",
       "2754              28  1991-08-14             44             139   \n",
       "3747               2  2001-09-11              2              86   \n",
       "3971              10         NaN              0              82   \n",
       "2523               1         NaN              0              55   \n",
       "2149              61         NaN              6              51   \n",
       "2487               0         NaN              0              46   \n",
       "4833               6  1993-09-13              2              44   \n",
       "119                1  1999-06-24              0              41   \n",
       "1970               5  1986-09-22              1              39   \n",
       "\n",
       "      likesGivenCount  reviewsCount  likesReceivedCount  postsCount  \\\n",
       "979                 0             0                   0           0   \n",
       "2754               26            27                  30          33   \n",
       "3747                4             1                   7           3   \n",
       "3971               10             0                   1           0   \n",
       "2523                0             0                   0           0   \n",
       "2149              986             0                  -9           3   \n",
       "2487                0             0                   0           0   \n",
       "4833               14             0                  -2          -1   \n",
       "119                 0             0                   0           0   \n",
       "1970                3             0                   0           0   \n",
       "\n",
       "      ratingsCount proTier                                      relationships  \n",
       "979            605     NaN  {'waifu': {'links': {'self': 'https://kitsu.io...  \n",
       "2754           280     NaN  {'waifu': {'links': {'self': 'https://kitsu.io...  \n",
       "3747             5     NaN  {'waifu': {'links': {'self': 'https://kitsu.io...  \n",
       "3971          1040     NaN  {'waifu': {'links': {'self': 'https://kitsu.io...  \n",
       "2523            96     NaN  {'waifu': {'links': {'self': 'https://kitsu.io...  \n",
       "2149           655     NaN  {'waifu': {'links': {'self': 'https://kitsu.io...  \n",
       "2487            71     NaN  {'waifu': {'links': {'self': 'https://kitsu.io...  \n",
       "4833           178     NaN  {'waifu': {'links': {'self': 'https://kitsu.io...  \n",
       "119            172     NaN  {'waifu': {'links': {'self': 'https://kitsu.io...  \n",
       "1970            37     NaN  {'waifu': {'links': {'self': 'https://kitsu.io...  "
      ]
     },
     "execution_count": 9,
     "metadata": {},
     "output_type": "execute_result"
    }
   ],
   "source": [
    "animeUsers_df.sort_values('favoritesCount',ascending=False).head(10)"
   ]
  },
  {
   "cell_type": "code",
   "execution_count": 10,
   "metadata": {
    "ExecuteTime": {
     "end_time": "2021-11-17T03:23:46.405162Z",
     "start_time": "2021-11-17T03:23:45.228179Z"
    },
    "scrolled": false
   },
   "outputs": [
    {
     "name": "stdout",
     "output_type": "stream",
     "text": [
      "commentsCount        2178\n",
      "favoritesCount       4178\n",
      "likesGivenCount      5689\n",
      "reviewsCount          100\n",
      "postsCount            920\n",
      "ratingsCount       135568\n",
      "dtype: int64\n",
      "\n"
     ]
    },
    {
     "data": {
      "image/png": "[encoded data removed]",
      "text/plain": [
       "<Figure size 432x288 with 1 Axes>"
      ]
     },
     "metadata": {
      "needs_background": "light"
     },
     "output_type": "display_data"
    }
   ],
   "source": [
    "# Examine distribution of interaction types among users\n",
    "interaction_list = ['commentsCount',\n",
    "                    'favoritesCount', \n",
    "                    'likesGivenCount', \n",
    "                    'reviewsCount',\n",
    "                    'postsCount', \n",
    "                    'ratingsCount']\n",
    "\n",
    "print(animeUsers_df[interaction_list].sum())\n",
    "print()\n",
    "\n",
    "pd.DataFrame(animeUsers_df[interaction_list].sum()).plot(kind='bar');"
   ]
  },
  {
   "cell_type": "markdown",
   "metadata": {},
   "source": [
    "- favorites\n",
    "- reviews\n",
    "    - https://kitsu.io/api/edge/users/22/reviews; reviews id; https://kitsu.io/api/edge/reviews/review id/media"
   ]
  },
  {
   "cell_type": "code",
   "execution_count": 11,
   "metadata": {
    "ExecuteTime": {
     "end_time": "2021-11-17T03:23:48.476831Z",
     "start_time": "2021-11-17T03:23:48.461172Z"
    }
   },
   "outputs": [],
   "source": [
    "# Peek at few examples of relationships column\n",
    "jt = ast.literal_eval(animeUsers_df['relationships'][1])\n",
    "jt2 = ast.literal_eval(animeUsers_df['relationships'][4])"
   ]
  },
  {
   "cell_type": "code",
   "execution_count": 12,
   "metadata": {
    "ExecuteTime": {
     "end_time": "2021-11-17T03:23:48.684111Z",
     "start_time": "2021-11-17T03:23:48.678072Z"
    }
   },
   "outputs": [],
   "source": [
    "def get_kitsu_response(link):\n",
    "    \"\"\"\n",
    "    Returns a pretty printed response from JSON object\n",
    "    \n",
    "    Parameters\n",
    "    ----------\n",
    "    link : str\n",
    "        The URL to query from Kitsu API\n",
    "\n",
    "    Returns\n",
    "    -------\n",
    "    pretty printed view of json response\n",
    "    \n",
    "    \"\"\"\n",
    "    kitsu_response = req.get(link)\n",
    "    kitsu_data = kitsu_response.json()\n",
    "    return kitsu_data"
   ]
  },
  {
   "cell_type": "code",
   "execution_count": 13,
   "metadata": {
    "ExecuteTime": {
     "end_time": "2021-11-17T03:23:49.572531Z",
     "start_time": "2021-11-17T03:23:49.126071Z"
    }
   },
   "outputs": [
    {
     "data": {
      "text/plain": [
       "{'data': [],\n",
       " 'meta': {'count': 0},\n",
       " 'links': {'first': 'https://kitsu.io/api/edge/users/717576/favorites?page%5Blimit%5D=10&page%5Boffset%5D=0',\n",
       "  'last': 'https://kitsu.io/api/edge/users/717576/favorites?page%5Blimit%5D=10&page%5Boffset%5D=0'}}"
      ]
     },
     "execution_count": 13,
     "metadata": {},
     "output_type": "execute_result"
    }
   ],
   "source": [
    "# Check kitsu response\n",
    "get_kitsu_response( jt['favorites']['links']['related'] )"
   ]
  },
  {
   "cell_type": "code",
   "execution_count": 14,
   "metadata": {
    "ExecuteTime": {
     "end_time": "2021-11-17T03:23:49.826581Z",
     "start_time": "2021-11-17T03:23:49.612552Z"
    }
   },
   "outputs": [
    {
     "data": {
      "text/plain": [
       "{'data': [],\n",
       " 'meta': {'count': 0},\n",
       " 'links': {'first': 'https://kitsu.io/api/edge/users/717579/favorites?page%5Blimit%5D=10&page%5Boffset%5D=0',\n",
       "  'last': 'https://kitsu.io/api/edge/users/717579/favorites?page%5Blimit%5D=10&page%5Boffset%5D=0'}}"
      ]
     },
     "execution_count": 14,
     "metadata": {},
     "output_type": "execute_result"
    }
   ],
   "source": [
    "# Check kitsu response\n",
    "get_kitsu_response( jt2['favorites']['links']['related'] )"
   ]
  },
  {
   "cell_type": "markdown",
   "metadata": {},
   "source": [
    "## Retrieve Favorite Anime per User"
   ]
  },
  {
   "cell_type": "code",
   "execution_count": 15,
   "metadata": {
    "ExecuteTime": {
     "end_time": "2021-11-17T03:23:53.961731Z",
     "start_time": "2021-11-17T03:23:53.944966Z"
    }
   },
   "outputs": [],
   "source": [
    "def get_user_favorites(user_id):\n",
    "    \"\"\"\n",
    "    Returns a list of a user's favorite anime\n",
    "    \n",
    "    Parameters\n",
    "    ----------\n",
    "    user_id : int\n",
    "        user_id\n",
    "    Returns\n",
    "    -------\n",
    "    Dictionary of the user's favorited anime\n",
    "    \n",
    "    \"\"\"\n",
    "    print(f'Retrieving favorites data for user {user_id}')\n",
    "    kitsu_link = f'https://kitsu.io/api/edge/favorites/?filter[userId]={user_id}&[itemType]=Media'\n",
    "    kitsu_response = req.get(kitsu_link)\n",
    "    kitsu_data = kitsu_response.json()\n",
    "\n",
    "    # Store favorites dictionary\n",
    "    fav_dict = {\n",
    "        'user_id': None,\n",
    "        'anime_id': [],\n",
    "        'canonicalTitle': [],\n",
    "        'synopsis': [],\n",
    "        'description': []\n",
    "    }\n",
    "\n",
    "    # Check for number of favorites -- if more than 10; paginate through all favorites else retrieve favorites on page\n",
    "    favorites_count = kitsu_data['meta']['count']\n",
    "\n",
    "    pages = math.floor((favorites_count / 10) + 1)\n",
    "    page_nums = []\n",
    "    count = 0\n",
    "    # Create list of pages to paginate through\n",
    "    for num in range(pages):\n",
    "        page_nums.append(num * 10)\n",
    "\n",
    "    # Retrieve data from each page\n",
    "    for page in tqdm(page_nums):\n",
    "        link = f'https://kitsu.io/api/edge/favorites?filter%5BuserId%5D={user_id}&page%5Blimit%5D=10&page%5Boffset%5D={page}'\n",
    "        fav_page = get_kitsu_response(link)\n",
    "        for fav in fav_page['data']:\n",
    "\n",
    "            # Get link to retrieve anime data\n",
    "            item = fav['relationships']['item']['links']['related']\n",
    "            anime_response = get_kitsu_response(item)\n",
    "\n",
    "            # Check that the user's marked favorite is an anime\n",
    "            if anime_response['data']['type'] == 'anime':\n",
    "\n",
    "                title = anime_response['data']['attributes'].get(\n",
    "                    'canonicalTitle', np.nan)\n",
    "                anime_id = anime_response['data'].get('id', np.nan)\n",
    "                synopsis = anime_response['data']['attributes'].get(\n",
    "                    'synopsis', np.nan)\n",
    "                desc = anime_response['data']['attributes'].get(\n",
    "                    'description', np.nan)\n",
    "\n",
    "                fav_dict['anime_id'].append(anime_id)\n",
    "                fav_dict['canonicalTitle'].append(title)\n",
    "                fav_dict['synopsis'].append(synopsis)\n",
    "                fav_dict['description'].append(desc)\n",
    "                count += 1\n",
    "\n",
    "            # If the marked favorite is not an anime --> skip\n",
    "            else:\n",
    "                continue\n",
    "\n",
    "    # Create a list of the users_id to map every item to the user\n",
    "    user_id_list = [user_id] * count\n",
    "    fav_dict['user_id'] = user_id_list\n",
    "\n",
    "    return fav_dict"
   ]
  },
  {
   "cell_type": "markdown",
   "metadata": {
    "ExecuteTime": {
     "end_time": "2021-10-15T06:20:34.775769Z",
     "start_time": "2021-10-15T06:20:34.754299Z"
    }
   },
   "source": [
    "## Retrieve Library Entries per User"
   ]
  },
  {
   "cell_type": "code",
   "execution_count": 16,
   "metadata": {
    "ExecuteTime": {
     "end_time": "2021-11-17T03:23:55.223178Z",
     "start_time": "2021-11-17T03:23:55.213218Z"
    }
   },
   "outputs": [],
   "source": [
    "def get_user_library_entries(user_id):\n",
    "    \"\"\"\n",
    "    Returns a list of a user's library entries. \n",
    "    The output of this function will detail anime the user has watched, planned to watch, or stopped watching.\n",
    "    \n",
    "    Parameters\n",
    "    ----------\n",
    "    user_id : int\n",
    "        user_id\n",
    "    Returns\n",
    "    -------\n",
    "    Dictionary of the anime a user has interacted with.\n",
    "    \n",
    "    \"\"\"\n",
    "    print(f'Retrieving library entry data for user {user_id}')\n",
    "    kitsu_link = f'https://kitsu.io/api/edge/library-entries/?filter[userId]={user_id}&[kind]=anime'\n",
    "    kitsu_response = req.get(kitsu_link)\n",
    "    kitsu_data = kitsu_response.json()\n",
    "\n",
    "    # Store favorites dictionary\n",
    "    lib_entry_dict = {\n",
    "        'user_id': None,\n",
    "        'anime_id': [],\n",
    "        'status': [],\n",
    "        'progress': [],\n",
    "        'progressedAt': [],\n",
    "        'startedAt': [],\n",
    "        'finishedAt': [],\n",
    "        'canonicalTitle': [],\n",
    "        'synopsis': [],\n",
    "        'description': []\n",
    "    }\n",
    "\n",
    "    # Check for number of favorites -- if more than 10; paginate through all favorites else retrieve favorites on page\n",
    "    entries_count = kitsu_data['meta']['count']\n",
    "\n",
    "    pages = math.floor((entries_count / 10) + 1)\n",
    "    page_nums = []\n",
    "    count = 0\n",
    "    # Create list of pages to paginate through\n",
    "    for num in range(pages):\n",
    "        page_nums.append(num * 10)\n",
    "\n",
    "    # Retrieve data from each page\n",
    "    for page in tqdm(page_nums[:5]):\n",
    "        link = f'https://kitsu.io/api/edge/library-entries?filter%5BuserId%5D={user_id}&page%5Blimit%5D=10&page%5Boffset%5D={page}'\n",
    "        le_page = get_kitsu_response(link)\n",
    "        for le in le_page['data']:\n",
    "\n",
    "            # Retrieve watch status data\n",
    "            attr = le['attributes']\n",
    "            status = attr['status']\n",
    "            progress = attr['progress']\n",
    "            progressedAt = attr['progressedAt']\n",
    "            startedAt = attr['startedAt']\n",
    "            finishedAt = attr['finishedAt']\n",
    "\n",
    "            # Get link to retrieve anime data\n",
    "            item = le['relationships']['anime']['links']['related']\n",
    "            anime_response = get_kitsu_response(item)\n",
    "            try:\n",
    "                title = anime_response['data']['attributes'].get(\n",
    "                    'canonicalTitle', np.nan)\n",
    "                anime_id = anime_response['data'].get('id', np.nan)\n",
    "                synopsis = anime_response['data']['attributes'].get(\n",
    "                    'synopsis', np.nan)\n",
    "                desc = anime_response['data']['attributes'].get(\n",
    "                    'description', np.nan)\n",
    "\n",
    "                lib_entry_dict['status'].append(status)\n",
    "                lib_entry_dict['progress'].append(progress)\n",
    "                lib_entry_dict['progressedAt'].append(progressedAt)\n",
    "                lib_entry_dict['startedAt'].append(progressedAt)\n",
    "                lib_entry_dict['finishedAt'].append(finishedAt)\n",
    "                lib_entry_dict['anime_id'].append(anime_id)\n",
    "                lib_entry_dict['canonicalTitle'].append(title)\n",
    "                lib_entry_dict['synopsis'].append(synopsis)\n",
    "                lib_entry_dict['description'].append(desc)\n",
    "                count += 1\n",
    "            except TypeError:\n",
    "                continue\n",
    "\n",
    "    # Create a list of the users_id to map every item to the user\n",
    "    user_id_list = [user_id] * count\n",
    "    lib_entry_dict['user_id'] = user_id_list\n",
    "\n",
    "    return lib_entry_dict"
   ]
  },
  {
   "cell_type": "markdown",
   "metadata": {},
   "source": [
    "# Run retrieval functions for a sample of users"
   ]
  },
  {
   "cell_type": "code",
   "execution_count": 17,
   "metadata": {
    "ExecuteTime": {
     "end_time": "2021-11-17T03:23:58.445884Z",
     "start_time": "2021-11-17T03:23:58.440911Z"
    }
   },
   "outputs": [],
   "source": [
    "# Select random list of users to retrive their interaction data\n",
    "user_sample_list = [85539, 143115, 121938, 70211, 86869]"
   ]
  },
  {
   "cell_type": "code",
   "execution_count": 18,
   "metadata": {
    "ExecuteTime": {
     "end_time": "2021-11-17T03:25:49.353909Z",
     "start_time": "2021-11-17T03:23:58.889886Z"
    },
    "scrolled": false
   },
   "outputs": [
    {
     "name": "stdout",
     "output_type": "stream",
     "text": [
      "Retrieving favorites data for user 85539\n"
     ]
    },
    {
     "name": "stderr",
     "output_type": "stream",
     "text": [
      "100%|██████████| 21/21 [00:41<00:00,  1.99s/it]\n",
      "  0%|          | 0/14 [00:00<?, ?it/s]"
     ]
    },
    {
     "name": "stdout",
     "output_type": "stream",
     "text": [
      "Retrieving favorites data for user 143115\n"
     ]
    },
    {
     "name": "stderr",
     "output_type": "stream",
     "text": [
      "100%|██████████| 14/14 [00:24<00:00,  1.74s/it]\n",
      "  0%|          | 0/9 [00:00<?, ?it/s]"
     ]
    },
    {
     "name": "stdout",
     "output_type": "stream",
     "text": [
      "Retrieving favorites data for user 121938\n"
     ]
    },
    {
     "name": "stderr",
     "output_type": "stream",
     "text": [
      "100%|██████████| 9/9 [00:16<00:00,  1.80s/it]\n",
      "  0%|          | 0/9 [00:00<?, ?it/s]"
     ]
    },
    {
     "name": "stdout",
     "output_type": "stream",
     "text": [
      "Retrieving favorites data for user 70211\n"
     ]
    },
    {
     "name": "stderr",
     "output_type": "stream",
     "text": [
      "100%|██████████| 9/9 [00:15<00:00,  1.69s/it]\n",
      "  0%|          | 0/6 [00:00<?, ?it/s]"
     ]
    },
    {
     "name": "stdout",
     "output_type": "stream",
     "text": [
      "Retrieving favorites data for user 86869\n"
     ]
    },
    {
     "name": "stderr",
     "output_type": "stream",
     "text": [
      "100%|██████████| 6/6 [00:11<00:00,  2.00s/it]\n"
     ]
    }
   ],
   "source": [
    "# Retrieve sample of favorites data per user\n",
    "users_favs_df = pd.DataFrame()\n",
    "\n",
    "for user in user_sample_list:\n",
    "    df = pd.DataFrame(get_user_favorites(user))\n",
    "    users_favs_df = users_favs_df.append(df)"
   ]
  },
  {
   "cell_type": "code",
   "execution_count": 19,
   "metadata": {
    "ExecuteTime": {
     "end_time": "2021-11-17T03:25:49.463968Z",
     "start_time": "2021-11-17T03:25:49.402925Z"
    }
   },
   "outputs": [],
   "source": [
    "# Save anime favorites data per user\n",
    "users_favs_df.to_csv('animeFavorites_data.csv',index=False)\n",
    "\n",
    "# users_favs_df = pd.read_csv('animeFavorites_data.csv')"
   ]
  },
  {
   "cell_type": "code",
   "execution_count": 20,
   "metadata": {
    "ExecuteTime": {
     "end_time": "2021-11-17T03:26:39.283440Z",
     "start_time": "2021-11-17T03:25:49.496897Z"
    }
   },
   "outputs": [
    {
     "name": "stdout",
     "output_type": "stream",
     "text": [
      "Retrieving library entry data for user 85539\n"
     ]
    },
    {
     "name": "stderr",
     "output_type": "stream",
     "text": [
      "100%|██████████| 5/5 [00:09<00:00,  1.84s/it]\n"
     ]
    },
    {
     "name": "stdout",
     "output_type": "stream",
     "text": [
      "Retrieving library entry data for user 143115\n"
     ]
    },
    {
     "name": "stderr",
     "output_type": "stream",
     "text": [
      "100%|██████████| 5/5 [00:09<00:00,  1.98s/it]\n"
     ]
    },
    {
     "name": "stdout",
     "output_type": "stream",
     "text": [
      "Retrieving library entry data for user 121938\n"
     ]
    },
    {
     "name": "stderr",
     "output_type": "stream",
     "text": [
      "100%|██████████| 5/5 [00:09<00:00,  1.89s/it]\n"
     ]
    },
    {
     "name": "stdout",
     "output_type": "stream",
     "text": [
      "Retrieving library entry data for user 70211\n"
     ]
    },
    {
     "name": "stderr",
     "output_type": "stream",
     "text": [
      "100%|██████████| 5/5 [00:09<00:00,  1.99s/it]\n",
      "  0%|          | 0/5 [00:00<?, ?it/s]"
     ]
    },
    {
     "name": "stdout",
     "output_type": "stream",
     "text": [
      "Retrieving library entry data for user 86869\n"
     ]
    },
    {
     "name": "stderr",
     "output_type": "stream",
     "text": [
      "100%|██████████| 5/5 [00:09<00:00,  1.98s/it]\n"
     ]
    }
   ],
   "source": [
    "# Retrieve sample of library entries data per user\n",
    "users_le_df = pd.DataFrame()\n",
    "\n",
    "for user in user_sample_list:\n",
    "    df = pd.DataFrame(get_user_library_entries(user))\n",
    "    users_le_df = users_le_df.append(df)"
   ]
  },
  {
   "cell_type": "code",
   "execution_count": 21,
   "metadata": {
    "ExecuteTime": {
     "end_time": "2021-11-17T03:26:39.426833Z",
     "start_time": "2021-11-17T03:26:39.396834Z"
    }
   },
   "outputs": [],
   "source": [
    "# Save anime library entries data per user\n",
    "users_le_df.to_csv('animeWatchStatus_data.csv',index=False)\n",
    "\n",
    "# users_le_df = pd.read_csv('animeWatchStatus_data.csv')"
   ]
  },
  {
   "cell_type": "code",
   "execution_count": 22,
   "metadata": {
    "ExecuteTime": {
     "end_time": "2021-11-17T03:26:39.504851Z",
     "start_time": "2021-11-17T03:26:39.476831Z"
    }
   },
   "outputs": [
    {
     "data": {
      "text/html": [
       "<div>\n",
       "<style scoped>\n",
       "    .dataframe tbody tr th:only-of-type {\n",
       "        vertical-align: middle;\n",
       "    }\n",
       "\n",
       "    .dataframe tbody tr th {\n",
       "        vertical-align: top;\n",
       "    }\n",
       "\n",
       "    .dataframe thead th {\n",
       "        text-align: right;\n",
       "    }\n",
       "</style>\n",
       "<table border=\"1\" class=\"dataframe\">\n",
       "  <thead>\n",
       "    <tr style=\"text-align: right;\">\n",
       "      <th></th>\n",
       "      <th>user_id</th>\n",
       "      <th>anime_id</th>\n",
       "      <th>status</th>\n",
       "      <th>progress</th>\n",
       "      <th>progressedAt</th>\n",
       "      <th>startedAt</th>\n",
       "      <th>finishedAt</th>\n",
       "      <th>canonicalTitle</th>\n",
       "      <th>synopsis</th>\n",
       "      <th>description</th>\n",
       "    </tr>\n",
       "  </thead>\n",
       "  <tbody>\n",
       "    <tr>\n",
       "      <th>0</th>\n",
       "      <td>85539</td>\n",
       "      <td>176</td>\n",
       "      <td>completed</td>\n",
       "      <td>1</td>\n",
       "      <td>2016-04-05T21:53:57.987Z</td>\n",
       "      <td>2016-04-05T21:53:57.987Z</td>\n",
       "      <td>2016-04-05T00:00:00.000Z</td>\n",
       "      <td>Spirited Away</td>\n",
       "      <td>Stubborn, spoiled, and naïve, 10-year-old Chih...</td>\n",
       "      <td>Stubborn, spoiled, and naïve, 10-year-old Chih...</td>\n",
       "    </tr>\n",
       "    <tr>\n",
       "      <th>1</th>\n",
       "      <td>85539</td>\n",
       "      <td>6711</td>\n",
       "      <td>completed</td>\n",
       "      <td>1</td>\n",
       "      <td>2015-11-07T21:02:56.128Z</td>\n",
       "      <td>2015-11-07T21:02:56.128Z</td>\n",
       "      <td>2015-11-07T00:00:00.000Z</td>\n",
       "      <td>Wolf Children</td>\n",
       "      <td>Hana, a hard-working college student, falls in...</td>\n",
       "      <td>Hana, a hard-working college student, falls in...</td>\n",
       "    </tr>\n",
       "    <tr>\n",
       "      <th>2</th>\n",
       "      <td>85539</td>\n",
       "      <td>142</td>\n",
       "      <td>completed</td>\n",
       "      <td>1</td>\n",
       "      <td>2016-04-05T21:54:13.337Z</td>\n",
       "      <td>2016-04-05T21:54:13.337Z</td>\n",
       "      <td>2016-04-05T00:00:00.000Z</td>\n",
       "      <td>Princess Mononoke</td>\n",
       "      <td>When an Emishi village is attacked by a fierce...</td>\n",
       "      <td>When an Emishi village is attacked by a fierce...</td>\n",
       "    </tr>\n",
       "    <tr>\n",
       "      <th>3</th>\n",
       "      <td>85539</td>\n",
       "      <td>8403</td>\n",
       "      <td>completed</td>\n",
       "      <td>22</td>\n",
       "      <td>2015-04-06T00:57:29.294Z</td>\n",
       "      <td>2015-04-06T00:57:29.294Z</td>\n",
       "      <td>2015-04-06T00:00:00.000Z</td>\n",
       "      <td>Shigatsu wa Kimi no Uso</td>\n",
       "      <td>Music accompanies the path of the human metron...</td>\n",
       "      <td>Music accompanies the path of the human metron...</td>\n",
       "    </tr>\n",
       "    <tr>\n",
       "      <th>4</th>\n",
       "      <td>85539</td>\n",
       "      <td>8147</td>\n",
       "      <td>completed</td>\n",
       "      <td>24</td>\n",
       "      <td>2017-04-14T04:09:37.510Z</td>\n",
       "      <td>2017-04-14T04:09:37.510Z</td>\n",
       "      <td>2017-04-14T00:00:00.000Z</td>\n",
       "      <td>Kiseijuu: Sei no Kakuritsu</td>\n",
       "      <td>All of a sudden, they arrived: parasitic alien...</td>\n",
       "      <td>All of a sudden, they arrived: parasitic alien...</td>\n",
       "    </tr>\n",
       "  </tbody>\n",
       "</table>\n",
       "</div>"
      ],
      "text/plain": [
       "   user_id anime_id     status  progress              progressedAt  \\\n",
       "0    85539      176  completed         1  2016-04-05T21:53:57.987Z   \n",
       "1    85539     6711  completed         1  2015-11-07T21:02:56.128Z   \n",
       "2    85539      142  completed         1  2016-04-05T21:54:13.337Z   \n",
       "3    85539     8403  completed        22  2015-04-06T00:57:29.294Z   \n",
       "4    85539     8147  completed        24  2017-04-14T04:09:37.510Z   \n",
       "\n",
       "                  startedAt                finishedAt  \\\n",
       "0  2016-04-05T21:53:57.987Z  2016-04-05T00:00:00.000Z   \n",
       "1  2015-11-07T21:02:56.128Z  2015-11-07T00:00:00.000Z   \n",
       "2  2016-04-05T21:54:13.337Z  2016-04-05T00:00:00.000Z   \n",
       "3  2015-04-06T00:57:29.294Z  2015-04-06T00:00:00.000Z   \n",
       "4  2017-04-14T04:09:37.510Z  2017-04-14T00:00:00.000Z   \n",
       "\n",
       "               canonicalTitle  \\\n",
       "0               Spirited Away   \n",
       "1               Wolf Children   \n",
       "2           Princess Mononoke   \n",
       "3     Shigatsu wa Kimi no Uso   \n",
       "4  Kiseijuu: Sei no Kakuritsu   \n",
       "\n",
       "                                            synopsis  \\\n",
       "0  Stubborn, spoiled, and naïve, 10-year-old Chih...   \n",
       "1  Hana, a hard-working college student, falls in...   \n",
       "2  When an Emishi village is attacked by a fierce...   \n",
       "3  Music accompanies the path of the human metron...   \n",
       "4  All of a sudden, they arrived: parasitic alien...   \n",
       "\n",
       "                                         description  \n",
       "0  Stubborn, spoiled, and naïve, 10-year-old Chih...  \n",
       "1  Hana, a hard-working college student, falls in...  \n",
       "2  When an Emishi village is attacked by a fierce...  \n",
       "3  Music accompanies the path of the human metron...  \n",
       "4  All of a sudden, they arrived: parasitic alien...  "
      ]
     },
     "execution_count": 22,
     "metadata": {},
     "output_type": "execute_result"
    }
   ],
   "source": [
    "# Peek at users library entries data\n",
    "users_le_df.head()"
   ]
  },
  {
   "cell_type": "markdown",
   "metadata": {},
   "source": [
    "# Data Processing to set up Recommender Model\n",
    "In this section we are going to process the data from user favorites and library entries so we can create the user and anime vectors to feed into our implicit alternating least squares (ALS) recommender model. We will follow the steps below.\n",
    "1. Combine the data from user favorites and user library entries.\n",
    "2. Afterwards, we create an arbitrary \"eventStrength\" based on the status column to indicate the \"level of interaction\" a user has with a particular anime.\n",
    "3. Create sparse ratings matrix and fit to implicit ALS model."
   ]
  },
  {
   "cell_type": "code",
   "execution_count": 23,
   "metadata": {
    "ExecuteTime": {
     "end_time": "2021-11-17T03:31:47.907573Z",
     "start_time": "2021-11-17T03:31:47.891567Z"
    }
   },
   "outputs": [],
   "source": [
    "# Create status column to align and later combine with users_le_df\n",
    "# 'favorite' will be used as an event type\n",
    "users_favs_df['status'] = 'favorite'"
   ]
  },
  {
   "cell_type": "code",
   "execution_count": 24,
   "metadata": {
    "ExecuteTime": {
     "end_time": "2021-11-17T03:31:48.335614Z",
     "start_time": "2021-11-17T03:31:48.310609Z"
    }
   },
   "outputs": [
    {
     "data": {
      "text/html": [
       "<div>\n",
       "<style scoped>\n",
       "    .dataframe tbody tr th:only-of-type {\n",
       "        vertical-align: middle;\n",
       "    }\n",
       "\n",
       "    .dataframe tbody tr th {\n",
       "        vertical-align: top;\n",
       "    }\n",
       "\n",
       "    .dataframe thead th {\n",
       "        text-align: right;\n",
       "    }\n",
       "</style>\n",
       "<table border=\"1\" class=\"dataframe\">\n",
       "  <thead>\n",
       "    <tr style=\"text-align: right;\">\n",
       "      <th></th>\n",
       "      <th>user_id</th>\n",
       "      <th>anime_id</th>\n",
       "      <th>canonicalTitle</th>\n",
       "      <th>synopsis</th>\n",
       "      <th>description</th>\n",
       "      <th>status</th>\n",
       "    </tr>\n",
       "  </thead>\n",
       "  <tbody>\n",
       "    <tr>\n",
       "      <th>0</th>\n",
       "      <td>85539</td>\n",
       "      <td>8403</td>\n",
       "      <td>Shigatsu wa Kimi no Uso</td>\n",
       "      <td>Music accompanies the path of the human metron...</td>\n",
       "      <td>Music accompanies the path of the human metron...</td>\n",
       "      <td>favorite</td>\n",
       "    </tr>\n",
       "    <tr>\n",
       "      <th>1</th>\n",
       "      <td>85539</td>\n",
       "      <td>8147</td>\n",
       "      <td>Kiseijuu: Sei no Kakuritsu</td>\n",
       "      <td>All of a sudden, they arrived: parasitic alien...</td>\n",
       "      <td>All of a sudden, they arrived: parasitic alien...</td>\n",
       "      <td>favorite</td>\n",
       "    </tr>\n",
       "    <tr>\n",
       "      <th>2</th>\n",
       "      <td>85539</td>\n",
       "      <td>6836</td>\n",
       "      <td>Tsuritama</td>\n",
       "      <td>Yuki Sanada is a socially awkward young man wh...</td>\n",
       "      <td>Yuki Sanada is a socially awkward young man wh...</td>\n",
       "      <td>favorite</td>\n",
       "    </tr>\n",
       "    <tr>\n",
       "      <th>3</th>\n",
       "      <td>85539</td>\n",
       "      <td>8333</td>\n",
       "      <td>Gugure! Kokkuri-san</td>\n",
       "      <td>Kohina Ichimatsu, the self-proclaimed doll, ca...</td>\n",
       "      <td>Kohina Ichimatsu, the self-proclaimed doll, ca...</td>\n",
       "      <td>favorite</td>\n",
       "    </tr>\n",
       "    <tr>\n",
       "      <th>4</th>\n",
       "      <td>85539</td>\n",
       "      <td>5981</td>\n",
       "      <td>Ano Hi Mita Hana no Namae wo Bokutachi wa Mada...</td>\n",
       "      <td>Jinta Yadomi is peacefully living as a recluse...</td>\n",
       "      <td>Jinta Yadomi is peacefully living as a recluse...</td>\n",
       "      <td>favorite</td>\n",
       "    </tr>\n",
       "  </tbody>\n",
       "</table>\n",
       "</div>"
      ],
      "text/plain": [
       "   user_id anime_id                                     canonicalTitle  \\\n",
       "0    85539     8403                            Shigatsu wa Kimi no Uso   \n",
       "1    85539     8147                         Kiseijuu: Sei no Kakuritsu   \n",
       "2    85539     6836                                          Tsuritama   \n",
       "3    85539     8333                                Gugure! Kokkuri-san   \n",
       "4    85539     5981  Ano Hi Mita Hana no Namae wo Bokutachi wa Mada...   \n",
       "\n",
       "                                            synopsis  \\\n",
       "0  Music accompanies the path of the human metron...   \n",
       "1  All of a sudden, they arrived: parasitic alien...   \n",
       "2  Yuki Sanada is a socially awkward young man wh...   \n",
       "3  Kohina Ichimatsu, the self-proclaimed doll, ca...   \n",
       "4  Jinta Yadomi is peacefully living as a recluse...   \n",
       "\n",
       "                                         description    status  \n",
       "0  Music accompanies the path of the human metron...  favorite  \n",
       "1  All of a sudden, they arrived: parasitic alien...  favorite  \n",
       "2  Yuki Sanada is a socially awkward young man wh...  favorite  \n",
       "3  Kohina Ichimatsu, the self-proclaimed doll, ca...  favorite  \n",
       "4  Jinta Yadomi is peacefully living as a recluse...  favorite  "
      ]
     },
     "execution_count": 24,
     "metadata": {},
     "output_type": "execute_result"
    }
   ],
   "source": [
    "# Peek at data\n",
    "users_favs_df.head()"
   ]
  },
  {
   "cell_type": "code",
   "execution_count": 25,
   "metadata": {
    "ExecuteTime": {
     "end_time": "2021-11-17T03:31:48.962123Z",
     "start_time": "2021-11-17T03:31:48.958130Z"
    }
   },
   "outputs": [
    {
     "name": "stdout",
     "output_type": "stream",
     "text": [
      "(306, 6)\n",
      "(239, 10)\n"
     ]
    }
   ],
   "source": [
    "# Compare shapes of favs and library entries dataframes\n",
    "print(users_favs_df.shape)\n",
    "print(users_le_df.shape)"
   ]
  },
  {
   "cell_type": "markdown",
   "metadata": {},
   "source": [
    "Between the user favorites and user library entries dataframe -- there is a difference in the number of columns. In this case we we will need to align and select our columns for further analysis.  "
   ]
  },
  {
   "cell_type": "code",
   "execution_count": 26,
   "metadata": {
    "ExecuteTime": {
     "end_time": "2021-11-17T03:31:50.497854Z",
     "start_time": "2021-11-17T03:31:50.491849Z"
    }
   },
   "outputs": [
    {
     "data": {
      "text/plain": [
       "['user_id', 'anime_id', 'canonicalTitle', 'synopsis', 'description', 'status']"
      ]
     },
     "execution_count": 26,
     "metadata": {},
     "output_type": "execute_result"
    }
   ],
   "source": [
    "# Peek at select columns to keep in combined dataframe\n",
    "list(users_favs_df.columns)"
   ]
  },
  {
   "cell_type": "code",
   "execution_count": 27,
   "metadata": {
    "ExecuteTime": {
     "end_time": "2021-11-17T03:31:52.016759Z",
     "start_time": "2021-11-17T03:31:51.982764Z"
    }
   },
   "outputs": [
    {
     "data": {
      "text/html": [
       "<div>\n",
       "<style scoped>\n",
       "    .dataframe tbody tr th:only-of-type {\n",
       "        vertical-align: middle;\n",
       "    }\n",
       "\n",
       "    .dataframe tbody tr th {\n",
       "        vertical-align: top;\n",
       "    }\n",
       "\n",
       "    .dataframe thead th {\n",
       "        text-align: right;\n",
       "    }\n",
       "</style>\n",
       "<table border=\"1\" class=\"dataframe\">\n",
       "  <thead>\n",
       "    <tr style=\"text-align: right;\">\n",
       "      <th></th>\n",
       "      <th>user_id</th>\n",
       "      <th>anime_id</th>\n",
       "      <th>canonicalTitle</th>\n",
       "      <th>synopsis</th>\n",
       "      <th>description</th>\n",
       "      <th>status</th>\n",
       "    </tr>\n",
       "  </thead>\n",
       "  <tbody>\n",
       "    <tr>\n",
       "      <th>0</th>\n",
       "      <td>85539</td>\n",
       "      <td>176</td>\n",
       "      <td>Spirited Away</td>\n",
       "      <td>Stubborn, spoiled, and naïve, 10-year-old Chih...</td>\n",
       "      <td>Stubborn, spoiled, and naïve, 10-year-old Chih...</td>\n",
       "      <td>completed</td>\n",
       "    </tr>\n",
       "    <tr>\n",
       "      <th>1</th>\n",
       "      <td>85539</td>\n",
       "      <td>6711</td>\n",
       "      <td>Wolf Children</td>\n",
       "      <td>Hana, a hard-working college student, falls in...</td>\n",
       "      <td>Hana, a hard-working college student, falls in...</td>\n",
       "      <td>completed</td>\n",
       "    </tr>\n",
       "    <tr>\n",
       "      <th>2</th>\n",
       "      <td>85539</td>\n",
       "      <td>142</td>\n",
       "      <td>Princess Mononoke</td>\n",
       "      <td>When an Emishi village is attacked by a fierce...</td>\n",
       "      <td>When an Emishi village is attacked by a fierce...</td>\n",
       "      <td>completed</td>\n",
       "    </tr>\n",
       "    <tr>\n",
       "      <th>3</th>\n",
       "      <td>85539</td>\n",
       "      <td>8403</td>\n",
       "      <td>Shigatsu wa Kimi no Uso</td>\n",
       "      <td>Music accompanies the path of the human metron...</td>\n",
       "      <td>Music accompanies the path of the human metron...</td>\n",
       "      <td>completed</td>\n",
       "    </tr>\n",
       "    <tr>\n",
       "      <th>4</th>\n",
       "      <td>85539</td>\n",
       "      <td>8147</td>\n",
       "      <td>Kiseijuu: Sei no Kakuritsu</td>\n",
       "      <td>All of a sudden, they arrived: parasitic alien...</td>\n",
       "      <td>All of a sudden, they arrived: parasitic alien...</td>\n",
       "      <td>completed</td>\n",
       "    </tr>\n",
       "  </tbody>\n",
       "</table>\n",
       "</div>"
      ],
      "text/plain": [
       "   user_id anime_id              canonicalTitle  \\\n",
       "0    85539      176               Spirited Away   \n",
       "1    85539     6711               Wolf Children   \n",
       "2    85539      142           Princess Mononoke   \n",
       "3    85539     8403     Shigatsu wa Kimi no Uso   \n",
       "4    85539     8147  Kiseijuu: Sei no Kakuritsu   \n",
       "\n",
       "                                            synopsis  \\\n",
       "0  Stubborn, spoiled, and naïve, 10-year-old Chih...   \n",
       "1  Hana, a hard-working college student, falls in...   \n",
       "2  When an Emishi village is attacked by a fierce...   \n",
       "3  Music accompanies the path of the human metron...   \n",
       "4  All of a sudden, they arrived: parasitic alien...   \n",
       "\n",
       "                                         description     status  \n",
       "0  Stubborn, spoiled, and naïve, 10-year-old Chih...  completed  \n",
       "1  Hana, a hard-working college student, falls in...  completed  \n",
       "2  When an Emishi village is attacked by a fierce...  completed  \n",
       "3  Music accompanies the path of the human metron...  completed  \n",
       "4  All of a sudden, they arrived: parasitic alien...  completed  "
      ]
     },
     "execution_count": 27,
     "metadata": {},
     "output_type": "execute_result"
    }
   ],
   "source": [
    "# Set columns between both dataframes to be equal for combining\n",
    "col_list = list(users_favs_df.columns)\n",
    "\n",
    "users_le_df_append = users_le_df.copy()\n",
    "\n",
    "# Filter library entries df to match columns of favorites df\n",
    "users_le_df_append = users_le_df_append[col_list]\n",
    "\n",
    "# Combine library entries and favorites df\n",
    "user_interaction_df = users_le_df_append.append(users_favs_df, ignore_index=True)\n",
    "\n",
    "# Peek at data\n",
    "user_interaction_df.head()"
   ]
  },
  {
   "cell_type": "markdown",
   "metadata": {},
   "source": [
    "Below we will assign an arbitrary event strength for the type of interactions users have had with certain types of anime. "
   ]
  },
  {
   "cell_type": "code",
   "execution_count": 28,
   "metadata": {
    "ExecuteTime": {
     "end_time": "2021-11-17T03:31:53.966738Z",
     "start_time": "2021-11-17T03:31:53.960721Z"
    }
   },
   "outputs": [],
   "source": [
    "# Set up event strength dict to assign arbitrary strength score towards interaction types\n",
    "event_strength = {\n",
    "    'completed':6.0,\n",
    "    'favorite':5.0,\n",
    "    'current':4.0,\n",
    "    'planned':3.0,\n",
    "    'on_hold':2.0,\n",
    "    'dropped':1.0\n",
    "}"
   ]
  },
  {
   "cell_type": "code",
   "execution_count": 29,
   "metadata": {
    "ExecuteTime": {
     "end_time": "2021-11-17T03:31:55.468104Z",
     "start_time": "2021-11-17T03:31:55.462110Z"
    }
   },
   "outputs": [],
   "source": [
    "# Map event strength scores according to status set in user_interaction_df\n",
    "user_interaction_df['eventStrength'] = user_interaction_df['status'].apply(lambda x: event_strength[x])"
   ]
  },
  {
   "cell_type": "code",
   "execution_count": 30,
   "metadata": {
    "ExecuteTime": {
     "end_time": "2021-11-17T03:32:03.851918Z",
     "start_time": "2021-11-17T03:32:03.828649Z"
    }
   },
   "outputs": [
    {
     "data": {
      "text/html": [
       "<div>\n",
       "<style scoped>\n",
       "    .dataframe tbody tr th:only-of-type {\n",
       "        vertical-align: middle;\n",
       "    }\n",
       "\n",
       "    .dataframe tbody tr th {\n",
       "        vertical-align: top;\n",
       "    }\n",
       "\n",
       "    .dataframe thead th {\n",
       "        text-align: right;\n",
       "    }\n",
       "</style>\n",
       "<table border=\"1\" class=\"dataframe\">\n",
       "  <thead>\n",
       "    <tr style=\"text-align: right;\">\n",
       "      <th></th>\n",
       "      <th>user_id</th>\n",
       "      <th>anime_id</th>\n",
       "      <th>canonicalTitle</th>\n",
       "      <th>synopsis</th>\n",
       "      <th>description</th>\n",
       "      <th>status</th>\n",
       "      <th>eventStrength</th>\n",
       "    </tr>\n",
       "  </thead>\n",
       "  <tbody>\n",
       "    <tr>\n",
       "      <th>0</th>\n",
       "      <td>85539</td>\n",
       "      <td>176</td>\n",
       "      <td>Spirited Away</td>\n",
       "      <td>Stubborn, spoiled, and naïve, 10-year-old Chih...</td>\n",
       "      <td>Stubborn, spoiled, and naïve, 10-year-old Chih...</td>\n",
       "      <td>completed</td>\n",
       "      <td>6.0</td>\n",
       "    </tr>\n",
       "    <tr>\n",
       "      <th>1</th>\n",
       "      <td>85539</td>\n",
       "      <td>6711</td>\n",
       "      <td>Wolf Children</td>\n",
       "      <td>Hana, a hard-working college student, falls in...</td>\n",
       "      <td>Hana, a hard-working college student, falls in...</td>\n",
       "      <td>completed</td>\n",
       "      <td>6.0</td>\n",
       "    </tr>\n",
       "    <tr>\n",
       "      <th>2</th>\n",
       "      <td>85539</td>\n",
       "      <td>142</td>\n",
       "      <td>Princess Mononoke</td>\n",
       "      <td>When an Emishi village is attacked by a fierce...</td>\n",
       "      <td>When an Emishi village is attacked by a fierce...</td>\n",
       "      <td>completed</td>\n",
       "      <td>6.0</td>\n",
       "    </tr>\n",
       "    <tr>\n",
       "      <th>3</th>\n",
       "      <td>85539</td>\n",
       "      <td>8403</td>\n",
       "      <td>Shigatsu wa Kimi no Uso</td>\n",
       "      <td>Music accompanies the path of the human metron...</td>\n",
       "      <td>Music accompanies the path of the human metron...</td>\n",
       "      <td>completed</td>\n",
       "      <td>6.0</td>\n",
       "    </tr>\n",
       "    <tr>\n",
       "      <th>4</th>\n",
       "      <td>85539</td>\n",
       "      <td>8147</td>\n",
       "      <td>Kiseijuu: Sei no Kakuritsu</td>\n",
       "      <td>All of a sudden, they arrived: parasitic alien...</td>\n",
       "      <td>All of a sudden, they arrived: parasitic alien...</td>\n",
       "      <td>completed</td>\n",
       "      <td>6.0</td>\n",
       "    </tr>\n",
       "  </tbody>\n",
       "</table>\n",
       "</div>"
      ],
      "text/plain": [
       "   user_id anime_id              canonicalTitle  \\\n",
       "0    85539      176               Spirited Away   \n",
       "1    85539     6711               Wolf Children   \n",
       "2    85539      142           Princess Mononoke   \n",
       "3    85539     8403     Shigatsu wa Kimi no Uso   \n",
       "4    85539     8147  Kiseijuu: Sei no Kakuritsu   \n",
       "\n",
       "                                            synopsis  \\\n",
       "0  Stubborn, spoiled, and naïve, 10-year-old Chih...   \n",
       "1  Hana, a hard-working college student, falls in...   \n",
       "2  When an Emishi village is attacked by a fierce...   \n",
       "3  Music accompanies the path of the human metron...   \n",
       "4  All of a sudden, they arrived: parasitic alien...   \n",
       "\n",
       "                                         description     status  eventStrength  \n",
       "0  Stubborn, spoiled, and naïve, 10-year-old Chih...  completed            6.0  \n",
       "1  Hana, a hard-working college student, falls in...  completed            6.0  \n",
       "2  When an Emishi village is attacked by a fierce...  completed            6.0  \n",
       "3  Music accompanies the path of the human metron...  completed            6.0  \n",
       "4  All of a sudden, they arrived: parasitic alien...  completed            6.0  "
      ]
     },
     "execution_count": 30,
     "metadata": {},
     "output_type": "execute_result"
    }
   ],
   "source": [
    "# Peek at data\n",
    "user_interaction_df.head()"
   ]
  },
  {
   "cell_type": "code",
   "execution_count": 31,
   "metadata": {
    "ExecuteTime": {
     "end_time": "2021-11-17T03:32:10.666471Z",
     "start_time": "2021-11-17T03:32:09.832242Z"
    }
   },
   "outputs": [
    {
     "data": {
      "text/html": [
       "<div>\n",
       "<style scoped>\n",
       "    .dataframe tbody tr th:only-of-type {\n",
       "        vertical-align: middle;\n",
       "    }\n",
       "\n",
       "    .dataframe tbody tr th {\n",
       "        vertical-align: top;\n",
       "    }\n",
       "\n",
       "    .dataframe thead th {\n",
       "        text-align: right;\n",
       "    }\n",
       "</style>\n",
       "<table border=\"1\" class=\"dataframe\">\n",
       "  <thead>\n",
       "    <tr style=\"text-align: right;\">\n",
       "      <th></th>\n",
       "      <th>user_id</th>\n",
       "      <th>anime_id</th>\n",
       "      <th>canonicalTitle</th>\n",
       "      <th>eventStrength</th>\n",
       "    </tr>\n",
       "  </thead>\n",
       "  <tbody>\n",
       "    <tr>\n",
       "      <th>445</th>\n",
       "      <td>143115</td>\n",
       "      <td>395</td>\n",
       "      <td>Howl's Moving Castle</td>\n",
       "      <td>11.0</td>\n",
       "    </tr>\n",
       "    <tr>\n",
       "      <th>374</th>\n",
       "      <td>121938</td>\n",
       "      <td>11467</td>\n",
       "      <td>New Game!</td>\n",
       "      <td>5.0</td>\n",
       "    </tr>\n",
       "    <tr>\n",
       "      <th>175</th>\n",
       "      <td>85539</td>\n",
       "      <td>13717</td>\n",
       "      <td>Ito Junji: Collection</td>\n",
       "      <td>5.0</td>\n",
       "    </tr>\n",
       "    <tr>\n",
       "      <th>271</th>\n",
       "      <td>85539</td>\n",
       "      <td>8638</td>\n",
       "      <td>Yuuki Yuuna wa Yuusha de Aru</td>\n",
       "      <td>5.0</td>\n",
       "    </tr>\n",
       "    <tr>\n",
       "      <th>437</th>\n",
       "      <td>143115</td>\n",
       "      <td>21</td>\n",
       "      <td>Neon Genesis Evangelion</td>\n",
       "      <td>6.0</td>\n",
       "    </tr>\n",
       "    <tr>\n",
       "      <th>370</th>\n",
       "      <td>121938</td>\n",
       "      <td>10941</td>\n",
       "      <td>Kono Subarashii Sekai ni Shukufuku wo!</td>\n",
       "      <td>6.0</td>\n",
       "    </tr>\n",
       "    <tr>\n",
       "      <th>191</th>\n",
       "      <td>85539</td>\n",
       "      <td>4474</td>\n",
       "      <td>Kämpfer</td>\n",
       "      <td>6.0</td>\n",
       "    </tr>\n",
       "    <tr>\n",
       "      <th>181</th>\n",
       "      <td>85539</td>\n",
       "      <td>2369</td>\n",
       "      <td>Sayonara Zetsubou Sensei</td>\n",
       "      <td>5.0</td>\n",
       "    </tr>\n",
       "    <tr>\n",
       "      <th>332</th>\n",
       "      <td>86869</td>\n",
       "      <td>7821</td>\n",
       "      <td>Nisekoi</td>\n",
       "      <td>5.0</td>\n",
       "    </tr>\n",
       "    <tr>\n",
       "      <th>284</th>\n",
       "      <td>86869</td>\n",
       "      <td>10085</td>\n",
       "      <td>Gate: Jieitai Kanochi nite, Kaku Tatakaeri</td>\n",
       "      <td>6.0</td>\n",
       "    </tr>\n",
       "  </tbody>\n",
       "</table>\n",
       "</div>"
      ],
      "text/plain": [
       "     user_id anime_id                              canonicalTitle  \\\n",
       "445   143115      395                        Howl's Moving Castle   \n",
       "374   121938    11467                                   New Game!   \n",
       "175    85539    13717                       Ito Junji: Collection   \n",
       "271    85539     8638                Yuuki Yuuna wa Yuusha de Aru   \n",
       "437   143115       21                     Neon Genesis Evangelion   \n",
       "370   121938    10941      Kono Subarashii Sekai ni Shukufuku wo!   \n",
       "191    85539     4474                                     Kämpfer   \n",
       "181    85539     2369                    Sayonara Zetsubou Sensei   \n",
       "332    86869     7821                                     Nisekoi   \n",
       "284    86869    10085  Gate: Jieitai Kanochi nite, Kaku Tatakaeri   \n",
       "\n",
       "     eventStrength  \n",
       "445           11.0  \n",
       "374            5.0  \n",
       "175            5.0  \n",
       "271            5.0  \n",
       "437            6.0  \n",
       "370            6.0  \n",
       "191            6.0  \n",
       "181            5.0  \n",
       "332            5.0  \n",
       "284            6.0  "
      ]
     },
     "execution_count": 31,
     "metadata": {},
     "output_type": "execute_result"
    }
   ],
   "source": [
    "# Group event strength per user and anime\n",
    "grouped_df = user_interaction_df.groupby(['user_id', 'anime_id', 'canonicalTitle'])['eventStrength'].sum().reset_index()\n",
    "grouped_df.sample(10)"
   ]
  },
  {
   "cell_type": "markdown",
   "metadata": {},
   "source": [
    "With an aggregated eventStrength -- we aim to use this metric to represent a \"confidence\" measure in how strong the level of interaction was for a user and anime."
   ]
  },
  {
   "cell_type": "markdown",
   "metadata": {},
   "source": [
    "# Fit Alternating Least Squares Model"
   ]
  },
  {
   "cell_type": "code",
   "execution_count": 33,
   "metadata": {
    "ExecuteTime": {
     "end_time": "2021-11-17T03:32:27.655603Z",
     "start_time": "2021-11-17T03:32:27.633604Z"
    }
   },
   "outputs": [],
   "source": [
    "grouped_df['canonicalTitle'] = grouped_df['canonicalTitle'].astype(\"category\")\n",
    "grouped_df['user_id'] = grouped_df['user_id'].astype(\"category\")\n",
    "grouped_df['anime_id'] = grouped_df['anime_id'].astype(\"category\")\n",
    "grouped_df['person_id'] = grouped_df['user_id'].cat.codes\n",
    "grouped_df['content_id'] = grouped_df['anime_id'].cat.codes\n",
    "\n",
    "# Create sparse ratings matrix of users and anime\n",
    "sparse_content_mat = sparse.csr_matrix((grouped_df['eventStrength'].astype(float), (grouped_df['content_id'], grouped_df['person_id'])))\n",
    "sparse_person_mat = sparse.csr_matrix((grouped_df['eventStrength'].astype(float), (grouped_df['person_id'], grouped_df['content_id'])))"
   ]
  },
  {
   "cell_type": "code",
   "execution_count": 34,
   "metadata": {
    "ExecuteTime": {
     "end_time": "2021-11-17T03:32:29.574551Z",
     "start_time": "2021-11-17T03:32:29.529585Z"
    }
   },
   "outputs": [],
   "source": [
    "# Create lookup table that we tracks and reference id to title\n",
    "anime_lookup = grouped_df[['content_id', 'canonicalTitle']].drop_duplicates()"
   ]
  },
  {
   "cell_type": "code",
   "execution_count": 35,
   "metadata": {
    "ExecuteTime": {
     "end_time": "2021-11-17T03:32:30.222360Z",
     "start_time": "2021-11-17T03:32:30.204374Z"
    }
   },
   "outputs": [
    {
     "data": {
      "text/html": [
       "<div>\n",
       "<style scoped>\n",
       "    .dataframe tbody tr th:only-of-type {\n",
       "        vertical-align: middle;\n",
       "    }\n",
       "\n",
       "    .dataframe tbody tr th {\n",
       "        vertical-align: top;\n",
       "    }\n",
       "\n",
       "    .dataframe thead th {\n",
       "        text-align: right;\n",
       "    }\n",
       "</style>\n",
       "<table border=\"1\" class=\"dataframe\">\n",
       "  <thead>\n",
       "    <tr style=\"text-align: right;\">\n",
       "      <th></th>\n",
       "      <th>content_id</th>\n",
       "      <th>canonicalTitle</th>\n",
       "    </tr>\n",
       "  </thead>\n",
       "  <tbody>\n",
       "    <tr>\n",
       "      <th>0</th>\n",
       "      <td>0</td>\n",
       "      <td>Cowboy Bebop</td>\n",
       "    </tr>\n",
       "    <tr>\n",
       "      <th>1</th>\n",
       "      <td>9</td>\n",
       "      <td>Fate/stay night: Unlimited Blade Works 2nd Season</td>\n",
       "    </tr>\n",
       "    <tr>\n",
       "      <th>2</th>\n",
       "      <td>14</td>\n",
       "      <td>Fushigi Yuugi</td>\n",
       "    </tr>\n",
       "    <tr>\n",
       "      <th>3</th>\n",
       "      <td>19</td>\n",
       "      <td>Slayers Try</td>\n",
       "    </tr>\n",
       "    <tr>\n",
       "      <th>4</th>\n",
       "      <td>25</td>\n",
       "      <td>Gensoumaden Saiyuuki</td>\n",
       "    </tr>\n",
       "  </tbody>\n",
       "</table>\n",
       "</div>"
      ],
      "text/plain": [
       "   content_id                                     canonicalTitle\n",
       "0           0                                       Cowboy Bebop\n",
       "1           9  Fate/stay night: Unlimited Blade Works 2nd Season\n",
       "2          14                                      Fushigi Yuugi\n",
       "3          19                                        Slayers Try\n",
       "4          25                               Gensoumaden Saiyuuki"
      ]
     },
     "execution_count": 35,
     "metadata": {},
     "output_type": "execute_result"
    }
   ],
   "source": [
    "# Peek at lookup table\n",
    "anime_lookup.head()"
   ]
  },
  {
   "cell_type": "code",
   "execution_count": 36,
   "metadata": {
    "ExecuteTime": {
     "end_time": "2021-11-17T03:32:30.713689Z",
     "start_time": "2021-11-17T03:32:30.706690Z"
    }
   },
   "outputs": [
    {
     "data": {
      "text/plain": [
       "<385x5 sparse matrix of type '<class 'numpy.float64'>'\n",
       "\twith 470 stored elements in Compressed Sparse Row format>"
      ]
     },
     "execution_count": 36,
     "metadata": {},
     "output_type": "execute_result"
    }
   ],
   "source": [
    "# Check out matrix object\n",
    "sparse_content_mat"
   ]
  },
  {
   "cell_type": "code",
   "execution_count": 38,
   "metadata": {
    "ExecuteTime": {
     "end_time": "2021-11-17T03:32:36.000345Z",
     "start_time": "2021-11-17T03:32:35.985558Z"
    }
   },
   "outputs": [
    {
     "data": {
      "text/plain": [
       "<5x385 sparse matrix of type '<class 'numpy.float64'>'\n",
       "\twith 470 stored elements in Compressed Sparse Row format>"
      ]
     },
     "execution_count": 38,
     "metadata": {},
     "output_type": "execute_result"
    }
   ],
   "source": [
    "# Check out matrix object\n",
    "sparse_person_mat"
   ]
  },
  {
   "cell_type": "code",
   "execution_count": 39,
   "metadata": {
    "ExecuteTime": {
     "end_time": "2021-11-17T03:32:46.694027Z",
     "start_time": "2021-11-17T03:32:46.165147Z"
    }
   },
   "outputs": [
    {
     "name": "stderr",
     "output_type": "stream",
     "text": [
      "WARNING:root:OpenBLAS detected. Its highly recommend to set the environment variable 'export OPENBLAS_NUM_THREADS=1' to disable its internal multithreading\n"
     ]
    },
    {
     "data": {
      "application/vnd.jupyter.widget-view+json": {
       "model_id": "2cd1b296be5c4ace9deca15d6a4383a2",
       "version_major": 2,
       "version_minor": 0
      },
      "text/plain": [
       "HBox(children=(HTML(value=''), FloatProgress(value=0.0, max=50.0), HTML(value='')))"
      ]
     },
     "metadata": {},
     "output_type": "display_data"
    },
    {
     "name": "stdout",
     "output_type": "stream",
     "text": [
      "\n"
     ]
    }
   ],
   "source": [
    "# Create ALS model and fit to sparse ratings matrix\n",
    "model = implicit.als.AlternatingLeastSquares(factors=20, regularization=0.1, iterations=50)\n",
    "\n",
    "alpha = 15\n",
    "data = (sparse_content_mat * alpha).astype('double')\n",
    "model.fit(data)"
   ]
  },
  {
   "cell_type": "code",
   "execution_count": 40,
   "metadata": {
    "ExecuteTime": {
     "end_time": "2021-11-17T03:33:11.367111Z",
     "start_time": "2021-11-17T03:33:11.347167Z"
    }
   },
   "outputs": [
    {
     "data": {
      "text/plain": [
       "75.58441558441558"
      ]
     },
     "execution_count": 40,
     "metadata": {},
     "output_type": "execute_result"
    }
   ],
   "source": [
    "# Calculate the matrix sparsity \n",
    "matrix_size = sparse_content_mat.shape[0]*sparse_content_mat.shape[1] # Number of possible interactions in the matrix\n",
    "num_interact = len(sparse_content_mat.nonzero()[0]) # Number of items interacted with\n",
    "sparsity = 100*(1 - (num_interact/matrix_size))\n",
    "sparsity"
   ]
  },
  {
   "cell_type": "markdown",
   "metadata": {},
   "source": [
    "According to the computed value above -- 75.6% of the interaction matrix is sparse. "
   ]
  },
  {
   "cell_type": "code",
   "execution_count": 41,
   "metadata": {
    "ExecuteTime": {
     "end_time": "2021-11-17T03:33:17.797850Z",
     "start_time": "2021-11-17T03:33:17.766595Z"
    }
   },
   "outputs": [
    {
     "data": {
      "text/html": [
       "<div>\n",
       "<style scoped>\n",
       "    .dataframe tbody tr th:only-of-type {\n",
       "        vertical-align: middle;\n",
       "    }\n",
       "\n",
       "    .dataframe tbody tr th {\n",
       "        vertical-align: top;\n",
       "    }\n",
       "\n",
       "    .dataframe thead th {\n",
       "        text-align: right;\n",
       "    }\n",
       "</style>\n",
       "<table border=\"1\" class=\"dataframe\">\n",
       "  <thead>\n",
       "    <tr style=\"text-align: right;\">\n",
       "      <th></th>\n",
       "      <th>user_id</th>\n",
       "      <th>anime_id</th>\n",
       "      <th>canonicalTitle</th>\n",
       "      <th>eventStrength</th>\n",
       "      <th>person_id</th>\n",
       "      <th>content_id</th>\n",
       "    </tr>\n",
       "  </thead>\n",
       "  <tbody>\n",
       "    <tr>\n",
       "      <th>82</th>\n",
       "      <td>70211</td>\n",
       "      <td>7370</td>\n",
       "      <td>Nagi no Asukara</td>\n",
       "      <td>5.0</td>\n",
       "      <td>0</td>\n",
       "      <td>267</td>\n",
       "    </tr>\n",
       "    <tr>\n",
       "      <th>427</th>\n",
       "      <td>143115</td>\n",
       "      <td>11999</td>\n",
       "      <td>Yuri!!! on Ice</td>\n",
       "      <td>6.0</td>\n",
       "      <td>4</td>\n",
       "      <td>60</td>\n",
       "    </tr>\n",
       "    <tr>\n",
       "      <th>314</th>\n",
       "      <td>86869</td>\n",
       "      <td>6590</td>\n",
       "      <td>Accel World</td>\n",
       "      <td>6.0</td>\n",
       "      <td>2</td>\n",
       "      <td>221</td>\n",
       "    </tr>\n",
       "    <tr>\n",
       "      <th>171</th>\n",
       "      <td>85539</td>\n",
       "      <td>13465</td>\n",
       "      <td>Blend S</td>\n",
       "      <td>5.0</td>\n",
       "      <td>1</td>\n",
       "      <td>79</td>\n",
       "    </tr>\n",
       "    <tr>\n",
       "      <th>311</th>\n",
       "      <td>86869</td>\n",
       "      <td>6508</td>\n",
       "      <td>Ano Natsu de Matteru</td>\n",
       "      <td>6.0</td>\n",
       "      <td>2</td>\n",
       "      <td>217</td>\n",
       "    </tr>\n",
       "    <tr>\n",
       "      <th>305</th>\n",
       "      <td>86869</td>\n",
       "      <td>5583</td>\n",
       "      <td>IS: Infinite Stratos</td>\n",
       "      <td>11.0</td>\n",
       "      <td>2</td>\n",
       "      <td>187</td>\n",
       "    </tr>\n",
       "    <tr>\n",
       "      <th>167</th>\n",
       "      <td>85539</td>\n",
       "      <td>13259</td>\n",
       "      <td>Aho Girl</td>\n",
       "      <td>5.0</td>\n",
       "      <td>1</td>\n",
       "      <td>75</td>\n",
       "    </tr>\n",
       "    <tr>\n",
       "      <th>164</th>\n",
       "      <td>85539</td>\n",
       "      <td>13234</td>\n",
       "      <td>Tsuki ga Kirei</td>\n",
       "      <td>5.0</td>\n",
       "      <td>1</td>\n",
       "      <td>72</td>\n",
       "    </tr>\n",
       "    <tr>\n",
       "      <th>352</th>\n",
       "      <td>86869</td>\n",
       "      <td>8630</td>\n",
       "      <td>Madan no Ou to Vanadis</td>\n",
       "      <td>11.0</td>\n",
       "      <td>2</td>\n",
       "      <td>352</td>\n",
       "    </tr>\n",
       "    <tr>\n",
       "      <th>8</th>\n",
       "      <td>70211</td>\n",
       "      <td>1226</td>\n",
       "      <td>Taiho Shichau zo (TV)</td>\n",
       "      <td>5.0</td>\n",
       "      <td>0</td>\n",
       "      <td>65</td>\n",
       "    </tr>\n",
       "  </tbody>\n",
       "</table>\n",
       "</div>"
      ],
      "text/plain": [
       "    user_id anime_id          canonicalTitle  eventStrength  person_id  \\\n",
       "82    70211     7370         Nagi no Asukara            5.0          0   \n",
       "427  143115    11999          Yuri!!! on Ice            6.0          4   \n",
       "314   86869     6590             Accel World            6.0          2   \n",
       "171   85539    13465                 Blend S            5.0          1   \n",
       "311   86869     6508    Ano Natsu de Matteru            6.0          2   \n",
       "305   86869     5583    IS: Infinite Stratos           11.0          2   \n",
       "167   85539    13259                Aho Girl            5.0          1   \n",
       "164   85539    13234          Tsuki ga Kirei            5.0          1   \n",
       "352   86869     8630  Madan no Ou to Vanadis           11.0          2   \n",
       "8     70211     1226   Taiho Shichau zo (TV)            5.0          0   \n",
       "\n",
       "     content_id  \n",
       "82          267  \n",
       "427          60  \n",
       "314         221  \n",
       "171          79  \n",
       "311         217  \n",
       "305         187  \n",
       "167          75  \n",
       "164          72  \n",
       "352         352  \n",
       "8            65  "
      ]
     },
     "execution_count": 41,
     "metadata": {},
     "output_type": "execute_result"
    }
   ],
   "source": [
    "# Peek at random 10 rows\n",
    "grouped_df.sample(10)"
   ]
  },
  {
   "cell_type": "markdown",
   "metadata": {},
   "source": [
    "# Set up initial recommendation model using interaction data"
   ]
  },
  {
   "cell_type": "code",
   "execution_count": 42,
   "metadata": {
    "ExecuteTime": {
     "end_time": "2021-11-17T03:33:21.020927Z",
     "start_time": "2021-11-17T03:33:20.997932Z"
    }
   },
   "outputs": [],
   "source": [
    "# Importing useful recommendation functions from .py file\n",
    "# Credit to https://github.com/jmsteinw\n",
    "from implicit_rec_functions import *"
   ]
  },
  {
   "cell_type": "code",
   "execution_count": 44,
   "metadata": {
    "ExecuteTime": {
     "end_time": "2021-11-17T03:33:31.823444Z",
     "start_time": "2021-11-17T03:33:31.788365Z"
    }
   },
   "outputs": [],
   "source": [
    "product_train, product_test, product_users_altered = make_train(sparse_person_mat, pct_test = 0.2)"
   ]
  },
  {
   "cell_type": "code",
   "execution_count": 46,
   "metadata": {
    "ExecuteTime": {
     "end_time": "2021-11-17T03:33:36.621139Z",
     "start_time": "2021-11-17T03:33:36.275140Z"
    }
   },
   "outputs": [
    {
     "name": "stderr",
     "output_type": "stream",
     "text": [
      "WARNING:implicit:This method is deprecated. Please use the AlternatingLeastSquares class instead\n"
     ]
    },
    {
     "data": {
      "application/vnd.jupyter.widget-view+json": {
       "model_id": "cbf900d302914a79917b2824a94520c0",
       "version_major": 2,
       "version_minor": 0
      },
      "text/plain": [
       "HBox(children=(HTML(value=''), FloatProgress(value=0.0, max=50.0), HTML(value='')))"
      ]
     },
     "metadata": {},
     "output_type": "display_data"
    },
    {
     "name": "stdout",
     "output_type": "stream",
     "text": [
      "\n"
     ]
    }
   ],
   "source": [
    "alpha = 15\n",
    "user_vecs, item_vecs = implicit.alternating_least_squares((product_train*alpha).astype('double'), \n",
    "                                                          factors=20, \n",
    "                                                          regularization = 0.1, \n",
    "                                                         iterations = 50)"
   ]
  },
  {
   "cell_type": "markdown",
   "metadata": {},
   "source": [
    "Using AUC score as a metric for modeling: https://stats.stackexchange.com/questions/68893/area-under-curve-of-roc-vs-overall-accuracy\n",
    "\n",
    "With the 'make_train' function we imported -- we set aside 20% of our data for testing and evaluating our recommender system. We will need to see if the order of anime recommendations end up being anime the user eventually interacted with (favorited, completed, in progress etc).\n",
    "\n",
    "We will also use a function imported called 'calc_mean_auc' which will calculate the AUC for the most popular anime to compare the anime our user actually interacted with. "
   ]
  },
  {
   "cell_type": "markdown",
   "metadata": {},
   "source": [
    "# Initial Model Evaluation"
   ]
  },
  {
   "cell_type": "code",
   "execution_count": 47,
   "metadata": {
    "ExecuteTime": {
     "end_time": "2021-11-17T03:33:38.599037Z",
     "start_time": "2021-11-17T03:33:38.415561Z"
    }
   },
   "outputs": [
    {
     "data": {
      "text/plain": [
       "(0.616, 0.616)"
      ]
     },
     "execution_count": 47,
     "metadata": {},
     "output_type": "execute_result"
    }
   ],
   "source": [
    "# Importing calc_mean_auc to compare the AUC value of our recommender system versus recommender the most popular\n",
    "calc_mean_auc(product_train, product_users_altered, \n",
    "              [sparse.csr_matrix(user_vecs), sparse.csr_matrix(item_vecs.T)], product_test)"
   ]
  },
  {
   "cell_type": "markdown",
   "metadata": {},
   "source": [
    "We see from the results above that our recommender system had a mean AUC of 0.62 versus the popular anime benchmark of 0.616. While not incredibly impressive, our recommender system is performing slightly better than if we were to recommend the most popular anime."
   ]
  },
  {
   "cell_type": "code",
   "execution_count": 48,
   "metadata": {
    "ExecuteTime": {
     "end_time": "2021-11-17T03:33:46.125966Z",
     "start_time": "2021-11-17T03:33:46.103983Z"
    }
   },
   "outputs": [],
   "source": [
    "# Get unique users\n",
    "users = list(np.sort(grouped_df.person_id.unique()))\n",
    "\n",
    "# Get unique anime interacted with\n",
    "anime = list(grouped_df.content_id.unique())\n",
    "\n",
    "# Create numpy array of users and anime\n",
    "users_arr = np.array(users)\n",
    "anime_arr = np.array(anime)"
   ]
  },
  {
   "cell_type": "code",
   "execution_count": 49,
   "metadata": {
    "ExecuteTime": {
     "end_time": "2021-11-17T03:33:46.892192Z",
     "start_time": "2021-11-17T03:33:46.877202Z"
    }
   },
   "outputs": [],
   "source": [
    "def get_anime_interacted(person_id, mf_train, users_list, anime_list, anime_lookup):\n",
    "    \"\"\"\n",
    "    Returns a dataframe showcasing the anime a user has already interacted with in the training set.\n",
    "    \n",
    "    Parameters\n",
    "    ----------\n",
    "    user_id : int\n",
    "    mf_train: sparse_matrix\n",
    "    users_list: numpy array of users\n",
    "    anime_list: numpy array of anime\n",
    "    anime_lookup: lookup of id and anime\n",
    "    Returns\n",
    "    -------\n",
    "    Pandas dataframe\n",
    "    \n",
    "    \"\"\"\n",
    "    # Returns the index row of our user id\n",
    "    user_ind = np.where(users_list == person_id)[0][0]\n",
    "    \n",
    "    # Get column indices of interacted anime\n",
    "    interacted_ind = mf_train[user_ind,:].nonzero()[1]\n",
    "    \n",
    "    anime_codes = anime_list[interacted_ind]\n",
    "    return anime_lookup.loc[anime_lookup.content_id.isin(anime_codes)]"
   ]
  },
  {
   "cell_type": "code",
   "execution_count": 50,
   "metadata": {
    "ExecuteTime": {
     "end_time": "2021-11-17T03:33:47.790924Z",
     "start_time": "2021-11-17T03:33:47.751969Z"
    }
   },
   "outputs": [
    {
     "data": {
      "text/html": [
       "<div>\n",
       "<style scoped>\n",
       "    .dataframe tbody tr th:only-of-type {\n",
       "        vertical-align: middle;\n",
       "    }\n",
       "\n",
       "    .dataframe tbody tr th {\n",
       "        vertical-align: top;\n",
       "    }\n",
       "\n",
       "    .dataframe thead th {\n",
       "        text-align: right;\n",
       "    }\n",
       "</style>\n",
       "<table border=\"1\" class=\"dataframe\">\n",
       "  <thead>\n",
       "    <tr style=\"text-align: right;\">\n",
       "      <th></th>\n",
       "      <th>content_id</th>\n",
       "      <th>canonicalTitle</th>\n",
       "    </tr>\n",
       "  </thead>\n",
       "  <tbody>\n",
       "    <tr>\n",
       "      <th>1</th>\n",
       "      <td>9</td>\n",
       "      <td>Fate/stay night: Unlimited Blade Works 2nd Season</td>\n",
       "    </tr>\n",
       "    <tr>\n",
       "      <th>2</th>\n",
       "      <td>14</td>\n",
       "      <td>Fushigi Yuugi</td>\n",
       "    </tr>\n",
       "    <tr>\n",
       "      <th>3</th>\n",
       "      <td>19</td>\n",
       "      <td>Slayers Try</td>\n",
       "    </tr>\n",
       "    <tr>\n",
       "      <th>5</th>\n",
       "      <td>34</td>\n",
       "      <td>Fushigi no Umi no Nadia</td>\n",
       "    </tr>\n",
       "    <tr>\n",
       "      <th>8</th>\n",
       "      <td>65</td>\n",
       "      <td>Taiho Shichau zo (TV)</td>\n",
       "    </tr>\n",
       "    <tr>\n",
       "      <th>...</th>\n",
       "      <td>...</td>\n",
       "      <td>...</td>\n",
       "    </tr>\n",
       "    <tr>\n",
       "      <th>421</th>\n",
       "      <td>6</td>\n",
       "      <td>Koutetsujou no Kabaneri</td>\n",
       "    </tr>\n",
       "    <tr>\n",
       "      <th>423</th>\n",
       "      <td>24</td>\n",
       "      <td>Valkyrie Drive: Mermaid</td>\n",
       "    </tr>\n",
       "    <tr>\n",
       "      <th>438</th>\n",
       "      <td>104</td>\n",
       "      <td>Neon Genesis Evangelion: Death &amp; Rebirth</td>\n",
       "    </tr>\n",
       "    <tr>\n",
       "      <th>452</th>\n",
       "      <td>198</td>\n",
       "      <td>Mobile Suit Gundam: The 08th MS Team</td>\n",
       "    </tr>\n",
       "    <tr>\n",
       "      <th>466</th>\n",
       "      <td>325</td>\n",
       "      <td>When Marnie Was There</td>\n",
       "    </tr>\n",
       "  </tbody>\n",
       "</table>\n",
       "<p>126 rows × 2 columns</p>\n",
       "</div>"
      ],
      "text/plain": [
       "     content_id                                     canonicalTitle\n",
       "1             9  Fate/stay night: Unlimited Blade Works 2nd Season\n",
       "2            14                                      Fushigi Yuugi\n",
       "3            19                                        Slayers Try\n",
       "5            34                            Fushigi no Umi no Nadia\n",
       "8            65                              Taiho Shichau zo (TV)\n",
       "..          ...                                                ...\n",
       "421           6                            Koutetsujou no Kabaneri\n",
       "423          24                            Valkyrie Drive: Mermaid\n",
       "438         104           Neon Genesis Evangelion: Death & Rebirth\n",
       "452         198               Mobile Suit Gundam: The 08th MS Team\n",
       "466         325                              When Marnie Was There\n",
       "\n",
       "[126 rows x 2 columns]"
      ]
     },
     "execution_count": 50,
     "metadata": {},
     "output_type": "execute_result"
    }
   ],
   "source": [
    "# Check for anime interacted with for a give user\n",
    "get_anime_interacted(1, product_train, users_arr, anime_arr, anime_lookup)"
   ]
  },
  {
   "cell_type": "markdown",
   "metadata": {},
   "source": [
    "We will create a function below to take in training set we saved along with our user and anime vectors to recommend anime for a given user."
   ]
  },
  {
   "cell_type": "code",
   "execution_count": 51,
   "metadata": {
    "ExecuteTime": {
     "end_time": "2021-11-17T03:33:50.627240Z",
     "start_time": "2021-11-17T03:33:50.619303Z"
    }
   },
   "outputs": [],
   "source": [
    "def rec_anime(user_id, mf_train, user_vecs, item_vecs, user_list, anime_list, item_lookup, num_items = 10):\n",
    "    \"\"\"\n",
    "    Returns a list of a user's favorite anime\n",
    "\n",
    "    Parameters\n",
    "    ----------\n",
    "    user_id : The user_id that we aim to provide recommendations for\n",
    "    mf_train: Training matrix\n",
    "    user_vecs: User vectors from fitted matrix factorization\n",
    "    anime_vecs: Anime vectors from fitted matrix factorization\n",
    "    user_list: Array of user ID numbers\n",
    "    anime_list: Array of anime ID numbers\n",
    "    item_lookup: Pandas dataframe of anime ID and canonical title\n",
    "\n",
    "    Returns\n",
    "    -------\n",
    "    Top n recommendations based on the user/anime vectors for anime a user has not interacted with\n",
    "    \"\"\"\n",
    "    \n",
    "    # Get index row of user_id\n",
    "    cust_ind = np.where(user_list == user_id)[0][0]\n",
    "    pref_vec = mf_train[cust_ind,:].toarray()\n",
    "    # Add 1 to everything, so that anime not interacted yet become equal to 1\n",
    "    pref_vec = pref_vec.reshape(-1) + 1\n",
    "    pref_vec[pref_vec > 1] = 0 \n",
    "    rec_vector = user_vecs[cust_ind,:].dot(item_vecs.T)\n",
    "    min_max = MinMaxScaler()\n",
    "    rec_vector_scaled = min_max.fit_transform(rec_vector.reshape(-1,1))[:,0] \n",
    "    recommend_vector = pref_vec*rec_vector_scaled \n",
    "    # Anime already interacted have their recommendation multiplied by zero\n",
    "    \n",
    "    # Sort the indices of the items into order \n",
    "    product_idx = np.argsort(recommend_vector)[::-1][:num_items]\n",
    "    # of best recommendations\n",
    "    rec_list = [] # start empty list to store anime\n",
    "    for index in product_idx:\n",
    "        code = anime_list[index]\n",
    "        rec_list.append([code, item_lookup.canonicalTitle.loc[item_lookup.content_id == code].iloc[0]]) \n",
    "        # Append our descriptions to the list\n",
    "    codes = [item[0] for item in rec_list]\n",
    "    descriptions = [item[1] for item in rec_list]\n",
    "    final_frame = pd.DataFrame({'content_id': codes, 'canonicalTitle': descriptions})\n",
    "    return final_frame[['content_id', 'canonicalTitle']]"
   ]
  },
  {
   "cell_type": "markdown",
   "metadata": {},
   "source": [
    "This function will return the num_items highest ranking anime for a particular user. Anime not interacted by the user will not be recommended. For now, the default to recommend is the top 10."
   ]
  },
  {
   "cell_type": "markdown",
   "metadata": {},
   "source": [
    "# Qualitative Evalaution"
   ]
  },
  {
   "cell_type": "code",
   "execution_count": 52,
   "metadata": {
    "ExecuteTime": {
     "end_time": "2021-11-17T03:33:53.188230Z",
     "start_time": "2021-11-17T03:33:53.103297Z"
    }
   },
   "outputs": [
    {
     "data": {
      "text/html": [
       "<div>\n",
       "<style scoped>\n",
       "    .dataframe tbody tr th:only-of-type {\n",
       "        vertical-align: middle;\n",
       "    }\n",
       "\n",
       "    .dataframe tbody tr th {\n",
       "        vertical-align: top;\n",
       "    }\n",
       "\n",
       "    .dataframe thead th {\n",
       "        text-align: right;\n",
       "    }\n",
       "</style>\n",
       "<table border=\"1\" class=\"dataframe\">\n",
       "  <thead>\n",
       "    <tr style=\"text-align: right;\">\n",
       "      <th></th>\n",
       "      <th>content_id</th>\n",
       "      <th>canonicalTitle</th>\n",
       "    </tr>\n",
       "  </thead>\n",
       "  <tbody>\n",
       "    <tr>\n",
       "      <th>0</th>\n",
       "      <td>346</td>\n",
       "      <td>Top wo Nerae! Gunbuster</td>\n",
       "    </tr>\n",
       "    <tr>\n",
       "      <th>1</th>\n",
       "      <td>15</td>\n",
       "      <td>Saenai Heroine no Sodatekata: Ai to Seishun no...</td>\n",
       "    </tr>\n",
       "    <tr>\n",
       "      <th>2</th>\n",
       "      <td>74</td>\n",
       "      <td>Tsurezure Children</td>\n",
       "    </tr>\n",
       "    <tr>\n",
       "      <th>3</th>\n",
       "      <td>75</td>\n",
       "      <td>Aho Girl</td>\n",
       "    </tr>\n",
       "    <tr>\n",
       "      <th>4</th>\n",
       "      <td>76</td>\n",
       "      <td>Nana Maru San Batsu</td>\n",
       "    </tr>\n",
       "    <tr>\n",
       "      <th>5</th>\n",
       "      <td>78</td>\n",
       "      <td>Keppeki Danshi! Aoyama-kun</td>\n",
       "    </tr>\n",
       "    <tr>\n",
       "      <th>6</th>\n",
       "      <td>82</td>\n",
       "      <td>Shoujo Shuumatsu Ryokou</td>\n",
       "    </tr>\n",
       "    <tr>\n",
       "      <th>7</th>\n",
       "      <td>107</td>\n",
       "      <td>Sayonara Zetsubou Sensei</td>\n",
       "    </tr>\n",
       "    <tr>\n",
       "      <th>8</th>\n",
       "      <td>115</td>\n",
       "      <td>Soul Eater</td>\n",
       "    </tr>\n",
       "    <tr>\n",
       "      <th>9</th>\n",
       "      <td>150</td>\n",
       "      <td>Baka to Test to Shoukanjuu</td>\n",
       "    </tr>\n",
       "  </tbody>\n",
       "</table>\n",
       "</div>"
      ],
      "text/plain": [
       "   content_id                                     canonicalTitle\n",
       "0         346                            Top wo Nerae! Gunbuster\n",
       "1          15  Saenai Heroine no Sodatekata: Ai to Seishun no...\n",
       "2          74                                 Tsurezure Children\n",
       "3          75                                           Aho Girl\n",
       "4          76                                Nana Maru San Batsu\n",
       "5          78                         Keppeki Danshi! Aoyama-kun\n",
       "6          82                            Shoujo Shuumatsu Ryokou\n",
       "7         107                           Sayonara Zetsubou Sensei\n",
       "8         115                                         Soul Eater\n",
       "9         150                         Baka to Test to Shoukanjuu"
      ]
     },
     "execution_count": 52,
     "metadata": {},
     "output_type": "execute_result"
    }
   ],
   "source": [
    "# Import rec_items function\n",
    "rec_anime(0, product_train, user_vecs, item_vecs, users_arr, anime_arr, anime_lookup,\n",
    "                       num_items = 10)"
   ]
  },
  {
   "cell_type": "markdown",
   "metadata": {},
   "source": [
    "We've made recommendations for user_id = 0. Let's retrieve the anime user 0 has actually interacted with and compare the types of anime and whether they could be interested in the recommended list above.\n",
    "\n",
    "From steps performed before, we know that we encoded user_id to kitsu user_id 70211. We will use the get_user_favorites function to retrieve there favorited anime and compare."
   ]
  },
  {
   "cell_type": "code",
   "execution_count": 53,
   "metadata": {
    "ExecuteTime": {
     "end_time": "2021-11-17T03:34:17.162259Z",
     "start_time": "2021-11-17T03:34:01.761173Z"
    }
   },
   "outputs": [
    {
     "name": "stdout",
     "output_type": "stream",
     "text": [
      "Retrieving favorites data for user 70211\n"
     ]
    },
    {
     "name": "stderr",
     "output_type": "stream",
     "text": [
      "100%|██████████| 9/9 [00:15<00:00,  1.67s/it]\n"
     ]
    },
    {
     "data": {
      "text/html": [
       "<div>\n",
       "<style scoped>\n",
       "    .dataframe tbody tr th:only-of-type {\n",
       "        vertical-align: middle;\n",
       "    }\n",
       "\n",
       "    .dataframe tbody tr th {\n",
       "        vertical-align: top;\n",
       "    }\n",
       "\n",
       "    .dataframe thead th {\n",
       "        text-align: right;\n",
       "    }\n",
       "</style>\n",
       "<table border=\"1\" class=\"dataframe\">\n",
       "  <thead>\n",
       "    <tr style=\"text-align: right;\">\n",
       "      <th></th>\n",
       "      <th>user_id</th>\n",
       "      <th>anime_id</th>\n",
       "      <th>canonicalTitle</th>\n",
       "      <th>synopsis</th>\n",
       "      <th>description</th>\n",
       "    </tr>\n",
       "  </thead>\n",
       "  <tbody>\n",
       "    <tr>\n",
       "      <th>0</th>\n",
       "      <td>70211</td>\n",
       "      <td>7882</td>\n",
       "      <td>Fate/stay night: Unlimited Blade Works</td>\n",
       "      <td>Fuyuki City—a city surrounded by the ocean and...</td>\n",
       "      <td>Fuyuki City—a city surrounded by the ocean and...</td>\n",
       "    </tr>\n",
       "    <tr>\n",
       "      <th>1</th>\n",
       "      <td>70211</td>\n",
       "      <td>1265</td>\n",
       "      <td>Lupin III</td>\n",
       "      <td>Arsène Lupin III is the grandson of world-famo...</td>\n",
       "      <td>Arsène Lupin III is the grandson of world-famo...</td>\n",
       "    </tr>\n",
       "    <tr>\n",
       "      <th>2</th>\n",
       "      <td>70211</td>\n",
       "      <td>7723</td>\n",
       "      <td>Lupin III vs. Detective Conan: The Movie</td>\n",
       "      <td>It is a cross over between the series Lupin II...</td>\n",
       "      <td>It is a cross over between the series Lupin II...</td>\n",
       "    </tr>\n",
       "    <tr>\n",
       "      <th>3</th>\n",
       "      <td>70211</td>\n",
       "      <td>8333</td>\n",
       "      <td>Gugure! Kokkuri-san</td>\n",
       "      <td>Kohina Ichimatsu, the self-proclaimed doll, ca...</td>\n",
       "      <td>Kohina Ichimatsu, the self-proclaimed doll, ca...</td>\n",
       "    </tr>\n",
       "    <tr>\n",
       "      <th>4</th>\n",
       "      <td>70211</td>\n",
       "      <td>8648</td>\n",
       "      <td>Akatsuki no Yona</td>\n",
       "      <td>Upon her sixteenth birthday, the cheerful Prin...</td>\n",
       "      <td>Upon her sixteenth birthday, the cheerful Prin...</td>\n",
       "    </tr>\n",
       "    <tr>\n",
       "      <th>5</th>\n",
       "      <td>70211</td>\n",
       "      <td>818</td>\n",
       "      <td>Gintama</td>\n",
       "      <td>The Amanto, aliens from outer space, have inva...</td>\n",
       "      <td>The Amanto, aliens from outer space, have inva...</td>\n",
       "    </tr>\n",
       "    <tr>\n",
       "      <th>6</th>\n",
       "      <td>70211</td>\n",
       "      <td>4989</td>\n",
       "      <td>Gintama: The Movie</td>\n",
       "      <td>Gintoki and his Yorozuya friends (or rather, e...</td>\n",
       "      <td>Gintoki and his Yorozuya friends (or rather, e...</td>\n",
       "    </tr>\n",
       "    <tr>\n",
       "      <th>7</th>\n",
       "      <td>70211</td>\n",
       "      <td>7253</td>\n",
       "      <td>Gintama': Enchousen</td>\n",
       "      <td>Sakata Gintoki, Kagura, and Shinpachi Shimura ...</td>\n",
       "      <td>Sakata Gintoki, Kagura, and Shinpachi Shimura ...</td>\n",
       "    </tr>\n",
       "    <tr>\n",
       "      <th>8</th>\n",
       "      <td>70211</td>\n",
       "      <td>7241</td>\n",
       "      <td>Gintama Movie 2: Kanketsu-hen - Yorozuya yo Ei...</td>\n",
       "      <td>When Gintoki apprehends a movie pirate at a pr...</td>\n",
       "      <td>When Gintoki apprehends a movie pirate at a pr...</td>\n",
       "    </tr>\n",
       "    <tr>\n",
       "      <th>9</th>\n",
       "      <td>70211</td>\n",
       "      <td>7863</td>\n",
       "      <td>Psycho-Pass 2</td>\n",
       "      <td>A year and a half after the events of the orig...</td>\n",
       "      <td>A year and a half after the events of the orig...</td>\n",
       "    </tr>\n",
       "  </tbody>\n",
       "</table>\n",
       "</div>"
      ],
      "text/plain": [
       "   user_id anime_id                                     canonicalTitle  \\\n",
       "0    70211     7882             Fate/stay night: Unlimited Blade Works   \n",
       "1    70211     1265                                          Lupin III   \n",
       "2    70211     7723           Lupin III vs. Detective Conan: The Movie   \n",
       "3    70211     8333                                Gugure! Kokkuri-san   \n",
       "4    70211     8648                                   Akatsuki no Yona   \n",
       "5    70211      818                                            Gintama   \n",
       "6    70211     4989                                 Gintama: The Movie   \n",
       "7    70211     7253                                Gintama': Enchousen   \n",
       "8    70211     7241  Gintama Movie 2: Kanketsu-hen - Yorozuya yo Ei...   \n",
       "9    70211     7863                                      Psycho-Pass 2   \n",
       "\n",
       "                                            synopsis  \\\n",
       "0  Fuyuki City—a city surrounded by the ocean and...   \n",
       "1  Arsène Lupin III is the grandson of world-famo...   \n",
       "2  It is a cross over between the series Lupin II...   \n",
       "3  Kohina Ichimatsu, the self-proclaimed doll, ca...   \n",
       "4  Upon her sixteenth birthday, the cheerful Prin...   \n",
       "5  The Amanto, aliens from outer space, have inva...   \n",
       "6  Gintoki and his Yorozuya friends (or rather, e...   \n",
       "7  Sakata Gintoki, Kagura, and Shinpachi Shimura ...   \n",
       "8  When Gintoki apprehends a movie pirate at a pr...   \n",
       "9  A year and a half after the events of the orig...   \n",
       "\n",
       "                                         description  \n",
       "0  Fuyuki City—a city surrounded by the ocean and...  \n",
       "1  Arsène Lupin III is the grandson of world-famo...  \n",
       "2  It is a cross over between the series Lupin II...  \n",
       "3  Kohina Ichimatsu, the self-proclaimed doll, ca...  \n",
       "4  Upon her sixteenth birthday, the cheerful Prin...  \n",
       "5  The Amanto, aliens from outer space, have inva...  \n",
       "6  Gintoki and his Yorozuya friends (or rather, e...  \n",
       "7  Sakata Gintoki, Kagura, and Shinpachi Shimura ...  \n",
       "8  When Gintoki apprehends a movie pirate at a pr...  \n",
       "9  A year and a half after the events of the orig...  "
      ]
     },
     "execution_count": 53,
     "metadata": {},
     "output_type": "execute_result"
    }
   ],
   "source": [
    "user_example_fav_df = pd.DataFrame(get_user_favorites(70211))\n",
    "user_example_fav_df.head(10)"
   ]
  },
  {
   "cell_type": "markdown",
   "metadata": {},
   "source": [
    "From the user 70211 favorited list, we can assess at high level that this person is generally interested in shonen, action, mystery, and fantasy type anime. This type of genre is most prevalent in their favorited titles of:\n",
    "- Fate/stay night: Unlimited Blade Workds\n",
    "- Lupin III\n",
    "- Lupin III vs. Detective Conan: The Movie\n",
    "- Gintama Series\n",
    "\n",
    "From the recommended list the anime that most resonates with these genres is Dragon Ball Z, a highly popular shonen anime that aligns with the likes of the Gintama and Fate/stay night series. Along with Dragon Ball Z, we see Yu-Gi-Oh and Full Metal Panic, other highly popular shonen / action type of anime that align with user 70211's favorites list.\n",
    "\n",
    "More than that, what is interesting to see recommended is the Barakamon anime which is published by Square Enix. From the user's favorites, we see Gugure! Kokkuri-san, another Square Enix published anime that share a similar comedy / slice-of-life type of genre. \n",
    "\n",
    "One last observation interesting to see is the recommended anime Baccano! This is considered a mystery thriller type of anime which is very similar to the entire Lupin III series user 70211 is interested in.\n",
    "\n",
    "Altogether for user 70211 at least, the model appears to be performing quite well. Though it should be noted that user \n",
    "70211 was considered one of the top anime users, hence there is quite some data to train on when making recommendations."
   ]
  },
  {
   "cell_type": "markdown",
   "metadata": {},
   "source": [
    "# Alternating Least Squares Cross Validation\n",
    "In this step we will attempt to tune the hyperparameters of our ALS model using **train_test_split** and **precision at k** evaluation metric function from the implicit library. "
   ]
  },
  {
   "cell_type": "code",
   "execution_count": 92,
   "metadata": {
    "ExecuteTime": {
     "end_time": "2021-11-17T05:07:41.205188Z",
     "start_time": "2021-11-17T05:07:41.193160Z"
    }
   },
   "outputs": [],
   "source": [
    "# Import implicit eval functions\n",
    "from implicit.evaluation import precision_at_k, train_test_split, mean_average_precision_at_k, AUC_at_k"
   ]
  },
  {
   "cell_type": "code",
   "execution_count": 59,
   "metadata": {
    "ExecuteTime": {
     "end_time": "2021-11-17T04:46:51.099840Z",
     "start_time": "2021-11-17T04:46:51.083766Z"
    }
   },
   "outputs": [
    {
     "data": {
      "text/html": [
       "<div>\n",
       "<style scoped>\n",
       "    .dataframe tbody tr th:only-of-type {\n",
       "        vertical-align: middle;\n",
       "    }\n",
       "\n",
       "    .dataframe tbody tr th {\n",
       "        vertical-align: top;\n",
       "    }\n",
       "\n",
       "    .dataframe thead th {\n",
       "        text-align: right;\n",
       "    }\n",
       "</style>\n",
       "<table border=\"1\" class=\"dataframe\">\n",
       "  <thead>\n",
       "    <tr style=\"text-align: right;\">\n",
       "      <th></th>\n",
       "      <th>user_id</th>\n",
       "      <th>anime_id</th>\n",
       "      <th>canonicalTitle</th>\n",
       "      <th>eventStrength</th>\n",
       "      <th>person_id</th>\n",
       "      <th>content_id</th>\n",
       "    </tr>\n",
       "  </thead>\n",
       "  <tbody>\n",
       "    <tr>\n",
       "      <th>0</th>\n",
       "      <td>70211</td>\n",
       "      <td>1</td>\n",
       "      <td>Cowboy Bebop</td>\n",
       "      <td>6.0</td>\n",
       "      <td>0</td>\n",
       "      <td>0</td>\n",
       "    </tr>\n",
       "    <tr>\n",
       "      <th>1</th>\n",
       "      <td>70211</td>\n",
       "      <td>10052</td>\n",
       "      <td>Fate/stay night: Unlimited Blade Works 2nd Season</td>\n",
       "      <td>5.0</td>\n",
       "      <td>0</td>\n",
       "      <td>9</td>\n",
       "    </tr>\n",
       "    <tr>\n",
       "      <th>2</th>\n",
       "      <td>70211</td>\n",
       "      <td>102</td>\n",
       "      <td>Fushigi Yuugi</td>\n",
       "      <td>6.0</td>\n",
       "      <td>0</td>\n",
       "      <td>14</td>\n",
       "    </tr>\n",
       "    <tr>\n",
       "      <th>3</th>\n",
       "      <td>70211</td>\n",
       "      <td>1053</td>\n",
       "      <td>Slayers Try</td>\n",
       "      <td>5.0</td>\n",
       "      <td>0</td>\n",
       "      <td>19</td>\n",
       "    </tr>\n",
       "    <tr>\n",
       "      <th>4</th>\n",
       "      <td>70211</td>\n",
       "      <td>108</td>\n",
       "      <td>Gensoumaden Saiyuuki</td>\n",
       "      <td>6.0</td>\n",
       "      <td>0</td>\n",
       "      <td>25</td>\n",
       "    </tr>\n",
       "  </tbody>\n",
       "</table>\n",
       "</div>"
      ],
      "text/plain": [
       "  user_id anime_id                                     canonicalTitle  \\\n",
       "0   70211        1                                       Cowboy Bebop   \n",
       "1   70211    10052  Fate/stay night: Unlimited Blade Works 2nd Season   \n",
       "2   70211      102                                      Fushigi Yuugi   \n",
       "3   70211     1053                                        Slayers Try   \n",
       "4   70211      108                               Gensoumaden Saiyuuki   \n",
       "\n",
       "   eventStrength  person_id  content_id  \n",
       "0            6.0          0           0  \n",
       "1            5.0          0           9  \n",
       "2            6.0          0          14  \n",
       "3            5.0          0          19  \n",
       "4            6.0          0          25  "
      ]
     },
     "execution_count": 59,
     "metadata": {},
     "output_type": "execute_result"
    }
   ],
   "source": [
    "grouped_df.head()"
   ]
  },
  {
   "cell_type": "code",
   "execution_count": 72,
   "metadata": {
    "ExecuteTime": {
     "end_time": "2021-11-17T05:01:25.338608Z",
     "start_time": "2021-11-17T05:01:25.306611Z"
    }
   },
   "outputs": [],
   "source": [
    "interaction_mat = grouped_df.pivot_table(values='eventStrength',index='person_id',columns='content_id')"
   ]
  },
  {
   "cell_type": "code",
   "execution_count": 146,
   "metadata": {
    "ExecuteTime": {
     "end_time": "2021-11-17T07:34:18.218035Z",
     "start_time": "2021-11-17T07:34:18.201958Z"
    }
   },
   "outputs": [],
   "source": [
    "interaction_mat = sparse.csr_matrix(interaction_matrix)"
   ]
  },
  {
   "cell_type": "code",
   "execution_count": 147,
   "metadata": {
    "ExecuteTime": {
     "end_time": "2021-11-17T07:34:18.565527Z",
     "start_time": "2021-11-17T07:34:18.538966Z"
    },
    "scrolled": true
   },
   "outputs": [
    {
     "name": "stderr",
     "output_type": "stream",
     "text": [
      "<ipython-input-147-b2f646fe634f>:1: RuntimeWarning: invalid value encountered in less\n",
      "  train, test = train_test_split(interaction_mat)\n"
     ]
    }
   ],
   "source": [
    "train, test = train_test_split(interaction_mat)\n",
    "\n",
    "# model = implicit.als.AlternatingLeastSquares(factors=128, regularization=20, iterations=50)\n",
    "# model.fit(train)\n",
    "# p = precision_at_k(model, train.T.tocsr(), test.T.tocsr(), K=10, num_threads=4)"
   ]
  },
  {
   "cell_type": "markdown",
   "metadata": {},
   "source": [
    "## Hypertuning"
   ]
  },
  {
   "cell_type": "code",
   "execution_count": 176,
   "metadata": {
    "ExecuteTime": {
     "end_time": "2021-11-17T08:00:21.322927Z",
     "start_time": "2021-11-17T08:00:21.305753Z"
    }
   },
   "outputs": [],
   "source": [
    "param_grid = {'num_factors': [10, 20, 40, 80],\n",
    "              'regularization': [0, 1e-5, 1e-3, 1e-1],\n",
    "              'iterations': [10, 20, 30, 50]}"
   ]
  },
  {
   "cell_type": "code",
   "execution_count": 180,
   "metadata": {
    "ExecuteTime": {
     "end_time": "2021-11-17T08:01:21.246374Z",
     "start_time": "2021-11-17T08:01:21.237196Z"
    }
   },
   "outputs": [],
   "source": [
    "eval_results = {'run_num':[],\n",
    "                'p_k':[],\n",
    "                'map_k':[]}"
   ]
  },
  {
   "cell_type": "code",
   "execution_count": 181,
   "metadata": {
    "ExecuteTime": {
     "end_time": "2021-11-17T08:01:21.982813Z",
     "start_time": "2021-11-17T08:01:21.970127Z"
    }
   },
   "outputs": [],
   "source": [
    "from tqdm import tqdm"
   ]
  },
  {
   "cell_type": "code",
   "execution_count": 182,
   "metadata": {
    "ExecuteTime": {
     "end_time": "2021-11-17T08:02:00.710876Z",
     "start_time": "2021-11-17T08:01:22.328992Z"
    },
    "scrolled": true
   },
   "outputs": [
    {
     "name": "stderr",
     "output_type": "stream",
     "text": [
      "\r",
      "  0%|          | 0/4 [00:00<?, ?it/s]"
     ]
    },
    {
     "name": "stdout",
     "output_type": "stream",
     "text": [
      "Evaluating -- factors:10 | regularization: 0 | iterations 10...\n",
      "Evaluating -- factors:10 | regularization: 0 | iterations 20...\n",
      "Evaluating -- factors:10 | regularization: 0 | iterations 30...\n",
      "Evaluating -- factors:10 | regularization: 0 | iterations 50...\n",
      "Evaluating -- factors:10 | regularization: 1e-05 | iterations 10...\n",
      "Evaluating -- factors:10 | regularization: 1e-05 | iterations 20...\n",
      "Evaluating -- factors:10 | regularization: 1e-05 | iterations 30...\n",
      "Evaluating -- factors:10 | regularization: 1e-05 | iterations 50...\n",
      "Evaluating -- factors:10 | regularization: 0.001 | iterations 10...\n",
      "Evaluating -- factors:10 | regularization: 0.001 | iterations 20...\n",
      "Evaluating -- factors:10 | regularization: 0.001 | iterations 30...\n",
      "Evaluating -- factors:10 | regularization: 0.001 | iterations 50...\n",
      "Evaluating -- factors:10 | regularization: 0.1 | iterations 10...\n",
      "Evaluating -- factors:10 | regularization: 0.1 | iterations 20...\n",
      "Evaluating -- factors:10 | regularization: 0.1 | iterations 30...\n",
      "Evaluating -- factors:10 | regularization: 0.1 | iterations 50...\n"
     ]
    },
    {
     "name": "stderr",
     "output_type": "stream",
     "text": [
      "\r",
      " 25%|██▌       | 1/4 [00:07<00:21,  7.05s/it]"
     ]
    },
    {
     "name": "stdout",
     "output_type": "stream",
     "text": [
      "Evaluating -- factors:20 | regularization: 0 | iterations 10...\n",
      "Evaluating -- factors:20 | regularization: 0 | iterations 20...\n",
      "Evaluating -- factors:20 | regularization: 0 | iterations 30...\n",
      "Evaluating -- factors:20 | regularization: 0 | iterations 50...\n",
      "Evaluating -- factors:20 | regularization: 1e-05 | iterations 10...\n",
      "Evaluating -- factors:20 | regularization: 1e-05 | iterations 20...\n",
      "Evaluating -- factors:20 | regularization: 1e-05 | iterations 30...\n",
      "Evaluating -- factors:20 | regularization: 1e-05 | iterations 50...\n",
      "Evaluating -- factors:20 | regularization: 0.001 | iterations 10...\n",
      "Evaluating -- factors:20 | regularization: 0.001 | iterations 20...\n",
      "Evaluating -- factors:20 | regularization: 0.001 | iterations 30...\n",
      "Evaluating -- factors:20 | regularization: 0.001 | iterations 50...\n",
      "Evaluating -- factors:20 | regularization: 0.1 | iterations 10...\n",
      "Evaluating -- factors:20 | regularization: 0.1 | iterations 20...\n",
      "Evaluating -- factors:20 | regularization: 0.1 | iterations 30...\n",
      "Evaluating -- factors:20 | regularization: 0.1 | iterations 50...\n"
     ]
    },
    {
     "name": "stderr",
     "output_type": "stream",
     "text": [
      "\r",
      " 50%|█████     | 2/4 [00:15<00:14,  7.38s/it]"
     ]
    },
    {
     "name": "stdout",
     "output_type": "stream",
     "text": [
      "Evaluating -- factors:40 | regularization: 0 | iterations 10...\n",
      "Evaluating -- factors:40 | regularization: 0 | iterations 20...\n",
      "Evaluating -- factors:40 | regularization: 0 | iterations 30...\n",
      "Evaluating -- factors:40 | regularization: 0 | iterations 50...\n",
      "Evaluating -- factors:40 | regularization: 1e-05 | iterations 10...\n",
      "Evaluating -- factors:40 | regularization: 1e-05 | iterations 20...\n",
      "Evaluating -- factors:40 | regularization: 1e-05 | iterations 30...\n",
      "Evaluating -- factors:40 | regularization: 1e-05 | iterations 50...\n",
      "Evaluating -- factors:40 | regularization: 0.001 | iterations 10...\n",
      "Evaluating -- factors:40 | regularization: 0.001 | iterations 20...\n",
      "Evaluating -- factors:40 | regularization: 0.001 | iterations 30...\n",
      "Evaluating -- factors:40 | regularization: 0.001 | iterations 50...\n",
      "Evaluating -- factors:40 | regularization: 0.1 | iterations 10...\n",
      "Evaluating -- factors:40 | regularization: 0.1 | iterations 20...\n",
      "Evaluating -- factors:40 | regularization: 0.1 | iterations 30...\n",
      "Evaluating -- factors:40 | regularization: 0.1 | iterations 50...\n"
     ]
    },
    {
     "name": "stderr",
     "output_type": "stream",
     "text": [
      "\r",
      " 75%|███████▌  | 3/4 [00:25<00:08,  8.32s/it]"
     ]
    },
    {
     "name": "stdout",
     "output_type": "stream",
     "text": [
      "Evaluating -- factors:80 | regularization: 0 | iterations 10...\n",
      "Evaluating -- factors:80 | regularization: 0 | iterations 20...\n",
      "Evaluating -- factors:80 | regularization: 0 | iterations 30...\n",
      "Evaluating -- factors:80 | regularization: 0 | iterations 50...\n",
      "Evaluating -- factors:80 | regularization: 1e-05 | iterations 10...\n",
      "Evaluating -- factors:80 | regularization: 1e-05 | iterations 20...\n",
      "Evaluating -- factors:80 | regularization: 1e-05 | iterations 30...\n",
      "Evaluating -- factors:80 | regularization: 1e-05 | iterations 50...\n",
      "Evaluating -- factors:80 | regularization: 0.001 | iterations 10...\n",
      "Evaluating -- factors:80 | regularization: 0.001 | iterations 20...\n",
      "Evaluating -- factors:80 | regularization: 0.001 | iterations 30...\n",
      "Evaluating -- factors:80 | regularization: 0.001 | iterations 50...\n",
      "Evaluating -- factors:80 | regularization: 0.1 | iterations 10...\n",
      "Evaluating -- factors:80 | regularization: 0.1 | iterations 20...\n",
      "Evaluating -- factors:80 | regularization: 0.1 | iterations 30...\n",
      "Evaluating -- factors:80 | regularization: 0.1 | iterations 50...\n"
     ]
    },
    {
     "name": "stderr",
     "output_type": "stream",
     "text": [
      "100%|██████████| 4/4 [00:38<00:00,  9.59s/it]\n"
     ]
    }
   ],
   "source": [
    "iter_num = 0\n",
    "\n",
    "for num_f in tqdm( param_grid['num_factors'] ):\n",
    "    for reg in param_grid['regularization']:\n",
    "        for itr in param_grid['iterations']:\n",
    "#             print(f'Evaluating -- factors:{num_f} | regularization: {reg} | iterations {itr}...')\n",
    "            \n",
    "            iter_num += 1\n",
    "            model = implicit.als.AlternatingLeastSquares(factors=num_f,regularization=reg, iterations=itr)\n",
    "            \n",
    "            model.fit(train, show_progress=False)\n",
    "            \n",
    "            p_k = precision_at_k(model,\n",
    "                                 train.T.tocsr(),\n",
    "                                 test.T.tocsr(),\n",
    "                                 K=10,\n",
    "                                 num_threads=4,\n",
    "                                 show_progress=False)\n",
    "            map_k = mean_average_precision_at_k(model,\n",
    "                                                train.T.tocsr(),\n",
    "                                                test.T.tocsr(),\n",
    "                                                K=10,\n",
    "                                                num_threads=4,\n",
    "                                                show_progress=False)\n",
    "#             auc_k = AUC_at_k(model,\n",
    "#                              train.T.tocsr(),\n",
    "#                              test.T.tocsr(),\n",
    "#                              K=10,\n",
    "#                              num_threads=4,\n",
    "#                              show_progress=False)\n",
    "\n",
    "            eval_results['run_num'].append(iter_num)\n",
    "            eval_results['p_k'].append(p_k)\n",
    "            eval_results['map_k'].append(map_k)"
   ]
  },
  {
   "cell_type": "code",
   "execution_count": 184,
   "metadata": {
    "ExecuteTime": {
     "end_time": "2021-11-17T08:02:12.721535Z",
     "start_time": "2021-11-17T08:02:12.690768Z"
    }
   },
   "outputs": [
    {
     "data": {
      "text/plain": [
       "run_num    1.000000\n",
       "p_k        2.510101\n",
       "map_k      2.577403\n",
       "Name: 0, dtype: float64"
      ]
     },
     "execution_count": 184,
     "metadata": {},
     "output_type": "execute_result"
    }
   ],
   "source": [
    "pd.DataFrame(eval_results).sort_values('p_k').iloc[0]"
   ]
  },
  {
   "cell_type": "code",
   "execution_count": null,
   "metadata": {},
   "outputs": [],
   "source": []
  }
 ],
 "metadata": {
  "kernelspec": {
   "display_name": "learn-env",
   "language": "python",
   "name": "learn-env"
  },
  "language_info": {
   "codemirror_mode": {
    "name": "ipython",
    "version": 3
   },
   "file_extension": ".py",
   "mimetype": "text/x-python",
   "name": "python",
   "nbconvert_exporter": "python",
   "pygments_lexer": "ipython3",
   "version": "3.8.5"
  },
  "toc": {
   "base_numbering": 1,
   "nav_menu": {},
   "number_sections": true,
   "sideBar": true,
   "skip_h1_title": false,
   "title_cell": "Table of Contents",
   "title_sidebar": "Contents",
   "toc_cell": false,
   "toc_position": {
    "height": "calc(100% - 180px)",
    "left": "10px",
    "top": "150px",
    "width": "293.25px"
   },
   "toc_section_display": true,
   "toc_window_display": true
  },
  "varInspector": {
   "cols": {
    "lenName": 16,
    "lenType": 16,
    "lenVar": 40
   },
   "kernels_config": {
    "python": {
     "delete_cmd_postfix": "",
     "delete_cmd_prefix": "del ",
     "library": "var_list.py",
     "varRefreshCmd": "print(var_dic_list())"
    },
    "r": {
     "delete_cmd_postfix": ") ",
     "delete_cmd_prefix": "rm(",
     "library": "var_list.r",
     "varRefreshCmd": "cat(var_dic_list()) "
    }
   },
   "types_to_exclude": [
    "module",
    "function",
    "builtin_function_or_method",
    "instance",
    "_Feature"
   ],
   "window_display": false
  }
 },
 "nbformat": 4,
 "nbformat_minor": 4
}
