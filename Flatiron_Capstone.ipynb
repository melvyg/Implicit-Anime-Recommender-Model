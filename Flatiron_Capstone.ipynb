{
 "cells": [
  {
   "cell_type": "markdown",
   "metadata": {},
   "source": [
    "# Introduction\n",
    "Chewyroll is one of the largest anime streaming platforms on the internet. With their ever growing anime catalog, and increasing number of users, making the right anime recommendations to keep old and new users engaged is important more than ever. \n",
    "\n",
    "While the most common method to providing recommendations are through the explicit ratings users provide (ie based on an 'enjoyment' score 1-5; 1-5 stars etc.), collecting and analyzing ratings data is very scarce. Based on the data, it appears most of the time, users do not provide ratings at all, and with the increasing number of anime and users, providing meaningful recommendations solely on this method does not scale. What Chewyroll does have in abundance is 'interaction' or implicit data -- that is data around whether a user has watched something, in the middle of watching, plan to watch, favorited, or even commented on something. \n",
    "\n",
    "These data inputs are much more passive from a user's perspective, hence the quantity of implicit data far outweighs the amount of explicit data Chewyroll has. Therefore, in this project Chewyroll has tasked its team of data scientists to take advantage this implicit data and design a more robust recommender system."
   ]
  },
  {
   "cell_type": "markdown",
   "metadata": {},
   "source": [
    "# Import Dependencies"
   ]
  },
  {
   "cell_type": "code",
   "execution_count": 134,
   "metadata": {
    "ExecuteTime": {
     "end_time": "2021-11-18T06:15:18.858288Z",
     "start_time": "2021-11-18T06:15:18.839576Z"
    }
   },
   "outputs": [],
   "source": [
    "import requests as req\n",
    "import pandas as pd\n",
    "import numpy as np\n",
    "import random\n",
    "import math\n",
    "\n",
    "import scipy.sparse as sparse\n",
    "from scipy.sparse.linalg import spsolve\n",
    "import implicit\n",
    "from sklearn.preprocessing import MinMaxScaler, MaxAbsScaler\n",
    "from sklearn import metrics\n",
    "\n",
    "import matplotlib.pyplot as plt\n",
    "\n",
    "import ast\n",
    "import pprint\n",
    "\n",
    "from tqdm import tqdm"
   ]
  },
  {
   "cell_type": "markdown",
   "metadata": {},
   "source": [
    "# Data Collection\n",
    "The cells below will follow a series of steps to collect data about our users and Anime content."
   ]
  },
  {
   "cell_type": "markdown",
   "metadata": {},
   "source": [
    "## Kitsu API\n",
    "\n",
    "Kitsu is a modern anime discovery platform that helps you track the anime you're watching, discover new anime and socialize with other fans.\n",
    "\n",
    "Within the Kitsu API __https://kitsu.docs.apiary.io/__ -- it contains data pertaining to users and the anime they have watched, rated, liked, commented, and overall have interacted with.\n",
    "\n",
    "In the next few cells we will aim to pull a initial sample of ~500 users and their interaction data.\n",
    "\n",
    "In total, there are 1,182,501 users and through the API, we are able to traverse through 20 results at a time. If we traverse through all 1.1M users only 20 at a time, we will need to make 59,125 iterations. \n",
    "\n",
    "For MVP purposes, we will pull a sample of 5,000 random users only needing 250 iterations."
   ]
  },
  {
   "cell_type": "markdown",
   "metadata": {},
   "source": [
    "To randomly select the 5,000 users knowing we can pull 20 from a page at a time -- we will use the following code to select for those users."
   ]
  },
  {
   "cell_type": "code",
   "execution_count": null,
   "metadata": {
    "ExecuteTime": {
     "end_time": "2021-11-18T04:52:45.597325Z",
     "start_time": "2021-11-18T04:52:39.260Z"
    }
   },
   "outputs": [],
   "source": [
    "num_users = 1182501\n",
    "sample_n = 5000\n",
    "users_per_page = 20\n",
    "pages_n = int(sample_n / users_per_page)\n",
    "\n",
    "# Increment the pages\n",
    "pages_array = np.arange(0,num_users,pages_n)\n",
    "\n",
    "# Shuffle the array of pages\n",
    "np.random.shuffle(pages_array)\n",
    "\n",
    "# Get the first pages_n from pages_array\n",
    "pages_to_query = pages_array[:pages_n]\n",
    "\n",
    "print(f'The pages to iterate through: {pages_n} \\nThe number of users data to collect: {pages_n*users_per_page}')"
   ]
  },
  {
   "cell_type": "code",
   "execution_count": null,
   "metadata": {
    "ExecuteTime": {
     "end_time": "2021-11-18T04:52:45.606540Z",
     "start_time": "2021-11-18T04:52:42.312Z"
    }
   },
   "outputs": [],
   "source": [
    "# Create users dict to collect data\n",
    "users_dict = {'id':[],\n",
    "              'name':[],\n",
    "              'location':[],\n",
    "              'createdAt':[],\n",
    "              'lifeSpentOnAnime':[],\n",
    "              'followersCount':[],\n",
    "              'followingCount':[],\n",
    "              'birthday':[],\n",
    "              'commentsCount':[],\n",
    "              'favoritesCount':[],\n",
    "              'likesGivenCount':[],\n",
    "              'reviewsCount':[],\n",
    "              'likesReceivedCount':[],\n",
    "              'postsCount':[],\n",
    "              'ratingsCount':[],\n",
    "              'likesReceivedCount':[],\n",
    "              'proTier':[],\n",
    "              'relationships':[]}"
   ]
  },
  {
   "cell_type": "markdown",
   "metadata": {},
   "source": [
    "## Iterate through pages of the Kitsu API to retrieve user data"
   ]
  },
  {
   "cell_type": "code",
   "execution_count": 6,
   "metadata": {
    "ExecuteTime": {
     "end_time": "2021-11-17T03:23:33.313623Z",
     "start_time": "2021-11-17T03:23:33.300593Z"
    },
    "scrolled": true
   },
   "outputs": [],
   "source": [
    "# Create list of keys to later iterate through \n",
    "data_extract = list(users_dict.keys())\n",
    "data_extract.remove('id')\n",
    "data_extract.remove('relationships')\n",
    "\n",
    "# Set up link to iterate through\n",
    "for page_num in tqdm(pages_to_query):\n",
    "# for page_num in [20]:\n",
    "    \n",
    "    # Set up link to retrieve response from\n",
    "    kitsu_link = f\"https://kitsu.io/api/edge/users?page%5Blimit%5D=20&page%5Boffset%5D={page_num}\"\n",
    "\n",
    "    # Retrieve response\n",
    "    response = req.get(kitsu_link)\n",
    "    data = response.json()\n",
    "\n",
    "    # Iterate through 'data' list in json API response\n",
    "    for user in data['data']:\n",
    "        \n",
    "        # Retrieve desired data points\n",
    "        attr = user['attributes']\n",
    "        user_id = user['id']\n",
    "        rel = user['relationships']\n",
    "        \n",
    "        users_dict['id'].append(user_id)\n",
    "        users_dict['relationships'].append(rel)\n",
    "        \n",
    "        # Iterate through users_dict keys for particular data points of interest\n",
    "        for key in data_extract:\n",
    "            users_dict[key].append(attr.get(key, np.nan))"
   ]
  },
  {
   "cell_type": "code",
   "execution_count": 99,
   "metadata": {
    "ExecuteTime": {
     "end_time": "2021-11-16T07:36:38.255971Z",
     "start_time": "2021-11-16T07:36:38.234414Z"
    }
   },
   "outputs": [],
   "source": [
    "# convert users_dict to a dataframe\n",
    "# animeUsers_df = pd.DataFrame(users_dict)\n",
    "\n",
    "# Save to csv\n",
    "# animeUsers_df.to_csv('animeUsers.csv',index=False)"
   ]
  },
  {
   "cell_type": "code",
   "execution_count": 2,
   "metadata": {
    "ExecuteTime": {
     "end_time": "2021-11-18T04:52:47.839956Z",
     "start_time": "2021-11-18T04:52:47.443094Z"
    }
   },
   "outputs": [],
   "source": [
    "animeUsers_df = pd.read_csv('animeUsers.csv')"
   ]
  },
  {
   "cell_type": "code",
   "execution_count": 3,
   "metadata": {
    "ExecuteTime": {
     "end_time": "2021-11-18T04:52:48.030413Z",
     "start_time": "2021-11-18T04:52:47.959157Z"
    },
    "scrolled": false
   },
   "outputs": [
    {
     "data": {
      "text/html": [
       "<div>\n",
       "<style scoped>\n",
       "    .dataframe tbody tr th:only-of-type {\n",
       "        vertical-align: middle;\n",
       "    }\n",
       "\n",
       "    .dataframe tbody tr th {\n",
       "        vertical-align: top;\n",
       "    }\n",
       "\n",
       "    .dataframe thead th {\n",
       "        text-align: right;\n",
       "    }\n",
       "</style>\n",
       "<table border=\"1\" class=\"dataframe\">\n",
       "  <thead>\n",
       "    <tr style=\"text-align: right;\">\n",
       "      <th></th>\n",
       "      <th>id</th>\n",
       "      <th>name</th>\n",
       "      <th>location</th>\n",
       "      <th>createdAt</th>\n",
       "      <th>lifeSpentOnAnime</th>\n",
       "      <th>followersCount</th>\n",
       "      <th>followingCount</th>\n",
       "      <th>birthday</th>\n",
       "      <th>commentsCount</th>\n",
       "      <th>favoritesCount</th>\n",
       "      <th>likesGivenCount</th>\n",
       "      <th>reviewsCount</th>\n",
       "      <th>likesReceivedCount</th>\n",
       "      <th>postsCount</th>\n",
       "      <th>ratingsCount</th>\n",
       "      <th>proTier</th>\n",
       "      <th>relationships</th>\n",
       "    </tr>\n",
       "  </thead>\n",
       "  <tbody>\n",
       "    <tr>\n",
       "      <th>0</th>\n",
       "      <td>717575</td>\n",
       "      <td>ybicona</td>\n",
       "      <td>Baltimore</td>\n",
       "      <td>2020-04-29T16:36:29.021Z</td>\n",
       "      <td>0</td>\n",
       "      <td>0</td>\n",
       "      <td>0</td>\n",
       "      <td>NaN</td>\n",
       "      <td>0</td>\n",
       "      <td>0</td>\n",
       "      <td>0</td>\n",
       "      <td>0</td>\n",
       "      <td>0</td>\n",
       "      <td>0</td>\n",
       "      <td>0</td>\n",
       "      <td>NaN</td>\n",
       "      <td>{'waifu': {'links': {'self': 'https://kitsu.io...</td>\n",
       "    </tr>\n",
       "    <tr>\n",
       "      <th>1</th>\n",
       "      <td>717576</td>\n",
       "      <td>skgsudhirkumar</td>\n",
       "      <td>NaN</td>\n",
       "      <td>2020-04-29T16:36:35.763Z</td>\n",
       "      <td>0</td>\n",
       "      <td>0</td>\n",
       "      <td>0</td>\n",
       "      <td>NaN</td>\n",
       "      <td>0</td>\n",
       "      <td>0</td>\n",
       "      <td>0</td>\n",
       "      <td>0</td>\n",
       "      <td>0</td>\n",
       "      <td>0</td>\n",
       "      <td>0</td>\n",
       "      <td>NaN</td>\n",
       "      <td>{'waifu': {'links': {'self': 'https://kitsu.io...</td>\n",
       "    </tr>\n",
       "    <tr>\n",
       "      <th>2</th>\n",
       "      <td>717577</td>\n",
       "      <td>βαγγέλης_μαχαίρας</td>\n",
       "      <td>NaN</td>\n",
       "      <td>2020-04-29T16:37:05.758Z</td>\n",
       "      <td>0</td>\n",
       "      <td>0</td>\n",
       "      <td>0</td>\n",
       "      <td>NaN</td>\n",
       "      <td>0</td>\n",
       "      <td>0</td>\n",
       "      <td>0</td>\n",
       "      <td>0</td>\n",
       "      <td>0</td>\n",
       "      <td>0</td>\n",
       "      <td>12</td>\n",
       "      <td>NaN</td>\n",
       "      <td>{'waifu': {'links': {'self': 'https://kitsu.io...</td>\n",
       "    </tr>\n",
       "    <tr>\n",
       "      <th>3</th>\n",
       "      <td>717578</td>\n",
       "      <td>Mame</td>\n",
       "      <td>NaN</td>\n",
       "      <td>2020-04-29T16:37:44.164Z</td>\n",
       "      <td>0</td>\n",
       "      <td>0</td>\n",
       "      <td>0</td>\n",
       "      <td>NaN</td>\n",
       "      <td>0</td>\n",
       "      <td>0</td>\n",
       "      <td>0</td>\n",
       "      <td>0</td>\n",
       "      <td>0</td>\n",
       "      <td>0</td>\n",
       "      <td>5</td>\n",
       "      <td>NaN</td>\n",
       "      <td>{'waifu': {'links': {'self': 'https://kitsu.io...</td>\n",
       "    </tr>\n",
       "    <tr>\n",
       "      <th>4</th>\n",
       "      <td>717579</td>\n",
       "      <td>ryan_maulana</td>\n",
       "      <td>NaN</td>\n",
       "      <td>2020-04-29T16:38:07.323Z</td>\n",
       "      <td>0</td>\n",
       "      <td>0</td>\n",
       "      <td>0</td>\n",
       "      <td>NaN</td>\n",
       "      <td>0</td>\n",
       "      <td>0</td>\n",
       "      <td>0</td>\n",
       "      <td>0</td>\n",
       "      <td>0</td>\n",
       "      <td>0</td>\n",
       "      <td>0</td>\n",
       "      <td>NaN</td>\n",
       "      <td>{'waifu': {'links': {'self': 'https://kitsu.io...</td>\n",
       "    </tr>\n",
       "  </tbody>\n",
       "</table>\n",
       "</div>"
      ],
      "text/plain": [
       "       id               name   location                 createdAt  \\\n",
       "0  717575            ybicona  Baltimore  2020-04-29T16:36:29.021Z   \n",
       "1  717576     skgsudhirkumar        NaN  2020-04-29T16:36:35.763Z   \n",
       "2  717577  βαγγέλης_μαχαίρας        NaN  2020-04-29T16:37:05.758Z   \n",
       "3  717578               Mame        NaN  2020-04-29T16:37:44.164Z   \n",
       "4  717579       ryan_maulana        NaN  2020-04-29T16:38:07.323Z   \n",
       "\n",
       "   lifeSpentOnAnime  followersCount  followingCount birthday  commentsCount  \\\n",
       "0                 0               0               0      NaN              0   \n",
       "1                 0               0               0      NaN              0   \n",
       "2                 0               0               0      NaN              0   \n",
       "3                 0               0               0      NaN              0   \n",
       "4                 0               0               0      NaN              0   \n",
       "\n",
       "   favoritesCount  likesGivenCount  reviewsCount  likesReceivedCount  \\\n",
       "0               0                0             0                   0   \n",
       "1               0                0             0                   0   \n",
       "2               0                0             0                   0   \n",
       "3               0                0             0                   0   \n",
       "4               0                0             0                   0   \n",
       "\n",
       "   postsCount  ratingsCount proTier  \\\n",
       "0           0             0     NaN   \n",
       "1           0             0     NaN   \n",
       "2           0            12     NaN   \n",
       "3           0             5     NaN   \n",
       "4           0             0     NaN   \n",
       "\n",
       "                                       relationships  \n",
       "0  {'waifu': {'links': {'self': 'https://kitsu.io...  \n",
       "1  {'waifu': {'links': {'self': 'https://kitsu.io...  \n",
       "2  {'waifu': {'links': {'self': 'https://kitsu.io...  \n",
       "3  {'waifu': {'links': {'self': 'https://kitsu.io...  \n",
       "4  {'waifu': {'links': {'self': 'https://kitsu.io...  "
      ]
     },
     "execution_count": 3,
     "metadata": {},
     "output_type": "execute_result"
    }
   ],
   "source": [
    "# Peek at data\n",
    "animeUsers_df.head()"
   ]
  },
  {
   "cell_type": "markdown",
   "metadata": {},
   "source": [
    "From the .head() preview from the cell above, we can tell already that there are some users that are not very active given the 0 values for **lifeSpentOnAnime**, **followersCount**, **followingCount** etc.\n",
    "\n",
    "In this case, let's sort our dataframe by **favoritesCount**  (as an arbitrary indicator for user activity). From the resulting list, we may take a certain sample active users as a sample to test our implicit recommender model."
   ]
  },
  {
   "cell_type": "code",
   "execution_count": 4,
   "metadata": {
    "ExecuteTime": {
     "end_time": "2021-11-18T04:52:49.406864Z",
     "start_time": "2021-11-18T04:52:49.352783Z"
    }
   },
   "outputs": [
    {
     "data": {
      "text/html": [
       "<div>\n",
       "<style scoped>\n",
       "    .dataframe tbody tr th:only-of-type {\n",
       "        vertical-align: middle;\n",
       "    }\n",
       "\n",
       "    .dataframe tbody tr th {\n",
       "        vertical-align: top;\n",
       "    }\n",
       "\n",
       "    .dataframe thead th {\n",
       "        text-align: right;\n",
       "    }\n",
       "</style>\n",
       "<table border=\"1\" class=\"dataframe\">\n",
       "  <thead>\n",
       "    <tr style=\"text-align: right;\">\n",
       "      <th></th>\n",
       "      <th>id</th>\n",
       "      <th>name</th>\n",
       "      <th>location</th>\n",
       "      <th>createdAt</th>\n",
       "      <th>lifeSpentOnAnime</th>\n",
       "      <th>followersCount</th>\n",
       "      <th>followingCount</th>\n",
       "      <th>birthday</th>\n",
       "      <th>commentsCount</th>\n",
       "      <th>favoritesCount</th>\n",
       "      <th>likesGivenCount</th>\n",
       "      <th>reviewsCount</th>\n",
       "      <th>likesReceivedCount</th>\n",
       "      <th>postsCount</th>\n",
       "      <th>ratingsCount</th>\n",
       "      <th>proTier</th>\n",
       "      <th>relationships</th>\n",
       "    </tr>\n",
       "  </thead>\n",
       "  <tbody>\n",
       "    <tr>\n",
       "      <th>979</th>\n",
       "      <td>85539</td>\n",
       "      <td>maria12021</td>\n",
       "      <td>Norway</td>\n",
       "      <td>2015-04-06T00:55:29.333Z</td>\n",
       "      <td>74217</td>\n",
       "      <td>4</td>\n",
       "      <td>2</td>\n",
       "      <td>2001-04-18</td>\n",
       "      <td>0</td>\n",
       "      <td>209</td>\n",
       "      <td>0</td>\n",
       "      <td>0</td>\n",
       "      <td>0</td>\n",
       "      <td>0</td>\n",
       "      <td>605</td>\n",
       "      <td>NaN</td>\n",
       "      <td>{'waifu': {'links': {'self': 'https://kitsu.io...</td>\n",
       "    </tr>\n",
       "    <tr>\n",
       "      <th>2754</th>\n",
       "      <td>143115</td>\n",
       "      <td>Liv_Martin_Strong</td>\n",
       "      <td>UK</td>\n",
       "      <td>2017-01-16T01:03:19.919Z</td>\n",
       "      <td>0</td>\n",
       "      <td>36</td>\n",
       "      <td>28</td>\n",
       "      <td>1991-08-14</td>\n",
       "      <td>44</td>\n",
       "      <td>139</td>\n",
       "      <td>26</td>\n",
       "      <td>27</td>\n",
       "      <td>30</td>\n",
       "      <td>33</td>\n",
       "      <td>280</td>\n",
       "      <td>NaN</td>\n",
       "      <td>{'waifu': {'links': {'self': 'https://kitsu.io...</td>\n",
       "    </tr>\n",
       "    <tr>\n",
       "      <th>3747</th>\n",
       "      <td>121938</td>\n",
       "      <td>70a573r</td>\n",
       "      <td>The Government</td>\n",
       "      <td>2016-03-20T23:46:32.451Z</td>\n",
       "      <td>20854</td>\n",
       "      <td>6</td>\n",
       "      <td>2</td>\n",
       "      <td>2001-09-11</td>\n",
       "      <td>2</td>\n",
       "      <td>86</td>\n",
       "      <td>4</td>\n",
       "      <td>1</td>\n",
       "      <td>7</td>\n",
       "      <td>3</td>\n",
       "      <td>5</td>\n",
       "      <td>NaN</td>\n",
       "      <td>{'waifu': {'links': {'self': 'https://kitsu.io...</td>\n",
       "    </tr>\n",
       "    <tr>\n",
       "      <th>3971</th>\n",
       "      <td>70211</td>\n",
       "      <td>LadyGira</td>\n",
       "      <td>Pirate Ship</td>\n",
       "      <td>2014-12-09T04:44:12.856Z</td>\n",
       "      <td>451853</td>\n",
       "      <td>5</td>\n",
       "      <td>10</td>\n",
       "      <td>NaN</td>\n",
       "      <td>0</td>\n",
       "      <td>82</td>\n",
       "      <td>10</td>\n",
       "      <td>0</td>\n",
       "      <td>1</td>\n",
       "      <td>0</td>\n",
       "      <td>1040</td>\n",
       "      <td>NaN</td>\n",
       "      <td>{'waifu': {'links': {'self': 'https://kitsu.io...</td>\n",
       "    </tr>\n",
       "    <tr>\n",
       "      <th>2523</th>\n",
       "      <td>86869</td>\n",
       "      <td>nick_gooeygrass</td>\n",
       "      <td>NaN</td>\n",
       "      <td>2015-04-15T23:18:46.962Z</td>\n",
       "      <td>73828</td>\n",
       "      <td>1</td>\n",
       "      <td>1</td>\n",
       "      <td>NaN</td>\n",
       "      <td>0</td>\n",
       "      <td>55</td>\n",
       "      <td>0</td>\n",
       "      <td>0</td>\n",
       "      <td>0</td>\n",
       "      <td>0</td>\n",
       "      <td>96</td>\n",
       "      <td>NaN</td>\n",
       "      <td>{'waifu': {'links': {'self': 'https://kitsu.io...</td>\n",
       "    </tr>\n",
       "    <tr>\n",
       "      <th>2149</th>\n",
       "      <td>78730</td>\n",
       "      <td>Iago</td>\n",
       "      <td>South</td>\n",
       "      <td>2015-02-07T13:48:55.698Z</td>\n",
       "      <td>137029</td>\n",
       "      <td>69</td>\n",
       "      <td>61</td>\n",
       "      <td>NaN</td>\n",
       "      <td>6</td>\n",
       "      <td>51</td>\n",
       "      <td>986</td>\n",
       "      <td>0</td>\n",
       "      <td>-9</td>\n",
       "      <td>3</td>\n",
       "      <td>655</td>\n",
       "      <td>NaN</td>\n",
       "      <td>{'waifu': {'links': {'self': 'https://kitsu.io...</td>\n",
       "    </tr>\n",
       "    <tr>\n",
       "      <th>2487</th>\n",
       "      <td>561112</td>\n",
       "      <td>kevintombs20</td>\n",
       "      <td>NaN</td>\n",
       "      <td>2019-08-13T18:19:22.094Z</td>\n",
       "      <td>0</td>\n",
       "      <td>0</td>\n",
       "      <td>0</td>\n",
       "      <td>NaN</td>\n",
       "      <td>0</td>\n",
       "      <td>46</td>\n",
       "      <td>0</td>\n",
       "      <td>0</td>\n",
       "      <td>0</td>\n",
       "      <td>0</td>\n",
       "      <td>71</td>\n",
       "      <td>NaN</td>\n",
       "      <td>{'waifu': {'links': {'self': 'https://kitsu.io...</td>\n",
       "    </tr>\n",
       "    <tr>\n",
       "      <th>4833</th>\n",
       "      <td>100364</td>\n",
       "      <td>Wolfwood93</td>\n",
       "      <td>Colorado</td>\n",
       "      <td>2015-08-08T17:34:30.626Z</td>\n",
       "      <td>96306</td>\n",
       "      <td>15</td>\n",
       "      <td>6</td>\n",
       "      <td>1993-09-13</td>\n",
       "      <td>2</td>\n",
       "      <td>44</td>\n",
       "      <td>14</td>\n",
       "      <td>0</td>\n",
       "      <td>-2</td>\n",
       "      <td>-1</td>\n",
       "      <td>178</td>\n",
       "      <td>NaN</td>\n",
       "      <td>{'waifu': {'links': {'self': 'https://kitsu.io...</td>\n",
       "    </tr>\n",
       "    <tr>\n",
       "      <th>119</th>\n",
       "      <td>278590</td>\n",
       "      <td>BarretKun</td>\n",
       "      <td>São Bernardo do Campo, SP, Brazil</td>\n",
       "      <td>2018-05-29T16:05:06.030Z</td>\n",
       "      <td>0</td>\n",
       "      <td>1</td>\n",
       "      <td>1</td>\n",
       "      <td>1999-06-24</td>\n",
       "      <td>0</td>\n",
       "      <td>41</td>\n",
       "      <td>0</td>\n",
       "      <td>0</td>\n",
       "      <td>0</td>\n",
       "      <td>0</td>\n",
       "      <td>172</td>\n",
       "      <td>NaN</td>\n",
       "      <td>{'waifu': {'links': {'self': 'https://kitsu.io...</td>\n",
       "    </tr>\n",
       "    <tr>\n",
       "      <th>1970</th>\n",
       "      <td>582074</td>\n",
       "      <td>Legorion</td>\n",
       "      <td>Latvia,Riga</td>\n",
       "      <td>2019-09-22T15:42:08.578Z</td>\n",
       "      <td>0</td>\n",
       "      <td>4</td>\n",
       "      <td>5</td>\n",
       "      <td>1986-09-22</td>\n",
       "      <td>1</td>\n",
       "      <td>39</td>\n",
       "      <td>3</td>\n",
       "      <td>0</td>\n",
       "      <td>0</td>\n",
       "      <td>0</td>\n",
       "      <td>37</td>\n",
       "      <td>NaN</td>\n",
       "      <td>{'waifu': {'links': {'self': 'https://kitsu.io...</td>\n",
       "    </tr>\n",
       "  </tbody>\n",
       "</table>\n",
       "</div>"
      ],
      "text/plain": [
       "          id               name                           location  \\\n",
       "979    85539         maria12021                             Norway   \n",
       "2754  143115  Liv_Martin_Strong                                 UK   \n",
       "3747  121938            70a573r                     The Government   \n",
       "3971   70211           LadyGira                        Pirate Ship   \n",
       "2523   86869    nick_gooeygrass                                NaN   \n",
       "2149   78730               Iago                              South   \n",
       "2487  561112       kevintombs20                                NaN   \n",
       "4833  100364         Wolfwood93                           Colorado   \n",
       "119   278590          BarretKun  São Bernardo do Campo, SP, Brazil   \n",
       "1970  582074           Legorion                        Latvia,Riga   \n",
       "\n",
       "                     createdAt  lifeSpentOnAnime  followersCount  \\\n",
       "979   2015-04-06T00:55:29.333Z             74217               4   \n",
       "2754  2017-01-16T01:03:19.919Z                 0              36   \n",
       "3747  2016-03-20T23:46:32.451Z             20854               6   \n",
       "3971  2014-12-09T04:44:12.856Z            451853               5   \n",
       "2523  2015-04-15T23:18:46.962Z             73828               1   \n",
       "2149  2015-02-07T13:48:55.698Z            137029              69   \n",
       "2487  2019-08-13T18:19:22.094Z                 0               0   \n",
       "4833  2015-08-08T17:34:30.626Z             96306              15   \n",
       "119   2018-05-29T16:05:06.030Z                 0               1   \n",
       "1970  2019-09-22T15:42:08.578Z                 0               4   \n",
       "\n",
       "      followingCount    birthday  commentsCount  favoritesCount  \\\n",
       "979                2  2001-04-18              0             209   \n",
       "2754              28  1991-08-14             44             139   \n",
       "3747               2  2001-09-11              2              86   \n",
       "3971              10         NaN              0              82   \n",
       "2523               1         NaN              0              55   \n",
       "2149              61         NaN              6              51   \n",
       "2487               0         NaN              0              46   \n",
       "4833               6  1993-09-13              2              44   \n",
       "119                1  1999-06-24              0              41   \n",
       "1970               5  1986-09-22              1              39   \n",
       "\n",
       "      likesGivenCount  reviewsCount  likesReceivedCount  postsCount  \\\n",
       "979                 0             0                   0           0   \n",
       "2754               26            27                  30          33   \n",
       "3747                4             1                   7           3   \n",
       "3971               10             0                   1           0   \n",
       "2523                0             0                   0           0   \n",
       "2149              986             0                  -9           3   \n",
       "2487                0             0                   0           0   \n",
       "4833               14             0                  -2          -1   \n",
       "119                 0             0                   0           0   \n",
       "1970                3             0                   0           0   \n",
       "\n",
       "      ratingsCount proTier                                      relationships  \n",
       "979            605     NaN  {'waifu': {'links': {'self': 'https://kitsu.io...  \n",
       "2754           280     NaN  {'waifu': {'links': {'self': 'https://kitsu.io...  \n",
       "3747             5     NaN  {'waifu': {'links': {'self': 'https://kitsu.io...  \n",
       "3971          1040     NaN  {'waifu': {'links': {'self': 'https://kitsu.io...  \n",
       "2523            96     NaN  {'waifu': {'links': {'self': 'https://kitsu.io...  \n",
       "2149           655     NaN  {'waifu': {'links': {'self': 'https://kitsu.io...  \n",
       "2487            71     NaN  {'waifu': {'links': {'self': 'https://kitsu.io...  \n",
       "4833           178     NaN  {'waifu': {'links': {'self': 'https://kitsu.io...  \n",
       "119            172     NaN  {'waifu': {'links': {'self': 'https://kitsu.io...  \n",
       "1970            37     NaN  {'waifu': {'links': {'self': 'https://kitsu.io...  "
      ]
     },
     "execution_count": 4,
     "metadata": {},
     "output_type": "execute_result"
    }
   ],
   "source": [
    "animeUsers_df.sort_values('favoritesCount',ascending=False).head(10)"
   ]
  },
  {
   "cell_type": "markdown",
   "metadata": {},
   "source": [
    "In order to get a better idea of the type interactions most done, we will plot a bar graph of the counts per interaction type.\n",
    "\n",
    "Interaction types include:\n",
    "- Comments\n",
    "- Favorites\n",
    "- Likes Given\n",
    "- Reviews Given\n",
    "- Posts Given\n",
    "- Ratings Given"
   ]
  },
  {
   "cell_type": "code",
   "execution_count": 5,
   "metadata": {
    "ExecuteTime": {
     "end_time": "2021-11-18T04:52:52.905326Z",
     "start_time": "2021-11-18T04:52:51.261627Z"
    },
    "scrolled": false
   },
   "outputs": [
    {
     "name": "stdout",
     "output_type": "stream",
     "text": [
      "commentsCount        2178\n",
      "favoritesCount       4178\n",
      "likesGivenCount      5689\n",
      "reviewsCount          100\n",
      "postsCount            920\n",
      "ratingsCount       135568\n",
      "dtype: int64\n",
      "\n"
     ]
    },
    {
     "data": {
      "image/png": "[encoded data removed]",
      "text/plain": [
       "<Figure size 432x288 with 1 Axes>"
      ]
     },
     "metadata": {
      "needs_background": "light"
     },
     "output_type": "display_data"
    }
   ],
   "source": [
    "# Examine distribution of interaction types among users\n",
    "interaction_list = ['commentsCount',\n",
    "                    'favoritesCount', \n",
    "                    'likesGivenCount', \n",
    "                    'reviewsCount',\n",
    "                    'postsCount', \n",
    "                    'ratingsCount']\n",
    "\n",
    "print(animeUsers_df[interaction_list].sum())\n",
    "print()\n",
    "\n",
    "pd.DataFrame(animeUsers_df[interaction_list].sum()).plot(kind='bar');"
   ]
  },
  {
   "cell_type": "markdown",
   "metadata": {},
   "source": [
    "It appears providing ratings is the most common type of interaction users have with anime. However, since this project is aimed to look beyond a recommendation model based on the explicit ratings users provide for anime, we will dive a bit deeper into different interaction types. This will require us to be more creative with what API endpoints we wish to call, and what data points to collect from those resulting responses."
   ]
  },
  {
   "cell_type": "markdown",
   "metadata": {},
   "source": [
    "In the cell below, let's create a helper function we'll more commonly use to get the JSON response of an API call."
   ]
  },
  {
   "cell_type": "code",
   "execution_count": 6,
   "metadata": {
    "ExecuteTime": {
     "end_time": "2021-11-18T04:52:53.067022Z",
     "start_time": "2021-11-18T04:52:53.042734Z"
    }
   },
   "outputs": [],
   "source": [
    "def get_kitsu_response(link):\n",
    "    \"\"\"\n",
    "    Returns a pretty printed response from JSON object\n",
    "    \n",
    "    Parameters\n",
    "    ----------\n",
    "    link : str\n",
    "        The URL to query from Kitsu API\n",
    "\n",
    "    Returns\n",
    "    -------\n",
    "    pretty printed view of json response\n",
    "    \n",
    "    \"\"\"\n",
    "    kitsu_response = req.get(link)\n",
    "    kitsu_data = kitsu_response.json()\n",
    "    return kitsu_data"
   ]
  },
  {
   "cell_type": "code",
   "execution_count": 7,
   "metadata": {
    "ExecuteTime": {
     "end_time": "2021-11-18T04:52:53.601746Z",
     "start_time": "2021-11-18T04:52:53.578077Z"
    }
   },
   "outputs": [],
   "source": [
    "# Peek at few examples of relationships column\n",
    "jt = ast.literal_eval(animeUsers_df['relationships'][1])\n",
    "jt2 = ast.literal_eval(animeUsers_df['relationships'][4])"
   ]
  },
  {
   "cell_type": "code",
   "execution_count": 8,
   "metadata": {
    "ExecuteTime": {
     "end_time": "2021-11-18T04:52:54.807470Z",
     "start_time": "2021-11-18T04:52:54.161589Z"
    }
   },
   "outputs": [
    {
     "data": {
      "text/plain": [
       "{'data': [],\n",
       " 'meta': {'count': 0},\n",
       " 'links': {'first': 'https://kitsu.io/api/edge/users/717576/favorites?page%5Blimit%5D=10&page%5Boffset%5D=0',\n",
       "  'last': 'https://kitsu.io/api/edge/users/717576/favorites?page%5Blimit%5D=10&page%5Boffset%5D=0'}}"
      ]
     },
     "execution_count": 8,
     "metadata": {},
     "output_type": "execute_result"
    }
   ],
   "source": [
    "# Check kitsu response test # 1\n",
    "get_kitsu_response( jt['favorites']['links']['related'] )"
   ]
  },
  {
   "cell_type": "code",
   "execution_count": 9,
   "metadata": {
    "ExecuteTime": {
     "end_time": "2021-11-18T04:52:55.089300Z",
     "start_time": "2021-11-18T04:52:54.944185Z"
    }
   },
   "outputs": [
    {
     "data": {
      "text/plain": [
       "{'data': [],\n",
       " 'meta': {'count': 0},\n",
       " 'links': {'first': 'https://kitsu.io/api/edge/users/717579/favorites?page%5Blimit%5D=10&page%5Boffset%5D=0',\n",
       "  'last': 'https://kitsu.io/api/edge/users/717579/favorites?page%5Blimit%5D=10&page%5Boffset%5D=0'}}"
      ]
     },
     "execution_count": 9,
     "metadata": {},
     "output_type": "execute_result"
    }
   ],
   "source": [
    "# Check kitsu response test # 2\n",
    "get_kitsu_response( jt2['favorites']['links']['related'] )"
   ]
  },
  {
   "cell_type": "markdown",
   "metadata": {},
   "source": [
    "Through sifting through the [Kitsu API Docs](https://kitsu.docs.apiary.io/), a couple of feasible / easy-to-retrieve interaction data types include a users\n",
    "- Favorites\n",
    "- Library Entries\n",
    "\n",
    "**Favorites** are a bit more self-explanatory, where if a user simply enjoys / enjoyed or wants to actively save an anime for their record, the common interaction is to *favorite* that anime.\n",
    "\n",
    "**Library Entries** is an interesting API endpoint to look at as it gives us data on the viewing history, and to what extent a user has watched an anime. Within the JSON response, for example we are able to retrieve data on the following\n",
    "- Start watch time\n",
    "- Finish end time\n",
    "- Time spent watching an anime\n",
    "- Watch status of an anime\n",
    "     - Completed\n",
    "     - Current (In progress)\n",
    "     - Dropped\n",
    "     - On hold\n",
    "     - Planned\n",
    "\n",
    "Below we will create functions to uniquely extract the data points of interest from the *favorites* and *library entries* endpoints so that we can format the results into a pandas dataframe for downstream analysis."
   ]
  },
  {
   "cell_type": "markdown",
   "metadata": {},
   "source": [
    "## Retrieve Favorite Anime per User"
   ]
  },
  {
   "cell_type": "code",
   "execution_count": 10,
   "metadata": {
    "ExecuteTime": {
     "end_time": "2021-11-18T04:52:56.052839Z",
     "start_time": "2021-11-18T04:52:56.023224Z"
    }
   },
   "outputs": [],
   "source": [
    "def get_user_favorites(user_id):\n",
    "    \"\"\"\n",
    "    Returns a list of a user's favorite anime\n",
    "    \n",
    "    Parameters\n",
    "    ----------\n",
    "    user_id : int\n",
    "        user_id\n",
    "    Returns\n",
    "    -------\n",
    "    Dictionary of the user's favorited anime\n",
    "    \n",
    "    \"\"\"\n",
    "    print(f'Retrieving favorites data for user {user_id}')\n",
    "    kitsu_link = f'https://kitsu.io/api/edge/favorites/?filter[userId]={user_id}&[itemType]=Media'\n",
    "    kitsu_response = req.get(kitsu_link)\n",
    "    kitsu_data = kitsu_response.json()\n",
    "\n",
    "    # Store favorites dictionary\n",
    "    fav_dict = {\n",
    "        'user_id': None,\n",
    "        'anime_id': [],\n",
    "        'canonicalTitle': [],\n",
    "        'synopsis': [],\n",
    "        'description': []\n",
    "    }\n",
    "\n",
    "    # Check for number of favorites -- if more than 10; paginate through all favorites else retrieve favorites on page\n",
    "    favorites_count = kitsu_data['meta']['count']\n",
    "\n",
    "    pages = math.floor((favorites_count / 10) + 1)\n",
    "    page_nums = []\n",
    "    count = 0\n",
    "    # Create list of pages to paginate through\n",
    "    for num in range(pages):\n",
    "        page_nums.append(num * 10)\n",
    "\n",
    "    # Retrieve data from each page\n",
    "    for page in tqdm(page_nums):\n",
    "        link = f'https://kitsu.io/api/edge/favorites?filter%5BuserId%5D={user_id}&page%5Blimit%5D=10&page%5Boffset%5D={page}'\n",
    "        fav_page = get_kitsu_response(link)\n",
    "        for fav in fav_page['data']:\n",
    "\n",
    "            # Get link to retrieve anime data\n",
    "            item = fav['relationships']['item']['links']['related']\n",
    "            anime_response = get_kitsu_response(item)\n",
    "\n",
    "            # Check that the user's marked favorite is an anime\n",
    "            if anime_response['data']['type'] == 'anime':\n",
    "\n",
    "                title = anime_response['data']['attributes'].get(\n",
    "                    'canonicalTitle', np.nan)\n",
    "                anime_id = anime_response['data'].get('id', np.nan)\n",
    "                synopsis = anime_response['data']['attributes'].get(\n",
    "                    'synopsis', np.nan)\n",
    "                desc = anime_response['data']['attributes'].get(\n",
    "                    'description', np.nan)\n",
    "\n",
    "                fav_dict['anime_id'].append(anime_id)\n",
    "                fav_dict['canonicalTitle'].append(title)\n",
    "                fav_dict['synopsis'].append(synopsis)\n",
    "                fav_dict['description'].append(desc)\n",
    "                count += 1\n",
    "\n",
    "            # If the marked favorite is not an anime --> skip\n",
    "            else:\n",
    "                continue\n",
    "\n",
    "    # Create a list of the users_id to map every item to the user\n",
    "    user_id_list = [user_id] * count\n",
    "    fav_dict['user_id'] = user_id_list\n",
    "\n",
    "    return fav_dict"
   ]
  },
  {
   "cell_type": "markdown",
   "metadata": {
    "ExecuteTime": {
     "end_time": "2021-10-15T06:20:34.775769Z",
     "start_time": "2021-10-15T06:20:34.754299Z"
    }
   },
   "source": [
    "## Retrieve Library Entries per User"
   ]
  },
  {
   "cell_type": "code",
   "execution_count": 11,
   "metadata": {
    "ExecuteTime": {
     "end_time": "2021-11-18T04:52:56.924538Z",
     "start_time": "2021-11-18T04:52:56.882924Z"
    }
   },
   "outputs": [],
   "source": [
    "def get_user_library_entries(user_id):\n",
    "    \"\"\"\n",
    "    Returns a list of a user's library entries. \n",
    "    The output of this function will detail anime the user has watched, planned to watch, or stopped watching.\n",
    "    \n",
    "    Parameters\n",
    "    ----------\n",
    "    user_id : int\n",
    "        user_id\n",
    "    Returns\n",
    "    -------\n",
    "    Dictionary of the anime a user has interacted with.\n",
    "    \n",
    "    \"\"\"\n",
    "    print(f'Retrieving library entry data for user {user_id}')\n",
    "    kitsu_link = f'https://kitsu.io/api/edge/library-entries/?filter[userId]={user_id}&[kind]=anime'\n",
    "    kitsu_response = req.get(kitsu_link)\n",
    "    kitsu_data = kitsu_response.json()\n",
    "\n",
    "    # Store favorites dictionary\n",
    "    lib_entry_dict = {\n",
    "        'user_id': None,\n",
    "        'anime_id': [],\n",
    "        'status': [],\n",
    "        'progress': [],\n",
    "        'progressedAt': [],\n",
    "        'startedAt': [],\n",
    "        'finishedAt': [],\n",
    "        'canonicalTitle': [],\n",
    "        'synopsis': [],\n",
    "        'description': []\n",
    "    }\n",
    "\n",
    "    # Check for number of favorites -- if more than 10; paginate through all favorites else retrieve favorites on page\n",
    "    entries_count = kitsu_data['meta']['count']\n",
    "\n",
    "    pages = math.floor((entries_count / 10) + 1)\n",
    "    page_nums = []\n",
    "    count = 0\n",
    "    # Create list of pages to paginate through\n",
    "    for num in range(pages):\n",
    "        page_nums.append(num * 10)\n",
    "\n",
    "    # Retrieve data from each page\n",
    "    for page in tqdm(page_nums[:5]):\n",
    "        link = f'https://kitsu.io/api/edge/library-entries?filter%5BuserId%5D={user_id}&page%5Blimit%5D=10&page%5Boffset%5D={page}'\n",
    "        le_page = get_kitsu_response(link)\n",
    "        for le in le_page['data']:\n",
    "\n",
    "            # Retrieve watch status data\n",
    "            attr = le['attributes']\n",
    "            status = attr['status']\n",
    "            progress = attr['progress']\n",
    "            progressedAt = attr['progressedAt']\n",
    "            startedAt = attr['startedAt']\n",
    "            finishedAt = attr['finishedAt']\n",
    "\n",
    "            # Get link to retrieve anime data\n",
    "            item = le['relationships']['anime']['links']['related']\n",
    "            anime_response = get_kitsu_response(item)\n",
    "            try:\n",
    "                title = anime_response['data']['attributes'].get(\n",
    "                    'canonicalTitle', np.nan)\n",
    "                anime_id = anime_response['data'].get('id', np.nan)\n",
    "                synopsis = anime_response['data']['attributes'].get(\n",
    "                    'synopsis', np.nan)\n",
    "                desc = anime_response['data']['attributes'].get(\n",
    "                    'description', np.nan)\n",
    "\n",
    "                lib_entry_dict['status'].append(status)\n",
    "                lib_entry_dict['progress'].append(progress)\n",
    "                lib_entry_dict['progressedAt'].append(progressedAt)\n",
    "                lib_entry_dict['startedAt'].append(progressedAt)\n",
    "                lib_entry_dict['finishedAt'].append(finishedAt)\n",
    "                lib_entry_dict['anime_id'].append(anime_id)\n",
    "                lib_entry_dict['canonicalTitle'].append(title)\n",
    "                lib_entry_dict['synopsis'].append(synopsis)\n",
    "                lib_entry_dict['description'].append(desc)\n",
    "                count += 1\n",
    "            except TypeError:\n",
    "                continue\n",
    "\n",
    "    # Create a list of the users_id to map every item to the user\n",
    "    user_id_list = [user_id] * count\n",
    "    lib_entry_dict['user_id'] = user_id_list\n",
    "\n",
    "    return lib_entry_dict"
   ]
  },
  {
   "cell_type": "markdown",
   "metadata": {},
   "source": [
    "# Run retrieval functions for a sample of users\n",
    "This sample of users were selected based on those with the highest activity (aka high favorites count). We will keep the number of users to a minimum to limit the amount of API calls, to prevent our requests from being timed out."
   ]
  },
  {
   "cell_type": "code",
   "execution_count": 12,
   "metadata": {
    "ExecuteTime": {
     "end_time": "2021-11-18T04:52:58.173123Z",
     "start_time": "2021-11-18T04:52:58.161461Z"
    }
   },
   "outputs": [],
   "source": [
    "# Select random list of users to retrive their interaction data\n",
    "user_sample_list = [85539, 143115, 121938, 70211, 86869]"
   ]
  },
  {
   "cell_type": "code",
   "execution_count": 13,
   "metadata": {
    "ExecuteTime": {
     "end_time": "2021-11-18T04:54:42.136717Z",
     "start_time": "2021-11-18T04:52:58.394411Z"
    },
    "scrolled": false
   },
   "outputs": [
    {
     "name": "stdout",
     "output_type": "stream",
     "text": [
      "Retrieving favorites data for user 85539\n"
     ]
    },
    {
     "name": "stderr",
     "output_type": "stream",
     "text": [
      "100%|██████████| 21/21 [00:30<00:00,  1.43s/it]\n",
      "  0%|          | 0/14 [00:00<?, ?it/s]"
     ]
    },
    {
     "name": "stdout",
     "output_type": "stream",
     "text": [
      "Retrieving favorites data for user 143115\n"
     ]
    },
    {
     "name": "stderr",
     "output_type": "stream",
     "text": [
      "100%|██████████| 14/14 [00:19<00:00,  1.39s/it]\n",
      "  0%|          | 0/9 [00:00<?, ?it/s]"
     ]
    },
    {
     "name": "stdout",
     "output_type": "stream",
     "text": [
      "Retrieving favorites data for user 121938\n"
     ]
    },
    {
     "name": "stderr",
     "output_type": "stream",
     "text": [
      "100%|██████████| 9/9 [00:33<00:00,  3.72s/it]\n",
      "  0%|          | 0/9 [00:00<?, ?it/s]"
     ]
    },
    {
     "name": "stdout",
     "output_type": "stream",
     "text": [
      "Retrieving favorites data for user 70211\n"
     ]
    },
    {
     "name": "stderr",
     "output_type": "stream",
     "text": [
      "100%|██████████| 9/9 [00:11<00:00,  1.32s/it]\n",
      "  0%|          | 0/6 [00:00<?, ?it/s]"
     ]
    },
    {
     "name": "stdout",
     "output_type": "stream",
     "text": [
      "Retrieving favorites data for user 86869\n"
     ]
    },
    {
     "name": "stderr",
     "output_type": "stream",
     "text": [
      "100%|██████████| 6/6 [00:07<00:00,  1.31s/it]\n"
     ]
    }
   ],
   "source": [
    "# Retrieve sample of favorites data per user\n",
    "users_favs_df = pd.DataFrame()\n",
    "\n",
    "# Per user get their favorites anime and format into a pandas dataframe\n",
    "for user in user_sample_list:\n",
    "    df = pd.DataFrame(get_user_favorites(user))\n",
    "    users_favs_df = users_favs_df.append(df)"
   ]
  },
  {
   "cell_type": "code",
   "execution_count": 14,
   "metadata": {
    "ExecuteTime": {
     "end_time": "2021-11-18T04:54:42.401270Z",
     "start_time": "2021-11-18T04:54:42.344863Z"
    }
   },
   "outputs": [],
   "source": [
    "# Save anime favorites data per user\n",
    "users_favs_df.to_csv('animeFavorites_data.csv',index=False)\n",
    "\n",
    "# users_favs_df = pd.read_csv('animeFavorites_data.csv')"
   ]
  },
  {
   "cell_type": "code",
   "execution_count": 15,
   "metadata": {
    "ExecuteTime": {
     "end_time": "2021-11-18T04:55:20.936935Z",
     "start_time": "2021-11-18T04:54:42.630851Z"
    }
   },
   "outputs": [
    {
     "name": "stdout",
     "output_type": "stream",
     "text": [
      "Retrieving library entry data for user 85539\n"
     ]
    },
    {
     "name": "stderr",
     "output_type": "stream",
     "text": [
      "100%|██████████| 5/5 [00:07<00:00,  1.47s/it]\n"
     ]
    },
    {
     "name": "stdout",
     "output_type": "stream",
     "text": [
      "Retrieving library entry data for user 143115\n"
     ]
    },
    {
     "name": "stderr",
     "output_type": "stream",
     "text": [
      "100%|██████████| 5/5 [00:07<00:00,  1.47s/it]\n"
     ]
    },
    {
     "name": "stdout",
     "output_type": "stream",
     "text": [
      "Retrieving library entry data for user 121938\n"
     ]
    },
    {
     "name": "stderr",
     "output_type": "stream",
     "text": [
      "100%|██████████| 5/5 [00:07<00:00,  1.51s/it]\n"
     ]
    },
    {
     "name": "stdout",
     "output_type": "stream",
     "text": [
      "Retrieving library entry data for user 70211\n"
     ]
    },
    {
     "name": "stderr",
     "output_type": "stream",
     "text": [
      "100%|██████████| 5/5 [00:07<00:00,  1.45s/it]\n",
      "  0%|          | 0/5 [00:00<?, ?it/s]"
     ]
    },
    {
     "name": "stdout",
     "output_type": "stream",
     "text": [
      "Retrieving library entry data for user 86869\n"
     ]
    },
    {
     "name": "stderr",
     "output_type": "stream",
     "text": [
      "100%|██████████| 5/5 [00:07<00:00,  1.41s/it]\n"
     ]
    }
   ],
   "source": [
    "# Retrieve sample of library entries data per user\n",
    "users_le_df = pd.DataFrame()\n",
    "\n",
    "# Per user get their library entries per anime and format into a pandas dataframe\n",
    "for user in user_sample_list:\n",
    "    df = pd.DataFrame(get_user_library_entries(user))\n",
    "    users_le_df = users_le_df.append(df)"
   ]
  },
  {
   "cell_type": "code",
   "execution_count": 16,
   "metadata": {
    "ExecuteTime": {
     "end_time": "2021-11-18T04:55:21.244442Z",
     "start_time": "2021-11-18T04:55:21.202534Z"
    }
   },
   "outputs": [],
   "source": [
    "# Save anime library entries data per user\n",
    "users_le_df.to_csv('animeWatchStatus_data.csv',index=False)\n",
    "\n",
    "# users_le_df = pd.read_csv('animeWatchStatus_data.csv')"
   ]
  },
  {
   "cell_type": "code",
   "execution_count": 17,
   "metadata": {
    "ExecuteTime": {
     "end_time": "2021-11-18T04:55:21.596362Z",
     "start_time": "2021-11-18T04:55:21.552291Z"
    }
   },
   "outputs": [
    {
     "data": {
      "text/html": [
       "<div>\n",
       "<style scoped>\n",
       "    .dataframe tbody tr th:only-of-type {\n",
       "        vertical-align: middle;\n",
       "    }\n",
       "\n",
       "    .dataframe tbody tr th {\n",
       "        vertical-align: top;\n",
       "    }\n",
       "\n",
       "    .dataframe thead th {\n",
       "        text-align: right;\n",
       "    }\n",
       "</style>\n",
       "<table border=\"1\" class=\"dataframe\">\n",
       "  <thead>\n",
       "    <tr style=\"text-align: right;\">\n",
       "      <th></th>\n",
       "      <th>user_id</th>\n",
       "      <th>anime_id</th>\n",
       "      <th>status</th>\n",
       "      <th>progress</th>\n",
       "      <th>progressedAt</th>\n",
       "      <th>startedAt</th>\n",
       "      <th>finishedAt</th>\n",
       "      <th>canonicalTitle</th>\n",
       "      <th>synopsis</th>\n",
       "      <th>description</th>\n",
       "    </tr>\n",
       "  </thead>\n",
       "  <tbody>\n",
       "    <tr>\n",
       "      <th>0</th>\n",
       "      <td>85539</td>\n",
       "      <td>176</td>\n",
       "      <td>completed</td>\n",
       "      <td>1</td>\n",
       "      <td>2016-04-05T21:53:57.987Z</td>\n",
       "      <td>2016-04-05T21:53:57.987Z</td>\n",
       "      <td>2016-04-05T00:00:00.000Z</td>\n",
       "      <td>Spirited Away</td>\n",
       "      <td>Stubborn, spoiled, and naïve, 10-year-old Chih...</td>\n",
       "      <td>Stubborn, spoiled, and naïve, 10-year-old Chih...</td>\n",
       "    </tr>\n",
       "    <tr>\n",
       "      <th>1</th>\n",
       "      <td>85539</td>\n",
       "      <td>6711</td>\n",
       "      <td>completed</td>\n",
       "      <td>1</td>\n",
       "      <td>2015-11-07T21:02:56.128Z</td>\n",
       "      <td>2015-11-07T21:02:56.128Z</td>\n",
       "      <td>2015-11-07T00:00:00.000Z</td>\n",
       "      <td>Wolf Children</td>\n",
       "      <td>Hana, a hard-working college student, falls in...</td>\n",
       "      <td>Hana, a hard-working college student, falls in...</td>\n",
       "    </tr>\n",
       "    <tr>\n",
       "      <th>2</th>\n",
       "      <td>85539</td>\n",
       "      <td>142</td>\n",
       "      <td>completed</td>\n",
       "      <td>1</td>\n",
       "      <td>2016-04-05T21:54:13.337Z</td>\n",
       "      <td>2016-04-05T21:54:13.337Z</td>\n",
       "      <td>2016-04-05T00:00:00.000Z</td>\n",
       "      <td>Princess Mononoke</td>\n",
       "      <td>When an Emishi village is attacked by a fierce...</td>\n",
       "      <td>When an Emishi village is attacked by a fierce...</td>\n",
       "    </tr>\n",
       "    <tr>\n",
       "      <th>3</th>\n",
       "      <td>85539</td>\n",
       "      <td>8403</td>\n",
       "      <td>completed</td>\n",
       "      <td>22</td>\n",
       "      <td>2015-04-06T00:57:29.294Z</td>\n",
       "      <td>2015-04-06T00:57:29.294Z</td>\n",
       "      <td>2015-04-06T00:00:00.000Z</td>\n",
       "      <td>Shigatsu wa Kimi no Uso</td>\n",
       "      <td>Music accompanies the path of the human metron...</td>\n",
       "      <td>Music accompanies the path of the human metron...</td>\n",
       "    </tr>\n",
       "    <tr>\n",
       "      <th>4</th>\n",
       "      <td>85539</td>\n",
       "      <td>8147</td>\n",
       "      <td>completed</td>\n",
       "      <td>24</td>\n",
       "      <td>2017-04-14T04:09:37.510Z</td>\n",
       "      <td>2017-04-14T04:09:37.510Z</td>\n",
       "      <td>2017-04-14T00:00:00.000Z</td>\n",
       "      <td>Kiseijuu: Sei no Kakuritsu</td>\n",
       "      <td>All of a sudden, they arrived: parasitic alien...</td>\n",
       "      <td>All of a sudden, they arrived: parasitic alien...</td>\n",
       "    </tr>\n",
       "  </tbody>\n",
       "</table>\n",
       "</div>"
      ],
      "text/plain": [
       "   user_id anime_id     status  progress              progressedAt  \\\n",
       "0    85539      176  completed         1  2016-04-05T21:53:57.987Z   \n",
       "1    85539     6711  completed         1  2015-11-07T21:02:56.128Z   \n",
       "2    85539      142  completed         1  2016-04-05T21:54:13.337Z   \n",
       "3    85539     8403  completed        22  2015-04-06T00:57:29.294Z   \n",
       "4    85539     8147  completed        24  2017-04-14T04:09:37.510Z   \n",
       "\n",
       "                  startedAt                finishedAt  \\\n",
       "0  2016-04-05T21:53:57.987Z  2016-04-05T00:00:00.000Z   \n",
       "1  2015-11-07T21:02:56.128Z  2015-11-07T00:00:00.000Z   \n",
       "2  2016-04-05T21:54:13.337Z  2016-04-05T00:00:00.000Z   \n",
       "3  2015-04-06T00:57:29.294Z  2015-04-06T00:00:00.000Z   \n",
       "4  2017-04-14T04:09:37.510Z  2017-04-14T00:00:00.000Z   \n",
       "\n",
       "               canonicalTitle  \\\n",
       "0               Spirited Away   \n",
       "1               Wolf Children   \n",
       "2           Princess Mononoke   \n",
       "3     Shigatsu wa Kimi no Uso   \n",
       "4  Kiseijuu: Sei no Kakuritsu   \n",
       "\n",
       "                                            synopsis  \\\n",
       "0  Stubborn, spoiled, and naïve, 10-year-old Chih...   \n",
       "1  Hana, a hard-working college student, falls in...   \n",
       "2  When an Emishi village is attacked by a fierce...   \n",
       "3  Music accompanies the path of the human metron...   \n",
       "4  All of a sudden, they arrived: parasitic alien...   \n",
       "\n",
       "                                         description  \n",
       "0  Stubborn, spoiled, and naïve, 10-year-old Chih...  \n",
       "1  Hana, a hard-working college student, falls in...  \n",
       "2  When an Emishi village is attacked by a fierce...  \n",
       "3  Music accompanies the path of the human metron...  \n",
       "4  All of a sudden, they arrived: parasitic alien...  "
      ]
     },
     "execution_count": 17,
     "metadata": {},
     "output_type": "execute_result"
    }
   ],
   "source": [
    "# Peek at users library entries data\n",
    "users_le_df.head()"
   ]
  },
  {
   "cell_type": "markdown",
   "metadata": {},
   "source": [
    "# Data Processing to set up Recommender Model\n",
    "In this section we are going to process the data from user favorites and library entries so we can create the user and anime vectors to feed into our implicit alternating least squares (ALS) recommender model. We will follow the steps below.\n",
    "1. Combine the data from user favorites and user library entries.\n",
    "2. Afterwards, we create an arbitrary \"eventStrength\" based on the status column to indicate the \"level of interaction\" a user has with a particular anime.\n",
    "3. Create sparse ratings matrix and fit to implicit ALS model."
   ]
  },
  {
   "cell_type": "code",
   "execution_count": 18,
   "metadata": {
    "ExecuteTime": {
     "end_time": "2021-11-18T04:55:21.904876Z",
     "start_time": "2021-11-18T04:55:21.892852Z"
    }
   },
   "outputs": [],
   "source": [
    "# Create status column to align and later combine with users_le_df\n",
    "# 'favorite' will be used as an event type\n",
    "users_favs_df['status'] = 'favorite'"
   ]
  },
  {
   "cell_type": "code",
   "execution_count": 19,
   "metadata": {
    "ExecuteTime": {
     "end_time": "2021-11-18T04:55:22.248020Z",
     "start_time": "2021-11-18T04:55:22.214542Z"
    }
   },
   "outputs": [
    {
     "data": {
      "text/html": [
       "<div>\n",
       "<style scoped>\n",
       "    .dataframe tbody tr th:only-of-type {\n",
       "        vertical-align: middle;\n",
       "    }\n",
       "\n",
       "    .dataframe tbody tr th {\n",
       "        vertical-align: top;\n",
       "    }\n",
       "\n",
       "    .dataframe thead th {\n",
       "        text-align: right;\n",
       "    }\n",
       "</style>\n",
       "<table border=\"1\" class=\"dataframe\">\n",
       "  <thead>\n",
       "    <tr style=\"text-align: right;\">\n",
       "      <th></th>\n",
       "      <th>user_id</th>\n",
       "      <th>anime_id</th>\n",
       "      <th>canonicalTitle</th>\n",
       "      <th>synopsis</th>\n",
       "      <th>description</th>\n",
       "      <th>status</th>\n",
       "    </tr>\n",
       "  </thead>\n",
       "  <tbody>\n",
       "    <tr>\n",
       "      <th>0</th>\n",
       "      <td>85539</td>\n",
       "      <td>8403</td>\n",
       "      <td>Shigatsu wa Kimi no Uso</td>\n",
       "      <td>Music accompanies the path of the human metron...</td>\n",
       "      <td>Music accompanies the path of the human metron...</td>\n",
       "      <td>favorite</td>\n",
       "    </tr>\n",
       "    <tr>\n",
       "      <th>1</th>\n",
       "      <td>85539</td>\n",
       "      <td>8147</td>\n",
       "      <td>Kiseijuu: Sei no Kakuritsu</td>\n",
       "      <td>All of a sudden, they arrived: parasitic alien...</td>\n",
       "      <td>All of a sudden, they arrived: parasitic alien...</td>\n",
       "      <td>favorite</td>\n",
       "    </tr>\n",
       "    <tr>\n",
       "      <th>2</th>\n",
       "      <td>85539</td>\n",
       "      <td>6836</td>\n",
       "      <td>Tsuritama</td>\n",
       "      <td>Yuki Sanada is a socially awkward young man wh...</td>\n",
       "      <td>Yuki Sanada is a socially awkward young man wh...</td>\n",
       "      <td>favorite</td>\n",
       "    </tr>\n",
       "    <tr>\n",
       "      <th>3</th>\n",
       "      <td>85539</td>\n",
       "      <td>8333</td>\n",
       "      <td>Gugure! Kokkuri-san</td>\n",
       "      <td>Kohina Ichimatsu, the self-proclaimed doll, ca...</td>\n",
       "      <td>Kohina Ichimatsu, the self-proclaimed doll, ca...</td>\n",
       "      <td>favorite</td>\n",
       "    </tr>\n",
       "    <tr>\n",
       "      <th>4</th>\n",
       "      <td>85539</td>\n",
       "      <td>5981</td>\n",
       "      <td>Ano Hi Mita Hana no Namae wo Bokutachi wa Mada...</td>\n",
       "      <td>Jinta Yadomi is peacefully living as a recluse...</td>\n",
       "      <td>Jinta Yadomi is peacefully living as a recluse...</td>\n",
       "      <td>favorite</td>\n",
       "    </tr>\n",
       "  </tbody>\n",
       "</table>\n",
       "</div>"
      ],
      "text/plain": [
       "   user_id anime_id                                     canonicalTitle  \\\n",
       "0    85539     8403                            Shigatsu wa Kimi no Uso   \n",
       "1    85539     8147                         Kiseijuu: Sei no Kakuritsu   \n",
       "2    85539     6836                                          Tsuritama   \n",
       "3    85539     8333                                Gugure! Kokkuri-san   \n",
       "4    85539     5981  Ano Hi Mita Hana no Namae wo Bokutachi wa Mada...   \n",
       "\n",
       "                                            synopsis  \\\n",
       "0  Music accompanies the path of the human metron...   \n",
       "1  All of a sudden, they arrived: parasitic alien...   \n",
       "2  Yuki Sanada is a socially awkward young man wh...   \n",
       "3  Kohina Ichimatsu, the self-proclaimed doll, ca...   \n",
       "4  Jinta Yadomi is peacefully living as a recluse...   \n",
       "\n",
       "                                         description    status  \n",
       "0  Music accompanies the path of the human metron...  favorite  \n",
       "1  All of a sudden, they arrived: parasitic alien...  favorite  \n",
       "2  Yuki Sanada is a socially awkward young man wh...  favorite  \n",
       "3  Kohina Ichimatsu, the self-proclaimed doll, ca...  favorite  \n",
       "4  Jinta Yadomi is peacefully living as a recluse...  favorite  "
      ]
     },
     "execution_count": 19,
     "metadata": {},
     "output_type": "execute_result"
    }
   ],
   "source": [
    "# Peek at data\n",
    "users_favs_df.head()"
   ]
  },
  {
   "cell_type": "code",
   "execution_count": 20,
   "metadata": {
    "ExecuteTime": {
     "end_time": "2021-11-18T04:55:22.595623Z",
     "start_time": "2021-11-18T04:55:22.582563Z"
    }
   },
   "outputs": [
    {
     "name": "stdout",
     "output_type": "stream",
     "text": [
      "(306, 6)\n",
      "(239, 10)\n"
     ]
    }
   ],
   "source": [
    "# Compare shapes of favs and library entries dataframes\n",
    "print(users_favs_df.shape)\n",
    "print(users_le_df.shape)"
   ]
  },
  {
   "cell_type": "markdown",
   "metadata": {},
   "source": [
    "Between the user favorites and user library entries dataframe -- there is a difference in the number of columns. In this case we we will need to align and select our columns for further analysis.  "
   ]
  },
  {
   "cell_type": "code",
   "execution_count": 21,
   "metadata": {
    "ExecuteTime": {
     "end_time": "2021-11-18T04:55:22.955225Z",
     "start_time": "2021-11-18T04:55:22.930027Z"
    }
   },
   "outputs": [
    {
     "data": {
      "text/plain": [
       "['user_id', 'anime_id', 'canonicalTitle', 'synopsis', 'description', 'status']"
      ]
     },
     "execution_count": 21,
     "metadata": {},
     "output_type": "execute_result"
    }
   ],
   "source": [
    "# Peek at select columns to keep in combined dataframe\n",
    "list(users_favs_df.columns)"
   ]
  },
  {
   "cell_type": "code",
   "execution_count": 22,
   "metadata": {
    "ExecuteTime": {
     "end_time": "2021-11-18T04:55:23.298254Z",
     "start_time": "2021-11-18T04:55:23.255525Z"
    }
   },
   "outputs": [
    {
     "data": {
      "text/html": [
       "<div>\n",
       "<style scoped>\n",
       "    .dataframe tbody tr th:only-of-type {\n",
       "        vertical-align: middle;\n",
       "    }\n",
       "\n",
       "    .dataframe tbody tr th {\n",
       "        vertical-align: top;\n",
       "    }\n",
       "\n",
       "    .dataframe thead th {\n",
       "        text-align: right;\n",
       "    }\n",
       "</style>\n",
       "<table border=\"1\" class=\"dataframe\">\n",
       "  <thead>\n",
       "    <tr style=\"text-align: right;\">\n",
       "      <th></th>\n",
       "      <th>user_id</th>\n",
       "      <th>anime_id</th>\n",
       "      <th>canonicalTitle</th>\n",
       "      <th>synopsis</th>\n",
       "      <th>description</th>\n",
       "      <th>status</th>\n",
       "    </tr>\n",
       "  </thead>\n",
       "  <tbody>\n",
       "    <tr>\n",
       "      <th>0</th>\n",
       "      <td>85539</td>\n",
       "      <td>176</td>\n",
       "      <td>Spirited Away</td>\n",
       "      <td>Stubborn, spoiled, and naïve, 10-year-old Chih...</td>\n",
       "      <td>Stubborn, spoiled, and naïve, 10-year-old Chih...</td>\n",
       "      <td>completed</td>\n",
       "    </tr>\n",
       "    <tr>\n",
       "      <th>1</th>\n",
       "      <td>85539</td>\n",
       "      <td>6711</td>\n",
       "      <td>Wolf Children</td>\n",
       "      <td>Hana, a hard-working college student, falls in...</td>\n",
       "      <td>Hana, a hard-working college student, falls in...</td>\n",
       "      <td>completed</td>\n",
       "    </tr>\n",
       "    <tr>\n",
       "      <th>2</th>\n",
       "      <td>85539</td>\n",
       "      <td>142</td>\n",
       "      <td>Princess Mononoke</td>\n",
       "      <td>When an Emishi village is attacked by a fierce...</td>\n",
       "      <td>When an Emishi village is attacked by a fierce...</td>\n",
       "      <td>completed</td>\n",
       "    </tr>\n",
       "    <tr>\n",
       "      <th>3</th>\n",
       "      <td>85539</td>\n",
       "      <td>8403</td>\n",
       "      <td>Shigatsu wa Kimi no Uso</td>\n",
       "      <td>Music accompanies the path of the human metron...</td>\n",
       "      <td>Music accompanies the path of the human metron...</td>\n",
       "      <td>completed</td>\n",
       "    </tr>\n",
       "    <tr>\n",
       "      <th>4</th>\n",
       "      <td>85539</td>\n",
       "      <td>8147</td>\n",
       "      <td>Kiseijuu: Sei no Kakuritsu</td>\n",
       "      <td>All of a sudden, they arrived: parasitic alien...</td>\n",
       "      <td>All of a sudden, they arrived: parasitic alien...</td>\n",
       "      <td>completed</td>\n",
       "    </tr>\n",
       "  </tbody>\n",
       "</table>\n",
       "</div>"
      ],
      "text/plain": [
       "   user_id anime_id              canonicalTitle  \\\n",
       "0    85539      176               Spirited Away   \n",
       "1    85539     6711               Wolf Children   \n",
       "2    85539      142           Princess Mononoke   \n",
       "3    85539     8403     Shigatsu wa Kimi no Uso   \n",
       "4    85539     8147  Kiseijuu: Sei no Kakuritsu   \n",
       "\n",
       "                                            synopsis  \\\n",
       "0  Stubborn, spoiled, and naïve, 10-year-old Chih...   \n",
       "1  Hana, a hard-working college student, falls in...   \n",
       "2  When an Emishi village is attacked by a fierce...   \n",
       "3  Music accompanies the path of the human metron...   \n",
       "4  All of a sudden, they arrived: parasitic alien...   \n",
       "\n",
       "                                         description     status  \n",
       "0  Stubborn, spoiled, and naïve, 10-year-old Chih...  completed  \n",
       "1  Hana, a hard-working college student, falls in...  completed  \n",
       "2  When an Emishi village is attacked by a fierce...  completed  \n",
       "3  Music accompanies the path of the human metron...  completed  \n",
       "4  All of a sudden, they arrived: parasitic alien...  completed  "
      ]
     },
     "execution_count": 22,
     "metadata": {},
     "output_type": "execute_result"
    }
   ],
   "source": [
    "# Set columns between both dataframes to be equal for combining\n",
    "col_list = list(users_favs_df.columns)\n",
    "\n",
    "users_le_df_append = users_le_df.copy()\n",
    "\n",
    "# Filter library entries df to match columns of favorites df\n",
    "users_le_df_append = users_le_df_append[col_list]\n",
    "\n",
    "# Combine library entries and favorites df\n",
    "user_interaction_df = users_le_df_append.append(users_favs_df, ignore_index=True)\n",
    "\n",
    "# Peek at data\n",
    "user_interaction_df.head()"
   ]
  },
  {
   "cell_type": "markdown",
   "metadata": {},
   "source": [
    "Based on these interaction or event types we've extracted, we will set up dictionary to associate a weight or strength to say that a user's action to *favorite* or *complete* is much stronger than *dropping* or putting it *on hold*. "
   ]
  },
  {
   "cell_type": "code",
   "execution_count": 23,
   "metadata": {
    "ExecuteTime": {
     "end_time": "2021-11-18T04:55:23.680647Z",
     "start_time": "2021-11-18T04:55:23.656635Z"
    }
   },
   "outputs": [],
   "source": [
    "# Set up event strength dict to assign arbitrary strength score towards interaction types\n",
    "event_strength = {\n",
    "    'completed':6.0,\n",
    "    'favorite':5.0,\n",
    "    'current':4.0,\n",
    "    'planned':3.0,\n",
    "    'on_hold':2.0,\n",
    "    'dropped':1.0\n",
    "}"
   ]
  },
  {
   "cell_type": "code",
   "execution_count": 24,
   "metadata": {
    "ExecuteTime": {
     "end_time": "2021-11-18T04:55:24.068620Z",
     "start_time": "2021-11-18T04:55:24.044757Z"
    }
   },
   "outputs": [],
   "source": [
    "# Map event strength scores according to status set in user_interaction_df\n",
    "user_interaction_df['eventStrength'] = user_interaction_df['status'].apply(lambda x: event_strength[x])"
   ]
  },
  {
   "cell_type": "code",
   "execution_count": 25,
   "metadata": {
    "ExecuteTime": {
     "end_time": "2021-11-18T04:55:24.459605Z",
     "start_time": "2021-11-18T04:55:24.421568Z"
    }
   },
   "outputs": [
    {
     "data": {
      "text/html": [
       "<div>\n",
       "<style scoped>\n",
       "    .dataframe tbody tr th:only-of-type {\n",
       "        vertical-align: middle;\n",
       "    }\n",
       "\n",
       "    .dataframe tbody tr th {\n",
       "        vertical-align: top;\n",
       "    }\n",
       "\n",
       "    .dataframe thead th {\n",
       "        text-align: right;\n",
       "    }\n",
       "</style>\n",
       "<table border=\"1\" class=\"dataframe\">\n",
       "  <thead>\n",
       "    <tr style=\"text-align: right;\">\n",
       "      <th></th>\n",
       "      <th>user_id</th>\n",
       "      <th>anime_id</th>\n",
       "      <th>canonicalTitle</th>\n",
       "      <th>synopsis</th>\n",
       "      <th>description</th>\n",
       "      <th>status</th>\n",
       "      <th>eventStrength</th>\n",
       "    </tr>\n",
       "  </thead>\n",
       "  <tbody>\n",
       "    <tr>\n",
       "      <th>0</th>\n",
       "      <td>85539</td>\n",
       "      <td>176</td>\n",
       "      <td>Spirited Away</td>\n",
       "      <td>Stubborn, spoiled, and naïve, 10-year-old Chih...</td>\n",
       "      <td>Stubborn, spoiled, and naïve, 10-year-old Chih...</td>\n",
       "      <td>completed</td>\n",
       "      <td>6.0</td>\n",
       "    </tr>\n",
       "    <tr>\n",
       "      <th>1</th>\n",
       "      <td>85539</td>\n",
       "      <td>6711</td>\n",
       "      <td>Wolf Children</td>\n",
       "      <td>Hana, a hard-working college student, falls in...</td>\n",
       "      <td>Hana, a hard-working college student, falls in...</td>\n",
       "      <td>completed</td>\n",
       "      <td>6.0</td>\n",
       "    </tr>\n",
       "    <tr>\n",
       "      <th>2</th>\n",
       "      <td>85539</td>\n",
       "      <td>142</td>\n",
       "      <td>Princess Mononoke</td>\n",
       "      <td>When an Emishi village is attacked by a fierce...</td>\n",
       "      <td>When an Emishi village is attacked by a fierce...</td>\n",
       "      <td>completed</td>\n",
       "      <td>6.0</td>\n",
       "    </tr>\n",
       "    <tr>\n",
       "      <th>3</th>\n",
       "      <td>85539</td>\n",
       "      <td>8403</td>\n",
       "      <td>Shigatsu wa Kimi no Uso</td>\n",
       "      <td>Music accompanies the path of the human metron...</td>\n",
       "      <td>Music accompanies the path of the human metron...</td>\n",
       "      <td>completed</td>\n",
       "      <td>6.0</td>\n",
       "    </tr>\n",
       "    <tr>\n",
       "      <th>4</th>\n",
       "      <td>85539</td>\n",
       "      <td>8147</td>\n",
       "      <td>Kiseijuu: Sei no Kakuritsu</td>\n",
       "      <td>All of a sudden, they arrived: parasitic alien...</td>\n",
       "      <td>All of a sudden, they arrived: parasitic alien...</td>\n",
       "      <td>completed</td>\n",
       "      <td>6.0</td>\n",
       "    </tr>\n",
       "  </tbody>\n",
       "</table>\n",
       "</div>"
      ],
      "text/plain": [
       "   user_id anime_id              canonicalTitle  \\\n",
       "0    85539      176               Spirited Away   \n",
       "1    85539     6711               Wolf Children   \n",
       "2    85539      142           Princess Mononoke   \n",
       "3    85539     8403     Shigatsu wa Kimi no Uso   \n",
       "4    85539     8147  Kiseijuu: Sei no Kakuritsu   \n",
       "\n",
       "                                            synopsis  \\\n",
       "0  Stubborn, spoiled, and naïve, 10-year-old Chih...   \n",
       "1  Hana, a hard-working college student, falls in...   \n",
       "2  When an Emishi village is attacked by a fierce...   \n",
       "3  Music accompanies the path of the human metron...   \n",
       "4  All of a sudden, they arrived: parasitic alien...   \n",
       "\n",
       "                                         description     status  eventStrength  \n",
       "0  Stubborn, spoiled, and naïve, 10-year-old Chih...  completed            6.0  \n",
       "1  Hana, a hard-working college student, falls in...  completed            6.0  \n",
       "2  When an Emishi village is attacked by a fierce...  completed            6.0  \n",
       "3  Music accompanies the path of the human metron...  completed            6.0  \n",
       "4  All of a sudden, they arrived: parasitic alien...  completed            6.0  "
      ]
     },
     "execution_count": 25,
     "metadata": {},
     "output_type": "execute_result"
    }
   ],
   "source": [
    "# Peek at data\n",
    "user_interaction_df.head()"
   ]
  },
  {
   "cell_type": "code",
   "execution_count": 26,
   "metadata": {
    "ExecuteTime": {
     "end_time": "2021-11-18T04:55:24.887130Z",
     "start_time": "2021-11-18T04:55:24.832460Z"
    }
   },
   "outputs": [
    {
     "data": {
      "text/html": [
       "<div>\n",
       "<style scoped>\n",
       "    .dataframe tbody tr th:only-of-type {\n",
       "        vertical-align: middle;\n",
       "    }\n",
       "\n",
       "    .dataframe tbody tr th {\n",
       "        vertical-align: top;\n",
       "    }\n",
       "\n",
       "    .dataframe thead th {\n",
       "        text-align: right;\n",
       "    }\n",
       "</style>\n",
       "<table border=\"1\" class=\"dataframe\">\n",
       "  <thead>\n",
       "    <tr style=\"text-align: right;\">\n",
       "      <th></th>\n",
       "      <th>user_id</th>\n",
       "      <th>anime_id</th>\n",
       "      <th>canonicalTitle</th>\n",
       "      <th>eventStrength</th>\n",
       "    </tr>\n",
       "  </thead>\n",
       "  <tbody>\n",
       "    <tr>\n",
       "      <th>171</th>\n",
       "      <td>85539</td>\n",
       "      <td>13465</td>\n",
       "      <td>Blend S</td>\n",
       "      <td>5.0</td>\n",
       "    </tr>\n",
       "    <tr>\n",
       "      <th>137</th>\n",
       "      <td>85539</td>\n",
       "      <td>11209</td>\n",
       "      <td>Re:Zero kara Hajimeru Isekai Seikatsu</td>\n",
       "      <td>5.0</td>\n",
       "    </tr>\n",
       "    <tr>\n",
       "      <th>64</th>\n",
       "      <td>70211</td>\n",
       "      <td>6686</td>\n",
       "      <td>Hyouka</td>\n",
       "      <td>5.0</td>\n",
       "    </tr>\n",
       "    <tr>\n",
       "      <th>194</th>\n",
       "      <td>85539</td>\n",
       "      <td>4696</td>\n",
       "      <td>Durarara!!</td>\n",
       "      <td>11.0</td>\n",
       "    </tr>\n",
       "    <tr>\n",
       "      <th>400</th>\n",
       "      <td>121938</td>\n",
       "      <td>7278</td>\n",
       "      <td>Date A Live</td>\n",
       "      <td>4.0</td>\n",
       "    </tr>\n",
       "    <tr>\n",
       "      <th>326</th>\n",
       "      <td>86869</td>\n",
       "      <td>7442</td>\n",
       "      <td>Attack on Titan</td>\n",
       "      <td>5.0</td>\n",
       "    </tr>\n",
       "    <tr>\n",
       "      <th>466</th>\n",
       "      <td>143115</td>\n",
       "      <td>8159</td>\n",
       "      <td>When Marnie Was There</td>\n",
       "      <td>5.0</td>\n",
       "    </tr>\n",
       "    <tr>\n",
       "      <th>448</th>\n",
       "      <td>143115</td>\n",
       "      <td>471</td>\n",
       "      <td>Majo no Takkyuubin</td>\n",
       "      <td>6.0</td>\n",
       "    </tr>\n",
       "    <tr>\n",
       "      <th>140</th>\n",
       "      <td>85539</td>\n",
       "      <td>11339</td>\n",
       "      <td>Bungou Stray Dogs</td>\n",
       "      <td>5.0</td>\n",
       "    </tr>\n",
       "    <tr>\n",
       "      <th>50</th>\n",
       "      <td>70211</td>\n",
       "      <td>5028</td>\n",
       "      <td>Fate/stay night TV Reproduction</td>\n",
       "      <td>6.0</td>\n",
       "    </tr>\n",
       "  </tbody>\n",
       "</table>\n",
       "</div>"
      ],
      "text/plain": [
       "     user_id anime_id                         canonicalTitle  eventStrength\n",
       "171    85539    13465                                Blend S            5.0\n",
       "137    85539    11209  Re:Zero kara Hajimeru Isekai Seikatsu            5.0\n",
       "64     70211     6686                                 Hyouka            5.0\n",
       "194    85539     4696                             Durarara!!           11.0\n",
       "400   121938     7278                            Date A Live            4.0\n",
       "326    86869     7442                        Attack on Titan            5.0\n",
       "466   143115     8159                  When Marnie Was There            5.0\n",
       "448   143115      471                     Majo no Takkyuubin            6.0\n",
       "140    85539    11339                      Bungou Stray Dogs            5.0\n",
       "50     70211     5028        Fate/stay night TV Reproduction            6.0"
      ]
     },
     "execution_count": 26,
     "metadata": {},
     "output_type": "execute_result"
    }
   ],
   "source": [
    "# Group event strength per user and anime\n",
    "grouped_df = user_interaction_df.groupby(['user_id', 'anime_id', 'canonicalTitle'])['eventStrength'].sum().reset_index()\n",
    "grouped_df.sample(10)"
   ]
  },
  {
   "cell_type": "markdown",
   "metadata": {},
   "source": [
    "With an aggregated eventStrength -- we aim to use this metric to represent a \"confidence\" measure in how strong the level of interaction was for a user and anime."
   ]
  },
  {
   "cell_type": "markdown",
   "metadata": {},
   "source": [
    "# Fit Alternating Least Squares Model\n",
    "We will focus on using the Alternating Least Square algorithm to handle our implicit feedback.  It is one of the most common, yet effective methods when creating a recommender system based on implicit data.\n",
    "\n",
    "In our case, we will use the python implicit library found here: https://implicit.readthedocs.io/en/latest/als.html"
   ]
  },
  {
   "cell_type": "code",
   "execution_count": 27,
   "metadata": {
    "ExecuteTime": {
     "end_time": "2021-11-18T04:55:25.348421Z",
     "start_time": "2021-11-18T04:55:25.307484Z"
    }
   },
   "outputs": [],
   "source": [
    "grouped_df['canonicalTitle'] = grouped_df['canonicalTitle'].astype(\"category\")\n",
    "grouped_df['user_id'] = grouped_df['user_id'].astype(\"category\")\n",
    "grouped_df['anime_id'] = grouped_df['anime_id'].astype(\"category\")\n",
    "grouped_df['person_id'] = grouped_df['user_id'].cat.codes\n",
    "grouped_df['content_id'] = grouped_df['anime_id'].cat.codes\n",
    "\n",
    "# Create sparse ratings matrix of users and anime\n",
    "sparse_content_mat = sparse.csr_matrix((grouped_df['eventStrength'].astype(float), (grouped_df['content_id'], grouped_df['person_id'])))\n",
    "sparse_person_mat = sparse.csr_matrix((grouped_df['eventStrength'].astype(float), (grouped_df['person_id'], grouped_df['content_id'])))"
   ]
  },
  {
   "cell_type": "code",
   "execution_count": 28,
   "metadata": {
    "ExecuteTime": {
     "end_time": "2021-11-18T04:55:25.810146Z",
     "start_time": "2021-11-18T04:55:25.785819Z"
    }
   },
   "outputs": [],
   "source": [
    "# Create lookup table that we tracks and reference id to title\n",
    "anime_lookup = grouped_df[['content_id', 'canonicalTitle']].drop_duplicates()"
   ]
  },
  {
   "cell_type": "code",
   "execution_count": 29,
   "metadata": {
    "ExecuteTime": {
     "end_time": "2021-11-18T04:55:26.291325Z",
     "start_time": "2021-11-18T04:55:26.262746Z"
    }
   },
   "outputs": [
    {
     "data": {
      "text/html": [
       "<div>\n",
       "<style scoped>\n",
       "    .dataframe tbody tr th:only-of-type {\n",
       "        vertical-align: middle;\n",
       "    }\n",
       "\n",
       "    .dataframe tbody tr th {\n",
       "        vertical-align: top;\n",
       "    }\n",
       "\n",
       "    .dataframe thead th {\n",
       "        text-align: right;\n",
       "    }\n",
       "</style>\n",
       "<table border=\"1\" class=\"dataframe\">\n",
       "  <thead>\n",
       "    <tr style=\"text-align: right;\">\n",
       "      <th></th>\n",
       "      <th>content_id</th>\n",
       "      <th>canonicalTitle</th>\n",
       "    </tr>\n",
       "  </thead>\n",
       "  <tbody>\n",
       "    <tr>\n",
       "      <th>0</th>\n",
       "      <td>0</td>\n",
       "      <td>Cowboy Bebop</td>\n",
       "    </tr>\n",
       "    <tr>\n",
       "      <th>1</th>\n",
       "      <td>9</td>\n",
       "      <td>Fate/stay night: Unlimited Blade Works 2nd Season</td>\n",
       "    </tr>\n",
       "    <tr>\n",
       "      <th>2</th>\n",
       "      <td>14</td>\n",
       "      <td>Fushigi Yuugi</td>\n",
       "    </tr>\n",
       "    <tr>\n",
       "      <th>3</th>\n",
       "      <td>19</td>\n",
       "      <td>Slayers Try</td>\n",
       "    </tr>\n",
       "    <tr>\n",
       "      <th>4</th>\n",
       "      <td>25</td>\n",
       "      <td>Gensoumaden Saiyuuki</td>\n",
       "    </tr>\n",
       "  </tbody>\n",
       "</table>\n",
       "</div>"
      ],
      "text/plain": [
       "   content_id                                     canonicalTitle\n",
       "0           0                                       Cowboy Bebop\n",
       "1           9  Fate/stay night: Unlimited Blade Works 2nd Season\n",
       "2          14                                      Fushigi Yuugi\n",
       "3          19                                        Slayers Try\n",
       "4          25                               Gensoumaden Saiyuuki"
      ]
     },
     "execution_count": 29,
     "metadata": {},
     "output_type": "execute_result"
    }
   ],
   "source": [
    "# Peek at lookup table\n",
    "anime_lookup.head()"
   ]
  },
  {
   "cell_type": "code",
   "execution_count": 30,
   "metadata": {
    "ExecuteTime": {
     "end_time": "2021-11-18T04:55:26.767144Z",
     "start_time": "2021-11-18T04:55:26.740435Z"
    }
   },
   "outputs": [
    {
     "data": {
      "text/plain": [
       "<385x5 sparse matrix of type '<class 'numpy.float64'>'\n",
       "\twith 470 stored elements in Compressed Sparse Row format>"
      ]
     },
     "execution_count": 30,
     "metadata": {},
     "output_type": "execute_result"
    }
   ],
   "source": [
    "# Check out matrix object\n",
    "sparse_content_mat"
   ]
  },
  {
   "cell_type": "code",
   "execution_count": 31,
   "metadata": {
    "ExecuteTime": {
     "end_time": "2021-11-18T04:55:27.232501Z",
     "start_time": "2021-11-18T04:55:27.220325Z"
    }
   },
   "outputs": [
    {
     "data": {
      "text/plain": [
       "<5x385 sparse matrix of type '<class 'numpy.float64'>'\n",
       "\twith 470 stored elements in Compressed Sparse Row format>"
      ]
     },
     "execution_count": 31,
     "metadata": {},
     "output_type": "execute_result"
    }
   ],
   "source": [
    "# Check out matrix object\n",
    "sparse_person_mat"
   ]
  },
  {
   "cell_type": "code",
   "execution_count": 32,
   "metadata": {
    "ExecuteTime": {
     "end_time": "2021-11-18T04:55:28.459448Z",
     "start_time": "2021-11-18T04:55:27.692403Z"
    }
   },
   "outputs": [
    {
     "name": "stderr",
     "output_type": "stream",
     "text": [
      "WARNING:root:OpenBLAS detected. Its highly recommend to set the environment variable 'export OPENBLAS_NUM_THREADS=1' to disable its internal multithreading\n"
     ]
    },
    {
     "data": {
      "application/vnd.jupyter.widget-view+json": {
       "model_id": "5ea520fb781b4e77acb773ec39daf825",
       "version_major": 2,
       "version_minor": 0
      },
      "text/plain": [
       "HBox(children=(HTML(value=''), FloatProgress(value=0.0, max=50.0), HTML(value='')))"
      ]
     },
     "metadata": {},
     "output_type": "display_data"
    },
    {
     "name": "stdout",
     "output_type": "stream",
     "text": [
      "\n"
     ]
    }
   ],
   "source": [
    "# Create ALS model and fit to sparse ratings matrix\n",
    "model = implicit.als.AlternatingLeastSquares(factors=20, regularization=0.1, iterations=50)\n",
    "\n",
    "alpha = 15\n",
    "data = (sparse_content_mat * alpha).astype('double')\n",
    "model.fit(data)"
   ]
  },
  {
   "cell_type": "code",
   "execution_count": 33,
   "metadata": {
    "ExecuteTime": {
     "end_time": "2021-11-18T04:55:28.973532Z",
     "start_time": "2021-11-18T04:55:28.957204Z"
    }
   },
   "outputs": [
    {
     "data": {
      "text/plain": [
       "75.58441558441558"
      ]
     },
     "execution_count": 33,
     "metadata": {},
     "output_type": "execute_result"
    }
   ],
   "source": [
    "# Calculate the matrix sparsity \n",
    "matrix_size = sparse_content_mat.shape[0]*sparse_content_mat.shape[1] # Number of possible interactions in the matrix\n",
    "num_interact = len(sparse_content_mat.nonzero()[0]) # Number of items interacted with\n",
    "sparsity = 100*(1 - (num_interact/matrix_size))\n",
    "sparsity"
   ]
  },
  {
   "cell_type": "markdown",
   "metadata": {},
   "source": [
    "According to the computed value above -- 75.6% of the interaction matrix is sparse. "
   ]
  },
  {
   "cell_type": "code",
   "execution_count": 34,
   "metadata": {
    "ExecuteTime": {
     "end_time": "2021-11-18T04:55:29.466135Z",
     "start_time": "2021-11-18T04:55:29.420562Z"
    }
   },
   "outputs": [
    {
     "data": {
      "text/html": [
       "<div>\n",
       "<style scoped>\n",
       "    .dataframe tbody tr th:only-of-type {\n",
       "        vertical-align: middle;\n",
       "    }\n",
       "\n",
       "    .dataframe tbody tr th {\n",
       "        vertical-align: top;\n",
       "    }\n",
       "\n",
       "    .dataframe thead th {\n",
       "        text-align: right;\n",
       "    }\n",
       "</style>\n",
       "<table border=\"1\" class=\"dataframe\">\n",
       "  <thead>\n",
       "    <tr style=\"text-align: right;\">\n",
       "      <th></th>\n",
       "      <th>user_id</th>\n",
       "      <th>anime_id</th>\n",
       "      <th>canonicalTitle</th>\n",
       "      <th>eventStrength</th>\n",
       "      <th>person_id</th>\n",
       "      <th>content_id</th>\n",
       "    </tr>\n",
       "  </thead>\n",
       "  <tbody>\n",
       "    <tr>\n",
       "      <th>225</th>\n",
       "      <td>85539</td>\n",
       "      <td>6760</td>\n",
       "      <td>Kids on the Slope</td>\n",
       "      <td>5.0</td>\n",
       "      <td>1</td>\n",
       "      <td>231</td>\n",
       "    </tr>\n",
       "    <tr>\n",
       "      <th>271</th>\n",
       "      <td>85539</td>\n",
       "      <td>8638</td>\n",
       "      <td>Yuuki Yuuna wa Yuusha de Aru</td>\n",
       "      <td>5.0</td>\n",
       "      <td>1</td>\n",
       "      <td>354</td>\n",
       "    </tr>\n",
       "    <tr>\n",
       "      <th>56</th>\n",
       "      <td>70211</td>\n",
       "      <td>576</td>\n",
       "      <td>Night Walker: Mayonaka no Tantei</td>\n",
       "      <td>5.0</td>\n",
       "      <td>0</td>\n",
       "      <td>192</td>\n",
       "    </tr>\n",
       "    <tr>\n",
       "      <th>193</th>\n",
       "      <td>85539</td>\n",
       "      <td>4618</td>\n",
       "      <td>Hanamaru Youchien</td>\n",
       "      <td>6.0</td>\n",
       "      <td>1</td>\n",
       "      <td>153</td>\n",
       "    </tr>\n",
       "    <tr>\n",
       "      <th>138</th>\n",
       "      <td>85539</td>\n",
       "      <td>11317</td>\n",
       "      <td>Flying Witch</td>\n",
       "      <td>5.0</td>\n",
       "      <td>1</td>\n",
       "      <td>35</td>\n",
       "    </tr>\n",
       "    <tr>\n",
       "      <th>371</th>\n",
       "      <td>121938</td>\n",
       "      <td>11110</td>\n",
       "      <td>Boku dake ga Inai Machi</td>\n",
       "      <td>6.0</td>\n",
       "      <td>3</td>\n",
       "      <td>30</td>\n",
       "    </tr>\n",
       "    <tr>\n",
       "      <th>111</th>\n",
       "      <td>70211</td>\n",
       "      <td>8706</td>\n",
       "      <td>The Legend of Korra Book 4: Balance</td>\n",
       "      <td>5.0</td>\n",
       "      <td>0</td>\n",
       "      <td>365</td>\n",
       "    </tr>\n",
       "    <tr>\n",
       "      <th>115</th>\n",
       "      <td>70211</td>\n",
       "      <td>907</td>\n",
       "      <td>Majutsushi Orphen</td>\n",
       "      <td>5.0</td>\n",
       "      <td>0</td>\n",
       "      <td>372</td>\n",
       "    </tr>\n",
       "    <tr>\n",
       "      <th>61</th>\n",
       "      <td>70211</td>\n",
       "      <td>6462</td>\n",
       "      <td>Another</td>\n",
       "      <td>6.0</td>\n",
       "      <td>0</td>\n",
       "      <td>216</td>\n",
       "    </tr>\n",
       "    <tr>\n",
       "      <th>210</th>\n",
       "      <td>85539</td>\n",
       "      <td>5940</td>\n",
       "      <td>Ao no Exorcist</td>\n",
       "      <td>11.0</td>\n",
       "      <td>1</td>\n",
       "      <td>195</td>\n",
       "    </tr>\n",
       "  </tbody>\n",
       "</table>\n",
       "</div>"
      ],
      "text/plain": [
       "    user_id anime_id                       canonicalTitle  eventStrength  \\\n",
       "225   85539     6760                    Kids on the Slope            5.0   \n",
       "271   85539     8638         Yuuki Yuuna wa Yuusha de Aru            5.0   \n",
       "56    70211      576     Night Walker: Mayonaka no Tantei            5.0   \n",
       "193   85539     4618                    Hanamaru Youchien            6.0   \n",
       "138   85539    11317                         Flying Witch            5.0   \n",
       "371  121938    11110              Boku dake ga Inai Machi            6.0   \n",
       "111   70211     8706  The Legend of Korra Book 4: Balance            5.0   \n",
       "115   70211      907                    Majutsushi Orphen            5.0   \n",
       "61    70211     6462                              Another            6.0   \n",
       "210   85539     5940                       Ao no Exorcist           11.0   \n",
       "\n",
       "     person_id  content_id  \n",
       "225          1         231  \n",
       "271          1         354  \n",
       "56           0         192  \n",
       "193          1         153  \n",
       "138          1          35  \n",
       "371          3          30  \n",
       "111          0         365  \n",
       "115          0         372  \n",
       "61           0         216  \n",
       "210          1         195  "
      ]
     },
     "execution_count": 34,
     "metadata": {},
     "output_type": "execute_result"
    }
   ],
   "source": [
    "# Peek at random 10 rows\n",
    "grouped_df.sample(10)"
   ]
  },
  {
   "cell_type": "markdown",
   "metadata": {},
   "source": [
    "# Set up initial recommendation model using interaction data"
   ]
  },
  {
   "cell_type": "code",
   "execution_count": 35,
   "metadata": {
    "ExecuteTime": {
     "end_time": "2021-11-18T04:55:29.927575Z",
     "start_time": "2021-11-18T04:55:29.902221Z"
    }
   },
   "outputs": [],
   "source": [
    "# Importing useful recommendation functions from .py file\n",
    "# Credit to https://github.com/jmsteinw\n",
    "from implicit_rec_functions import *"
   ]
  },
  {
   "cell_type": "code",
   "execution_count": 36,
   "metadata": {
    "ExecuteTime": {
     "end_time": "2021-11-18T04:55:30.482629Z",
     "start_time": "2021-11-18T04:55:30.453506Z"
    }
   },
   "outputs": [],
   "source": [
    "product_train, product_test, product_users_altered = make_train(sparse_person_mat, pct_test = 0.2)"
   ]
  },
  {
   "cell_type": "code",
   "execution_count": 41,
   "metadata": {
    "ExecuteTime": {
     "end_time": "2021-11-18T04:56:30.778247Z",
     "start_time": "2021-11-18T04:56:30.132877Z"
    }
   },
   "outputs": [
    {
     "name": "stderr",
     "output_type": "stream",
     "text": [
      "WARNING:implicit:This method is deprecated. Please use the AlternatingLeastSquares class instead\n"
     ]
    },
    {
     "data": {
      "application/vnd.jupyter.widget-view+json": {
       "model_id": "b972b0d658854e7bae3a6ede46af8fef",
       "version_major": 2,
       "version_minor": 0
      },
      "text/plain": [
       "HBox(children=(HTML(value=''), FloatProgress(value=0.0, max=50.0), HTML(value='')))"
      ]
     },
     "metadata": {},
     "output_type": "display_data"
    },
    {
     "name": "stdout",
     "output_type": "stream",
     "text": [
      "\n"
     ]
    }
   ],
   "source": [
    "alpha = 15\n",
    "user_vecs, item_vecs = implicit.alternating_least_squares((product_train*alpha).astype('double'), \n",
    "                                                          factors=20,\n",
    "                                                          regularization = 0.1, \n",
    "                                                         iterations = 50)"
   ]
  },
  {
   "cell_type": "markdown",
   "metadata": {},
   "source": [
    "Using AUC score as a metric for modeling: https://stats.stackexchange.com/questions/68893/area-under-curve-of-roc-vs-overall-accuracy\n",
    "\n",
    "With the 'make_train' function we imported -- we set aside 20% of our data for testing and evaluating our recommender system. We will need to see if the order of anime recommendations end up being anime the user eventually interacted with (favorited, completed, in progress etc).\n",
    "\n",
    "We will also use a function imported called 'calc_mean_auc' which will calculate the AUC for the most popular anime to compare the anime our user actually interacted with. "
   ]
  },
  {
   "cell_type": "markdown",
   "metadata": {},
   "source": [
    "# Initial Model Evaluation"
   ]
  },
  {
   "cell_type": "code",
   "execution_count": 42,
   "metadata": {
    "ExecuteTime": {
     "end_time": "2021-11-18T04:56:34.290999Z",
     "start_time": "2021-11-18T04:56:34.244618Z"
    }
   },
   "outputs": [
    {
     "data": {
      "text/plain": [
       "(0.606, 0.616)"
      ]
     },
     "execution_count": 42,
     "metadata": {},
     "output_type": "execute_result"
    }
   ],
   "source": [
    "# Importing calc_mean_auc to compare the AUC value of our recommender system versus recommender the most popular\n",
    "calc_mean_auc(product_train, product_users_altered, \n",
    "              [sparse.csr_matrix(user_vecs), sparse.csr_matrix(item_vecs.T)], product_test)"
   ]
  },
  {
   "cell_type": "markdown",
   "metadata": {},
   "source": [
    "We see from the results above that our recommender system had a mean AUC of 0.62 versus the popular anime benchmark of 0.616. While not incredibly impressive, our recommender system is performing slightly better than if we were to recommend the most popular anime."
   ]
  },
  {
   "cell_type": "code",
   "execution_count": 43,
   "metadata": {
    "ExecuteTime": {
     "end_time": "2021-11-18T04:56:39.167002Z",
     "start_time": "2021-11-18T04:56:39.150077Z"
    }
   },
   "outputs": [],
   "source": [
    "# Get unique users\n",
    "users = list(np.sort(grouped_df.person_id.unique()))\n",
    "\n",
    "# Get unique anime interacted with\n",
    "anime = list(grouped_df.content_id.unique())\n",
    "\n",
    "# Create numpy array of users and anime\n",
    "users_arr = np.array(users)\n",
    "anime_arr = np.array(anime)"
   ]
  },
  {
   "cell_type": "code",
   "execution_count": 44,
   "metadata": {
    "ExecuteTime": {
     "end_time": "2021-11-18T04:56:39.196478Z",
     "start_time": "2021-11-18T04:56:39.172233Z"
    }
   },
   "outputs": [],
   "source": [
    "def get_anime_interacted(person_id, mf_train, users_list, anime_list, anime_lookup):\n",
    "    \"\"\"\n",
    "    Returns a dataframe showcasing the anime a user has already interacted with in the training set.\n",
    "    \n",
    "    Parameters\n",
    "    ----------\n",
    "    user_id : int\n",
    "    mf_train: sparse_matrix\n",
    "    users_list: numpy array of users\n",
    "    anime_list: numpy array of anime\n",
    "    anime_lookup: lookup of id and anime\n",
    "    Returns\n",
    "    -------\n",
    "    Pandas dataframe\n",
    "    \n",
    "    \"\"\"\n",
    "    # Returns the index row of our user id\n",
    "    user_ind = np.where(users_list == person_id)[0][0]\n",
    "    \n",
    "    # Get column indices of interacted anime\n",
    "    interacted_ind = mf_train[user_ind,:].nonzero()[1]\n",
    "    \n",
    "    anime_codes = anime_list[interacted_ind]\n",
    "    return anime_lookup.loc[anime_lookup.content_id.isin(anime_codes)]"
   ]
  },
  {
   "cell_type": "code",
   "execution_count": 45,
   "metadata": {
    "ExecuteTime": {
     "end_time": "2021-11-18T04:56:39.244271Z",
     "start_time": "2021-11-18T04:56:39.204039Z"
    }
   },
   "outputs": [
    {
     "data": {
      "text/html": [
       "<div>\n",
       "<style scoped>\n",
       "    .dataframe tbody tr th:only-of-type {\n",
       "        vertical-align: middle;\n",
       "    }\n",
       "\n",
       "    .dataframe tbody tr th {\n",
       "        vertical-align: top;\n",
       "    }\n",
       "\n",
       "    .dataframe thead th {\n",
       "        text-align: right;\n",
       "    }\n",
       "</style>\n",
       "<table border=\"1\" class=\"dataframe\">\n",
       "  <thead>\n",
       "    <tr style=\"text-align: right;\">\n",
       "      <th></th>\n",
       "      <th>content_id</th>\n",
       "      <th>canonicalTitle</th>\n",
       "    </tr>\n",
       "  </thead>\n",
       "  <tbody>\n",
       "    <tr>\n",
       "      <th>1</th>\n",
       "      <td>9</td>\n",
       "      <td>Fate/stay night: Unlimited Blade Works 2nd Season</td>\n",
       "    </tr>\n",
       "    <tr>\n",
       "      <th>2</th>\n",
       "      <td>14</td>\n",
       "      <td>Fushigi Yuugi</td>\n",
       "    </tr>\n",
       "    <tr>\n",
       "      <th>3</th>\n",
       "      <td>19</td>\n",
       "      <td>Slayers Try</td>\n",
       "    </tr>\n",
       "    <tr>\n",
       "      <th>5</th>\n",
       "      <td>34</td>\n",
       "      <td>Fushigi no Umi no Nadia</td>\n",
       "    </tr>\n",
       "    <tr>\n",
       "      <th>8</th>\n",
       "      <td>65</td>\n",
       "      <td>Taiho Shichau zo (TV)</td>\n",
       "    </tr>\n",
       "    <tr>\n",
       "      <th>...</th>\n",
       "      <td>...</td>\n",
       "      <td>...</td>\n",
       "    </tr>\n",
       "    <tr>\n",
       "      <th>421</th>\n",
       "      <td>6</td>\n",
       "      <td>Koutetsujou no Kabaneri</td>\n",
       "    </tr>\n",
       "    <tr>\n",
       "      <th>423</th>\n",
       "      <td>24</td>\n",
       "      <td>Valkyrie Drive: Mermaid</td>\n",
       "    </tr>\n",
       "    <tr>\n",
       "      <th>438</th>\n",
       "      <td>104</td>\n",
       "      <td>Neon Genesis Evangelion: Death &amp; Rebirth</td>\n",
       "    </tr>\n",
       "    <tr>\n",
       "      <th>452</th>\n",
       "      <td>198</td>\n",
       "      <td>Mobile Suit Gundam: The 08th MS Team</td>\n",
       "    </tr>\n",
       "    <tr>\n",
       "      <th>466</th>\n",
       "      <td>325</td>\n",
       "      <td>When Marnie Was There</td>\n",
       "    </tr>\n",
       "  </tbody>\n",
       "</table>\n",
       "<p>126 rows × 2 columns</p>\n",
       "</div>"
      ],
      "text/plain": [
       "     content_id                                     canonicalTitle\n",
       "1             9  Fate/stay night: Unlimited Blade Works 2nd Season\n",
       "2            14                                      Fushigi Yuugi\n",
       "3            19                                        Slayers Try\n",
       "5            34                            Fushigi no Umi no Nadia\n",
       "8            65                              Taiho Shichau zo (TV)\n",
       "..          ...                                                ...\n",
       "421           6                            Koutetsujou no Kabaneri\n",
       "423          24                            Valkyrie Drive: Mermaid\n",
       "438         104           Neon Genesis Evangelion: Death & Rebirth\n",
       "452         198               Mobile Suit Gundam: The 08th MS Team\n",
       "466         325                              When Marnie Was There\n",
       "\n",
       "[126 rows x 2 columns]"
      ]
     },
     "execution_count": 45,
     "metadata": {},
     "output_type": "execute_result"
    }
   ],
   "source": [
    "# Check for anime interacted with for a give user\n",
    "get_anime_interacted(1, product_train, users_arr, anime_arr, anime_lookup)"
   ]
  },
  {
   "cell_type": "markdown",
   "metadata": {},
   "source": [
    "We will create a function below to take in training set we saved along with our user and anime vectors to recommend anime for a given user."
   ]
  },
  {
   "cell_type": "code",
   "execution_count": 46,
   "metadata": {
    "ExecuteTime": {
     "end_time": "2021-11-18T04:56:39.275932Z",
     "start_time": "2021-11-18T04:56:39.248245Z"
    }
   },
   "outputs": [],
   "source": [
    "def rec_anime(user_id, mf_train, user_vecs, item_vecs, user_list, anime_list, item_lookup, num_items = 10):\n",
    "    \"\"\"\n",
    "    Returns a list of a user's favorite anime\n",
    "\n",
    "    Parameters\n",
    "    ----------\n",
    "    user_id : The user_id that we aim to provide recommendations for\n",
    "    mf_train: Training matrix\n",
    "    user_vecs: User vectors from fitted matrix factorization\n",
    "    anime_vecs: Anime vectors from fitted matrix factorization\n",
    "    user_list: Array of user ID numbers\n",
    "    anime_list: Array of anime ID numbers\n",
    "    item_lookup: Pandas dataframe of anime ID and canonical title\n",
    "\n",
    "    Returns\n",
    "    -------\n",
    "    Top n recommendations based on the user/anime vectors for anime a user has not interacted with\n",
    "    \"\"\"\n",
    "    \n",
    "    # Get index row of user_id\n",
    "    cust_ind = np.where(user_list == user_id)[0][0]\n",
    "    pref_vec = mf_train[cust_ind,:].toarray()\n",
    "    # Add 1 to everything, so that anime not interacted yet become equal to 1\n",
    "    pref_vec = pref_vec.reshape(-1) + 1\n",
    "    pref_vec[pref_vec > 1] = 0 \n",
    "    rec_vector = user_vecs[cust_ind,:].dot(item_vecs.T)\n",
    "    min_max = MinMaxScaler()\n",
    "    rec_vector_scaled = min_max.fit_transform(rec_vector.reshape(-1,1))[:,0] \n",
    "    recommend_vector = pref_vec*rec_vector_scaled \n",
    "    # Anime already interacted have their recommendation multiplied by zero\n",
    "    \n",
    "    # Sort the indices of the items into order \n",
    "    product_idx = np.argsort(recommend_vector)[::-1][:num_items]\n",
    "    # of best recommendations\n",
    "    rec_list = [] # start empty list to store anime\n",
    "    for index in product_idx:\n",
    "        code = anime_list[index]\n",
    "        rec_list.append([code, item_lookup.canonicalTitle.loc[item_lookup.content_id == code].iloc[0]]) \n",
    "\n",
    "    codes = [item[0] for item in rec_list]\n",
    "    descriptions = [item[1] for item in rec_list]\n",
    "    final_frame = pd.DataFrame({'content_id': codes, 'canonicalTitle': descriptions})\n",
    "    return final_frame[['content_id', 'canonicalTitle']]"
   ]
  },
  {
   "cell_type": "markdown",
   "metadata": {},
   "source": [
    "This function will return the num_items highest ranking anime for a particular user. Anime not interacted by the user will not be recommended. For now, the default to recommend is the top 10."
   ]
  },
  {
   "cell_type": "markdown",
   "metadata": {},
   "source": [
    "# Qualitative Evalaution"
   ]
  },
  {
   "cell_type": "code",
   "execution_count": 47,
   "metadata": {
    "ExecuteTime": {
     "end_time": "2021-11-18T04:56:39.321928Z",
     "start_time": "2021-11-18T04:56:39.281587Z"
    }
   },
   "outputs": [
    {
     "data": {
      "text/html": [
       "<div>\n",
       "<style scoped>\n",
       "    .dataframe tbody tr th:only-of-type {\n",
       "        vertical-align: middle;\n",
       "    }\n",
       "\n",
       "    .dataframe tbody tr th {\n",
       "        vertical-align: top;\n",
       "    }\n",
       "\n",
       "    .dataframe thead th {\n",
       "        text-align: right;\n",
       "    }\n",
       "</style>\n",
       "<table border=\"1\" class=\"dataframe\">\n",
       "  <thead>\n",
       "    <tr style=\"text-align: right;\">\n",
       "      <th></th>\n",
       "      <th>content_id</th>\n",
       "      <th>canonicalTitle</th>\n",
       "    </tr>\n",
       "  </thead>\n",
       "  <tbody>\n",
       "    <tr>\n",
       "      <th>0</th>\n",
       "      <td>346</td>\n",
       "      <td>Top wo Nerae! Gunbuster</td>\n",
       "    </tr>\n",
       "    <tr>\n",
       "      <th>1</th>\n",
       "      <td>15</td>\n",
       "      <td>Saenai Heroine no Sodatekata: Ai to Seishun no...</td>\n",
       "    </tr>\n",
       "    <tr>\n",
       "      <th>2</th>\n",
       "      <td>74</td>\n",
       "      <td>Tsurezure Children</td>\n",
       "    </tr>\n",
       "    <tr>\n",
       "      <th>3</th>\n",
       "      <td>75</td>\n",
       "      <td>Aho Girl</td>\n",
       "    </tr>\n",
       "    <tr>\n",
       "      <th>4</th>\n",
       "      <td>76</td>\n",
       "      <td>Nana Maru San Batsu</td>\n",
       "    </tr>\n",
       "    <tr>\n",
       "      <th>5</th>\n",
       "      <td>78</td>\n",
       "      <td>Keppeki Danshi! Aoyama-kun</td>\n",
       "    </tr>\n",
       "    <tr>\n",
       "      <th>6</th>\n",
       "      <td>82</td>\n",
       "      <td>Shoujo Shuumatsu Ryokou</td>\n",
       "    </tr>\n",
       "    <tr>\n",
       "      <th>7</th>\n",
       "      <td>107</td>\n",
       "      <td>Sayonara Zetsubou Sensei</td>\n",
       "    </tr>\n",
       "    <tr>\n",
       "      <th>8</th>\n",
       "      <td>115</td>\n",
       "      <td>Soul Eater</td>\n",
       "    </tr>\n",
       "    <tr>\n",
       "      <th>9</th>\n",
       "      <td>150</td>\n",
       "      <td>Baka to Test to Shoukanjuu</td>\n",
       "    </tr>\n",
       "  </tbody>\n",
       "</table>\n",
       "</div>"
      ],
      "text/plain": [
       "   content_id                                     canonicalTitle\n",
       "0         346                            Top wo Nerae! Gunbuster\n",
       "1          15  Saenai Heroine no Sodatekata: Ai to Seishun no...\n",
       "2          74                                 Tsurezure Children\n",
       "3          75                                           Aho Girl\n",
       "4          76                                Nana Maru San Batsu\n",
       "5          78                         Keppeki Danshi! Aoyama-kun\n",
       "6          82                            Shoujo Shuumatsu Ryokou\n",
       "7         107                           Sayonara Zetsubou Sensei\n",
       "8         115                                         Soul Eater\n",
       "9         150                         Baka to Test to Shoukanjuu"
      ]
     },
     "execution_count": 47,
     "metadata": {},
     "output_type": "execute_result"
    }
   ],
   "source": [
    "# Import rec_items function\n",
    "rec_anime(0, product_train, user_vecs, item_vecs, users_arr, anime_arr, anime_lookup,\n",
    "                       num_items = 10)"
   ]
  },
  {
   "cell_type": "markdown",
   "metadata": {},
   "source": [
    "We've made recommendations for user_id = 0. Let's retrieve the anime user 0 has actually interacted with and compare the types of anime and whether they could be interested in the recommended list above.\n",
    "\n",
    "From steps performed before, we know that we encoded user_id to kitsu user_id 70211. We will use the get_user_favorites function to retrieve there favorited anime and compare."
   ]
  },
  {
   "cell_type": "code",
   "execution_count": 48,
   "metadata": {
    "ExecuteTime": {
     "end_time": "2021-11-18T04:56:51.580356Z",
     "start_time": "2021-11-18T04:56:39.323863Z"
    }
   },
   "outputs": [
    {
     "name": "stderr",
     "output_type": "stream",
     "text": [
      "\r",
      "  0%|          | 0/9 [00:00<?, ?it/s]"
     ]
    },
    {
     "name": "stdout",
     "output_type": "stream",
     "text": [
      "Retrieving favorites data for user 70211\n"
     ]
    },
    {
     "name": "stderr",
     "output_type": "stream",
     "text": [
      "100%|██████████| 9/9 [00:12<00:00,  1.34s/it]\n"
     ]
    },
    {
     "data": {
      "text/html": [
       "<div>\n",
       "<style scoped>\n",
       "    .dataframe tbody tr th:only-of-type {\n",
       "        vertical-align: middle;\n",
       "    }\n",
       "\n",
       "    .dataframe tbody tr th {\n",
       "        vertical-align: top;\n",
       "    }\n",
       "\n",
       "    .dataframe thead th {\n",
       "        text-align: right;\n",
       "    }\n",
       "</style>\n",
       "<table border=\"1\" class=\"dataframe\">\n",
       "  <thead>\n",
       "    <tr style=\"text-align: right;\">\n",
       "      <th></th>\n",
       "      <th>user_id</th>\n",
       "      <th>anime_id</th>\n",
       "      <th>canonicalTitle</th>\n",
       "      <th>synopsis</th>\n",
       "      <th>description</th>\n",
       "    </tr>\n",
       "  </thead>\n",
       "  <tbody>\n",
       "    <tr>\n",
       "      <th>0</th>\n",
       "      <td>70211</td>\n",
       "      <td>7882</td>\n",
       "      <td>Fate/stay night: Unlimited Blade Works</td>\n",
       "      <td>Fuyuki City—a city surrounded by the ocean and...</td>\n",
       "      <td>Fuyuki City—a city surrounded by the ocean and...</td>\n",
       "    </tr>\n",
       "    <tr>\n",
       "      <th>1</th>\n",
       "      <td>70211</td>\n",
       "      <td>1265</td>\n",
       "      <td>Lupin III</td>\n",
       "      <td>Arsène Lupin III is the grandson of world-famo...</td>\n",
       "      <td>Arsène Lupin III is the grandson of world-famo...</td>\n",
       "    </tr>\n",
       "    <tr>\n",
       "      <th>2</th>\n",
       "      <td>70211</td>\n",
       "      <td>7723</td>\n",
       "      <td>Lupin III vs. Detective Conan: The Movie</td>\n",
       "      <td>It is a cross over between the series Lupin II...</td>\n",
       "      <td>It is a cross over between the series Lupin II...</td>\n",
       "    </tr>\n",
       "    <tr>\n",
       "      <th>3</th>\n",
       "      <td>70211</td>\n",
       "      <td>8333</td>\n",
       "      <td>Gugure! Kokkuri-san</td>\n",
       "      <td>Kohina Ichimatsu, the self-proclaimed doll, ca...</td>\n",
       "      <td>Kohina Ichimatsu, the self-proclaimed doll, ca...</td>\n",
       "    </tr>\n",
       "    <tr>\n",
       "      <th>4</th>\n",
       "      <td>70211</td>\n",
       "      <td>8648</td>\n",
       "      <td>Akatsuki no Yona</td>\n",
       "      <td>Upon her sixteenth birthday, the cheerful Prin...</td>\n",
       "      <td>Upon her sixteenth birthday, the cheerful Prin...</td>\n",
       "    </tr>\n",
       "    <tr>\n",
       "      <th>5</th>\n",
       "      <td>70211</td>\n",
       "      <td>818</td>\n",
       "      <td>Gintama</td>\n",
       "      <td>The Amanto, aliens from outer space, have inva...</td>\n",
       "      <td>The Amanto, aliens from outer space, have inva...</td>\n",
       "    </tr>\n",
       "    <tr>\n",
       "      <th>6</th>\n",
       "      <td>70211</td>\n",
       "      <td>4989</td>\n",
       "      <td>Gintama: The Movie</td>\n",
       "      <td>Gintoki and his Yorozuya friends (or rather, e...</td>\n",
       "      <td>Gintoki and his Yorozuya friends (or rather, e...</td>\n",
       "    </tr>\n",
       "    <tr>\n",
       "      <th>7</th>\n",
       "      <td>70211</td>\n",
       "      <td>7253</td>\n",
       "      <td>Gintama': Enchousen</td>\n",
       "      <td>Sakata Gintoki, Kagura, and Shinpachi Shimura ...</td>\n",
       "      <td>Sakata Gintoki, Kagura, and Shinpachi Shimura ...</td>\n",
       "    </tr>\n",
       "    <tr>\n",
       "      <th>8</th>\n",
       "      <td>70211</td>\n",
       "      <td>7241</td>\n",
       "      <td>Gintama Movie 2: Kanketsu-hen - Yorozuya yo Ei...</td>\n",
       "      <td>When Gintoki apprehends a movie pirate at a pr...</td>\n",
       "      <td>When Gintoki apprehends a movie pirate at a pr...</td>\n",
       "    </tr>\n",
       "    <tr>\n",
       "      <th>9</th>\n",
       "      <td>70211</td>\n",
       "      <td>7863</td>\n",
       "      <td>Psycho-Pass 2</td>\n",
       "      <td>A year and a half after the events of the orig...</td>\n",
       "      <td>A year and a half after the events of the orig...</td>\n",
       "    </tr>\n",
       "  </tbody>\n",
       "</table>\n",
       "</div>"
      ],
      "text/plain": [
       "   user_id anime_id                                     canonicalTitle  \\\n",
       "0    70211     7882             Fate/stay night: Unlimited Blade Works   \n",
       "1    70211     1265                                          Lupin III   \n",
       "2    70211     7723           Lupin III vs. Detective Conan: The Movie   \n",
       "3    70211     8333                                Gugure! Kokkuri-san   \n",
       "4    70211     8648                                   Akatsuki no Yona   \n",
       "5    70211      818                                            Gintama   \n",
       "6    70211     4989                                 Gintama: The Movie   \n",
       "7    70211     7253                                Gintama': Enchousen   \n",
       "8    70211     7241  Gintama Movie 2: Kanketsu-hen - Yorozuya yo Ei...   \n",
       "9    70211     7863                                      Psycho-Pass 2   \n",
       "\n",
       "                                            synopsis  \\\n",
       "0  Fuyuki City—a city surrounded by the ocean and...   \n",
       "1  Arsène Lupin III is the grandson of world-famo...   \n",
       "2  It is a cross over between the series Lupin II...   \n",
       "3  Kohina Ichimatsu, the self-proclaimed doll, ca...   \n",
       "4  Upon her sixteenth birthday, the cheerful Prin...   \n",
       "5  The Amanto, aliens from outer space, have inva...   \n",
       "6  Gintoki and his Yorozuya friends (or rather, e...   \n",
       "7  Sakata Gintoki, Kagura, and Shinpachi Shimura ...   \n",
       "8  When Gintoki apprehends a movie pirate at a pr...   \n",
       "9  A year and a half after the events of the orig...   \n",
       "\n",
       "                                         description  \n",
       "0  Fuyuki City—a city surrounded by the ocean and...  \n",
       "1  Arsène Lupin III is the grandson of world-famo...  \n",
       "2  It is a cross over between the series Lupin II...  \n",
       "3  Kohina Ichimatsu, the self-proclaimed doll, ca...  \n",
       "4  Upon her sixteenth birthday, the cheerful Prin...  \n",
       "5  The Amanto, aliens from outer space, have inva...  \n",
       "6  Gintoki and his Yorozuya friends (or rather, e...  \n",
       "7  Sakata Gintoki, Kagura, and Shinpachi Shimura ...  \n",
       "8  When Gintoki apprehends a movie pirate at a pr...  \n",
       "9  A year and a half after the events of the orig...  "
      ]
     },
     "execution_count": 48,
     "metadata": {},
     "output_type": "execute_result"
    }
   ],
   "source": [
    "user_example_fav_df = pd.DataFrame(get_user_favorites(70211))\n",
    "user_example_fav_df.head(10)"
   ]
  },
  {
   "cell_type": "markdown",
   "metadata": {},
   "source": [
    "From the user 70211 favorited list, we can assess at high level that this person is generally interested in shonen, action, mystery, and fantasy type anime. This type of genre is most prevalent in their favorited titles of:\n",
    "- Fate/stay night: Unlimited Blade Workds\n",
    "- Lupin III\n",
    "- Lupin III vs. Detective Conan: The Movie\n",
    "- Gintama Series\n",
    "\n",
    "From the recommended list the anime that most resonates with these genres is Dragon Ball Z, a highly popular shonen anime that aligns with the likes of the Gintama and Fate/stay night series. Along with Dragon Ball Z, we see Yu-Gi-Oh and Full Metal Panic, other highly popular shonen / action type of anime that align with user 70211's favorites list.\n",
    "\n",
    "More than that, what is interesting to see recommended is the Barakamon anime which is published by Square Enix. From the user's favorites, we see Gugure! Kokkuri-san, another Square Enix published anime that share a similar comedy / slice-of-life type of genre. \n",
    "\n",
    "One last observation interesting to see is the recommended anime Baccano! This is considered a mystery thriller type of anime which is very similar to the entire Lupin III series user 70211 is interested in.\n",
    "\n",
    "Altogether for user 70211 at least, the model appears to be performing quite well. Though it should be noted that user \n",
    "70211 was considered one of the top anime users, hence there is quite some data to train on when making recommendations."
   ]
  },
  {
   "cell_type": "markdown",
   "metadata": {},
   "source": [
    "# Alternating Least Squares Cross Validation\n",
    "In this step we will attempt to tune the hyperparameters of our ALS model using **train_test_split** and **precision at k** evaluation metric function from the implicit library. "
   ]
  },
  {
   "cell_type": "code",
   "execution_count": 49,
   "metadata": {
    "ExecuteTime": {
     "end_time": "2021-11-18T04:56:51.595306Z",
     "start_time": "2021-11-18T04:56:51.585691Z"
    }
   },
   "outputs": [],
   "source": [
    "# Import implicit eval functions\n",
    "from implicit.evaluation import precision_at_k, train_test_split, mean_average_precision_at_k, AUC_at_k"
   ]
  },
  {
   "cell_type": "code",
   "execution_count": 50,
   "metadata": {
    "ExecuteTime": {
     "end_time": "2021-11-18T04:56:51.642614Z",
     "start_time": "2021-11-18T04:56:51.603848Z"
    }
   },
   "outputs": [
    {
     "data": {
      "text/html": [
       "<div>\n",
       "<style scoped>\n",
       "    .dataframe tbody tr th:only-of-type {\n",
       "        vertical-align: middle;\n",
       "    }\n",
       "\n",
       "    .dataframe tbody tr th {\n",
       "        vertical-align: top;\n",
       "    }\n",
       "\n",
       "    .dataframe thead th {\n",
       "        text-align: right;\n",
       "    }\n",
       "</style>\n",
       "<table border=\"1\" class=\"dataframe\">\n",
       "  <thead>\n",
       "    <tr style=\"text-align: right;\">\n",
       "      <th></th>\n",
       "      <th>user_id</th>\n",
       "      <th>anime_id</th>\n",
       "      <th>canonicalTitle</th>\n",
       "      <th>eventStrength</th>\n",
       "      <th>person_id</th>\n",
       "      <th>content_id</th>\n",
       "    </tr>\n",
       "  </thead>\n",
       "  <tbody>\n",
       "    <tr>\n",
       "      <th>0</th>\n",
       "      <td>70211</td>\n",
       "      <td>1</td>\n",
       "      <td>Cowboy Bebop</td>\n",
       "      <td>6.0</td>\n",
       "      <td>0</td>\n",
       "      <td>0</td>\n",
       "    </tr>\n",
       "    <tr>\n",
       "      <th>1</th>\n",
       "      <td>70211</td>\n",
       "      <td>10052</td>\n",
       "      <td>Fate/stay night: Unlimited Blade Works 2nd Season</td>\n",
       "      <td>5.0</td>\n",
       "      <td>0</td>\n",
       "      <td>9</td>\n",
       "    </tr>\n",
       "    <tr>\n",
       "      <th>2</th>\n",
       "      <td>70211</td>\n",
       "      <td>102</td>\n",
       "      <td>Fushigi Yuugi</td>\n",
       "      <td>6.0</td>\n",
       "      <td>0</td>\n",
       "      <td>14</td>\n",
       "    </tr>\n",
       "    <tr>\n",
       "      <th>3</th>\n",
       "      <td>70211</td>\n",
       "      <td>1053</td>\n",
       "      <td>Slayers Try</td>\n",
       "      <td>5.0</td>\n",
       "      <td>0</td>\n",
       "      <td>19</td>\n",
       "    </tr>\n",
       "    <tr>\n",
       "      <th>4</th>\n",
       "      <td>70211</td>\n",
       "      <td>108</td>\n",
       "      <td>Gensoumaden Saiyuuki</td>\n",
       "      <td>6.0</td>\n",
       "      <td>0</td>\n",
       "      <td>25</td>\n",
       "    </tr>\n",
       "  </tbody>\n",
       "</table>\n",
       "</div>"
      ],
      "text/plain": [
       "  user_id anime_id                                     canonicalTitle  \\\n",
       "0   70211        1                                       Cowboy Bebop   \n",
       "1   70211    10052  Fate/stay night: Unlimited Blade Works 2nd Season   \n",
       "2   70211      102                                      Fushigi Yuugi   \n",
       "3   70211     1053                                        Slayers Try   \n",
       "4   70211      108                               Gensoumaden Saiyuuki   \n",
       "\n",
       "   eventStrength  person_id  content_id  \n",
       "0            6.0          0           0  \n",
       "1            5.0          0           9  \n",
       "2            6.0          0          14  \n",
       "3            5.0          0          19  \n",
       "4            6.0          0          25  "
      ]
     },
     "execution_count": 50,
     "metadata": {},
     "output_type": "execute_result"
    }
   ],
   "source": [
    "grouped_df.head()"
   ]
  },
  {
   "cell_type": "code",
   "execution_count": 53,
   "metadata": {
    "ExecuteTime": {
     "end_time": "2021-11-18T04:57:05.865129Z",
     "start_time": "2021-11-18T04:57:05.820789Z"
    }
   },
   "outputs": [],
   "source": [
    "interaction_matrix = grouped_df.pivot_table(values='eventStrength',index='person_id',columns='content_id')"
   ]
  },
  {
   "cell_type": "code",
   "execution_count": 59,
   "metadata": {
    "ExecuteTime": {
     "end_time": "2021-11-18T04:57:48.056161Z",
     "start_time": "2021-11-18T04:57:48.040040Z"
    }
   },
   "outputs": [],
   "source": [
    "interaction_matrix.fillna(0,inplace=True)"
   ]
  },
  {
   "cell_type": "code",
   "execution_count": 60,
   "metadata": {
    "ExecuteTime": {
     "end_time": "2021-11-18T04:57:50.902323Z",
     "start_time": "2021-11-18T04:57:50.891333Z"
    }
   },
   "outputs": [],
   "source": [
    "interaction_mat = sparse.csr_matrix(interaction_matrix)"
   ]
  },
  {
   "cell_type": "code",
   "execution_count": 61,
   "metadata": {
    "ExecuteTime": {
     "end_time": "2021-11-18T04:57:51.622372Z",
     "start_time": "2021-11-18T04:57:51.612275Z"
    },
    "scrolled": true
   },
   "outputs": [],
   "source": [
    "train, test = train_test_split(interaction_mat)\n",
    "\n",
    "# model = implicit.als.AlternatingLeastSquares(factors=128, regularization=20, iterations=50)\n",
    "# model.fit(train)\n",
    "# p = precision_at_k(model, train.T.tocsr(), test.T.tocsr(), K=10, num_threads=4)"
   ]
  },
  {
   "cell_type": "markdown",
   "metadata": {},
   "source": [
    "## Hypertuning"
   ]
  },
  {
   "cell_type": "code",
   "execution_count": 62,
   "metadata": {
    "ExecuteTime": {
     "end_time": "2021-11-18T04:57:52.821392Z",
     "start_time": "2021-11-18T04:57:52.805974Z"
    }
   },
   "outputs": [],
   "source": [
    "param_grid = {'num_factors': [10, 20, 40, 80],\n",
    "              'regularization': [0, 1e-5, 1e-3, 1e-1],\n",
    "              'iterations': [10, 20, 30, 50]}"
   ]
  },
  {
   "cell_type": "code",
   "execution_count": 75,
   "metadata": {
    "ExecuteTime": {
     "end_time": "2021-11-18T05:10:47.231980Z",
     "start_time": "2021-11-18T05:10:47.216046Z"
    }
   },
   "outputs": [],
   "source": [
    "eval_results = {'run_num':[],\n",
    "                'num_f':[],\n",
    "                'regularization':[],\n",
    "                'iterations':[],\n",
    "                'p_k':[],\n",
    "                'map_k':[]}"
   ]
  },
  {
   "cell_type": "code",
   "execution_count": 76,
   "metadata": {
    "ExecuteTime": {
     "end_time": "2021-11-18T05:11:17.650044Z",
     "start_time": "2021-11-18T05:10:47.938315Z"
    },
    "scrolled": true
   },
   "outputs": [
    {
     "name": "stderr",
     "output_type": "stream",
     "text": [
      "100%|██████████| 4/4 [00:29<00:00,  7.42s/it]\n"
     ]
    }
   ],
   "source": [
    "iter_num = 0\n",
    "\n",
    "for num_f in tqdm( param_grid['num_factors'] ):\n",
    "    for reg in param_grid['regularization']:\n",
    "        for itr in param_grid['iterations']:\n",
    "            \n",
    "            iter_num += 1\n",
    "            \n",
    "            model = implicit.als.AlternatingLeastSquares(factors=num_f,regularization=reg, iterations=itr)\n",
    "            \n",
    "            model.fit(train, show_progress=False)\n",
    "            \n",
    "            # Calculate precision at k eval metric\n",
    "            p_k = precision_at_k(model,\n",
    "                                 train.T.tocsr(),\n",
    "                                 test.T.tocsr(),\n",
    "                                 K=10,\n",
    "                                 num_threads=4,\n",
    "                                 show_progress=False)\n",
    "            \n",
    "            # Calculate mean average precision at k metric\n",
    "            map_k = mean_average_precision_at_k(model,\n",
    "                                                train.T.tocsr(),\n",
    "                                                test.T.tocsr(),\n",
    "                                                K=10,\n",
    "                                                num_threads=4,\n",
    "                                                show_progress=False)\n",
    "            \n",
    "            # Collect values in eval_results dictionary\n",
    "            eval_results['run_num'].append(iter_num)\n",
    "            eval_results['num_f'].append(num_f)\n",
    "            eval_results['regularization'].append(reg)\n",
    "            eval_results['iterations'].append(itr)\n",
    "            eval_results['p_k'].append(p_k)\n",
    "            eval_results['map_k'].append(map_k)"
   ]
  },
  {
   "cell_type": "code",
   "execution_count": 77,
   "metadata": {
    "ExecuteTime": {
     "end_time": "2021-11-18T05:11:18.353833Z",
     "start_time": "2021-11-18T05:11:18.329778Z"
    }
   },
   "outputs": [
    {
     "data": {
      "text/html": [
       "<div>\n",
       "<style scoped>\n",
       "    .dataframe tbody tr th:only-of-type {\n",
       "        vertical-align: middle;\n",
       "    }\n",
       "\n",
       "    .dataframe tbody tr th {\n",
       "        vertical-align: top;\n",
       "    }\n",
       "\n",
       "    .dataframe thead th {\n",
       "        text-align: right;\n",
       "    }\n",
       "</style>\n",
       "<table border=\"1\" class=\"dataframe\">\n",
       "  <thead>\n",
       "    <tr style=\"text-align: right;\">\n",
       "      <th></th>\n",
       "      <th>run_num</th>\n",
       "      <th>num_f</th>\n",
       "      <th>regularization</th>\n",
       "      <th>iterations</th>\n",
       "      <th>p_k</th>\n",
       "      <th>map_k</th>\n",
       "    </tr>\n",
       "  </thead>\n",
       "  <tbody>\n",
       "    <tr>\n",
       "      <th>0</th>\n",
       "      <td>1</td>\n",
       "      <td>10</td>\n",
       "      <td>0.00000</td>\n",
       "      <td>10</td>\n",
       "      <td>2.272059</td>\n",
       "      <td>1.239045</td>\n",
       "    </tr>\n",
       "    <tr>\n",
       "      <th>1</th>\n",
       "      <td>2</td>\n",
       "      <td>10</td>\n",
       "      <td>0.00000</td>\n",
       "      <td>20</td>\n",
       "      <td>2.272059</td>\n",
       "      <td>1.254793</td>\n",
       "    </tr>\n",
       "    <tr>\n",
       "      <th>2</th>\n",
       "      <td>3</td>\n",
       "      <td>10</td>\n",
       "      <td>0.00000</td>\n",
       "      <td>30</td>\n",
       "      <td>2.272059</td>\n",
       "      <td>1.221329</td>\n",
       "    </tr>\n",
       "    <tr>\n",
       "      <th>3</th>\n",
       "      <td>4</td>\n",
       "      <td>10</td>\n",
       "      <td>0.00000</td>\n",
       "      <td>50</td>\n",
       "      <td>2.272059</td>\n",
       "      <td>1.253262</td>\n",
       "    </tr>\n",
       "    <tr>\n",
       "      <th>4</th>\n",
       "      <td>5</td>\n",
       "      <td>10</td>\n",
       "      <td>0.00001</td>\n",
       "      <td>10</td>\n",
       "      <td>2.272059</td>\n",
       "      <td>1.241014</td>\n",
       "    </tr>\n",
       "  </tbody>\n",
       "</table>\n",
       "</div>"
      ],
      "text/plain": [
       "   run_num  num_f  regularization  iterations       p_k     map_k\n",
       "0        1     10         0.00000          10  2.272059  1.239045\n",
       "1        2     10         0.00000          20  2.272059  1.254793\n",
       "2        3     10         0.00000          30  2.272059  1.221329\n",
       "3        4     10         0.00000          50  2.272059  1.253262\n",
       "4        5     10         0.00001          10  2.272059  1.241014"
      ]
     },
     "execution_count": 77,
     "metadata": {},
     "output_type": "execute_result"
    }
   ],
   "source": [
    "eval_df = pd.DataFrame(eval_results)\n",
    "eval_df.head()"
   ]
  },
  {
   "cell_type": "markdown",
   "metadata": {},
   "source": [
    "Now that we've constructed our eval dataframe along with our eval metrics and its corresponding parameters, we can select the highest p at k and use its parameter values to set up our final model."
   ]
  },
  {
   "cell_type": "markdown",
   "metadata": {},
   "source": [
    "# Set up Final Model"
   ]
  },
  {
   "cell_type": "code",
   "execution_count": 89,
   "metadata": {
    "ExecuteTime": {
     "end_time": "2021-11-18T05:27:00.531974Z",
     "start_time": "2021-11-18T05:27:00.500761Z"
    }
   },
   "outputs": [],
   "source": [
    "# Get max value for map_k\n",
    "max_mapk = eval_df['map_k'].max()\n",
    "\n",
    "# Get the index where max of map_k is located\n",
    "max_mapk_idx = eval_df[eval_df['map_k']==max_mapk].index\n",
    "\n",
    "# Isolate the parameters\n",
    "map_k_row = eval_df.iloc[max_mapk_idx]\n",
    "\n",
    "num_f = map_k_row['num_f'].item()\n",
    "reg = map_k_row['regularization'].item()\n",
    "itr = map_k_row['iterations'].item()"
   ]
  },
  {
   "cell_type": "code",
   "execution_count": 130,
   "metadata": {
    "ExecuteTime": {
     "end_time": "2021-11-18T06:14:10.697389Z",
     "start_time": "2021-11-18T06:14:10.221128Z"
    }
   },
   "outputs": [
    {
     "data": {
      "application/vnd.jupyter.widget-view+json": {
       "model_id": "6d72659a72a94ee6992dba8e903af726",
       "version_major": 2,
       "version_minor": 0
      },
      "text/plain": [
       "HBox(children=(HTML(value=''), FloatProgress(value=0.0, max=30.0), HTML(value='')))"
      ]
     },
     "metadata": {},
     "output_type": "display_data"
    },
    {
     "name": "stdout",
     "output_type": "stream",
     "text": [
      "\n"
     ]
    }
   ],
   "source": [
    "fin_model = implicit.als.AlternatingLeastSquares(factors=num_f,\n",
    "                                                 regularization=reg,\n",
    "                                                 iterations=itr)\n",
    "\n",
    "alpha = 15\n",
    "data = (sparse_content_mat * alpha).astype('double')\n",
    "\n",
    "fin_model.fit(data)\n",
    "\n",
    "user_vecs_fin = sparse.csr_matrix(fin_model.user_factors)\n",
    "item_vecs_fin = sparse.csr_matrix(fin_model.item_factors)"
   ]
  },
  {
   "cell_type": "code",
   "execution_count": 147,
   "metadata": {
    "ExecuteTime": {
     "end_time": "2021-11-18T06:17:54.389105Z",
     "start_time": "2021-11-18T06:17:54.356391Z"
    }
   },
   "outputs": [],
   "source": [
    "def final_anime_model_rec(user_id,\n",
    "                          dataset,\n",
    "                          user_vecs,\n",
    "                          item_vecs,\n",
    "                          user_list,\n",
    "                          anime_list,\n",
    "                          item_lookup,\n",
    "                          num_items=10):\n",
    "    \"\"\"\n",
    "    Returns a list of a user's favorite anime\n",
    "\n",
    "    Parameters\n",
    "    ----------\n",
    "    user_id : The user_id that we aim to provide recommendations for\n",
    "    dataset: Training matrix\n",
    "    user_vecs: User vectors from fitted matrix factorization\n",
    "    anime_vecs: Anime vectors from fitted matrix factorization\n",
    "    user_list: Array of user ID numbers\n",
    "    anime_list: Array of anime ID numbers\n",
    "    item_lookup: Pandas dataframe of anime ID and canonical title\n",
    "\n",
    "    Returns\n",
    "    -------\n",
    "    Top n recommendations based on the user/anime vectors for anime a user has not interacted with\n",
    "    \"\"\"\n",
    "\n",
    "    # Get index row of user_id\n",
    "    cust_ind = np.where(user_list == user_id)[0][0]\n",
    "    pref_vec = dataset[cust_ind, :].toarray()\n",
    "    # Add 1 to everything, so that anime not interacted yet become equal to 1\n",
    "    pref_vec = pref_vec.reshape(-1) + 1\n",
    "    pref_vec[pref_vec > 1] = 0\n",
    "    rec_vector = user_vecs[cust_ind, :].dot(item_vecs.T)\n",
    "    min_max = MaxAbsScaler()\n",
    "    rec_vector_scaled = min_max.fit_transform(rec_vector.reshape(-1, 1))[:, 0]\n",
    "    recommend_vector = pref_vec * rec_vector_scaled\n",
    "    # Anime already interacted have their recommendation multiplied by zero\n",
    "\n",
    "    # Sort the indices of the items into order\n",
    "    product_idx = np.argsort(recommend_vector)[::-1][:num_items]\n",
    "    # of best recommendations\n",
    "    rec_list = []  # start empty list to store anime\n",
    "    for index in product_idx:\n",
    "        code = anime_list[index]\n",
    "        rec_list.append([\n",
    "            code, item_lookup.canonicalTitle.loc[item_lookup.content_id ==\n",
    "                                                 code].iloc[0]\n",
    "        ])\n",
    "\n",
    "    codes = [item[0] for item in rec_list]\n",
    "    descriptions = [item[1] for item in rec_list]\n",
    "    final_frame = pd.DataFrame({\n",
    "        'content_id': codes,\n",
    "        'canonicalTitle': descriptions\n",
    "    })\n",
    "    return final_frame[['content_id', 'canonicalTitle']]"
   ]
  },
  {
   "cell_type": "code",
   "execution_count": 153,
   "metadata": {
    "ExecuteTime": {
     "end_time": "2021-11-18T06:21:42.559237Z",
     "start_time": "2021-11-18T06:21:42.152662Z"
    }
   },
   "outputs": [
    {
     "name": "stderr",
     "output_type": "stream",
     "text": [
      "WARNING:implicit:This method is deprecated. Please use the AlternatingLeastSquares class instead\n"
     ]
    },
    {
     "data": {
      "application/vnd.jupyter.widget-view+json": {
       "model_id": "c7e7823ecae443aaa62f7780ead8d93f",
       "version_major": 2,
       "version_minor": 0
      },
      "text/plain": [
       "HBox(children=(HTML(value=''), FloatProgress(value=0.0, max=30.0), HTML(value='')))"
      ]
     },
     "metadata": {},
     "output_type": "display_data"
    },
    {
     "name": "stdout",
     "output_type": "stream",
     "text": [
      "\n"
     ]
    }
   ],
   "source": [
    "alpha = 15\n",
    "user_vecs_fin, item_vecs_fin = implicit.alternating_least_squares(\n",
    "    (train * alpha).astype('double'),\n",
    "    factors=num_f,\n",
    "    regularization=reg,\n",
    "    iterations=itr)"
   ]
  },
  {
   "cell_type": "code",
   "execution_count": 158,
   "metadata": {
    "ExecuteTime": {
     "end_time": "2021-11-18T07:31:46.083358Z",
     "start_time": "2021-11-18T07:31:46.052640Z"
    }
   },
   "outputs": [
    {
     "data": {
      "text/html": [
       "<div>\n",
       "<style scoped>\n",
       "    .dataframe tbody tr th:only-of-type {\n",
       "        vertical-align: middle;\n",
       "    }\n",
       "\n",
       "    .dataframe tbody tr th {\n",
       "        vertical-align: top;\n",
       "    }\n",
       "\n",
       "    .dataframe thead th {\n",
       "        text-align: right;\n",
       "    }\n",
       "</style>\n",
       "<table border=\"1\" class=\"dataframe\">\n",
       "  <thead>\n",
       "    <tr style=\"text-align: right;\">\n",
       "      <th></th>\n",
       "      <th>content_id</th>\n",
       "      <th>canonicalTitle</th>\n",
       "    </tr>\n",
       "  </thead>\n",
       "  <tbody>\n",
       "    <tr>\n",
       "      <th>79</th>\n",
       "      <td>263</td>\n",
       "      <td>Fantasista Doll</td>\n",
       "    </tr>\n",
       "    <tr>\n",
       "      <th>334</th>\n",
       "      <td>299</td>\n",
       "      <td>Seikoku no Dragonar</td>\n",
       "    </tr>\n",
       "    <tr>\n",
       "      <th>4</th>\n",
       "      <td>25</td>\n",
       "      <td>Gensoumaden Saiyuuki</td>\n",
       "    </tr>\n",
       "    <tr>\n",
       "      <th>42</th>\n",
       "      <td>147</td>\n",
       "      <td>Gensoumaden Saiyuuki Movie: Requiem - Erabarez...</td>\n",
       "    </tr>\n",
       "    <tr>\n",
       "      <th>207</th>\n",
       "      <td>190</td>\n",
       "      <td>Steins;Gate</td>\n",
       "    </tr>\n",
       "    <tr>\n",
       "      <th>70</th>\n",
       "      <td>240</td>\n",
       "      <td>Binbougami ga!</td>\n",
       "    </tr>\n",
       "    <tr>\n",
       "      <th>373</th>\n",
       "      <td>40</td>\n",
       "      <td>Dagashi Kashi</td>\n",
       "    </tr>\n",
       "    <tr>\n",
       "      <th>157</th>\n",
       "      <td>57</td>\n",
       "      <td>Eromanga-sensei</td>\n",
       "    </tr>\n",
       "    <tr>\n",
       "      <th>96</th>\n",
       "      <td>303</td>\n",
       "      <td>Fate/stay night: Unlimited Blade Works</td>\n",
       "    </tr>\n",
       "    <tr>\n",
       "      <th>82</th>\n",
       "      <td>267</td>\n",
       "      <td>Nagi no Asukara</td>\n",
       "    </tr>\n",
       "  </tbody>\n",
       "</table>\n",
       "</div>"
      ],
      "text/plain": [
       "     content_id                                     canonicalTitle\n",
       "79          263                                    Fantasista Doll\n",
       "334         299                                Seikoku no Dragonar\n",
       "4            25                               Gensoumaden Saiyuuki\n",
       "42          147  Gensoumaden Saiyuuki Movie: Requiem - Erabarez...\n",
       "207         190                                        Steins;Gate\n",
       "70          240                                     Binbougami ga!\n",
       "373          40                                      Dagashi Kashi\n",
       "157          57                                    Eromanga-sensei\n",
       "96          303             Fate/stay night: Unlimited Blade Works\n",
       "82          267                                    Nagi no Asukara"
      ]
     },
     "execution_count": 158,
     "metadata": {},
     "output_type": "execute_result"
    }
   ],
   "source": [
    "get_anime_interacted(1,train,users_arr, anime_arr,anime_lookup).sample(10)"
   ]
  },
  {
   "cell_type": "code",
   "execution_count": 160,
   "metadata": {
    "ExecuteTime": {
     "end_time": "2021-11-18T07:31:56.341245Z",
     "start_time": "2021-11-18T07:31:56.300438Z"
    },
    "scrolled": true
   },
   "outputs": [
    {
     "data": {
      "text/html": [
       "<div>\n",
       "<style scoped>\n",
       "    .dataframe tbody tr th:only-of-type {\n",
       "        vertical-align: middle;\n",
       "    }\n",
       "\n",
       "    .dataframe tbody tr th {\n",
       "        vertical-align: top;\n",
       "    }\n",
       "\n",
       "    .dataframe thead th {\n",
       "        text-align: right;\n",
       "    }\n",
       "</style>\n",
       "<table border=\"1\" class=\"dataframe\">\n",
       "  <thead>\n",
       "    <tr style=\"text-align: right;\">\n",
       "      <th></th>\n",
       "      <th>content_id</th>\n",
       "      <th>canonicalTitle</th>\n",
       "    </tr>\n",
       "  </thead>\n",
       "  <tbody>\n",
       "    <tr>\n",
       "      <th>0</th>\n",
       "      <td>325</td>\n",
       "      <td>When Marnie Was There</td>\n",
       "    </tr>\n",
       "    <tr>\n",
       "      <th>1</th>\n",
       "      <td>188</td>\n",
       "      <td>Angel Beats! Specials</td>\n",
       "    </tr>\n",
       "    <tr>\n",
       "      <th>2</th>\n",
       "      <td>40</td>\n",
       "      <td>Dagashi Kashi</td>\n",
       "    </tr>\n",
       "    <tr>\n",
       "      <th>3</th>\n",
       "      <td>108</td>\n",
       "      <td>CLAMP in Wonderland 2</td>\n",
       "    </tr>\n",
       "    <tr>\n",
       "      <th>4</th>\n",
       "      <td>83</td>\n",
       "      <td>A Place Further Than the Universe</td>\n",
       "    </tr>\n",
       "    <tr>\n",
       "      <th>5</th>\n",
       "      <td>161</td>\n",
       "      <td>Fate/stay night Movie: Unlimited Blade Works</td>\n",
       "    </tr>\n",
       "    <tr>\n",
       "      <th>6</th>\n",
       "      <td>105</td>\n",
       "      <td>Neon Genesis Evangelion: The End of Evangelion</td>\n",
       "    </tr>\n",
       "    <tr>\n",
       "      <th>7</th>\n",
       "      <td>174</td>\n",
       "      <td>Digimon Adventure</td>\n",
       "    </tr>\n",
       "    <tr>\n",
       "      <th>8</th>\n",
       "      <td>16</td>\n",
       "      <td>Shimoneta to Iu Gainen ga Sonzai Shinai Taikut...</td>\n",
       "    </tr>\n",
       "    <tr>\n",
       "      <th>9</th>\n",
       "      <td>186</td>\n",
       "      <td>The Cat Returns</td>\n",
       "    </tr>\n",
       "  </tbody>\n",
       "</table>\n",
       "</div>"
      ],
      "text/plain": [
       "   content_id                                     canonicalTitle\n",
       "0         325                              When Marnie Was There\n",
       "1         188                              Angel Beats! Specials\n",
       "2          40                                      Dagashi Kashi\n",
       "3         108                              CLAMP in Wonderland 2\n",
       "4          83                  A Place Further Than the Universe\n",
       "5         161       Fate/stay night Movie: Unlimited Blade Works\n",
       "6         105     Neon Genesis Evangelion: The End of Evangelion\n",
       "7         174                                  Digimon Adventure\n",
       "8          16  Shimoneta to Iu Gainen ga Sonzai Shinai Taikut...\n",
       "9         186                                    The Cat Returns"
      ]
     },
     "execution_count": 160,
     "metadata": {},
     "output_type": "execute_result"
    }
   ],
   "source": [
    "final_anime_model_rec(1, test, user_vecs_fin, item_vecs_fin, users_arr, anime_arr, anime_lookup, num_items = 10)"
   ]
  },
  {
   "cell_type": "markdown",
   "metadata": {},
   "source": [
    "# Conclusion\n"
   ]
  }
 ],
 "metadata": {
  "kernelspec": {
   "display_name": "learn-env",
   "language": "python",
   "name": "learn-env"
  },
  "toc": {
   "base_numbering": 1,
   "nav_menu": {},
   "number_sections": true,
   "sideBar": true,
   "skip_h1_title": false,
   "title_cell": "Table of Contents",
   "title_sidebar": "Contents",
   "toc_cell": false,
   "toc_position": {
    "height": "calc(100% - 180px)",
    "left": "10px",
    "top": "150px",
    "width": "293.25px"
   },
   "toc_section_display": true,
   "toc_window_display": false
  },
  "varInspector": {
   "cols": {
    "lenName": 16,
    "lenType": 16,
    "lenVar": 40
   },
   "kernels_config": {
    "python": {
     "delete_cmd_postfix": "",
     "delete_cmd_prefix": "del ",
     "library": "var_list.py",
     "varRefreshCmd": "print(var_dic_list())"
    },
    "r": {
     "delete_cmd_postfix": ") ",
     "delete_cmd_prefix": "rm(",
     "library": "var_list.r",
     "varRefreshCmd": "cat(var_dic_list()) "
    }
   },
   "types_to_exclude": [
    "module",
    "function",
    "builtin_function_or_method",
    "instance",
    "_Feature"
   ],
   "window_display": false
  }
 },
 "nbformat": 4,
 "nbformat_minor": 4
}
