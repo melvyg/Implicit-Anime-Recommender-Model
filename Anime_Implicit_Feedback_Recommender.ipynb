{
 "cells": [
  {
   "cell_type": "markdown",
   "metadata": {},
   "source": [
    "# Introduction\n",
    "![title](images/anime_rec.jpg)\n",
    "Chewyroll is one of the largest anime streaming platforms on the internet. With their ever growing anime catalog, and increasing number of users, making the right anime recommendations to keep old and new users engaged is important more than ever. \n",
    "\n",
    "While the most common method to providing recommendations are through the explicit ratings users provide (ie based on an 'enjoyment' score 1-5; 1-5 stars etc.), collecting and analyzing ratings data is very scarce. Based on the data, it appears most of the time, users do not provide ratings at all, and with the increasing number of anime and users, providing meaningful recommendations solely on this method does not scale. What Chewyroll does have in abundance is 'interaction' or implicit data -- that is data around whether a user has watched something, in the middle of watching, plan to watch, favorited, or even commented on something. \n",
    "\n",
    "These data inputs are much more passive from a user's perspective, hence the quantity of implicit data far outweighs the amount of explicit data Chewyroll has. Therefore, in this project Chewyroll has tasked its team of data scientists to take advantage this implicit data and design a more robust recommender system."
   ]
  },
  {
   "cell_type": "markdown",
   "metadata": {},
   "source": [
    "# Import Dependencies"
   ]
  },
  {
   "cell_type": "code",
   "execution_count": 49,
   "metadata": {
    "ExecuteTime": {
     "end_time": "2021-11-19T04:21:52.039668Z",
     "start_time": "2021-11-19T04:21:52.033668Z"
    }
   },
   "outputs": [],
   "source": [
    "import requests as req\n",
    "import pandas as pd\n",
    "import numpy as np\n",
    "import random\n",
    "import math\n",
    "\n",
    "import scipy.sparse as sparse\n",
    "from scipy.sparse.linalg import spsolve\n",
    "import implicit\n",
    "from sklearn.preprocessing import MinMaxScaler, MaxAbsScaler\n",
    "from sklearn import metrics\n",
    "\n",
    "import matplotlib.pyplot as plt\n",
    "import seaborn as sns\n",
    "\n",
    "import ast\n",
    "import pprint\n",
    "\n",
    "from tqdm import tqdm\n",
    "\n",
    "import warnings\n",
    "warnings.filterwarnings('ignore')"
   ]
  },
  {
   "cell_type": "markdown",
   "metadata": {},
   "source": [
    "# Data Collection\n",
    "The cells below will follow a series of steps to collect data about our users and Anime content."
   ]
  },
  {
   "cell_type": "markdown",
   "metadata": {},
   "source": [
    "## Kitsu API\n",
    "\n",
    "Kitsu is a modern anime discovery platform that helps you track the anime you're watching, discover new anime and socialize with other fans.\n",
    "\n",
    "Within the Kitsu API __https://kitsu.docs.apiary.io/__ -- it contains data pertaining to users and the anime they have watched, rated, liked, commented, and overall have interacted with.\n",
    "\n",
    "In the next few cells we will aim to pull an initial sample of ~500 users and their interaction data.\n",
    "\n",
    "In total, there are 1,182,501 users and through the API, we are able to traverse through 20 results at a time. If we traverse through all 1.1M users only 20 at a time, we will need to make 59,125 iterations. \n",
    "\n",
    "For MVP purposes, we will pull a sample of 5,000 random users only needing 250 iterations."
   ]
  },
  {
   "cell_type": "markdown",
   "metadata": {},
   "source": [
    "To randomly select the 5,000 users knowing we can pull 20 from a page at a time -- we will use the following code to select for those users."
   ]
  },
  {
   "cell_type": "code",
   "execution_count": 2,
   "metadata": {
    "ExecuteTime": {
     "end_time": "2021-11-19T03:47:18.956787Z",
     "start_time": "2021-11-19T03:47:18.942740Z"
    }
   },
   "outputs": [
    {
     "name": "stdout",
     "output_type": "stream",
     "text": [
      "The pages to iterate through: 250 \n",
      "The number of users data to collect: 5000\n"
     ]
    }
   ],
   "source": [
    "num_users = 1182501\n",
    "sample_n = 5000\n",
    "users_per_page = 20\n",
    "pages_n = int(sample_n / users_per_page)\n",
    "\n",
    "# Increment the pages\n",
    "pages_array = np.arange(0,num_users,pages_n)\n",
    "\n",
    "# Shuffle the array of pages\n",
    "np.random.shuffle(pages_array)\n",
    "\n",
    "# Get the first pages_n from pages_array\n",
    "pages_to_query = pages_array[:pages_n]\n",
    "\n",
    "print(f'The pages to iterate through: {pages_n} \\nThe number of users data to collect: {pages_n*users_per_page}')"
   ]
  },
  {
   "cell_type": "code",
   "execution_count": 3,
   "metadata": {
    "ExecuteTime": {
     "end_time": "2021-11-19T03:47:19.003743Z",
     "start_time": "2021-11-19T03:47:18.990786Z"
    }
   },
   "outputs": [],
   "source": [
    "# Create users dict to collect data\n",
    "users_dict = {'id':[],\n",
    "              'name':[],\n",
    "              'location':[],\n",
    "              'createdAt':[],\n",
    "              'lifeSpentOnAnime':[],\n",
    "              'followersCount':[],\n",
    "              'followingCount':[],\n",
    "              'birthday':[],\n",
    "              'commentsCount':[],\n",
    "              'favoritesCount':[],\n",
    "              'likesGivenCount':[],\n",
    "              'reviewsCount':[],\n",
    "              'likesReceivedCount':[],\n",
    "              'postsCount':[],\n",
    "              'ratingsCount':[],\n",
    "              'likesReceivedCount':[],\n",
    "              'proTier':[],\n",
    "              'relationships':[]}"
   ]
  },
  {
   "cell_type": "markdown",
   "metadata": {},
   "source": [
    "## Iterate through pages of the Kitsu API to retrieve user data"
   ]
  },
  {
   "cell_type": "code",
   "execution_count": 6,
   "metadata": {
    "ExecuteTime": {
     "end_time": "2021-11-17T03:23:33.313623Z",
     "start_time": "2021-11-17T03:23:33.300593Z"
    },
    "scrolled": true
   },
   "outputs": [],
   "source": [
    "# Create list of keys to later iterate through \n",
    "data_extract = list(users_dict.keys())\n",
    "data_extract.remove('id')\n",
    "data_extract.remove('relationships')\n",
    "\n",
    "# Set up link to iterate through\n",
    "for page_num in tqdm(pages_to_query):\n",
    "# for page_num in [20]:\n",
    "    \n",
    "    # Set up link to retrieve response from\n",
    "    kitsu_link = f\"https://kitsu.io/api/edge/users?page%5Blimit%5D=20&page%5Boffset%5D={page_num}\"\n",
    "\n",
    "    # Retrieve response\n",
    "    response = req.get(kitsu_link)\n",
    "    data = response.json()\n",
    "\n",
    "    # Iterate through 'data' list in json API response\n",
    "    for user in data['data']:\n",
    "        \n",
    "        # Retrieve desired data points\n",
    "        attr = user['attributes']\n",
    "        user_id = user['id']\n",
    "        rel = user['relationships']\n",
    "        \n",
    "        users_dict['id'].append(user_id)\n",
    "        users_dict['relationships'].append(rel)\n",
    "        \n",
    "        # Iterate through users_dict keys for particular data points of interest\n",
    "        for key in data_extract:\n",
    "            users_dict[key].append(attr.get(key, np.nan))"
   ]
  },
  {
   "cell_type": "code",
   "execution_count": 99,
   "metadata": {
    "ExecuteTime": {
     "end_time": "2021-11-16T07:36:38.255971Z",
     "start_time": "2021-11-16T07:36:38.234414Z"
    }
   },
   "outputs": [],
   "source": [
    "# convert users_dict to a dataframe\n",
    "# animeUsers_df = pd.DataFrame(users_dict)\n",
    "\n",
    "# Save to csv\n",
    "# animeUsers_df.to_csv('animeUsers.csv',index=False)"
   ]
  },
  {
   "cell_type": "code",
   "execution_count": 4,
   "metadata": {
    "ExecuteTime": {
     "end_time": "2021-11-19T03:47:22.348879Z",
     "start_time": "2021-11-19T03:47:22.132836Z"
    }
   },
   "outputs": [],
   "source": [
    "animeUsers_df = pd.read_csv('animeUsers.csv')"
   ]
  },
  {
   "cell_type": "code",
   "execution_count": 5,
   "metadata": {
    "ExecuteTime": {
     "end_time": "2021-11-19T03:47:23.231839Z",
     "start_time": "2021-11-19T03:47:23.205837Z"
    },
    "scrolled": false
   },
   "outputs": [
    {
     "data": {
      "text/html": [
       "<div>\n",
       "<style scoped>\n",
       "    .dataframe tbody tr th:only-of-type {\n",
       "        vertical-align: middle;\n",
       "    }\n",
       "\n",
       "    .dataframe tbody tr th {\n",
       "        vertical-align: top;\n",
       "    }\n",
       "\n",
       "    .dataframe thead th {\n",
       "        text-align: right;\n",
       "    }\n",
       "</style>\n",
       "<table border=\"1\" class=\"dataframe\">\n",
       "  <thead>\n",
       "    <tr style=\"text-align: right;\">\n",
       "      <th></th>\n",
       "      <th>id</th>\n",
       "      <th>name</th>\n",
       "      <th>location</th>\n",
       "      <th>createdAt</th>\n",
       "      <th>lifeSpentOnAnime</th>\n",
       "      <th>followersCount</th>\n",
       "      <th>followingCount</th>\n",
       "      <th>birthday</th>\n",
       "      <th>commentsCount</th>\n",
       "      <th>favoritesCount</th>\n",
       "      <th>likesGivenCount</th>\n",
       "      <th>reviewsCount</th>\n",
       "      <th>likesReceivedCount</th>\n",
       "      <th>postsCount</th>\n",
       "      <th>ratingsCount</th>\n",
       "      <th>proTier</th>\n",
       "      <th>relationships</th>\n",
       "    </tr>\n",
       "  </thead>\n",
       "  <tbody>\n",
       "    <tr>\n",
       "      <th>0</th>\n",
       "      <td>717575</td>\n",
       "      <td>ybicona</td>\n",
       "      <td>Baltimore</td>\n",
       "      <td>2020-04-29T16:36:29.021Z</td>\n",
       "      <td>0</td>\n",
       "      <td>0</td>\n",
       "      <td>0</td>\n",
       "      <td>NaN</td>\n",
       "      <td>0</td>\n",
       "      <td>0</td>\n",
       "      <td>0</td>\n",
       "      <td>0</td>\n",
       "      <td>0</td>\n",
       "      <td>0</td>\n",
       "      <td>0</td>\n",
       "      <td>NaN</td>\n",
       "      <td>{'waifu': {'links': {'self': 'https://kitsu.io...</td>\n",
       "    </tr>\n",
       "    <tr>\n",
       "      <th>1</th>\n",
       "      <td>717576</td>\n",
       "      <td>skgsudhirkumar</td>\n",
       "      <td>NaN</td>\n",
       "      <td>2020-04-29T16:36:35.763Z</td>\n",
       "      <td>0</td>\n",
       "      <td>0</td>\n",
       "      <td>0</td>\n",
       "      <td>NaN</td>\n",
       "      <td>0</td>\n",
       "      <td>0</td>\n",
       "      <td>0</td>\n",
       "      <td>0</td>\n",
       "      <td>0</td>\n",
       "      <td>0</td>\n",
       "      <td>0</td>\n",
       "      <td>NaN</td>\n",
       "      <td>{'waifu': {'links': {'self': 'https://kitsu.io...</td>\n",
       "    </tr>\n",
       "    <tr>\n",
       "      <th>2</th>\n",
       "      <td>717577</td>\n",
       "      <td>βαγγέλης_μαχαίρας</td>\n",
       "      <td>NaN</td>\n",
       "      <td>2020-04-29T16:37:05.758Z</td>\n",
       "      <td>0</td>\n",
       "      <td>0</td>\n",
       "      <td>0</td>\n",
       "      <td>NaN</td>\n",
       "      <td>0</td>\n",
       "      <td>0</td>\n",
       "      <td>0</td>\n",
       "      <td>0</td>\n",
       "      <td>0</td>\n",
       "      <td>0</td>\n",
       "      <td>12</td>\n",
       "      <td>NaN</td>\n",
       "      <td>{'waifu': {'links': {'self': 'https://kitsu.io...</td>\n",
       "    </tr>\n",
       "    <tr>\n",
       "      <th>3</th>\n",
       "      <td>717578</td>\n",
       "      <td>Mame</td>\n",
       "      <td>NaN</td>\n",
       "      <td>2020-04-29T16:37:44.164Z</td>\n",
       "      <td>0</td>\n",
       "      <td>0</td>\n",
       "      <td>0</td>\n",
       "      <td>NaN</td>\n",
       "      <td>0</td>\n",
       "      <td>0</td>\n",
       "      <td>0</td>\n",
       "      <td>0</td>\n",
       "      <td>0</td>\n",
       "      <td>0</td>\n",
       "      <td>5</td>\n",
       "      <td>NaN</td>\n",
       "      <td>{'waifu': {'links': {'self': 'https://kitsu.io...</td>\n",
       "    </tr>\n",
       "    <tr>\n",
       "      <th>4</th>\n",
       "      <td>717579</td>\n",
       "      <td>ryan_maulana</td>\n",
       "      <td>NaN</td>\n",
       "      <td>2020-04-29T16:38:07.323Z</td>\n",
       "      <td>0</td>\n",
       "      <td>0</td>\n",
       "      <td>0</td>\n",
       "      <td>NaN</td>\n",
       "      <td>0</td>\n",
       "      <td>0</td>\n",
       "      <td>0</td>\n",
       "      <td>0</td>\n",
       "      <td>0</td>\n",
       "      <td>0</td>\n",
       "      <td>0</td>\n",
       "      <td>NaN</td>\n",
       "      <td>{'waifu': {'links': {'self': 'https://kitsu.io...</td>\n",
       "    </tr>\n",
       "  </tbody>\n",
       "</table>\n",
       "</div>"
      ],
      "text/plain": [
       "       id               name   location                 createdAt  \\\n",
       "0  717575            ybicona  Baltimore  2020-04-29T16:36:29.021Z   \n",
       "1  717576     skgsudhirkumar        NaN  2020-04-29T16:36:35.763Z   \n",
       "2  717577  βαγγέλης_μαχαίρας        NaN  2020-04-29T16:37:05.758Z   \n",
       "3  717578               Mame        NaN  2020-04-29T16:37:44.164Z   \n",
       "4  717579       ryan_maulana        NaN  2020-04-29T16:38:07.323Z   \n",
       "\n",
       "   lifeSpentOnAnime  followersCount  followingCount birthday  commentsCount  \\\n",
       "0                 0               0               0      NaN              0   \n",
       "1                 0               0               0      NaN              0   \n",
       "2                 0               0               0      NaN              0   \n",
       "3                 0               0               0      NaN              0   \n",
       "4                 0               0               0      NaN              0   \n",
       "\n",
       "   favoritesCount  likesGivenCount  reviewsCount  likesReceivedCount  \\\n",
       "0               0                0             0                   0   \n",
       "1               0                0             0                   0   \n",
       "2               0                0             0                   0   \n",
       "3               0                0             0                   0   \n",
       "4               0                0             0                   0   \n",
       "\n",
       "   postsCount  ratingsCount proTier  \\\n",
       "0           0             0     NaN   \n",
       "1           0             0     NaN   \n",
       "2           0            12     NaN   \n",
       "3           0             5     NaN   \n",
       "4           0             0     NaN   \n",
       "\n",
       "                                       relationships  \n",
       "0  {'waifu': {'links': {'self': 'https://kitsu.io...  \n",
       "1  {'waifu': {'links': {'self': 'https://kitsu.io...  \n",
       "2  {'waifu': {'links': {'self': 'https://kitsu.io...  \n",
       "3  {'waifu': {'links': {'self': 'https://kitsu.io...  \n",
       "4  {'waifu': {'links': {'self': 'https://kitsu.io...  "
      ]
     },
     "execution_count": 5,
     "metadata": {},
     "output_type": "execute_result"
    }
   ],
   "source": [
    "# Peek at data\n",
    "animeUsers_df.head()"
   ]
  },
  {
   "cell_type": "markdown",
   "metadata": {},
   "source": [
    "From the .head() preview from the cell above, we can tell already that there are some users that are not very active given the 0 values for **lifeSpentOnAnime**, **followersCount**, **followingCount** etc.\n",
    "\n",
    "In this case, let's sort our dataframe by **favoritesCount**  (as an arbitrary indicator for user activity). From the resulting list, we may take a certain sample active users as a sample to test our implicit recommender model."
   ]
  },
  {
   "cell_type": "code",
   "execution_count": 6,
   "metadata": {
    "ExecuteTime": {
     "end_time": "2021-11-19T03:47:27.161835Z",
     "start_time": "2021-11-19T03:47:27.124838Z"
    }
   },
   "outputs": [
    {
     "data": {
      "text/html": [
       "<div>\n",
       "<style scoped>\n",
       "    .dataframe tbody tr th:only-of-type {\n",
       "        vertical-align: middle;\n",
       "    }\n",
       "\n",
       "    .dataframe tbody tr th {\n",
       "        vertical-align: top;\n",
       "    }\n",
       "\n",
       "    .dataframe thead th {\n",
       "        text-align: right;\n",
       "    }\n",
       "</style>\n",
       "<table border=\"1\" class=\"dataframe\">\n",
       "  <thead>\n",
       "    <tr style=\"text-align: right;\">\n",
       "      <th></th>\n",
       "      <th>id</th>\n",
       "      <th>name</th>\n",
       "      <th>location</th>\n",
       "      <th>createdAt</th>\n",
       "      <th>lifeSpentOnAnime</th>\n",
       "      <th>followersCount</th>\n",
       "      <th>followingCount</th>\n",
       "      <th>birthday</th>\n",
       "      <th>commentsCount</th>\n",
       "      <th>favoritesCount</th>\n",
       "      <th>likesGivenCount</th>\n",
       "      <th>reviewsCount</th>\n",
       "      <th>likesReceivedCount</th>\n",
       "      <th>postsCount</th>\n",
       "      <th>ratingsCount</th>\n",
       "      <th>proTier</th>\n",
       "      <th>relationships</th>\n",
       "    </tr>\n",
       "  </thead>\n",
       "  <tbody>\n",
       "    <tr>\n",
       "      <th>979</th>\n",
       "      <td>85539</td>\n",
       "      <td>maria12021</td>\n",
       "      <td>Norway</td>\n",
       "      <td>2015-04-06T00:55:29.333Z</td>\n",
       "      <td>74217</td>\n",
       "      <td>4</td>\n",
       "      <td>2</td>\n",
       "      <td>2001-04-18</td>\n",
       "      <td>0</td>\n",
       "      <td>209</td>\n",
       "      <td>0</td>\n",
       "      <td>0</td>\n",
       "      <td>0</td>\n",
       "      <td>0</td>\n",
       "      <td>605</td>\n",
       "      <td>NaN</td>\n",
       "      <td>{'waifu': {'links': {'self': 'https://kitsu.io...</td>\n",
       "    </tr>\n",
       "    <tr>\n",
       "      <th>2754</th>\n",
       "      <td>143115</td>\n",
       "      <td>Liv_Martin_Strong</td>\n",
       "      <td>UK</td>\n",
       "      <td>2017-01-16T01:03:19.919Z</td>\n",
       "      <td>0</td>\n",
       "      <td>36</td>\n",
       "      <td>28</td>\n",
       "      <td>1991-08-14</td>\n",
       "      <td>44</td>\n",
       "      <td>139</td>\n",
       "      <td>26</td>\n",
       "      <td>27</td>\n",
       "      <td>30</td>\n",
       "      <td>33</td>\n",
       "      <td>280</td>\n",
       "      <td>NaN</td>\n",
       "      <td>{'waifu': {'links': {'self': 'https://kitsu.io...</td>\n",
       "    </tr>\n",
       "    <tr>\n",
       "      <th>3747</th>\n",
       "      <td>121938</td>\n",
       "      <td>70a573r</td>\n",
       "      <td>The Government</td>\n",
       "      <td>2016-03-20T23:46:32.451Z</td>\n",
       "      <td>20854</td>\n",
       "      <td>6</td>\n",
       "      <td>2</td>\n",
       "      <td>2001-09-11</td>\n",
       "      <td>2</td>\n",
       "      <td>86</td>\n",
       "      <td>4</td>\n",
       "      <td>1</td>\n",
       "      <td>7</td>\n",
       "      <td>3</td>\n",
       "      <td>5</td>\n",
       "      <td>NaN</td>\n",
       "      <td>{'waifu': {'links': {'self': 'https://kitsu.io...</td>\n",
       "    </tr>\n",
       "    <tr>\n",
       "      <th>3971</th>\n",
       "      <td>70211</td>\n",
       "      <td>LadyGira</td>\n",
       "      <td>Pirate Ship</td>\n",
       "      <td>2014-12-09T04:44:12.856Z</td>\n",
       "      <td>451853</td>\n",
       "      <td>5</td>\n",
       "      <td>10</td>\n",
       "      <td>NaN</td>\n",
       "      <td>0</td>\n",
       "      <td>82</td>\n",
       "      <td>10</td>\n",
       "      <td>0</td>\n",
       "      <td>1</td>\n",
       "      <td>0</td>\n",
       "      <td>1040</td>\n",
       "      <td>NaN</td>\n",
       "      <td>{'waifu': {'links': {'self': 'https://kitsu.io...</td>\n",
       "    </tr>\n",
       "    <tr>\n",
       "      <th>2523</th>\n",
       "      <td>86869</td>\n",
       "      <td>nick_gooeygrass</td>\n",
       "      <td>NaN</td>\n",
       "      <td>2015-04-15T23:18:46.962Z</td>\n",
       "      <td>73828</td>\n",
       "      <td>1</td>\n",
       "      <td>1</td>\n",
       "      <td>NaN</td>\n",
       "      <td>0</td>\n",
       "      <td>55</td>\n",
       "      <td>0</td>\n",
       "      <td>0</td>\n",
       "      <td>0</td>\n",
       "      <td>0</td>\n",
       "      <td>96</td>\n",
       "      <td>NaN</td>\n",
       "      <td>{'waifu': {'links': {'self': 'https://kitsu.io...</td>\n",
       "    </tr>\n",
       "    <tr>\n",
       "      <th>2149</th>\n",
       "      <td>78730</td>\n",
       "      <td>Iago</td>\n",
       "      <td>South</td>\n",
       "      <td>2015-02-07T13:48:55.698Z</td>\n",
       "      <td>137029</td>\n",
       "      <td>69</td>\n",
       "      <td>61</td>\n",
       "      <td>NaN</td>\n",
       "      <td>6</td>\n",
       "      <td>51</td>\n",
       "      <td>986</td>\n",
       "      <td>0</td>\n",
       "      <td>-9</td>\n",
       "      <td>3</td>\n",
       "      <td>655</td>\n",
       "      <td>NaN</td>\n",
       "      <td>{'waifu': {'links': {'self': 'https://kitsu.io...</td>\n",
       "    </tr>\n",
       "    <tr>\n",
       "      <th>2487</th>\n",
       "      <td>561112</td>\n",
       "      <td>kevintombs20</td>\n",
       "      <td>NaN</td>\n",
       "      <td>2019-08-13T18:19:22.094Z</td>\n",
       "      <td>0</td>\n",
       "      <td>0</td>\n",
       "      <td>0</td>\n",
       "      <td>NaN</td>\n",
       "      <td>0</td>\n",
       "      <td>46</td>\n",
       "      <td>0</td>\n",
       "      <td>0</td>\n",
       "      <td>0</td>\n",
       "      <td>0</td>\n",
       "      <td>71</td>\n",
       "      <td>NaN</td>\n",
       "      <td>{'waifu': {'links': {'self': 'https://kitsu.io...</td>\n",
       "    </tr>\n",
       "    <tr>\n",
       "      <th>4833</th>\n",
       "      <td>100364</td>\n",
       "      <td>Wolfwood93</td>\n",
       "      <td>Colorado</td>\n",
       "      <td>2015-08-08T17:34:30.626Z</td>\n",
       "      <td>96306</td>\n",
       "      <td>15</td>\n",
       "      <td>6</td>\n",
       "      <td>1993-09-13</td>\n",
       "      <td>2</td>\n",
       "      <td>44</td>\n",
       "      <td>14</td>\n",
       "      <td>0</td>\n",
       "      <td>-2</td>\n",
       "      <td>-1</td>\n",
       "      <td>178</td>\n",
       "      <td>NaN</td>\n",
       "      <td>{'waifu': {'links': {'self': 'https://kitsu.io...</td>\n",
       "    </tr>\n",
       "    <tr>\n",
       "      <th>119</th>\n",
       "      <td>278590</td>\n",
       "      <td>BarretKun</td>\n",
       "      <td>São Bernardo do Campo, SP, Brazil</td>\n",
       "      <td>2018-05-29T16:05:06.030Z</td>\n",
       "      <td>0</td>\n",
       "      <td>1</td>\n",
       "      <td>1</td>\n",
       "      <td>1999-06-24</td>\n",
       "      <td>0</td>\n",
       "      <td>41</td>\n",
       "      <td>0</td>\n",
       "      <td>0</td>\n",
       "      <td>0</td>\n",
       "      <td>0</td>\n",
       "      <td>172</td>\n",
       "      <td>NaN</td>\n",
       "      <td>{'waifu': {'links': {'self': 'https://kitsu.io...</td>\n",
       "    </tr>\n",
       "    <tr>\n",
       "      <th>1970</th>\n",
       "      <td>582074</td>\n",
       "      <td>Legorion</td>\n",
       "      <td>Latvia,Riga</td>\n",
       "      <td>2019-09-22T15:42:08.578Z</td>\n",
       "      <td>0</td>\n",
       "      <td>4</td>\n",
       "      <td>5</td>\n",
       "      <td>1986-09-22</td>\n",
       "      <td>1</td>\n",
       "      <td>39</td>\n",
       "      <td>3</td>\n",
       "      <td>0</td>\n",
       "      <td>0</td>\n",
       "      <td>0</td>\n",
       "      <td>37</td>\n",
       "      <td>NaN</td>\n",
       "      <td>{'waifu': {'links': {'self': 'https://kitsu.io...</td>\n",
       "    </tr>\n",
       "  </tbody>\n",
       "</table>\n",
       "</div>"
      ],
      "text/plain": [
       "          id               name                           location  \\\n",
       "979    85539         maria12021                             Norway   \n",
       "2754  143115  Liv_Martin_Strong                                 UK   \n",
       "3747  121938            70a573r                     The Government   \n",
       "3971   70211           LadyGira                        Pirate Ship   \n",
       "2523   86869    nick_gooeygrass                                NaN   \n",
       "2149   78730               Iago                              South   \n",
       "2487  561112       kevintombs20                                NaN   \n",
       "4833  100364         Wolfwood93                           Colorado   \n",
       "119   278590          BarretKun  São Bernardo do Campo, SP, Brazil   \n",
       "1970  582074           Legorion                        Latvia,Riga   \n",
       "\n",
       "                     createdAt  lifeSpentOnAnime  followersCount  \\\n",
       "979   2015-04-06T00:55:29.333Z             74217               4   \n",
       "2754  2017-01-16T01:03:19.919Z                 0              36   \n",
       "3747  2016-03-20T23:46:32.451Z             20854               6   \n",
       "3971  2014-12-09T04:44:12.856Z            451853               5   \n",
       "2523  2015-04-15T23:18:46.962Z             73828               1   \n",
       "2149  2015-02-07T13:48:55.698Z            137029              69   \n",
       "2487  2019-08-13T18:19:22.094Z                 0               0   \n",
       "4833  2015-08-08T17:34:30.626Z             96306              15   \n",
       "119   2018-05-29T16:05:06.030Z                 0               1   \n",
       "1970  2019-09-22T15:42:08.578Z                 0               4   \n",
       "\n",
       "      followingCount    birthday  commentsCount  favoritesCount  \\\n",
       "979                2  2001-04-18              0             209   \n",
       "2754              28  1991-08-14             44             139   \n",
       "3747               2  2001-09-11              2              86   \n",
       "3971              10         NaN              0              82   \n",
       "2523               1         NaN              0              55   \n",
       "2149              61         NaN              6              51   \n",
       "2487               0         NaN              0              46   \n",
       "4833               6  1993-09-13              2              44   \n",
       "119                1  1999-06-24              0              41   \n",
       "1970               5  1986-09-22              1              39   \n",
       "\n",
       "      likesGivenCount  reviewsCount  likesReceivedCount  postsCount  \\\n",
       "979                 0             0                   0           0   \n",
       "2754               26            27                  30          33   \n",
       "3747                4             1                   7           3   \n",
       "3971               10             0                   1           0   \n",
       "2523                0             0                   0           0   \n",
       "2149              986             0                  -9           3   \n",
       "2487                0             0                   0           0   \n",
       "4833               14             0                  -2          -1   \n",
       "119                 0             0                   0           0   \n",
       "1970                3             0                   0           0   \n",
       "\n",
       "      ratingsCount proTier                                      relationships  \n",
       "979            605     NaN  {'waifu': {'links': {'self': 'https://kitsu.io...  \n",
       "2754           280     NaN  {'waifu': {'links': {'self': 'https://kitsu.io...  \n",
       "3747             5     NaN  {'waifu': {'links': {'self': 'https://kitsu.io...  \n",
       "3971          1040     NaN  {'waifu': {'links': {'self': 'https://kitsu.io...  \n",
       "2523            96     NaN  {'waifu': {'links': {'self': 'https://kitsu.io...  \n",
       "2149           655     NaN  {'waifu': {'links': {'self': 'https://kitsu.io...  \n",
       "2487            71     NaN  {'waifu': {'links': {'self': 'https://kitsu.io...  \n",
       "4833           178     NaN  {'waifu': {'links': {'self': 'https://kitsu.io...  \n",
       "119            172     NaN  {'waifu': {'links': {'self': 'https://kitsu.io...  \n",
       "1970            37     NaN  {'waifu': {'links': {'self': 'https://kitsu.io...  "
      ]
     },
     "execution_count": 6,
     "metadata": {},
     "output_type": "execute_result"
    }
   ],
   "source": [
    "animeUsers_df.sort_values('favoritesCount',ascending=False).head(10)"
   ]
  },
  {
   "cell_type": "markdown",
   "metadata": {},
   "source": [
    "In order to get a better idea of the type interactions most done, we will plot a bar graph of the counts per interaction type.\n",
    "\n",
    "Interaction types include:\n",
    "- Comments\n",
    "- Favorites\n",
    "- Likes Given\n",
    "- Reviews Given\n",
    "- Posts Given\n",
    "- Ratings Given"
   ]
  },
  {
   "cell_type": "code",
   "execution_count": 7,
   "metadata": {
    "ExecuteTime": {
     "end_time": "2021-11-19T03:47:30.645752Z",
     "start_time": "2021-11-19T03:47:30.336717Z"
    },
    "scrolled": false
   },
   "outputs": [
    {
     "name": "stdout",
     "output_type": "stream",
     "text": [
      "commentsCount        2178\n",
      "favoritesCount       4178\n",
      "likesGivenCount      5689\n",
      "reviewsCount          100\n",
      "postsCount            920\n",
      "ratingsCount       135568\n",
      "dtype: int64\n",
      "\n"
     ]
    },
    {
     "data": {
      "image/png": "[encoded data removed]",
      "text/plain": [
       "<Figure size 432x288 with 1 Axes>"
      ]
     },
     "metadata": {
      "needs_background": "light"
     },
     "output_type": "display_data"
    }
   ],
   "source": [
    "# Examine distribution of interaction types among users\n",
    "interaction_list = ['commentsCount',\n",
    "                    'favoritesCount', \n",
    "                    'likesGivenCount', \n",
    "                    'reviewsCount',\n",
    "                    'postsCount', \n",
    "                    'ratingsCount']\n",
    "\n",
    "print(animeUsers_df[interaction_list].sum())\n",
    "print()\n",
    "\n",
    "pd.DataFrame(animeUsers_df[interaction_list].sum()).plot(kind='bar');"
   ]
  },
  {
   "cell_type": "markdown",
   "metadata": {},
   "source": [
    "It appears providing ratings is the most common type of interaction users have with anime. However, since this project is aimed to look beyond a recommendation model based on the explicit ratings users provide for anime, we will dive a bit deeper into different interaction types. This will require us to be more creative with what API endpoints we wish to call, and what data points to collect from those resulting responses."
   ]
  },
  {
   "cell_type": "markdown",
   "metadata": {},
   "source": [
    "## Segment Users\n",
    "We will use a combination of lifeSpentonAnime, favoritesCount, and ratingsCount as the primary indicators for levels of engagement with anime. We will cut this feature into 3 bins categorizing a users level of anime engagement. The 3 labels will be \"low\", \"medium\", and \"high.\" We will use the medium - high category users for downstream analysis."
   ]
  },
  {
   "cell_type": "markdown",
   "metadata": {},
   "source": [
    "When combining lifeSpentonAnime, favoritesCount, and ratingsCount, we will add a higher weightage to ratingsCount and favoritesCount since this is interaction is more involved than time spent on anime."
   ]
  },
  {
   "cell_type": "code",
   "execution_count": 73,
   "metadata": {
    "ExecuteTime": {
     "end_time": "2021-11-19T04:33:16.625720Z",
     "start_time": "2021-11-19T04:33:16.601727Z"
    }
   },
   "outputs": [
    {
     "data": {
      "text/html": [
       "<div>\n",
       "<style scoped>\n",
       "    .dataframe tbody tr th:only-of-type {\n",
       "        vertical-align: middle;\n",
       "    }\n",
       "\n",
       "    .dataframe tbody tr th {\n",
       "        vertical-align: top;\n",
       "    }\n",
       "\n",
       "    .dataframe thead th {\n",
       "        text-align: right;\n",
       "    }\n",
       "</style>\n",
       "<table border=\"1\" class=\"dataframe\">\n",
       "  <thead>\n",
       "    <tr style=\"text-align: right;\">\n",
       "      <th></th>\n",
       "      <th>lifeSpentOnAnime</th>\n",
       "      <th>ratingsCount</th>\n",
       "      <th>favoritesCount</th>\n",
       "      <th>interaction_score</th>\n",
       "    </tr>\n",
       "  </thead>\n",
       "  <tbody>\n",
       "    <tr>\n",
       "      <th>0</th>\n",
       "      <td>240586</td>\n",
       "      <td>607</td>\n",
       "      <td>0</td>\n",
       "      <td>12.393982</td>\n",
       "    </tr>\n",
       "    <tr>\n",
       "      <th>1</th>\n",
       "      <td>3125</td>\n",
       "      <td>6</td>\n",
       "      <td>0</td>\n",
       "      <td>8.049587</td>\n",
       "    </tr>\n",
       "    <tr>\n",
       "      <th>2</th>\n",
       "      <td>1788</td>\n",
       "      <td>6</td>\n",
       "      <td>3</td>\n",
       "      <td>7.495542</td>\n",
       "    </tr>\n",
       "    <tr>\n",
       "      <th>3</th>\n",
       "      <td>3520</td>\n",
       "      <td>9</td>\n",
       "      <td>0</td>\n",
       "      <td>8.169407</td>\n",
       "    </tr>\n",
       "    <tr>\n",
       "      <th>4</th>\n",
       "      <td>66950</td>\n",
       "      <td>6</td>\n",
       "      <td>0</td>\n",
       "      <td>11.111813</td>\n",
       "    </tr>\n",
       "  </tbody>\n",
       "</table>\n",
       "</div>"
      ],
      "text/plain": [
       "   lifeSpentOnAnime  ratingsCount  favoritesCount  interaction_score\n",
       "0            240586           607               0          12.393982\n",
       "1              3125             6               0           8.049587\n",
       "2              1788             6               3           7.495542\n",
       "3              3520             9               0           8.169407\n",
       "4             66950             6               0          11.111813"
      ]
     },
     "execution_count": 73,
     "metadata": {},
     "output_type": "execute_result"
    }
   ],
   "source": [
    "# Let's remove users where lifeSpentOnAnime and ratingsCount is both 0\n",
    "animeUsers_df = animeUsers_df[(animeUsers_df['lifeSpentOnAnime'] != 0)\n",
    "                              & (animeUsers_df['ratingsCount'] != 0)]\n",
    "\n",
    "# Reset index\n",
    "animeUsers_df.reset_index(drop=True,inplace=True)\n",
    "\n",
    "# Create interaction score metric to help bin the users\n",
    "# We will also retrieve the log since there is a severe skew of users that spent time on and rate anime\n",
    "animeUsers_df['interaction_score'] = np.log(\n",
    "    animeUsers_df['lifeSpentOnAnime'] +\n",
    "    (animeUsers_df['ratingsCount'] * 1.25) +\n",
    "    (animeUsers_df['favoritesCount'] * 1.5))\n",
    "\n",
    "# Preview data\n",
    "animeUsers_df[['lifeSpentOnAnime', 'ratingsCount',\n",
    "               'favoritesCount', 'interaction_score']].head(5)"
   ]
  },
  {
   "cell_type": "code",
   "execution_count": 66,
   "metadata": {
    "ExecuteTime": {
     "end_time": "2021-11-19T04:29:08.738682Z",
     "start_time": "2021-11-19T04:29:08.719704Z"
    }
   },
   "outputs": [
    {
     "data": {
      "text/html": [
       "<div>\n",
       "<style scoped>\n",
       "    .dataframe tbody tr th:only-of-type {\n",
       "        vertical-align: middle;\n",
       "    }\n",
       "\n",
       "    .dataframe tbody tr th {\n",
       "        vertical-align: top;\n",
       "    }\n",
       "\n",
       "    .dataframe thead th {\n",
       "        text-align: right;\n",
       "    }\n",
       "</style>\n",
       "<table border=\"1\" class=\"dataframe\">\n",
       "  <thead>\n",
       "    <tr style=\"text-align: right;\">\n",
       "      <th></th>\n",
       "      <th>lifeSpentOnAnime</th>\n",
       "      <th>ratingsCount</th>\n",
       "      <th>interaction_score</th>\n",
       "      <th>interaction_label</th>\n",
       "    </tr>\n",
       "  </thead>\n",
       "  <tbody>\n",
       "    <tr>\n",
       "      <th>20</th>\n",
       "      <td>240586</td>\n",
       "      <td>607</td>\n",
       "      <td>12.393982</td>\n",
       "      <td>High</td>\n",
       "    </tr>\n",
       "    <tr>\n",
       "      <th>21</th>\n",
       "      <td>3125</td>\n",
       "      <td>6</td>\n",
       "      <td>8.049587</td>\n",
       "      <td>Medium</td>\n",
       "    </tr>\n",
       "    <tr>\n",
       "      <th>22</th>\n",
       "      <td>1788</td>\n",
       "      <td>6</td>\n",
       "      <td>7.495542</td>\n",
       "      <td>Medium</td>\n",
       "    </tr>\n",
       "    <tr>\n",
       "      <th>23</th>\n",
       "      <td>3520</td>\n",
       "      <td>9</td>\n",
       "      <td>8.169407</td>\n",
       "      <td>Medium</td>\n",
       "    </tr>\n",
       "    <tr>\n",
       "      <th>26</th>\n",
       "      <td>66950</td>\n",
       "      <td>6</td>\n",
       "      <td>11.111813</td>\n",
       "      <td>High</td>\n",
       "    </tr>\n",
       "  </tbody>\n",
       "</table>\n",
       "</div>"
      ],
      "text/plain": [
       "    lifeSpentOnAnime  ratingsCount  interaction_score interaction_label\n",
       "20            240586           607          12.393982              High\n",
       "21              3125             6           8.049587            Medium\n",
       "22              1788             6           7.495542            Medium\n",
       "23              3520             9           8.169407            Medium\n",
       "26             66950             6          11.111813              High"
      ]
     },
     "execution_count": 66,
     "metadata": {},
     "output_type": "execute_result"
    }
   ],
   "source": [
    "# Create column called interaction_label to categorize interaction_score into low, medium, or high\n",
    "animeUsers_df['interaction_label'] = pd.cut(animeUsers_df.interaction_score, 3, labels=['Low', 'Medium', 'High'])\n",
    "\n",
    "# Preview data\n",
    "animeUsers_df[['lifeSpentOnAnime','ratingsCount','favoritesCount','interaction_score','interaction_label']].head(5)"
   ]
  },
  {
   "cell_type": "code",
   "execution_count": 67,
   "metadata": {
    "ExecuteTime": {
     "end_time": "2021-11-19T04:29:09.242731Z",
     "start_time": "2021-11-19T04:29:09.226748Z"
    }
   },
   "outputs": [
    {
     "data": {
      "text/plain": [
       "Medium    210\n",
       "High      185\n",
       "Low        35\n",
       "Name: interaction_label, dtype: int64"
      ]
     },
     "execution_count": 67,
     "metadata": {},
     "output_type": "execute_result"
    }
   ],
   "source": [
    "# Preview the distribution of interaction_labels\n",
    "\n",
    "animeUsers_df['interaction_label'].value_counts()"
   ]
  },
  {
   "cell_type": "code",
   "execution_count": 101,
   "metadata": {
    "ExecuteTime": {
     "end_time": "2021-11-19T04:53:03.002086Z",
     "start_time": "2021-11-19T04:52:56.738042Z"
    }
   },
   "outputs": [
    {
     "data": {
      "image/png": "[encoded data removed]",
      "text/plain": [
       "<Figure size 811.375x720 with 20 Axes>"
      ]
     },
     "metadata": {
      "needs_background": "light"
     },
     "output_type": "display_data"
    }
   ],
   "source": [
    "# Lets select a few measure to help us visualize the differentiation between the segmented users based on interaction score\n",
    "interaction_list_update = [\n",
    "    'lifeSpentOnAnime', 'favoritesCount', 'ratingsCount', 'interaction_score',\n",
    "    'interaction_label'\n",
    "]\n",
    "\n",
    "# Plot pairplot\n",
    "g = sns.pairplot(animeUsers_df[interaction_list_update],\n",
    "                 hue='interaction_label')\n",
    "g.fig.suptitle(\n",
    "    'User Interaction Metrics Pairplot Segmented by Interaction Level',\n",
    "\n",
    "# Format and savefig\n",
    "plt.savefig('User_Interaction_Metrics_Pairplot.jpg',\n",
    "            bbox_inches='tight',\n",
    "            dpi=300)"
   ]
  },
  {
   "cell_type": "markdown",
   "metadata": {},
   "source": [
    "The visual above showcases how our segmenting efforts distribute and correlated with the user metrics of interest: lifeSpentOnAnime, favoritesCount, and ratingsCount. Based on this pairplot visual, it is worth noting that lifeSpentOnAnime and ratingsCount appear to have the most linear (although not perfect) relationship amongst these features. Perhaps the more a user spends watching anime, they are more inclined to provide a rating as well as opposed to favoriting an anime. Moreover, lifeSpentonAnime appears to have an extreme right skew -- by taking the log and adding a weightage to favorites and ratings counts, high interaction type users appears to have a high spread despite having lower lifeSpentOnAnime metric (as seen in the top left figure). This indicates that perhaps users are still rating and favoriting anime despite not having their time recorded watching anime. Maybe these users are watching on other streaming platforms, but providing their ratings and favorites on the Tastyroll platform."
   ]
  },
  {
   "cell_type": "markdown",
   "metadata": {},
   "source": [
    "In the cell below, let's create a helper function we'll more commonly use to get the JSON response of an API call."
   ]
  },
  {
   "cell_type": "code",
   "execution_count": 70,
   "metadata": {
    "ExecuteTime": {
     "end_time": "2021-11-19T04:32:20.809042Z",
     "start_time": "2021-11-19T04:32:20.800971Z"
    }
   },
   "outputs": [],
   "source": [
    "def get_kitsu_response(link):\n",
    "    \"\"\"\n",
    "    Returns a pretty printed response from JSON object\n",
    "    \n",
    "    Parameters\n",
    "    ----------\n",
    "    link : str\n",
    "        The URL to query from Kitsu API\n",
    "\n",
    "    Returns\n",
    "    -------\n",
    "    pretty printed view of json response\n",
    "    \n",
    "    \"\"\"\n",
    "    kitsu_response = req.get(link)\n",
    "    kitsu_data = kitsu_response.json()\n",
    "    return kitsu_data"
   ]
  },
  {
   "cell_type": "code",
   "execution_count": 74,
   "metadata": {
    "ExecuteTime": {
     "end_time": "2021-11-19T04:33:25.113928Z",
     "start_time": "2021-11-19T04:33:25.097892Z"
    }
   },
   "outputs": [],
   "source": [
    "# Peek at few examples of relationships column\n",
    "jt = ast.literal_eval(animeUsers_df['relationships'][0])\n",
    "jt2 = ast.literal_eval(animeUsers_df['relationships'][4])"
   ]
  },
  {
   "cell_type": "code",
   "execution_count": 75,
   "metadata": {
    "ExecuteTime": {
     "end_time": "2021-11-19T04:33:26.283694Z",
     "start_time": "2021-11-19T04:33:25.896980Z"
    }
   },
   "outputs": [
    {
     "data": {
      "text/plain": [
       "{'data': [],\n",
       " 'meta': {'count': 0},\n",
       " 'links': {'first': 'https://kitsu.io/api/edge/users/131073/favorites?page%5Blimit%5D=10&page%5Boffset%5D=0',\n",
       "  'last': 'https://kitsu.io/api/edge/users/131073/favorites?page%5Blimit%5D=10&page%5Boffset%5D=0'}}"
      ]
     },
     "execution_count": 75,
     "metadata": {},
     "output_type": "execute_result"
    }
   ],
   "source": [
    "# Check kitsu response test # 1\n",
    "get_kitsu_response( jt['favorites']['links']['related'] )"
   ]
  },
  {
   "cell_type": "code",
   "execution_count": 76,
   "metadata": {
    "ExecuteTime": {
     "end_time": "2021-11-19T04:33:26.804679Z",
     "start_time": "2021-11-19T04:33:26.694718Z"
    }
   },
   "outputs": [
    {
     "data": {
      "text/plain": [
       "{'data': [],\n",
       " 'meta': {'count': 0},\n",
       " 'links': {'first': 'https://kitsu.io/api/edge/users/131079/favorites?page%5Blimit%5D=10&page%5Boffset%5D=0',\n",
       "  'last': 'https://kitsu.io/api/edge/users/131079/favorites?page%5Blimit%5D=10&page%5Boffset%5D=0'}}"
      ]
     },
     "execution_count": 76,
     "metadata": {},
     "output_type": "execute_result"
    }
   ],
   "source": [
    "# Check kitsu response test # 2\n",
    "get_kitsu_response( jt2['favorites']['links']['related'] )"
   ]
  },
  {
   "cell_type": "markdown",
   "metadata": {},
   "source": [
    "Through sifting through the [Kitsu API Docs](https://kitsu.docs.apiary.io/), a couple of feasible / easy-to-retrieve interaction data types include a users\n",
    "- Favorites\n",
    "- Library Entries\n",
    "\n",
    "**Favorites** are a bit more self-explanatory, where if a user simply enjoys / enjoyed or wants to actively save an anime for their record, the common interaction is to *favorite* that anime.\n",
    "\n",
    "**Library Entries** is an interesting API endpoint to look at as it gives us data on the viewing history, and to what extent a user has watched an anime. Within the JSON response, for example we are able to retrieve data on the following\n",
    "- Start watch time\n",
    "- Finish end time\n",
    "- Time spent watching an anime\n",
    "- Watch status of an anime\n",
    "     - Completed\n",
    "     - Current (In progress)\n",
    "     - Dropped\n",
    "     - On hold\n",
    "     - Planned\n",
    "\n",
    "Below we will create functions to uniquely extract the data points of interest from the *favorites* and *library entries* endpoints so that we can format the results into a pandas dataframe for downstream analysis."
   ]
  },
  {
   "cell_type": "markdown",
   "metadata": {},
   "source": [
    "## Retrieve Favorite Anime per User"
   ]
  },
  {
   "cell_type": "code",
   "execution_count": 117,
   "metadata": {
    "ExecuteTime": {
     "end_time": "2021-11-19T05:12:12.813168Z",
     "start_time": "2021-11-19T05:12:12.795161Z"
    }
   },
   "outputs": [],
   "source": [
    "def get_user_favorites(user_id):\n",
    "    \"\"\"\n",
    "    Returns a list of a user's favorite anime\n",
    "    \n",
    "    Parameters\n",
    "    ----------\n",
    "    user_id : int\n",
    "        user_id\n",
    "    Returns\n",
    "    -------\n",
    "    Dictionary of the user's favorited anime\n",
    "    \n",
    "    \"\"\"\n",
    "    print(f'Retrieving favorites data for user {user_id}')\n",
    "    kitsu_link = f'https://kitsu.io/api/edge/favorites/?filter[userId]={user_id}&[itemType]=Media'\n",
    "    kitsu_response = req.get(kitsu_link)\n",
    "    kitsu_data = kitsu_response.json()\n",
    "\n",
    "    # Store favorites dictionary\n",
    "    fav_dict = {\n",
    "        'user_id': None,\n",
    "        'anime_id': [],\n",
    "        'canonicalTitle': [],\n",
    "        'synopsis': [],\n",
    "        'description': []\n",
    "    }\n",
    "\n",
    "    # Check for number of favorites -- if more than 10; paginate through all favorites else retrieve favorites on page\n",
    "    favorites_count = kitsu_data['meta']['count']\n",
    "\n",
    "    pages = math.floor((favorites_count / 10) + 1)\n",
    "    page_nums = []\n",
    "    count = 0\n",
    "    # Create list of pages to paginate through\n",
    "    for num in range(pages):\n",
    "        page_nums.append(num * 10)\n",
    "\n",
    "    # Retrieve data from each page\n",
    "    for page in page_nums:\n",
    "        link = f'https://kitsu.io/api/edge/favorites?filter%5BuserId%5D={user_id}&page%5Blimit%5D=10&page%5Boffset%5D={page}'\n",
    "        fav_page = get_kitsu_response(link)\n",
    "        for fav in fav_page['data']:\n",
    "\n",
    "            # Get link to retrieve anime data\n",
    "            item = fav['relationships']['item']['links']['related']\n",
    "            anime_response = get_kitsu_response(item)\n",
    "\n",
    "            # Check that the user's marked favorite is an anime\n",
    "            if anime_response['data']['type'] == 'anime':\n",
    "\n",
    "                title = anime_response['data']['attributes'].get(\n",
    "                    'canonicalTitle', np.nan)\n",
    "                anime_id = anime_response['data'].get('id', np.nan)\n",
    "                synopsis = anime_response['data']['attributes'].get(\n",
    "                    'synopsis', np.nan)\n",
    "                desc = anime_response['data']['attributes'].get(\n",
    "                    'description', np.nan)\n",
    "\n",
    "                fav_dict['anime_id'].append(anime_id)\n",
    "                fav_dict['canonicalTitle'].append(title)\n",
    "                fav_dict['synopsis'].append(synopsis)\n",
    "                fav_dict['description'].append(desc)\n",
    "                count += 1\n",
    "\n",
    "            # If the marked favorite is not an anime --> skip\n",
    "            else:\n",
    "                continue\n",
    "\n",
    "    # Create a list of the users_id to map every item to the user\n",
    "    user_id_list = [user_id] * count\n",
    "    fav_dict['user_id'] = user_id_list\n",
    "\n",
    "    return fav_dict"
   ]
  },
  {
   "cell_type": "markdown",
   "metadata": {
    "ExecuteTime": {
     "end_time": "2021-10-15T06:20:34.775769Z",
     "start_time": "2021-10-15T06:20:34.754299Z"
    }
   },
   "source": [
    "## Retrieve Library Entries per User"
   ]
  },
  {
   "cell_type": "code",
   "execution_count": 176,
   "metadata": {
    "ExecuteTime": {
     "end_time": "2021-11-19T05:50:32.907888Z",
     "start_time": "2021-11-19T05:50:32.893817Z"
    }
   },
   "outputs": [],
   "source": [
    "def get_user_library_entries(user_id):\n",
    "    \"\"\"\n",
    "    Returns a list of a user's library entries. \n",
    "    The output of this function will detail anime the user has watched, planned to watch, or stopped watching.\n",
    "    \n",
    "    Parameters\n",
    "    ----------\n",
    "    user_id : int\n",
    "        user_id\n",
    "    Returns\n",
    "    -------\n",
    "    Dictionary of the anime a user has interacted with.\n",
    "    \n",
    "    \"\"\"\n",
    "    print(f'Retrieving library entry data for user {user_id}')\n",
    "    kitsu_link = f'https://kitsu.io/api/edge/library-entries/?filter[userId]={user_id}&[kind]=anime'\n",
    "    kitsu_response = req.get(kitsu_link)\n",
    "    kitsu_data = kitsu_response.json()\n",
    "\n",
    "    # Store favorites dictionary\n",
    "    lib_entry_dict = {\n",
    "        'user_id': None,\n",
    "        'anime_id': [],\n",
    "        'status': [],\n",
    "        'progress': [],\n",
    "        'progressedAt': [],\n",
    "        'startedAt': [],\n",
    "        'finishedAt': [],\n",
    "        'canonicalTitle': [],\n",
    "        'synopsis': [],\n",
    "        'description': []\n",
    "    }\n",
    "\n",
    "    # Check for number of favorites -- if more than 10; paginate through all favorites else retrieve favorites on page\n",
    "    entries_count = kitsu_data['meta']['count']\n",
    "\n",
    "    pages = math.floor((entries_count / 10) + 1)\n",
    "    page_nums = []\n",
    "    count = 0\n",
    "    # Create list of pages to paginate through\n",
    "    for num in range(pages):\n",
    "        page_nums.append(num * 10)\n",
    "\n",
    "    # Retrieve data from each page\n",
    "    for page in page_nums:\n",
    "        link = f'https://kitsu.io/api/edge/library-entries?filter%5BuserId%5D={user_id}&page%5Blimit%5D=10&page%5Boffset%5D={page}'\n",
    "        le_page = get_kitsu_response(link)\n",
    "        for le in le_page['data']:\n",
    "\n",
    "            # Retrieve watch status data\n",
    "            attr = le['attributes']\n",
    "            status = attr['status']\n",
    "            progress = attr['progress']\n",
    "            progressedAt = attr['progressedAt']\n",
    "            startedAt = attr['startedAt']\n",
    "            finishedAt = attr['finishedAt']\n",
    "\n",
    "            # Get link to retrieve anime data\n",
    "            item = le['relationships']['anime']['links']['related']\n",
    "            anime_response = get_kitsu_response(item)\n",
    "            try:\n",
    "                title = anime_response['data']['attributes'].get(\n",
    "                    'canonicalTitle', np.nan)\n",
    "                anime_id = anime_response['data'].get('id', np.nan)\n",
    "                synopsis = anime_response['data']['attributes'].get(\n",
    "                    'synopsis', np.nan)\n",
    "                desc = anime_response['data']['attributes'].get(\n",
    "                    'description', np.nan)\n",
    "\n",
    "                lib_entry_dict['status'].append(status)\n",
    "                lib_entry_dict['progress'].append(progress)\n",
    "                lib_entry_dict['progressedAt'].append(progressedAt)\n",
    "                lib_entry_dict['startedAt'].append(progressedAt)\n",
    "                lib_entry_dict['finishedAt'].append(finishedAt)\n",
    "                lib_entry_dict['anime_id'].append(anime_id)\n",
    "                lib_entry_dict['canonicalTitle'].append(title)\n",
    "                lib_entry_dict['synopsis'].append(synopsis)\n",
    "                lib_entry_dict['description'].append(desc)\n",
    "                count += 1\n",
    "            except TypeError:\n",
    "                continue\n",
    "\n",
    "    # Create a list of the users_id to map every item to the user\n",
    "    user_id_list = [user_id] * count\n",
    "    lib_entry_dict['user_id'] = user_id_list\n",
    "\n",
    "    return lib_entry_dict"
   ]
  },
  {
   "cell_type": "markdown",
   "metadata": {},
   "source": [
    "# Run retrieval functions for a sample of users\n",
    "This sample of users were selected based on those with the highest activity (aka high favorites count). We will keep the number of users to a minimum to limit the amount of API calls, to prevent our requests from being timed out."
   ]
  },
  {
   "cell_type": "code",
   "execution_count": 119,
   "metadata": {
    "ExecuteTime": {
     "end_time": "2021-11-19T05:12:28.131754Z",
     "start_time": "2021-11-19T05:12:28.100741Z"
    }
   },
   "outputs": [
    {
     "data": {
      "text/html": [
       "<div>\n",
       "<style scoped>\n",
       "    .dataframe tbody tr th:only-of-type {\n",
       "        vertical-align: middle;\n",
       "    }\n",
       "\n",
       "    .dataframe tbody tr th {\n",
       "        vertical-align: top;\n",
       "    }\n",
       "\n",
       "    .dataframe thead th {\n",
       "        text-align: right;\n",
       "    }\n",
       "</style>\n",
       "<table border=\"1\" class=\"dataframe\">\n",
       "  <thead>\n",
       "    <tr style=\"text-align: right;\">\n",
       "      <th></th>\n",
       "      <th>id</th>\n",
       "      <th>name</th>\n",
       "      <th>location</th>\n",
       "      <th>createdAt</th>\n",
       "      <th>lifeSpentOnAnime</th>\n",
       "      <th>followersCount</th>\n",
       "      <th>followingCount</th>\n",
       "      <th>birthday</th>\n",
       "      <th>commentsCount</th>\n",
       "      <th>favoritesCount</th>\n",
       "      <th>likesGivenCount</th>\n",
       "      <th>reviewsCount</th>\n",
       "      <th>likesReceivedCount</th>\n",
       "      <th>postsCount</th>\n",
       "      <th>ratingsCount</th>\n",
       "      <th>proTier</th>\n",
       "      <th>relationships</th>\n",
       "      <th>interaction_score</th>\n",
       "      <th>interaction_label</th>\n",
       "    </tr>\n",
       "  </thead>\n",
       "  <tbody>\n",
       "    <tr>\n",
       "      <th>0</th>\n",
       "      <td>131073</td>\n",
       "      <td>Polarization</td>\n",
       "      <td>NaN</td>\n",
       "      <td>2016-07-05T17:01:47.553Z</td>\n",
       "      <td>240586</td>\n",
       "      <td>0</td>\n",
       "      <td>0</td>\n",
       "      <td>NaN</td>\n",
       "      <td>0</td>\n",
       "      <td>0</td>\n",
       "      <td>0</td>\n",
       "      <td>0</td>\n",
       "      <td>0</td>\n",
       "      <td>0</td>\n",
       "      <td>607</td>\n",
       "      <td>NaN</td>\n",
       "      <td>{'waifu': {'links': {'self': 'https://kitsu.io...</td>\n",
       "      <td>12.393982</td>\n",
       "      <td>High</td>\n",
       "    </tr>\n",
       "    <tr>\n",
       "      <th>1</th>\n",
       "      <td>131074</td>\n",
       "      <td>khiem_tang</td>\n",
       "      <td>NaN</td>\n",
       "      <td>2016-07-05T17:03:08.744Z</td>\n",
       "      <td>3125</td>\n",
       "      <td>0</td>\n",
       "      <td>0</td>\n",
       "      <td>NaN</td>\n",
       "      <td>0</td>\n",
       "      <td>0</td>\n",
       "      <td>0</td>\n",
       "      <td>0</td>\n",
       "      <td>0</td>\n",
       "      <td>0</td>\n",
       "      <td>6</td>\n",
       "      <td>NaN</td>\n",
       "      <td>{'waifu': {'links': {'self': 'https://kitsu.io...</td>\n",
       "      <td>8.049587</td>\n",
       "      <td>Medium</td>\n",
       "    </tr>\n",
       "    <tr>\n",
       "      <th>2</th>\n",
       "      <td>131075</td>\n",
       "      <td>bee_perez</td>\n",
       "      <td>NaN</td>\n",
       "      <td>2016-07-05T17:12:21.352Z</td>\n",
       "      <td>1788</td>\n",
       "      <td>0</td>\n",
       "      <td>0</td>\n",
       "      <td>NaN</td>\n",
       "      <td>0</td>\n",
       "      <td>3</td>\n",
       "      <td>0</td>\n",
       "      <td>0</td>\n",
       "      <td>0</td>\n",
       "      <td>0</td>\n",
       "      <td>6</td>\n",
       "      <td>NaN</td>\n",
       "      <td>{'waifu': {'links': {'self': 'https://kitsu.io...</td>\n",
       "      <td>7.495542</td>\n",
       "      <td>Medium</td>\n",
       "    </tr>\n",
       "    <tr>\n",
       "      <th>3</th>\n",
       "      <td>131076</td>\n",
       "      <td>TaliBear</td>\n",
       "      <td>NaN</td>\n",
       "      <td>2016-07-05T17:21:46.257Z</td>\n",
       "      <td>3520</td>\n",
       "      <td>0</td>\n",
       "      <td>0</td>\n",
       "      <td>NaN</td>\n",
       "      <td>0</td>\n",
       "      <td>0</td>\n",
       "      <td>0</td>\n",
       "      <td>0</td>\n",
       "      <td>0</td>\n",
       "      <td>0</td>\n",
       "      <td>9</td>\n",
       "      <td>NaN</td>\n",
       "      <td>{'waifu': {'links': {'self': 'https://kitsu.io...</td>\n",
       "      <td>8.169407</td>\n",
       "      <td>Medium</td>\n",
       "    </tr>\n",
       "    <tr>\n",
       "      <th>4</th>\n",
       "      <td>131079</td>\n",
       "      <td>mmokazui</td>\n",
       "      <td>NaN</td>\n",
       "      <td>2016-07-05T17:46:52.764Z</td>\n",
       "      <td>66950</td>\n",
       "      <td>0</td>\n",
       "      <td>0</td>\n",
       "      <td>NaN</td>\n",
       "      <td>0</td>\n",
       "      <td>0</td>\n",
       "      <td>0</td>\n",
       "      <td>0</td>\n",
       "      <td>0</td>\n",
       "      <td>0</td>\n",
       "      <td>6</td>\n",
       "      <td>NaN</td>\n",
       "      <td>{'waifu': {'links': {'self': 'https://kitsu.io...</td>\n",
       "      <td>11.111813</td>\n",
       "      <td>High</td>\n",
       "    </tr>\n",
       "  </tbody>\n",
       "</table>\n",
       "</div>"
      ],
      "text/plain": [
       "       id          name location                 createdAt  lifeSpentOnAnime  \\\n",
       "0  131073  Polarization      NaN  2016-07-05T17:01:47.553Z            240586   \n",
       "1  131074    khiem_tang      NaN  2016-07-05T17:03:08.744Z              3125   \n",
       "2  131075     bee_perez      NaN  2016-07-05T17:12:21.352Z              1788   \n",
       "3  131076      TaliBear      NaN  2016-07-05T17:21:46.257Z              3520   \n",
       "4  131079      mmokazui      NaN  2016-07-05T17:46:52.764Z             66950   \n",
       "\n",
       "   followersCount  followingCount birthday  commentsCount  favoritesCount  \\\n",
       "0               0               0      NaN              0               0   \n",
       "1               0               0      NaN              0               0   \n",
       "2               0               0      NaN              0               3   \n",
       "3               0               0      NaN              0               0   \n",
       "4               0               0      NaN              0               0   \n",
       "\n",
       "   likesGivenCount  reviewsCount  likesReceivedCount  postsCount  \\\n",
       "0                0             0                   0           0   \n",
       "1                0             0                   0           0   \n",
       "2                0             0                   0           0   \n",
       "3                0             0                   0           0   \n",
       "4                0             0                   0           0   \n",
       "\n",
       "   ratingsCount proTier                                      relationships  \\\n",
       "0           607     NaN  {'waifu': {'links': {'self': 'https://kitsu.io...   \n",
       "1             6     NaN  {'waifu': {'links': {'self': 'https://kitsu.io...   \n",
       "2             6     NaN  {'waifu': {'links': {'self': 'https://kitsu.io...   \n",
       "3             9     NaN  {'waifu': {'links': {'self': 'https://kitsu.io...   \n",
       "4             6     NaN  {'waifu': {'links': {'self': 'https://kitsu.io...   \n",
       "\n",
       "   interaction_score interaction_label  \n",
       "0          12.393982              High  \n",
       "1           8.049587            Medium  \n",
       "2           7.495542            Medium  \n",
       "3           8.169407            Medium  \n",
       "4          11.111813              High  "
      ]
     },
     "execution_count": 119,
     "metadata": {},
     "output_type": "execute_result"
    }
   ],
   "source": [
    "animeUsers_df.head()"
   ]
  },
  {
   "cell_type": "code",
   "execution_count": 173,
   "metadata": {
    "ExecuteTime": {
     "end_time": "2021-11-19T05:49:19.023644Z",
     "start_time": "2021-11-19T05:49:19.005666Z"
    }
   },
   "outputs": [],
   "source": [
    "# Select random list of users to retrive their interaction data\n",
    "# user_list_rand = animeUsers_df[animeUsers_df['interaction_label'].isin(['Medium','High'])]['id'].sample(10).tolist()\n",
    "\n",
    "# High activity users we want to examine \n",
    "select_users = [85539, 143115, 121938, 70211, 86869]\n",
    "\n",
    "# Combin\n",
    "# user_sample_list = list(set(user_list_rand + select_users))\n",
    "\n",
    "user_sample_list = select_users"
   ]
  },
  {
   "cell_type": "code",
   "execution_count": 174,
   "metadata": {
    "ExecuteTime": {
     "end_time": "2021-11-19T05:50:32.557893Z",
     "start_time": "2021-11-19T05:49:21.834921Z"
    },
    "scrolled": false
   },
   "outputs": [
    {
     "name": "stdout",
     "output_type": "stream",
     "text": [
      "Retrieving favorites data for user 85539\n",
      "Retrieving favorites data for user 143115\n",
      "Retrieving favorites data for user 121938\n",
      "Retrieving favorites data for user 70211\n",
      "Retrieving favorites data for user 86869\n"
     ]
    }
   ],
   "source": [
    "# Retrieve sample of favorites data per user\n",
    "users_favs_df = pd.DataFrame()\n",
    "\n",
    "# Per user get their favorites anime and format into a pandas dataframe\n",
    "for user in user_sample_list:\n",
    "    df = pd.DataFrame(get_user_favorites(user))\n",
    "    users_favs_df = users_favs_df.append(df)"
   ]
  },
  {
   "cell_type": "code",
   "execution_count": 175,
   "metadata": {
    "ExecuteTime": {
     "end_time": "2021-11-19T05:50:32.747876Z",
     "start_time": "2021-11-19T05:50:32.718871Z"
    }
   },
   "outputs": [],
   "source": [
    "# Save anime favorites data per user\n",
    "users_favs_df.to_csv('animeFavorites_data.csv',index=False)\n",
    "\n",
    "# users_favs_df = pd.read_csv('animeFavorites_data.csv')"
   ]
  },
  {
   "cell_type": "code",
   "execution_count": 177,
   "metadata": {
    "ExecuteTime": {
     "end_time": "2021-11-19T06:02:01.988737Z",
     "start_time": "2021-11-19T05:50:33.068883Z"
    }
   },
   "outputs": [
    {
     "name": "stdout",
     "output_type": "stream",
     "text": [
      "Retrieving library entry data for user 85539\n",
      "Retrieving library entry data for user 143115\n",
      "Retrieving library entry data for user 121938\n",
      "Retrieving library entry data for user 70211\n",
      "Retrieving library entry data for user 86869\n"
     ]
    }
   ],
   "source": [
    "# Retrieve sample of library entries data per user\n",
    "users_le_df = pd.DataFrame()\n",
    "\n",
    "# Per user get their library entries per anime and format into a pandas dataframe\n",
    "for user in user_sample_list:\n",
    "    df = pd.DataFrame(get_user_library_entries(user))\n",
    "    users_le_df = users_le_df.append(df)"
   ]
  },
  {
   "cell_type": "code",
   "execution_count": 178,
   "metadata": {
    "ExecuteTime": {
     "end_time": "2021-11-19T06:02:29.909909Z",
     "start_time": "2021-11-19T06:02:29.756907Z"
    }
   },
   "outputs": [],
   "source": [
    "# Save anime library entries data per user\n",
    "users_le_df.to_csv('animeWatchStatus_data.csv',index=False)\n",
    "\n",
    "# users_le_df = pd.read_csv('animeWatchStatus_data.csv')"
   ]
  },
  {
   "cell_type": "code",
   "execution_count": 179,
   "metadata": {
    "ExecuteTime": {
     "end_time": "2021-11-19T06:02:30.269894Z",
     "start_time": "2021-11-19T06:02:30.245909Z"
    }
   },
   "outputs": [
    {
     "data": {
      "text/html": [
       "<div>\n",
       "<style scoped>\n",
       "    .dataframe tbody tr th:only-of-type {\n",
       "        vertical-align: middle;\n",
       "    }\n",
       "\n",
       "    .dataframe tbody tr th {\n",
       "        vertical-align: top;\n",
       "    }\n",
       "\n",
       "    .dataframe thead th {\n",
       "        text-align: right;\n",
       "    }\n",
       "</style>\n",
       "<table border=\"1\" class=\"dataframe\">\n",
       "  <thead>\n",
       "    <tr style=\"text-align: right;\">\n",
       "      <th></th>\n",
       "      <th>user_id</th>\n",
       "      <th>anime_id</th>\n",
       "      <th>status</th>\n",
       "      <th>progress</th>\n",
       "      <th>progressedAt</th>\n",
       "      <th>startedAt</th>\n",
       "      <th>finishedAt</th>\n",
       "      <th>canonicalTitle</th>\n",
       "      <th>synopsis</th>\n",
       "      <th>description</th>\n",
       "    </tr>\n",
       "  </thead>\n",
       "  <tbody>\n",
       "    <tr>\n",
       "      <th>0</th>\n",
       "      <td>85539</td>\n",
       "      <td>176</td>\n",
       "      <td>completed</td>\n",
       "      <td>1</td>\n",
       "      <td>2016-04-05T21:53:57.987Z</td>\n",
       "      <td>2016-04-05T21:53:57.987Z</td>\n",
       "      <td>2016-04-05T00:00:00.000Z</td>\n",
       "      <td>Spirited Away</td>\n",
       "      <td>Stubborn, spoiled, and naïve, 10-year-old Chih...</td>\n",
       "      <td>Stubborn, spoiled, and naïve, 10-year-old Chih...</td>\n",
       "    </tr>\n",
       "    <tr>\n",
       "      <th>1</th>\n",
       "      <td>85539</td>\n",
       "      <td>6711</td>\n",
       "      <td>completed</td>\n",
       "      <td>1</td>\n",
       "      <td>2015-11-07T21:02:56.128Z</td>\n",
       "      <td>2015-11-07T21:02:56.128Z</td>\n",
       "      <td>2015-11-07T00:00:00.000Z</td>\n",
       "      <td>Wolf Children</td>\n",
       "      <td>Hana, a hard-working college student, falls in...</td>\n",
       "      <td>Hana, a hard-working college student, falls in...</td>\n",
       "    </tr>\n",
       "    <tr>\n",
       "      <th>2</th>\n",
       "      <td>85539</td>\n",
       "      <td>142</td>\n",
       "      <td>completed</td>\n",
       "      <td>1</td>\n",
       "      <td>2016-04-05T21:54:13.337Z</td>\n",
       "      <td>2016-04-05T21:54:13.337Z</td>\n",
       "      <td>2016-04-05T00:00:00.000Z</td>\n",
       "      <td>Princess Mononoke</td>\n",
       "      <td>When an Emishi village is attacked by a fierce...</td>\n",
       "      <td>When an Emishi village is attacked by a fierce...</td>\n",
       "    </tr>\n",
       "    <tr>\n",
       "      <th>3</th>\n",
       "      <td>85539</td>\n",
       "      <td>8403</td>\n",
       "      <td>completed</td>\n",
       "      <td>22</td>\n",
       "      <td>2015-04-06T00:57:29.294Z</td>\n",
       "      <td>2015-04-06T00:57:29.294Z</td>\n",
       "      <td>2015-04-06T00:00:00.000Z</td>\n",
       "      <td>Shigatsu wa Kimi no Uso</td>\n",
       "      <td>Music accompanies the path of the human metron...</td>\n",
       "      <td>Music accompanies the path of the human metron...</td>\n",
       "    </tr>\n",
       "    <tr>\n",
       "      <th>4</th>\n",
       "      <td>85539</td>\n",
       "      <td>8147</td>\n",
       "      <td>completed</td>\n",
       "      <td>24</td>\n",
       "      <td>2017-04-14T04:09:37.510Z</td>\n",
       "      <td>2017-04-14T04:09:37.510Z</td>\n",
       "      <td>2017-04-14T00:00:00.000Z</td>\n",
       "      <td>Kiseijuu: Sei no Kakuritsu</td>\n",
       "      <td>All of a sudden, they arrived: parasitic alien...</td>\n",
       "      <td>All of a sudden, they arrived: parasitic alien...</td>\n",
       "    </tr>\n",
       "  </tbody>\n",
       "</table>\n",
       "</div>"
      ],
      "text/plain": [
       "   user_id anime_id     status  progress              progressedAt  \\\n",
       "0    85539      176  completed         1  2016-04-05T21:53:57.987Z   \n",
       "1    85539     6711  completed         1  2015-11-07T21:02:56.128Z   \n",
       "2    85539      142  completed         1  2016-04-05T21:54:13.337Z   \n",
       "3    85539     8403  completed        22  2015-04-06T00:57:29.294Z   \n",
       "4    85539     8147  completed        24  2017-04-14T04:09:37.510Z   \n",
       "\n",
       "                  startedAt                finishedAt  \\\n",
       "0  2016-04-05T21:53:57.987Z  2016-04-05T00:00:00.000Z   \n",
       "1  2015-11-07T21:02:56.128Z  2015-11-07T00:00:00.000Z   \n",
       "2  2016-04-05T21:54:13.337Z  2016-04-05T00:00:00.000Z   \n",
       "3  2015-04-06T00:57:29.294Z  2015-04-06T00:00:00.000Z   \n",
       "4  2017-04-14T04:09:37.510Z  2017-04-14T00:00:00.000Z   \n",
       "\n",
       "               canonicalTitle  \\\n",
       "0               Spirited Away   \n",
       "1               Wolf Children   \n",
       "2           Princess Mononoke   \n",
       "3     Shigatsu wa Kimi no Uso   \n",
       "4  Kiseijuu: Sei no Kakuritsu   \n",
       "\n",
       "                                            synopsis  \\\n",
       "0  Stubborn, spoiled, and naïve, 10-year-old Chih...   \n",
       "1  Hana, a hard-working college student, falls in...   \n",
       "2  When an Emishi village is attacked by a fierce...   \n",
       "3  Music accompanies the path of the human metron...   \n",
       "4  All of a sudden, they arrived: parasitic alien...   \n",
       "\n",
       "                                         description  \n",
       "0  Stubborn, spoiled, and naïve, 10-year-old Chih...  \n",
       "1  Hana, a hard-working college student, falls in...  \n",
       "2  When an Emishi village is attacked by a fierce...  \n",
       "3  Music accompanies the path of the human metron...  \n",
       "4  All of a sudden, they arrived: parasitic alien...  "
      ]
     },
     "execution_count": 179,
     "metadata": {},
     "output_type": "execute_result"
    }
   ],
   "source": [
    "# Peek at users library entries data\n",
    "users_le_df.head()"
   ]
  },
  {
   "cell_type": "markdown",
   "metadata": {},
   "source": [
    "# Data Processing to set up Recommender Model\n",
    "In this section we are going to process the data from user favorites and library entries so we can create the user and anime vectors to feed into our implicit alternating least squares (ALS) recommender model. We will follow the steps below.\n",
    "1. Combine the data from user favorites and user library entries.\n",
    "2. Afterwards, we create an arbitrary \"eventStrength\" based on the status column to indicate the \"level of interaction\" a user has with a particular anime.\n",
    "3. Create sparse ratings matrix and fit to implicit ALS model."
   ]
  },
  {
   "cell_type": "code",
   "execution_count": 180,
   "metadata": {
    "ExecuteTime": {
     "end_time": "2021-11-19T06:02:31.253845Z",
     "start_time": "2021-11-19T06:02:31.243849Z"
    }
   },
   "outputs": [],
   "source": [
    "# Create status column to align and later combine with users_le_df\n",
    "# 'favorite' will be used as an event type\n",
    "users_favs_df['status'] = 'favorite'"
   ]
  },
  {
   "cell_type": "code",
   "execution_count": 181,
   "metadata": {
    "ExecuteTime": {
     "end_time": "2021-11-19T06:02:31.600860Z",
     "start_time": "2021-11-19T06:02:31.571844Z"
    }
   },
   "outputs": [
    {
     "data": {
      "text/html": [
       "<div>\n",
       "<style scoped>\n",
       "    .dataframe tbody tr th:only-of-type {\n",
       "        vertical-align: middle;\n",
       "    }\n",
       "\n",
       "    .dataframe tbody tr th {\n",
       "        vertical-align: top;\n",
       "    }\n",
       "\n",
       "    .dataframe thead th {\n",
       "        text-align: right;\n",
       "    }\n",
       "</style>\n",
       "<table border=\"1\" class=\"dataframe\">\n",
       "  <thead>\n",
       "    <tr style=\"text-align: right;\">\n",
       "      <th></th>\n",
       "      <th>user_id</th>\n",
       "      <th>anime_id</th>\n",
       "      <th>canonicalTitle</th>\n",
       "      <th>synopsis</th>\n",
       "      <th>description</th>\n",
       "      <th>status</th>\n",
       "    </tr>\n",
       "  </thead>\n",
       "  <tbody>\n",
       "    <tr>\n",
       "      <th>0</th>\n",
       "      <td>85539</td>\n",
       "      <td>8403</td>\n",
       "      <td>Shigatsu wa Kimi no Uso</td>\n",
       "      <td>Music accompanies the path of the human metron...</td>\n",
       "      <td>Music accompanies the path of the human metron...</td>\n",
       "      <td>favorite</td>\n",
       "    </tr>\n",
       "    <tr>\n",
       "      <th>1</th>\n",
       "      <td>85539</td>\n",
       "      <td>8147</td>\n",
       "      <td>Kiseijuu: Sei no Kakuritsu</td>\n",
       "      <td>All of a sudden, they arrived: parasitic alien...</td>\n",
       "      <td>All of a sudden, they arrived: parasitic alien...</td>\n",
       "      <td>favorite</td>\n",
       "    </tr>\n",
       "    <tr>\n",
       "      <th>2</th>\n",
       "      <td>85539</td>\n",
       "      <td>6836</td>\n",
       "      <td>Tsuritama</td>\n",
       "      <td>Yuki Sanada is a socially awkward young man wh...</td>\n",
       "      <td>Yuki Sanada is a socially awkward young man wh...</td>\n",
       "      <td>favorite</td>\n",
       "    </tr>\n",
       "    <tr>\n",
       "      <th>3</th>\n",
       "      <td>85539</td>\n",
       "      <td>8333</td>\n",
       "      <td>Gugure! Kokkuri-san</td>\n",
       "      <td>Kohina Ichimatsu, the self-proclaimed doll, ca...</td>\n",
       "      <td>Kohina Ichimatsu, the self-proclaimed doll, ca...</td>\n",
       "      <td>favorite</td>\n",
       "    </tr>\n",
       "    <tr>\n",
       "      <th>4</th>\n",
       "      <td>85539</td>\n",
       "      <td>5981</td>\n",
       "      <td>Ano Hi Mita Hana no Namae wo Bokutachi wa Mada...</td>\n",
       "      <td>Jinta Yadomi is peacefully living as a recluse...</td>\n",
       "      <td>Jinta Yadomi is peacefully living as a recluse...</td>\n",
       "      <td>favorite</td>\n",
       "    </tr>\n",
       "  </tbody>\n",
       "</table>\n",
       "</div>"
      ],
      "text/plain": [
       "   user_id anime_id                                     canonicalTitle  \\\n",
       "0    85539     8403                            Shigatsu wa Kimi no Uso   \n",
       "1    85539     8147                         Kiseijuu: Sei no Kakuritsu   \n",
       "2    85539     6836                                          Tsuritama   \n",
       "3    85539     8333                                Gugure! Kokkuri-san   \n",
       "4    85539     5981  Ano Hi Mita Hana no Namae wo Bokutachi wa Mada...   \n",
       "\n",
       "                                            synopsis  \\\n",
       "0  Music accompanies the path of the human metron...   \n",
       "1  All of a sudden, they arrived: parasitic alien...   \n",
       "2  Yuki Sanada is a socially awkward young man wh...   \n",
       "3  Kohina Ichimatsu, the self-proclaimed doll, ca...   \n",
       "4  Jinta Yadomi is peacefully living as a recluse...   \n",
       "\n",
       "                                         description    status  \n",
       "0  Music accompanies the path of the human metron...  favorite  \n",
       "1  All of a sudden, they arrived: parasitic alien...  favorite  \n",
       "2  Yuki Sanada is a socially awkward young man wh...  favorite  \n",
       "3  Kohina Ichimatsu, the self-proclaimed doll, ca...  favorite  \n",
       "4  Jinta Yadomi is peacefully living as a recluse...  favorite  "
      ]
     },
     "execution_count": 181,
     "metadata": {},
     "output_type": "execute_result"
    }
   ],
   "source": [
    "# Peek at data\n",
    "users_favs_df.head()"
   ]
  },
  {
   "cell_type": "code",
   "execution_count": 182,
   "metadata": {
    "ExecuteTime": {
     "end_time": "2021-11-19T06:02:31.833847Z",
     "start_time": "2021-11-19T06:02:31.820843Z"
    }
   },
   "outputs": [
    {
     "name": "stdout",
     "output_type": "stream",
     "text": [
      "(306, 6)\n",
      "(4004, 10)\n"
     ]
    }
   ],
   "source": [
    "# Compare shapes of favs and library entries dataframes\n",
    "print(users_favs_df.shape)\n",
    "print(users_le_df.shape)"
   ]
  },
  {
   "cell_type": "markdown",
   "metadata": {},
   "source": [
    "Between the user favorites and user library entries dataframe -- there is a difference in the number of columns. In this case we we will need to align and select our columns for further analysis.  "
   ]
  },
  {
   "cell_type": "code",
   "execution_count": 183,
   "metadata": {
    "ExecuteTime": {
     "end_time": "2021-11-19T06:02:32.147845Z",
     "start_time": "2021-11-19T06:02:32.126846Z"
    }
   },
   "outputs": [
    {
     "data": {
      "text/plain": [
       "['user_id', 'anime_id', 'canonicalTitle', 'synopsis', 'description', 'status']"
      ]
     },
     "execution_count": 183,
     "metadata": {},
     "output_type": "execute_result"
    }
   ],
   "source": [
    "# Peek at select columns to keep in combined dataframe\n",
    "list(users_favs_df.columns)"
   ]
  },
  {
   "cell_type": "code",
   "execution_count": 184,
   "metadata": {
    "ExecuteTime": {
     "end_time": "2021-11-19T06:02:32.496914Z",
     "start_time": "2021-11-19T06:02:32.468843Z"
    }
   },
   "outputs": [
    {
     "data": {
      "text/html": [
       "<div>\n",
       "<style scoped>\n",
       "    .dataframe tbody tr th:only-of-type {\n",
       "        vertical-align: middle;\n",
       "    }\n",
       "\n",
       "    .dataframe tbody tr th {\n",
       "        vertical-align: top;\n",
       "    }\n",
       "\n",
       "    .dataframe thead th {\n",
       "        text-align: right;\n",
       "    }\n",
       "</style>\n",
       "<table border=\"1\" class=\"dataframe\">\n",
       "  <thead>\n",
       "    <tr style=\"text-align: right;\">\n",
       "      <th></th>\n",
       "      <th>user_id</th>\n",
       "      <th>anime_id</th>\n",
       "      <th>canonicalTitle</th>\n",
       "      <th>synopsis</th>\n",
       "      <th>description</th>\n",
       "      <th>status</th>\n",
       "    </tr>\n",
       "  </thead>\n",
       "  <tbody>\n",
       "    <tr>\n",
       "      <th>0</th>\n",
       "      <td>85539</td>\n",
       "      <td>176</td>\n",
       "      <td>Spirited Away</td>\n",
       "      <td>Stubborn, spoiled, and naïve, 10-year-old Chih...</td>\n",
       "      <td>Stubborn, spoiled, and naïve, 10-year-old Chih...</td>\n",
       "      <td>completed</td>\n",
       "    </tr>\n",
       "    <tr>\n",
       "      <th>1</th>\n",
       "      <td>85539</td>\n",
       "      <td>6711</td>\n",
       "      <td>Wolf Children</td>\n",
       "      <td>Hana, a hard-working college student, falls in...</td>\n",
       "      <td>Hana, a hard-working college student, falls in...</td>\n",
       "      <td>completed</td>\n",
       "    </tr>\n",
       "    <tr>\n",
       "      <th>2</th>\n",
       "      <td>85539</td>\n",
       "      <td>142</td>\n",
       "      <td>Princess Mononoke</td>\n",
       "      <td>When an Emishi village is attacked by a fierce...</td>\n",
       "      <td>When an Emishi village is attacked by a fierce...</td>\n",
       "      <td>completed</td>\n",
       "    </tr>\n",
       "    <tr>\n",
       "      <th>3</th>\n",
       "      <td>85539</td>\n",
       "      <td>8403</td>\n",
       "      <td>Shigatsu wa Kimi no Uso</td>\n",
       "      <td>Music accompanies the path of the human metron...</td>\n",
       "      <td>Music accompanies the path of the human metron...</td>\n",
       "      <td>completed</td>\n",
       "    </tr>\n",
       "    <tr>\n",
       "      <th>4</th>\n",
       "      <td>85539</td>\n",
       "      <td>8147</td>\n",
       "      <td>Kiseijuu: Sei no Kakuritsu</td>\n",
       "      <td>All of a sudden, they arrived: parasitic alien...</td>\n",
       "      <td>All of a sudden, they arrived: parasitic alien...</td>\n",
       "      <td>completed</td>\n",
       "    </tr>\n",
       "  </tbody>\n",
       "</table>\n",
       "</div>"
      ],
      "text/plain": [
       "   user_id anime_id              canonicalTitle  \\\n",
       "0    85539      176               Spirited Away   \n",
       "1    85539     6711               Wolf Children   \n",
       "2    85539      142           Princess Mononoke   \n",
       "3    85539     8403     Shigatsu wa Kimi no Uso   \n",
       "4    85539     8147  Kiseijuu: Sei no Kakuritsu   \n",
       "\n",
       "                                            synopsis  \\\n",
       "0  Stubborn, spoiled, and naïve, 10-year-old Chih...   \n",
       "1  Hana, a hard-working college student, falls in...   \n",
       "2  When an Emishi village is attacked by a fierce...   \n",
       "3  Music accompanies the path of the human metron...   \n",
       "4  All of a sudden, they arrived: parasitic alien...   \n",
       "\n",
       "                                         description     status  \n",
       "0  Stubborn, spoiled, and naïve, 10-year-old Chih...  completed  \n",
       "1  Hana, a hard-working college student, falls in...  completed  \n",
       "2  When an Emishi village is attacked by a fierce...  completed  \n",
       "3  Music accompanies the path of the human metron...  completed  \n",
       "4  All of a sudden, they arrived: parasitic alien...  completed  "
      ]
     },
     "execution_count": 184,
     "metadata": {},
     "output_type": "execute_result"
    }
   ],
   "source": [
    "# Set columns between both dataframes to be equal for combining\n",
    "col_list = list(users_favs_df.columns)\n",
    "\n",
    "users_le_df_append = users_le_df.copy()\n",
    "\n",
    "# Filter library entries df to match columns of favorites df\n",
    "users_le_df_append = users_le_df_append[col_list]\n",
    "\n",
    "# Combine library entries and favorites df\n",
    "user_interaction_df = users_le_df_append.append(users_favs_df, ignore_index=True)\n",
    "\n",
    "# Peek at data\n",
    "user_interaction_df.head()"
   ]
  },
  {
   "cell_type": "markdown",
   "metadata": {},
   "source": [
    "Based on these interaction or event types we've extracted, we will set up dictionary to associate a weight or strength to say that a user's action to *favorite* or *complete* is much stronger than *dropping* or putting it *on hold*. "
   ]
  },
  {
   "cell_type": "code",
   "execution_count": 185,
   "metadata": {
    "ExecuteTime": {
     "end_time": "2021-11-19T06:02:33.073845Z",
     "start_time": "2021-11-19T06:02:33.059843Z"
    }
   },
   "outputs": [],
   "source": [
    "# Set up event strength dict to assign arbitrary strength score towards interaction types\n",
    "event_strength = {\n",
    "    'completed':6.0,\n",
    "    'favorite':5.0,\n",
    "    'current':4.0,\n",
    "    'planned':3.0,\n",
    "    'on_hold':2.0,\n",
    "    'dropped':1.0\n",
    "}"
   ]
  },
  {
   "cell_type": "code",
   "execution_count": 186,
   "metadata": {
    "ExecuteTime": {
     "end_time": "2021-11-19T06:02:33.357888Z",
     "start_time": "2021-11-19T06:02:33.345900Z"
    }
   },
   "outputs": [],
   "source": [
    "# Map event strength scores according to status set in user_interaction_df\n",
    "user_interaction_df['eventStrength'] = user_interaction_df['status'].apply(lambda x: event_strength[x])"
   ]
  },
  {
   "cell_type": "code",
   "execution_count": 187,
   "metadata": {
    "ExecuteTime": {
     "end_time": "2021-11-19T06:02:33.667900Z",
     "start_time": "2021-11-19T06:02:33.644900Z"
    }
   },
   "outputs": [
    {
     "data": {
      "text/html": [
       "<div>\n",
       "<style scoped>\n",
       "    .dataframe tbody tr th:only-of-type {\n",
       "        vertical-align: middle;\n",
       "    }\n",
       "\n",
       "    .dataframe tbody tr th {\n",
       "        vertical-align: top;\n",
       "    }\n",
       "\n",
       "    .dataframe thead th {\n",
       "        text-align: right;\n",
       "    }\n",
       "</style>\n",
       "<table border=\"1\" class=\"dataframe\">\n",
       "  <thead>\n",
       "    <tr style=\"text-align: right;\">\n",
       "      <th></th>\n",
       "      <th>user_id</th>\n",
       "      <th>anime_id</th>\n",
       "      <th>canonicalTitle</th>\n",
       "      <th>synopsis</th>\n",
       "      <th>description</th>\n",
       "      <th>status</th>\n",
       "      <th>eventStrength</th>\n",
       "    </tr>\n",
       "  </thead>\n",
       "  <tbody>\n",
       "    <tr>\n",
       "      <th>0</th>\n",
       "      <td>85539</td>\n",
       "      <td>176</td>\n",
       "      <td>Spirited Away</td>\n",
       "      <td>Stubborn, spoiled, and naïve, 10-year-old Chih...</td>\n",
       "      <td>Stubborn, spoiled, and naïve, 10-year-old Chih...</td>\n",
       "      <td>completed</td>\n",
       "      <td>6.0</td>\n",
       "    </tr>\n",
       "    <tr>\n",
       "      <th>1</th>\n",
       "      <td>85539</td>\n",
       "      <td>6711</td>\n",
       "      <td>Wolf Children</td>\n",
       "      <td>Hana, a hard-working college student, falls in...</td>\n",
       "      <td>Hana, a hard-working college student, falls in...</td>\n",
       "      <td>completed</td>\n",
       "      <td>6.0</td>\n",
       "    </tr>\n",
       "    <tr>\n",
       "      <th>2</th>\n",
       "      <td>85539</td>\n",
       "      <td>142</td>\n",
       "      <td>Princess Mononoke</td>\n",
       "      <td>When an Emishi village is attacked by a fierce...</td>\n",
       "      <td>When an Emishi village is attacked by a fierce...</td>\n",
       "      <td>completed</td>\n",
       "      <td>6.0</td>\n",
       "    </tr>\n",
       "    <tr>\n",
       "      <th>3</th>\n",
       "      <td>85539</td>\n",
       "      <td>8403</td>\n",
       "      <td>Shigatsu wa Kimi no Uso</td>\n",
       "      <td>Music accompanies the path of the human metron...</td>\n",
       "      <td>Music accompanies the path of the human metron...</td>\n",
       "      <td>completed</td>\n",
       "      <td>6.0</td>\n",
       "    </tr>\n",
       "    <tr>\n",
       "      <th>4</th>\n",
       "      <td>85539</td>\n",
       "      <td>8147</td>\n",
       "      <td>Kiseijuu: Sei no Kakuritsu</td>\n",
       "      <td>All of a sudden, they arrived: parasitic alien...</td>\n",
       "      <td>All of a sudden, they arrived: parasitic alien...</td>\n",
       "      <td>completed</td>\n",
       "      <td>6.0</td>\n",
       "    </tr>\n",
       "  </tbody>\n",
       "</table>\n",
       "</div>"
      ],
      "text/plain": [
       "   user_id anime_id              canonicalTitle  \\\n",
       "0    85539      176               Spirited Away   \n",
       "1    85539     6711               Wolf Children   \n",
       "2    85539      142           Princess Mononoke   \n",
       "3    85539     8403     Shigatsu wa Kimi no Uso   \n",
       "4    85539     8147  Kiseijuu: Sei no Kakuritsu   \n",
       "\n",
       "                                            synopsis  \\\n",
       "0  Stubborn, spoiled, and naïve, 10-year-old Chih...   \n",
       "1  Hana, a hard-working college student, falls in...   \n",
       "2  When an Emishi village is attacked by a fierce...   \n",
       "3  Music accompanies the path of the human metron...   \n",
       "4  All of a sudden, they arrived: parasitic alien...   \n",
       "\n",
       "                                         description     status  eventStrength  \n",
       "0  Stubborn, spoiled, and naïve, 10-year-old Chih...  completed            6.0  \n",
       "1  Hana, a hard-working college student, falls in...  completed            6.0  \n",
       "2  When an Emishi village is attacked by a fierce...  completed            6.0  \n",
       "3  Music accompanies the path of the human metron...  completed            6.0  \n",
       "4  All of a sudden, they arrived: parasitic alien...  completed            6.0  "
      ]
     },
     "execution_count": 187,
     "metadata": {},
     "output_type": "execute_result"
    }
   ],
   "source": [
    "# Peek at data\n",
    "user_interaction_df.head()"
   ]
  },
  {
   "cell_type": "code",
   "execution_count": 188,
   "metadata": {
    "ExecuteTime": {
     "end_time": "2021-11-19T06:02:34.352888Z",
     "start_time": "2021-11-19T06:02:34.312872Z"
    }
   },
   "outputs": [
    {
     "data": {
      "text/html": [
       "<div>\n",
       "<style scoped>\n",
       "    .dataframe tbody tr th:only-of-type {\n",
       "        vertical-align: middle;\n",
       "    }\n",
       "\n",
       "    .dataframe tbody tr th {\n",
       "        vertical-align: top;\n",
       "    }\n",
       "\n",
       "    .dataframe thead th {\n",
       "        text-align: right;\n",
       "    }\n",
       "</style>\n",
       "<table border=\"1\" class=\"dataframe\">\n",
       "  <thead>\n",
       "    <tr style=\"text-align: right;\">\n",
       "      <th></th>\n",
       "      <th>user_id</th>\n",
       "      <th>anime_id</th>\n",
       "      <th>canonicalTitle</th>\n",
       "      <th>eventStrength</th>\n",
       "    </tr>\n",
       "  </thead>\n",
       "  <tbody>\n",
       "    <tr>\n",
       "      <th>3324</th>\n",
       "      <td>121938</td>\n",
       "      <td>13463</td>\n",
       "      <td>Shiyan Pin Jiating</td>\n",
       "      <td>4.0</td>\n",
       "    </tr>\n",
       "    <tr>\n",
       "      <th>3963</th>\n",
       "      <td>143115</td>\n",
       "      <td>7978</td>\n",
       "      <td>Sakura Trick</td>\n",
       "      <td>4.0</td>\n",
       "    </tr>\n",
       "    <tr>\n",
       "      <th>3744</th>\n",
       "      <td>143115</td>\n",
       "      <td>13600</td>\n",
       "      <td>Darling in the FranXX</td>\n",
       "      <td>4.0</td>\n",
       "    </tr>\n",
       "    <tr>\n",
       "      <th>1636</th>\n",
       "      <td>70211</td>\n",
       "      <td>7234</td>\n",
       "      <td>Kono Sekai no Katasumi ni</td>\n",
       "      <td>3.0</td>\n",
       "    </tr>\n",
       "    <tr>\n",
       "      <th>1975</th>\n",
       "      <td>85539</td>\n",
       "      <td>10350</td>\n",
       "      <td>Jitsu wa Watashi wa</td>\n",
       "      <td>3.0</td>\n",
       "    </tr>\n",
       "    <tr>\n",
       "      <th>2234</th>\n",
       "      <td>85539</td>\n",
       "      <td>13225</td>\n",
       "      <td>Juuni Taisen</td>\n",
       "      <td>6.0</td>\n",
       "    </tr>\n",
       "    <tr>\n",
       "      <th>1419</th>\n",
       "      <td>70211</td>\n",
       "      <td>5324</td>\n",
       "      <td>Durarara!! Specials</td>\n",
       "      <td>6.0</td>\n",
       "    </tr>\n",
       "    <tr>\n",
       "      <th>3269</th>\n",
       "      <td>121938</td>\n",
       "      <td>11940</td>\n",
       "      <td>Kuzu no Honkai</td>\n",
       "      <td>6.0</td>\n",
       "    </tr>\n",
       "    <tr>\n",
       "      <th>218</th>\n",
       "      <td>70211</td>\n",
       "      <td>11593</td>\n",
       "      <td>Ange Vierge</td>\n",
       "      <td>3.0</td>\n",
       "    </tr>\n",
       "    <tr>\n",
       "      <th>379</th>\n",
       "      <td>70211</td>\n",
       "      <td>12667</td>\n",
       "      <td>Oushitsu Kyoushi Heine</td>\n",
       "      <td>3.0</td>\n",
       "    </tr>\n",
       "  </tbody>\n",
       "</table>\n",
       "</div>"
      ],
      "text/plain": [
       "      user_id anime_id             canonicalTitle  eventStrength\n",
       "3324   121938    13463         Shiyan Pin Jiating            4.0\n",
       "3963   143115     7978               Sakura Trick            4.0\n",
       "3744   143115    13600      Darling in the FranXX            4.0\n",
       "1636    70211     7234  Kono Sekai no Katasumi ni            3.0\n",
       "1975    85539    10350        Jitsu wa Watashi wa            3.0\n",
       "2234    85539    13225               Juuni Taisen            6.0\n",
       "1419    70211     5324        Durarara!! Specials            6.0\n",
       "3269   121938    11940             Kuzu no Honkai            6.0\n",
       "218     70211    11593                Ange Vierge            3.0\n",
       "379     70211    12667     Oushitsu Kyoushi Heine            3.0"
      ]
     },
     "execution_count": 188,
     "metadata": {},
     "output_type": "execute_result"
    }
   ],
   "source": [
    "# Group event strength per user and anime\n",
    "grouped_df = user_interaction_df.groupby(['user_id', 'anime_id', 'canonicalTitle'])['eventStrength'].sum().reset_index()\n",
    "grouped_df.sample(10)"
   ]
  },
  {
   "cell_type": "markdown",
   "metadata": {},
   "source": [
    "With an aggregated eventStrength -- we aim to use this metric to represent a \"confidence\" measure in how strong the level of interaction was for a user and anime."
   ]
  },
  {
   "cell_type": "markdown",
   "metadata": {},
   "source": [
    "# Fit Alternating Least Squares Model\n",
    "We will focus on using the Alternating Least Square algorithm to handle our implicit feedback.  It is one of the most common, yet effective methods when creating a recommender system based on implicit data.\n",
    "\n",
    "In our case, we will use the python implicit library found here: https://implicit.readthedocs.io/en/latest/als.html"
   ]
  },
  {
   "cell_type": "code",
   "execution_count": 189,
   "metadata": {
    "ExecuteTime": {
     "end_time": "2021-11-19T06:02:35.916509Z",
     "start_time": "2021-11-19T06:02:35.881465Z"
    }
   },
   "outputs": [],
   "source": [
    "grouped_df['canonicalTitle'] = grouped_df['canonicalTitle'].astype(\"category\")\n",
    "grouped_df['user_id'] = grouped_df['user_id'].astype(\"category\")\n",
    "grouped_df['anime_id'] = grouped_df['anime_id'].astype(\"category\")\n",
    "grouped_df['person_id'] = grouped_df['user_id'].cat.codes\n",
    "grouped_df['content_id'] = grouped_df['anime_id'].cat.codes\n",
    "\n",
    "# Create sparse ratings matrix of users and anime\n",
    "sparse_content_mat = sparse.csr_matrix((grouped_df['eventStrength'].astype(float), (grouped_df['content_id'], grouped_df['person_id'])))\n",
    "sparse_person_mat = sparse.csr_matrix((grouped_df['eventStrength'].astype(float), (grouped_df['person_id'], grouped_df['content_id'])))"
   ]
  },
  {
   "cell_type": "code",
   "execution_count": 190,
   "metadata": {
    "ExecuteTime": {
     "end_time": "2021-11-19T06:02:36.341500Z",
     "start_time": "2021-11-19T06:02:36.327528Z"
    }
   },
   "outputs": [],
   "source": [
    "# Create lookup table that we tracks and reference id to title\n",
    "anime_lookup = grouped_df[['content_id', 'canonicalTitle']].drop_duplicates()"
   ]
  },
  {
   "cell_type": "code",
   "execution_count": 191,
   "metadata": {
    "ExecuteTime": {
     "end_time": "2021-11-19T06:02:36.898500Z",
     "start_time": "2021-11-19T06:02:36.880465Z"
    }
   },
   "outputs": [
    {
     "data": {
      "text/html": [
       "<div>\n",
       "<style scoped>\n",
       "    .dataframe tbody tr th:only-of-type {\n",
       "        vertical-align: middle;\n",
       "    }\n",
       "\n",
       "    .dataframe tbody tr th {\n",
       "        vertical-align: top;\n",
       "    }\n",
       "\n",
       "    .dataframe thead th {\n",
       "        text-align: right;\n",
       "    }\n",
       "</style>\n",
       "<table border=\"1\" class=\"dataframe\">\n",
       "  <thead>\n",
       "    <tr style=\"text-align: right;\">\n",
       "      <th></th>\n",
       "      <th>content_id</th>\n",
       "      <th>canonicalTitle</th>\n",
       "    </tr>\n",
       "  </thead>\n",
       "  <tbody>\n",
       "    <tr>\n",
       "      <th>0</th>\n",
       "      <td>0</td>\n",
       "      <td>Cowboy Bebop</td>\n",
       "    </tr>\n",
       "    <tr>\n",
       "      <th>1</th>\n",
       "      <td>1</td>\n",
       "      <td>Monster</td>\n",
       "    </tr>\n",
       "    <tr>\n",
       "      <th>2</th>\n",
       "      <td>2</td>\n",
       "      <td>Fullmetal Alchemist</td>\n",
       "    </tr>\n",
       "    <tr>\n",
       "      <th>3</th>\n",
       "      <td>4</td>\n",
       "      <td>Ore Monogatari!!</td>\n",
       "    </tr>\n",
       "    <tr>\n",
       "      <th>4</th>\n",
       "      <td>6</td>\n",
       "      <td>Kyoukai no Rinne (TV)</td>\n",
       "    </tr>\n",
       "  </tbody>\n",
       "</table>\n",
       "</div>"
      ],
      "text/plain": [
       "   content_id         canonicalTitle\n",
       "0           0           Cowboy Bebop\n",
       "1           1                Monster\n",
       "2           2    Fullmetal Alchemist\n",
       "3           4       Ore Monogatari!!\n",
       "4           6  Kyoukai no Rinne (TV)"
      ]
     },
     "execution_count": 191,
     "metadata": {},
     "output_type": "execute_result"
    }
   ],
   "source": [
    "# Peek at lookup table\n",
    "anime_lookup.head()"
   ]
  },
  {
   "cell_type": "code",
   "execution_count": 192,
   "metadata": {
    "ExecuteTime": {
     "end_time": "2021-11-19T06:02:37.667080Z",
     "start_time": "2021-11-19T06:02:37.655081Z"
    }
   },
   "outputs": [
    {
     "data": {
      "text/plain": [
       "<2578x5 sparse matrix of type '<class 'numpy.float64'>'\n",
       "\twith 4004 stored elements in Compressed Sparse Row format>"
      ]
     },
     "execution_count": 192,
     "metadata": {},
     "output_type": "execute_result"
    }
   ],
   "source": [
    "# Check out matrix object\n",
    "sparse_content_mat"
   ]
  },
  {
   "cell_type": "code",
   "execution_count": 193,
   "metadata": {
    "ExecuteTime": {
     "end_time": "2021-11-19T06:02:38.346128Z",
     "start_time": "2021-11-19T06:02:38.330117Z"
    }
   },
   "outputs": [
    {
     "data": {
      "text/plain": [
       "<5x2578 sparse matrix of type '<class 'numpy.float64'>'\n",
       "\twith 4004 stored elements in Compressed Sparse Row format>"
      ]
     },
     "execution_count": 193,
     "metadata": {},
     "output_type": "execute_result"
    }
   ],
   "source": [
    "# Check out matrix object\n",
    "sparse_person_mat"
   ]
  },
  {
   "cell_type": "code",
   "execution_count": 194,
   "metadata": {
    "ExecuteTime": {
     "end_time": "2021-11-19T06:02:40.856074Z",
     "start_time": "2021-11-19T06:02:38.992078Z"
    }
   },
   "outputs": [
    {
     "data": {
      "application/vnd.jupyter.widget-view+json": {
       "model_id": "8caf2687ddc04957882b7f28f02b459a",
       "version_major": 2,
       "version_minor": 0
      },
      "text/plain": [
       "HBox(children=(HTML(value=''), FloatProgress(value=0.0, max=50.0), HTML(value='')))"
      ]
     },
     "metadata": {},
     "output_type": "display_data"
    },
    {
     "name": "stdout",
     "output_type": "stream",
     "text": [
      "\n"
     ]
    }
   ],
   "source": [
    "# Create ALS model and fit to sparse ratings matrix\n",
    "model = implicit.als.AlternatingLeastSquares(factors=20, regularization=0.1, iterations=50)\n",
    "\n",
    "alpha = 15\n",
    "data = (sparse_content_mat * alpha).astype('double')\n",
    "model.fit(data)"
   ]
  },
  {
   "cell_type": "code",
   "execution_count": 195,
   "metadata": {
    "ExecuteTime": {
     "end_time": "2021-11-19T06:02:42.299276Z",
     "start_time": "2021-11-19T06:02:42.281242Z"
    }
   },
   "outputs": [
    {
     "data": {
      "text/plain": [
       "68.93716058960435"
      ]
     },
     "execution_count": 195,
     "metadata": {},
     "output_type": "execute_result"
    }
   ],
   "source": [
    "# Calculate the matrix sparsity \n",
    "matrix_size = sparse_content_mat.shape[0]*sparse_content_mat.shape[1] # Number of possible interactions in the matrix\n",
    "num_interact = len(sparse_content_mat.nonzero()[0]) # Number of items interacted with\n",
    "sparsity = 100*(1 - (num_interact/matrix_size))\n",
    "sparsity"
   ]
  },
  {
   "cell_type": "markdown",
   "metadata": {},
   "source": [
    "According to the computed value above -- 75.6% of the interaction matrix is sparse. "
   ]
  },
  {
   "cell_type": "code",
   "execution_count": 196,
   "metadata": {
    "ExecuteTime": {
     "end_time": "2021-11-19T06:02:44.726911Z",
     "start_time": "2021-11-19T06:02:44.706828Z"
    }
   },
   "outputs": [
    {
     "data": {
      "text/html": [
       "<div>\n",
       "<style scoped>\n",
       "    .dataframe tbody tr th:only-of-type {\n",
       "        vertical-align: middle;\n",
       "    }\n",
       "\n",
       "    .dataframe tbody tr th {\n",
       "        vertical-align: top;\n",
       "    }\n",
       "\n",
       "    .dataframe thead th {\n",
       "        text-align: right;\n",
       "    }\n",
       "</style>\n",
       "<table border=\"1\" class=\"dataframe\">\n",
       "  <thead>\n",
       "    <tr style=\"text-align: right;\">\n",
       "      <th></th>\n",
       "      <th>user_id</th>\n",
       "      <th>anime_id</th>\n",
       "      <th>canonicalTitle</th>\n",
       "      <th>eventStrength</th>\n",
       "      <th>person_id</th>\n",
       "      <th>content_id</th>\n",
       "    </tr>\n",
       "  </thead>\n",
       "  <tbody>\n",
       "    <tr>\n",
       "      <th>2658</th>\n",
       "      <td>85539</td>\n",
       "      <td>4782</td>\n",
       "      <td>Hellsing I: Digest for Freaks</td>\n",
       "      <td>3.0</td>\n",
       "      <td>1</td>\n",
       "      <td>1737</td>\n",
       "    </tr>\n",
       "    <tr>\n",
       "      <th>2202</th>\n",
       "      <td>85539</td>\n",
       "      <td>12536</td>\n",
       "      <td>To Be Hero</td>\n",
       "      <td>6.0</td>\n",
       "      <td>1</td>\n",
       "      <td>473</td>\n",
       "    </tr>\n",
       "    <tr>\n",
       "      <th>834</th>\n",
       "      <td>70211</td>\n",
       "      <td>403</td>\n",
       "      <td>Shoujo Kakumei Utena</td>\n",
       "      <td>6.0</td>\n",
       "      <td>0</td>\n",
       "      <td>1096</td>\n",
       "    </tr>\n",
       "    <tr>\n",
       "      <th>1345</th>\n",
       "      <td>70211</td>\n",
       "      <td>447</td>\n",
       "      <td>Kino no Tabi: The Beautiful World</td>\n",
       "      <td>3.0</td>\n",
       "      <td>0</td>\n",
       "      <td>1697</td>\n",
       "    </tr>\n",
       "    <tr>\n",
       "      <th>2610</th>\n",
       "      <td>85539</td>\n",
       "      <td>42909</td>\n",
       "      <td>Enen no Shouboutai: Ni no Shou</td>\n",
       "      <td>3.0</td>\n",
       "      <td>1</td>\n",
       "      <td>1552</td>\n",
       "    </tr>\n",
       "    <tr>\n",
       "      <th>601</th>\n",
       "      <td>70211</td>\n",
       "      <td>1415</td>\n",
       "      <td>Code Geass: Lelouch of the Rebellion</td>\n",
       "      <td>6.0</td>\n",
       "      <td>0</td>\n",
       "      <td>797</td>\n",
       "    </tr>\n",
       "    <tr>\n",
       "      <th>2724</th>\n",
       "      <td>85539</td>\n",
       "      <td>5985</td>\n",
       "      <td>Hyouge Mono</td>\n",
       "      <td>3.0</td>\n",
       "      <td>1</td>\n",
       "      <td>1888</td>\n",
       "    </tr>\n",
       "    <tr>\n",
       "      <th>902</th>\n",
       "      <td>70211</td>\n",
       "      <td>41223</td>\n",
       "      <td>Kidou Senshi Gundam Narrative</td>\n",
       "      <td>3.0</td>\n",
       "      <td>0</td>\n",
       "      <td>1179</td>\n",
       "    </tr>\n",
       "    <tr>\n",
       "      <th>1813</th>\n",
       "      <td>70211</td>\n",
       "      <td>8268</td>\n",
       "      <td>Black Butler: Book of Circus</td>\n",
       "      <td>11.0</td>\n",
       "      <td>0</td>\n",
       "      <td>2392</td>\n",
       "    </tr>\n",
       "    <tr>\n",
       "      <th>1664</th>\n",
       "      <td>70211</td>\n",
       "      <td>7370</td>\n",
       "      <td>Nagi no Asukara</td>\n",
       "      <td>11.0</td>\n",
       "      <td>0</td>\n",
       "      <td>2172</td>\n",
       "    </tr>\n",
       "  </tbody>\n",
       "</table>\n",
       "</div>"
      ],
      "text/plain": [
       "     user_id anime_id                        canonicalTitle  eventStrength  \\\n",
       "2658   85539     4782         Hellsing I: Digest for Freaks            3.0   \n",
       "2202   85539    12536                            To Be Hero            6.0   \n",
       "834    70211      403                  Shoujo Kakumei Utena            6.0   \n",
       "1345   70211      447     Kino no Tabi: The Beautiful World            3.0   \n",
       "2610   85539    42909        Enen no Shouboutai: Ni no Shou            3.0   \n",
       "601    70211     1415  Code Geass: Lelouch of the Rebellion            6.0   \n",
       "2724   85539     5985                           Hyouge Mono            3.0   \n",
       "902    70211    41223         Kidou Senshi Gundam Narrative            3.0   \n",
       "1813   70211     8268          Black Butler: Book of Circus           11.0   \n",
       "1664   70211     7370                       Nagi no Asukara           11.0   \n",
       "\n",
       "      person_id  content_id  \n",
       "2658          1        1737  \n",
       "2202          1         473  \n",
       "834           0        1096  \n",
       "1345          0        1697  \n",
       "2610          1        1552  \n",
       "601           0         797  \n",
       "2724          1        1888  \n",
       "902           0        1179  \n",
       "1813          0        2392  \n",
       "1664          0        2172  "
      ]
     },
     "execution_count": 196,
     "metadata": {},
     "output_type": "execute_result"
    }
   ],
   "source": [
    "# Peek at random 10 rows\n",
    "grouped_df.sample(10)"
   ]
  },
  {
   "cell_type": "markdown",
   "metadata": {},
   "source": [
    "# Set up initial recommendation model using interaction data"
   ]
  },
  {
   "cell_type": "code",
   "execution_count": 197,
   "metadata": {
    "ExecuteTime": {
     "end_time": "2021-11-19T06:02:45.672919Z",
     "start_time": "2021-11-19T06:02:45.665988Z"
    }
   },
   "outputs": [],
   "source": [
    "# Importing useful recommendation functions from .py file\n",
    "# Credit to https://github.com/jmsteinw\n",
    "from implicit_rec_functions import *"
   ]
  },
  {
   "cell_type": "code",
   "execution_count": 198,
   "metadata": {
    "ExecuteTime": {
     "end_time": "2021-11-19T06:02:46.022958Z",
     "start_time": "2021-11-19T06:02:46.002989Z"
    }
   },
   "outputs": [],
   "source": [
    "product_train, product_test, product_users_altered = make_train(sparse_person_mat, pct_test = 0.2)"
   ]
  },
  {
   "cell_type": "code",
   "execution_count": 199,
   "metadata": {
    "ExecuteTime": {
     "end_time": "2021-11-19T06:02:48.463561Z",
     "start_time": "2021-11-19T06:02:46.815564Z"
    }
   },
   "outputs": [
    {
     "name": "stderr",
     "output_type": "stream",
     "text": [
      "WARNING:implicit:This method is deprecated. Please use the AlternatingLeastSquares class instead\n"
     ]
    },
    {
     "data": {
      "application/vnd.jupyter.widget-view+json": {
       "model_id": "a73b350bd3174129a5ab25e6b03984fa",
       "version_major": 2,
       "version_minor": 0
      },
      "text/plain": [
       "HBox(children=(HTML(value=''), FloatProgress(value=0.0, max=50.0), HTML(value='')))"
      ]
     },
     "metadata": {},
     "output_type": "display_data"
    },
    {
     "name": "stdout",
     "output_type": "stream",
     "text": [
      "\n"
     ]
    }
   ],
   "source": [
    "alpha = 15\n",
    "user_vecs, item_vecs = implicit.alternating_least_squares((product_train*alpha).astype('double'), \n",
    "                                                          factors=20,\n",
    "                                                          regularization = 0.1, \n",
    "                                                         iterations = 50)"
   ]
  },
  {
   "cell_type": "markdown",
   "metadata": {},
   "source": [
    "Using AUC score as a metric for modeling: https://stats.stackexchange.com/questions/68893/area-under-curve-of-roc-vs-overall-accuracy\n",
    "\n",
    "With the 'make_train' function we imported -- we set aside 20% of our data for testing and evaluating our recommender system. We will need to see if the order of anime recommendations end up being anime the user eventually interacted with (favorited, completed, in progress etc).\n",
    "\n",
    "We will also use a function imported called 'calc_mean_auc' which will calculate the AUC for the most popular anime to compare the anime our user actually interacted with. "
   ]
  },
  {
   "cell_type": "markdown",
   "metadata": {},
   "source": [
    "# Initial Model Evaluation"
   ]
  },
  {
   "cell_type": "code",
   "execution_count": 200,
   "metadata": {
    "ExecuteTime": {
     "end_time": "2021-11-19T06:02:50.177793Z",
     "start_time": "2021-11-19T06:02:50.152818Z"
    }
   },
   "outputs": [
    {
     "data": {
      "text/plain": [
       "(0.537, 0.778)"
      ]
     },
     "execution_count": 200,
     "metadata": {},
     "output_type": "execute_result"
    }
   ],
   "source": [
    "# Importing calc_mean_auc to compare the AUC value of our recommender system versus recommender the most popular\n",
    "calc_mean_auc(product_train, product_users_altered, \n",
    "              [sparse.csr_matrix(user_vecs), sparse.csr_matrix(item_vecs.T)], product_test)"
   ]
  },
  {
   "cell_type": "markdown",
   "metadata": {},
   "source": [
    "We see from the results above that our recommender system had a mean AUC of 0.62 versus the popular anime benchmark of 0.616. While not incredibly impressive, our recommender system is performing slightly better than if we were to recommend the most popular anime."
   ]
  },
  {
   "cell_type": "code",
   "execution_count": 203,
   "metadata": {
    "ExecuteTime": {
     "end_time": "2021-11-19T06:05:38.573776Z",
     "start_time": "2021-11-19T06:05:38.566778Z"
    }
   },
   "outputs": [],
   "source": [
    "# Get unique users\n",
    "users = list(np.sort(grouped_df.person_id.unique()))\n",
    "\n",
    "# Get unique anime interacted with\n",
    "anime = list(grouped_df.content_id.unique())\n",
    "\n",
    "# Create numpy array of users and anime\n",
    "users_arr = np.array(users)\n",
    "anime_arr = np.array(anime)"
   ]
  },
  {
   "cell_type": "code",
   "execution_count": 204,
   "metadata": {
    "ExecuteTime": {
     "end_time": "2021-11-19T06:05:38.957778Z",
     "start_time": "2021-11-19T06:05:38.947805Z"
    }
   },
   "outputs": [],
   "source": [
    "def get_anime_interacted(person_id, mf_train, users_list, anime_list, anime_lookup):\n",
    "    \"\"\"\n",
    "    Returns a dataframe showcasing the anime a user has already interacted with in the training set.\n",
    "    \n",
    "    Parameters\n",
    "    ----------\n",
    "    user_id : int\n",
    "    mf_train: sparse_matrix\n",
    "    users_list: numpy array of users\n",
    "    anime_list: numpy array of anime\n",
    "    anime_lookup: lookup of id and anime\n",
    "    Returns\n",
    "    -------\n",
    "    Pandas dataframe\n",
    "    \n",
    "    \"\"\"\n",
    "    # Returns the index row of our user id\n",
    "    user_ind = np.where(users_list == person_id)[0][0]\n",
    "    \n",
    "    # Get column indices of interacted anime\n",
    "    interacted_ind = mf_train[user_ind,:].nonzero()[1]\n",
    "    \n",
    "    anime_codes = anime_list[interacted_ind]\n",
    "    return anime_lookup.loc[anime_lookup.content_id.isin(anime_codes)]"
   ]
  },
  {
   "cell_type": "code",
   "execution_count": 218,
   "metadata": {
    "ExecuteTime": {
     "end_time": "2021-11-19T06:11:28.505759Z",
     "start_time": "2021-11-19T06:11:28.490763Z"
    }
   },
   "outputs": [
    {
     "data": {
      "text/html": [
       "<div>\n",
       "<style scoped>\n",
       "    .dataframe tbody tr th:only-of-type {\n",
       "        vertical-align: middle;\n",
       "    }\n",
       "\n",
       "    .dataframe tbody tr th {\n",
       "        vertical-align: top;\n",
       "    }\n",
       "\n",
       "    .dataframe thead th {\n",
       "        text-align: right;\n",
       "    }\n",
       "</style>\n",
       "<table border=\"1\" class=\"dataframe\">\n",
       "  <thead>\n",
       "    <tr style=\"text-align: right;\">\n",
       "      <th></th>\n",
       "      <th>content_id</th>\n",
       "      <th>canonicalTitle</th>\n",
       "    </tr>\n",
       "  </thead>\n",
       "  <tbody>\n",
       "    <tr>\n",
       "      <th>1</th>\n",
       "      <td>1</td>\n",
       "      <td>Monster</td>\n",
       "    </tr>\n",
       "    <tr>\n",
       "      <th>2</th>\n",
       "      <td>2</td>\n",
       "      <td>Fullmetal Alchemist</td>\n",
       "    </tr>\n",
       "    <tr>\n",
       "      <th>4</th>\n",
       "      <td>6</td>\n",
       "      <td>Kyoukai no Rinne (TV)</td>\n",
       "    </tr>\n",
       "    <tr>\n",
       "      <th>8</th>\n",
       "      <td>11</td>\n",
       "      <td>Detective Conan: The Sunflowers of Inferno</td>\n",
       "    </tr>\n",
       "    <tr>\n",
       "      <th>10</th>\n",
       "      <td>14</td>\n",
       "      <td>Subete ga F ni Naru: The Perfect Insider</td>\n",
       "    </tr>\n",
       "    <tr>\n",
       "      <th>11</th>\n",
       "      <td>15</td>\n",
       "      <td>Punch Line</td>\n",
       "    </tr>\n",
       "    <tr>\n",
       "      <th>14</th>\n",
       "      <td>19</td>\n",
       "      <td>Kyoukai no Kanata Movie 2: I'll Be Here - Mira...</td>\n",
       "    </tr>\n",
       "    <tr>\n",
       "      <th>15</th>\n",
       "      <td>20</td>\n",
       "      <td>Garo: Guren no Tsuki</td>\n",
       "    </tr>\n",
       "    <tr>\n",
       "      <th>16</th>\n",
       "      <td>21</td>\n",
       "      <td>Shouwa Genroku Rakugo Shinjuu</td>\n",
       "    </tr>\n",
       "    <tr>\n",
       "      <th>19</th>\n",
       "      <td>24</td>\n",
       "      <td>Hetalia: The World Twinkle</td>\n",
       "    </tr>\n",
       "  </tbody>\n",
       "</table>\n",
       "</div>"
      ],
      "text/plain": [
       "    content_id                                     canonicalTitle\n",
       "1            1                                            Monster\n",
       "2            2                                Fullmetal Alchemist\n",
       "4            6                              Kyoukai no Rinne (TV)\n",
       "8           11         Detective Conan: The Sunflowers of Inferno\n",
       "10          14           Subete ga F ni Naru: The Perfect Insider\n",
       "11          15                                         Punch Line\n",
       "14          19  Kyoukai no Kanata Movie 2: I'll Be Here - Mira...\n",
       "15          20                               Garo: Guren no Tsuki\n",
       "16          21                      Shouwa Genroku Rakugo Shinjuu\n",
       "19          24                         Hetalia: The World Twinkle"
      ]
     },
     "execution_count": 218,
     "metadata": {},
     "output_type": "execute_result"
    }
   ],
   "source": [
    "# Check for anime interacted with for a give user\n",
    "get_anime_interacted(0, product_train, users_arr, anime_arr, anime_lookup).head(10)"
   ]
  },
  {
   "cell_type": "markdown",
   "metadata": {},
   "source": [
    "We will create a function below to take in training set we saved along with our user and anime vectors to recommend anime for a given user."
   ]
  },
  {
   "cell_type": "code",
   "execution_count": 206,
   "metadata": {
    "ExecuteTime": {
     "end_time": "2021-11-19T06:05:42.094040Z",
     "start_time": "2021-11-19T06:05:42.080004Z"
    }
   },
   "outputs": [],
   "source": [
    "def rec_anime(user_id, mf_train, user_vecs, item_vecs, user_list, anime_list, item_lookup, num_items = 10):\n",
    "    \"\"\"\n",
    "    Returns a list of a user's favorite anime\n",
    "\n",
    "    Parameters\n",
    "    ----------\n",
    "    user_id : The user_id that we aim to provide recommendations for\n",
    "    mf_train: Training matrix\n",
    "    user_vecs: User vectors from fitted matrix factorization\n",
    "    anime_vecs: Anime vectors from fitted matrix factorization\n",
    "    user_list: Array of user ID numbers\n",
    "    anime_list: Array of anime ID numbers\n",
    "    item_lookup: Pandas dataframe of anime ID and canonical title\n",
    "\n",
    "    Returns\n",
    "    -------\n",
    "    Top n recommendations based on the user/anime vectors for anime a user has not interacted with\n",
    "    \"\"\"\n",
    "    \n",
    "    # Get index row of user_id\n",
    "    cust_ind = np.where(user_list == user_id)[0][0]\n",
    "    pref_vec = mf_train[cust_ind,:].toarray()\n",
    "    # Add 1 to everything, so that anime not interacted yet become equal to 1\n",
    "    pref_vec = pref_vec.reshape(-1) + 1\n",
    "    pref_vec[pref_vec > 1] = 0 \n",
    "    rec_vector = user_vecs[cust_ind,:].dot(item_vecs.T)\n",
    "    min_max = MinMaxScaler()\n",
    "    rec_vector_scaled = min_max.fit_transform(rec_vector.reshape(-1,1))[:,0] \n",
    "    recommend_vector = pref_vec*rec_vector_scaled \n",
    "    # Anime already interacted have their recommendation multiplied by zero\n",
    "    \n",
    "    # Sort the indices of the items into order \n",
    "    product_idx = np.argsort(recommend_vector)[::-1][:num_items]\n",
    "    # of best recommendations\n",
    "    rec_list = [] # start empty list to store anime\n",
    "    for index in product_idx:\n",
    "        code = anime_list[index]\n",
    "        rec_list.append([code, item_lookup.canonicalTitle.loc[item_lookup.content_id == code].iloc[0]]) \n",
    "\n",
    "    codes = [item[0] for item in rec_list]\n",
    "    descriptions = [item[1] for item in rec_list]\n",
    "    final_frame = pd.DataFrame({'content_id': codes, 'canonicalTitle': descriptions})\n",
    "    return final_frame[['content_id', 'canonicalTitle']]"
   ]
  },
  {
   "cell_type": "markdown",
   "metadata": {},
   "source": [
    "This function will return the num_items highest ranking anime for a particular user. Anime not interacted by the user will not be recommended. For now, the default to recommend is the top 10."
   ]
  },
  {
   "cell_type": "markdown",
   "metadata": {},
   "source": [
    "# Qualitative Evaluation"
   ]
  },
  {
   "cell_type": "code",
   "execution_count": 227,
   "metadata": {
    "ExecuteTime": {
     "end_time": "2021-11-19T07:35:32.903969Z",
     "start_time": "2021-11-19T07:35:32.864892Z"
    }
   },
   "outputs": [
    {
     "data": {
      "text/html": [
       "<div>\n",
       "<style scoped>\n",
       "    .dataframe tbody tr th:only-of-type {\n",
       "        vertical-align: middle;\n",
       "    }\n",
       "\n",
       "    .dataframe tbody tr th {\n",
       "        vertical-align: top;\n",
       "    }\n",
       "\n",
       "    .dataframe thead th {\n",
       "        text-align: right;\n",
       "    }\n",
       "</style>\n",
       "<table border=\"1\" class=\"dataframe\">\n",
       "  <thead>\n",
       "    <tr style=\"text-align: right;\">\n",
       "      <th></th>\n",
       "      <th>content_id</th>\n",
       "      <th>canonicalTitle</th>\n",
       "    </tr>\n",
       "  </thead>\n",
       "  <tbody>\n",
       "    <tr>\n",
       "      <th>0</th>\n",
       "      <td>1737</td>\n",
       "      <td>Hellsing I: Digest for Freaks</td>\n",
       "    </tr>\n",
       "    <tr>\n",
       "      <th>1</th>\n",
       "      <td>2538</td>\n",
       "      <td>Tokyo Ghoul √A</td>\n",
       "    </tr>\n",
       "    <tr>\n",
       "      <th>2</th>\n",
       "      <td>996</td>\n",
       "      <td>Higurashi no Naku Koro ni Rei</td>\n",
       "    </tr>\n",
       "    <tr>\n",
       "      <th>3</th>\n",
       "      <td>2507</td>\n",
       "      <td>JoJo no Kimyou na Bouken: Stardust Crusaders 2...</td>\n",
       "    </tr>\n",
       "    <tr>\n",
       "      <th>4</th>\n",
       "      <td>307</td>\n",
       "      <td>Kanojo to Kanojo no Neko: Everything Flows</td>\n",
       "    </tr>\n",
       "    <tr>\n",
       "      <th>5</th>\n",
       "      <td>1007</td>\n",
       "      <td>Kara no Kyoukai 2: Satsujin Kousatsu (Zen)</td>\n",
       "    </tr>\n",
       "    <tr>\n",
       "      <th>6</th>\n",
       "      <td>47</td>\n",
       "      <td>Giniro no Kami no Agito</td>\n",
       "    </tr>\n",
       "    <tr>\n",
       "      <th>7</th>\n",
       "      <td>1528</td>\n",
       "      <td>Kakushigoto (TV)</td>\n",
       "    </tr>\n",
       "    <tr>\n",
       "      <th>8</th>\n",
       "      <td>1986</td>\n",
       "      <td>Toradora!: Bentou no Gokui</td>\n",
       "    </tr>\n",
       "    <tr>\n",
       "      <th>9</th>\n",
       "      <td>342</td>\n",
       "      <td>Mobile Suit Gundam Unicorn RE:0096</td>\n",
       "    </tr>\n",
       "  </tbody>\n",
       "</table>\n",
       "</div>"
      ],
      "text/plain": [
       "   content_id                                     canonicalTitle\n",
       "0        1737                      Hellsing I: Digest for Freaks\n",
       "1        2538                                     Tokyo Ghoul √A\n",
       "2         996                      Higurashi no Naku Koro ni Rei\n",
       "3        2507  JoJo no Kimyou na Bouken: Stardust Crusaders 2...\n",
       "4         307         Kanojo to Kanojo no Neko: Everything Flows\n",
       "5        1007         Kara no Kyoukai 2: Satsujin Kousatsu (Zen)\n",
       "6          47                            Giniro no Kami no Agito\n",
       "7        1528                                   Kakushigoto (TV)\n",
       "8        1986                         Toradora!: Bentou no Gokui\n",
       "9         342                 Mobile Suit Gundam Unicorn RE:0096"
      ]
     },
     "execution_count": 227,
     "metadata": {},
     "output_type": "execute_result"
    }
   ],
   "source": [
    "# Import rec_items function\n",
    "rec_anime(0, product_train, user_vecs, item_vecs, users_arr, anime_arr, anime_lookup,\n",
    "                       num_items = 10)"
   ]
  },
  {
   "cell_type": "markdown",
   "metadata": {},
   "source": [
    "We've made recommendations for user_id = 0. Let's retrieve the anime user 0 has actually interacted with and compare the types of anime and whether they could be interested in the recommended list above.\n",
    "\n",
    "From steps performed before, we know that we encoded user_id to kitsu user_id 70211. We will use the get_user_favorites function to retrieve there favorited anime and compare."
   ]
  },
  {
   "cell_type": "code",
   "execution_count": 228,
   "metadata": {
    "ExecuteTime": {
     "end_time": "2021-11-19T07:35:43.857941Z",
     "start_time": "2021-11-19T07:35:34.364890Z"
    },
    "scrolled": false
   },
   "outputs": [
    {
     "name": "stdout",
     "output_type": "stream",
     "text": [
      "Retrieving favorites data for user 70211\n"
     ]
    },
    {
     "data": {
      "text/html": [
       "<div>\n",
       "<style scoped>\n",
       "    .dataframe tbody tr th:only-of-type {\n",
       "        vertical-align: middle;\n",
       "    }\n",
       "\n",
       "    .dataframe tbody tr th {\n",
       "        vertical-align: top;\n",
       "    }\n",
       "\n",
       "    .dataframe thead th {\n",
       "        text-align: right;\n",
       "    }\n",
       "</style>\n",
       "<table border=\"1\" class=\"dataframe\">\n",
       "  <thead>\n",
       "    <tr style=\"text-align: right;\">\n",
       "      <th></th>\n",
       "      <th>user_id</th>\n",
       "      <th>anime_id</th>\n",
       "      <th>canonicalTitle</th>\n",
       "      <th>synopsis</th>\n",
       "      <th>description</th>\n",
       "    </tr>\n",
       "  </thead>\n",
       "  <tbody>\n",
       "    <tr>\n",
       "      <th>0</th>\n",
       "      <td>70211</td>\n",
       "      <td>7882</td>\n",
       "      <td>Fate/stay night: Unlimited Blade Works</td>\n",
       "      <td>Fuyuki City—a city surrounded by the ocean and...</td>\n",
       "      <td>Fuyuki City—a city surrounded by the ocean and...</td>\n",
       "    </tr>\n",
       "    <tr>\n",
       "      <th>1</th>\n",
       "      <td>70211</td>\n",
       "      <td>1265</td>\n",
       "      <td>Lupin III</td>\n",
       "      <td>Arsène Lupin III is the grandson of world-famo...</td>\n",
       "      <td>Arsène Lupin III is the grandson of world-famo...</td>\n",
       "    </tr>\n",
       "    <tr>\n",
       "      <th>2</th>\n",
       "      <td>70211</td>\n",
       "      <td>7723</td>\n",
       "      <td>Lupin III vs. Detective Conan: The Movie</td>\n",
       "      <td>It is a cross over between the series Lupin II...</td>\n",
       "      <td>It is a cross over between the series Lupin II...</td>\n",
       "    </tr>\n",
       "    <tr>\n",
       "      <th>3</th>\n",
       "      <td>70211</td>\n",
       "      <td>8333</td>\n",
       "      <td>Gugure! Kokkuri-san</td>\n",
       "      <td>Kohina Ichimatsu, the self-proclaimed doll, ca...</td>\n",
       "      <td>Kohina Ichimatsu, the self-proclaimed doll, ca...</td>\n",
       "    </tr>\n",
       "    <tr>\n",
       "      <th>4</th>\n",
       "      <td>70211</td>\n",
       "      <td>8648</td>\n",
       "      <td>Akatsuki no Yona</td>\n",
       "      <td>Upon her sixteenth birthday, the cheerful Prin...</td>\n",
       "      <td>Upon her sixteenth birthday, the cheerful Prin...</td>\n",
       "    </tr>\n",
       "    <tr>\n",
       "      <th>5</th>\n",
       "      <td>70211</td>\n",
       "      <td>818</td>\n",
       "      <td>Gintama</td>\n",
       "      <td>The Amanto, aliens from outer space, have inva...</td>\n",
       "      <td>The Amanto, aliens from outer space, have inva...</td>\n",
       "    </tr>\n",
       "    <tr>\n",
       "      <th>6</th>\n",
       "      <td>70211</td>\n",
       "      <td>4989</td>\n",
       "      <td>Gintama: The Movie</td>\n",
       "      <td>Gintoki and his Yorozuya friends (or rather, e...</td>\n",
       "      <td>Gintoki and his Yorozuya friends (or rather, e...</td>\n",
       "    </tr>\n",
       "    <tr>\n",
       "      <th>7</th>\n",
       "      <td>70211</td>\n",
       "      <td>7253</td>\n",
       "      <td>Gintama': Enchousen</td>\n",
       "      <td>Sakata Gintoki, Kagura, and Shinpachi Shimura ...</td>\n",
       "      <td>Sakata Gintoki, Kagura, and Shinpachi Shimura ...</td>\n",
       "    </tr>\n",
       "    <tr>\n",
       "      <th>8</th>\n",
       "      <td>70211</td>\n",
       "      <td>7241</td>\n",
       "      <td>Gintama Movie 2: Kanketsu-hen - Yorozuya yo Ei...</td>\n",
       "      <td>When Gintoki apprehends a movie pirate at a pr...</td>\n",
       "      <td>When Gintoki apprehends a movie pirate at a pr...</td>\n",
       "    </tr>\n",
       "    <tr>\n",
       "      <th>9</th>\n",
       "      <td>70211</td>\n",
       "      <td>7863</td>\n",
       "      <td>Psycho-Pass 2</td>\n",
       "      <td>A year and a half after the events of the orig...</td>\n",
       "      <td>A year and a half after the events of the orig...</td>\n",
       "    </tr>\n",
       "  </tbody>\n",
       "</table>\n",
       "</div>"
      ],
      "text/plain": [
       "   user_id anime_id                                     canonicalTitle  \\\n",
       "0    70211     7882             Fate/stay night: Unlimited Blade Works   \n",
       "1    70211     1265                                          Lupin III   \n",
       "2    70211     7723           Lupin III vs. Detective Conan: The Movie   \n",
       "3    70211     8333                                Gugure! Kokkuri-san   \n",
       "4    70211     8648                                   Akatsuki no Yona   \n",
       "5    70211      818                                            Gintama   \n",
       "6    70211     4989                                 Gintama: The Movie   \n",
       "7    70211     7253                                Gintama': Enchousen   \n",
       "8    70211     7241  Gintama Movie 2: Kanketsu-hen - Yorozuya yo Ei...   \n",
       "9    70211     7863                                      Psycho-Pass 2   \n",
       "\n",
       "                                            synopsis  \\\n",
       "0  Fuyuki City—a city surrounded by the ocean and...   \n",
       "1  Arsène Lupin III is the grandson of world-famo...   \n",
       "2  It is a cross over between the series Lupin II...   \n",
       "3  Kohina Ichimatsu, the self-proclaimed doll, ca...   \n",
       "4  Upon her sixteenth birthday, the cheerful Prin...   \n",
       "5  The Amanto, aliens from outer space, have inva...   \n",
       "6  Gintoki and his Yorozuya friends (or rather, e...   \n",
       "7  Sakata Gintoki, Kagura, and Shinpachi Shimura ...   \n",
       "8  When Gintoki apprehends a movie pirate at a pr...   \n",
       "9  A year and a half after the events of the orig...   \n",
       "\n",
       "                                         description  \n",
       "0  Fuyuki City—a city surrounded by the ocean and...  \n",
       "1  Arsène Lupin III is the grandson of world-famo...  \n",
       "2  It is a cross over between the series Lupin II...  \n",
       "3  Kohina Ichimatsu, the self-proclaimed doll, ca...  \n",
       "4  Upon her sixteenth birthday, the cheerful Prin...  \n",
       "5  The Amanto, aliens from outer space, have inva...  \n",
       "6  Gintoki and his Yorozuya friends (or rather, e...  \n",
       "7  Sakata Gintoki, Kagura, and Shinpachi Shimura ...  \n",
       "8  When Gintoki apprehends a movie pirate at a pr...  \n",
       "9  A year and a half after the events of the orig...  "
      ]
     },
     "execution_count": 228,
     "metadata": {},
     "output_type": "execute_result"
    }
   ],
   "source": [
    "user_example_fav_df = pd.DataFrame(get_user_favorites(70211))\n",
    "user_example_fav_df.head(10)"
   ]
  },
  {
   "cell_type": "markdown",
   "metadata": {},
   "source": [
    "From the user 70211 favorited list, we can assess at high level that this person is generally interested in shonen, action, mystery, and fantasy type anime. This type of genre is most prevalent in their favorited titles of:\n",
    "- Fate/stay night: Unlimited Blade Workds\n",
    "- Lupin III\n",
    "- Lupin III vs. Detective Conan: The Movie\n",
    "- Gintama Series\n",
    "\n",
    "From the recommended list the anime that most resonates with these genres is Dragon Ball Z, a highly popular shonen anime that aligns with the likes of the Gintama and Fate/stay night series. Along with Dragon Ball Z, we see Yu-Gi-Oh and Full Metal Panic, other highly popular shonen / action type of anime that align with user 70211's favorites list.\n",
    "\n",
    "More than that, what is interesting to see recommended is the Barakamon anime which is published by Square Enix. From the user's favorites, we see Gugure! Kokkuri-san, another Square Enix published anime that share a similar comedy / slice-of-life type of genre. \n",
    "\n",
    "One last observation interesting to see is the recommended anime Baccano! This is considered a mystery thriller type of anime which is very similar to the entire Lupin III series user 70211 is interested in.\n",
    "\n",
    "Altogether for user 70211 at least, the model appears to be performing quite well. Though it should be noted that user \n",
    "70211 was considered one of the top anime users, hence there is quite some data to train on when making recommendations."
   ]
  },
  {
   "cell_type": "markdown",
   "metadata": {},
   "source": [
    "# Alternating Least Squares Cross Validation\n",
    "In this step we will attempt to tune the hyperparameters of our ALS model using **train_test_split** and **precision at k** evaluation metric function from the implicit library. "
   ]
  },
  {
   "cell_type": "code",
   "execution_count": 229,
   "metadata": {
    "ExecuteTime": {
     "end_time": "2021-11-19T07:35:44.079999Z",
     "start_time": "2021-11-19T07:35:44.066953Z"
    }
   },
   "outputs": [],
   "source": [
    "# Import implicit eval functions\n",
    "from implicit.evaluation import precision_at_k, train_test_split, mean_average_precision_at_k, AUC_at_k"
   ]
  },
  {
   "cell_type": "code",
   "execution_count": 230,
   "metadata": {
    "ExecuteTime": {
     "end_time": "2021-11-19T07:35:44.331940Z",
     "start_time": "2021-11-19T07:35:44.303996Z"
    }
   },
   "outputs": [
    {
     "data": {
      "text/html": [
       "<div>\n",
       "<style scoped>\n",
       "    .dataframe tbody tr th:only-of-type {\n",
       "        vertical-align: middle;\n",
       "    }\n",
       "\n",
       "    .dataframe tbody tr th {\n",
       "        vertical-align: top;\n",
       "    }\n",
       "\n",
       "    .dataframe thead th {\n",
       "        text-align: right;\n",
       "    }\n",
       "</style>\n",
       "<table border=\"1\" class=\"dataframe\">\n",
       "  <thead>\n",
       "    <tr style=\"text-align: right;\">\n",
       "      <th></th>\n",
       "      <th>user_id</th>\n",
       "      <th>anime_id</th>\n",
       "      <th>canonicalTitle</th>\n",
       "      <th>eventStrength</th>\n",
       "      <th>person_id</th>\n",
       "      <th>content_id</th>\n",
       "    </tr>\n",
       "  </thead>\n",
       "  <tbody>\n",
       "    <tr>\n",
       "      <th>0</th>\n",
       "      <td>70211</td>\n",
       "      <td>1</td>\n",
       "      <td>Cowboy Bebop</td>\n",
       "      <td>6.0</td>\n",
       "      <td>0</td>\n",
       "      <td>0</td>\n",
       "    </tr>\n",
       "    <tr>\n",
       "      <th>1</th>\n",
       "      <td>70211</td>\n",
       "      <td>10</td>\n",
       "      <td>Monster</td>\n",
       "      <td>6.0</td>\n",
       "      <td>0</td>\n",
       "      <td>1</td>\n",
       "    </tr>\n",
       "    <tr>\n",
       "      <th>2</th>\n",
       "      <td>70211</td>\n",
       "      <td>100</td>\n",
       "      <td>Fullmetal Alchemist</td>\n",
       "      <td>6.0</td>\n",
       "      <td>0</td>\n",
       "      <td>2</td>\n",
       "    </tr>\n",
       "    <tr>\n",
       "      <th>3</th>\n",
       "      <td>70211</td>\n",
       "      <td>10016</td>\n",
       "      <td>Ore Monogatari!!</td>\n",
       "      <td>6.0</td>\n",
       "      <td>0</td>\n",
       "      <td>4</td>\n",
       "    </tr>\n",
       "    <tr>\n",
       "      <th>4</th>\n",
       "      <td>70211</td>\n",
       "      <td>10018</td>\n",
       "      <td>Kyoukai no Rinne (TV)</td>\n",
       "      <td>3.0</td>\n",
       "      <td>0</td>\n",
       "      <td>6</td>\n",
       "    </tr>\n",
       "  </tbody>\n",
       "</table>\n",
       "</div>"
      ],
      "text/plain": [
       "  user_id anime_id         canonicalTitle  eventStrength  person_id  \\\n",
       "0   70211        1           Cowboy Bebop            6.0          0   \n",
       "1   70211       10                Monster            6.0          0   \n",
       "2   70211      100    Fullmetal Alchemist            6.0          0   \n",
       "3   70211    10016       Ore Monogatari!!            6.0          0   \n",
       "4   70211    10018  Kyoukai no Rinne (TV)            3.0          0   \n",
       "\n",
       "   content_id  \n",
       "0           0  \n",
       "1           1  \n",
       "2           2  \n",
       "3           4  \n",
       "4           6  "
      ]
     },
     "execution_count": 230,
     "metadata": {},
     "output_type": "execute_result"
    }
   ],
   "source": [
    "# Preview grouped_df to set up interaction matrix\n",
    "grouped_df.head()"
   ]
  },
  {
   "cell_type": "code",
   "execution_count": 231,
   "metadata": {
    "ExecuteTime": {
     "end_time": "2021-11-19T07:35:44.676938Z",
     "start_time": "2021-11-19T07:35:44.571986Z"
    },
    "scrolled": true
   },
   "outputs": [],
   "source": [
    "# Set up interaction matrix to use in hypertuning and final model\n",
    "interaction_matrix = grouped_df.pivot_table(values='eventStrength',\n",
    "                                            index='person_id',\n",
    "                                            columns='content_id')\n",
    "\n",
    "# Drop the NAs created as a result of the pivot_table method\n",
    "interaction_matrix.fillna(0, inplace=True)\n",
    "\n",
    "# Convert matric to a sparse format\n",
    "interaction_mat = sparse.csr_matrix(interaction_matrix)\n",
    "\n",
    "# Create train and test samples\n",
    "train, test = train_test_split(interaction_mat)"
   ]
  },
  {
   "cell_type": "markdown",
   "metadata": {},
   "source": [
    "## Hypertuning"
   ]
  },
  {
   "cell_type": "code",
   "execution_count": 232,
   "metadata": {
    "ExecuteTime": {
     "end_time": "2021-11-19T07:35:45.163989Z",
     "start_time": "2021-11-19T07:35:45.152977Z"
    }
   },
   "outputs": [],
   "source": [
    "# Prepare param_grid of parameters to test against in our grid search\n",
    "param_grid = {'num_factors': [10, 20, 40, 80],\n",
    "              'regularization': [0, 1e-5, 1e-3, 1e-1],\n",
    "              'iterations': [10, 20, 30, 50]}"
   ]
  },
  {
   "cell_type": "code",
   "execution_count": 233,
   "metadata": {
    "ExecuteTime": {
     "end_time": "2021-11-19T07:35:45.463940Z",
     "start_time": "2021-11-19T07:35:45.451938Z"
    }
   },
   "outputs": [],
   "source": [
    "# Create dict to store results from grid search\n",
    "eval_results = {'run_num':[],\n",
    "                'num_f':[],\n",
    "                'regularization':[],\n",
    "                'iterations':[],\n",
    "                'p_k':[],\n",
    "                'map_k':[]}"
   ]
  },
  {
   "cell_type": "markdown",
   "metadata": {},
   "source": [
    "In the cell below, we will create our own gridsearch since sklearn gridsearch is not compatible with implicit's ALS model object. Here we will iterate through all the combinations of the parameters from the param_grid defined above. At the same time we will store those combinations of parameters as well as the p at k and map at k evaluation metrics in the eval_results dictionary, and convert it into a dataframe for downstream analysis."
   ]
  },
  {
   "cell_type": "code",
   "execution_count": 234,
   "metadata": {
    "ExecuteTime": {
     "end_time": "2021-11-19T07:37:10.522996Z",
     "start_time": "2021-11-19T07:35:45.748946Z"
    },
    "scrolled": true
   },
   "outputs": [
    {
     "name": "stderr",
     "output_type": "stream",
     "text": [
      "100%|██████████| 4/4 [01:24<00:00, 21.19s/it]\n"
     ]
    }
   ],
   "source": [
    "iter_num = 0\n",
    "\n",
    "for num_f in tqdm( param_grid['num_factors'] ):\n",
    "    for reg in param_grid['regularization']:\n",
    "        for itr in param_grid['iterations']:\n",
    "            \n",
    "            iter_num += 1\n",
    "            \n",
    "            model = implicit.als.AlternatingLeastSquares(factors=num_f,regularization=reg, iterations=itr)\n",
    "            \n",
    "            model.fit(train, show_progress=False)\n",
    "            \n",
    "            # Calculate precision at k eval metric\n",
    "            p_k = precision_at_k(model,\n",
    "                                 train.T.tocsr(),\n",
    "                                 test.T.tocsr(),\n",
    "                                 K=10,\n",
    "                                 num_threads=4,\n",
    "                                 show_progress=False)\n",
    "            \n",
    "            # Calculate mean average precision at k metric\n",
    "            map_k = mean_average_precision_at_k(model,\n",
    "                                                train.T.tocsr(),\n",
    "                                                test.T.tocsr(),\n",
    "                                                K=10,\n",
    "                                                num_threads=4,\n",
    "                                                show_progress=False)\n",
    "            \n",
    "            # Collect values in eval_results dictionary\n",
    "            eval_results['run_num'].append(iter_num)\n",
    "            eval_results['num_f'].append(num_f)\n",
    "            eval_results['regularization'].append(reg)\n",
    "            eval_results['iterations'].append(itr)\n",
    "            eval_results['p_k'].append(p_k)\n",
    "            eval_results['map_k'].append(map_k)"
   ]
  },
  {
   "cell_type": "code",
   "execution_count": 235,
   "metadata": {
    "ExecuteTime": {
     "end_time": "2021-11-19T07:37:10.883976Z",
     "start_time": "2021-11-19T07:37:10.854941Z"
    }
   },
   "outputs": [
    {
     "data": {
      "text/html": [
       "<div>\n",
       "<style scoped>\n",
       "    .dataframe tbody tr th:only-of-type {\n",
       "        vertical-align: middle;\n",
       "    }\n",
       "\n",
       "    .dataframe tbody tr th {\n",
       "        vertical-align: top;\n",
       "    }\n",
       "\n",
       "    .dataframe thead th {\n",
       "        text-align: right;\n",
       "    }\n",
       "</style>\n",
       "<table border=\"1\" class=\"dataframe\">\n",
       "  <thead>\n",
       "    <tr style=\"text-align: right;\">\n",
       "      <th></th>\n",
       "      <th>run_num</th>\n",
       "      <th>num_f</th>\n",
       "      <th>regularization</th>\n",
       "      <th>iterations</th>\n",
       "      <th>p_k</th>\n",
       "      <th>map_k</th>\n",
       "    </tr>\n",
       "  </thead>\n",
       "  <tbody>\n",
       "    <tr>\n",
       "      <th>0</th>\n",
       "      <td>1</td>\n",
       "      <td>10</td>\n",
       "      <td>0.00000</td>\n",
       "      <td>10</td>\n",
       "      <td>3.583916</td>\n",
       "      <td>2.179035</td>\n",
       "    </tr>\n",
       "    <tr>\n",
       "      <th>1</th>\n",
       "      <td>2</td>\n",
       "      <td>10</td>\n",
       "      <td>0.00000</td>\n",
       "      <td>20</td>\n",
       "      <td>3.583916</td>\n",
       "      <td>2.156394</td>\n",
       "    </tr>\n",
       "    <tr>\n",
       "      <th>2</th>\n",
       "      <td>3</td>\n",
       "      <td>10</td>\n",
       "      <td>0.00000</td>\n",
       "      <td>30</td>\n",
       "      <td>3.583916</td>\n",
       "      <td>2.123408</td>\n",
       "    </tr>\n",
       "    <tr>\n",
       "      <th>3</th>\n",
       "      <td>4</td>\n",
       "      <td>10</td>\n",
       "      <td>0.00000</td>\n",
       "      <td>50</td>\n",
       "      <td>3.583916</td>\n",
       "      <td>2.112531</td>\n",
       "    </tr>\n",
       "    <tr>\n",
       "      <th>4</th>\n",
       "      <td>5</td>\n",
       "      <td>10</td>\n",
       "      <td>0.00001</td>\n",
       "      <td>10</td>\n",
       "      <td>3.583916</td>\n",
       "      <td>2.264281</td>\n",
       "    </tr>\n",
       "  </tbody>\n",
       "</table>\n",
       "</div>"
      ],
      "text/plain": [
       "   run_num  num_f  regularization  iterations       p_k     map_k\n",
       "0        1     10         0.00000          10  3.583916  2.179035\n",
       "1        2     10         0.00000          20  3.583916  2.156394\n",
       "2        3     10         0.00000          30  3.583916  2.123408\n",
       "3        4     10         0.00000          50  3.583916  2.112531\n",
       "4        5     10         0.00001          10  3.583916  2.264281"
      ]
     },
     "execution_count": 235,
     "metadata": {},
     "output_type": "execute_result"
    }
   ],
   "source": [
    "eval_df = pd.DataFrame(eval_results)\n",
    "eval_df.head()"
   ]
  },
  {
   "cell_type": "markdown",
   "metadata": {},
   "source": [
    "Now that we've constructed our eval dataframe along with our eval metrics and its corresponding parameters, we can select the highest p at k and use its parameter values to set up our final model."
   ]
  },
  {
   "cell_type": "markdown",
   "metadata": {},
   "source": [
    "# Set up Final Model"
   ]
  },
  {
   "cell_type": "code",
   "execution_count": 89,
   "metadata": {
    "ExecuteTime": {
     "end_time": "2021-11-18T05:27:00.531974Z",
     "start_time": "2021-11-18T05:27:00.500761Z"
    }
   },
   "outputs": [],
   "source": [
    "# Get max value for map_k\n",
    "max_mapk = eval_df['map_k'].max()\n",
    "\n",
    "# Get the index where max of map_k is located\n",
    "max_mapk_idx = eval_df[eval_df['map_k']==max_mapk].index\n",
    "\n",
    "# Isolate the parameters\n",
    "map_k_row = eval_df.iloc[max_mapk_idx]\n",
    "\n",
    "num_f = map_k_row['num_f'].item()\n",
    "reg = map_k_row['regularization'].item()\n",
    "itr = map_k_row['iterations'].item()"
   ]
  },
  {
   "cell_type": "code",
   "execution_count": 130,
   "metadata": {
    "ExecuteTime": {
     "end_time": "2021-11-18T06:14:10.697389Z",
     "start_time": "2021-11-18T06:14:10.221128Z"
    }
   },
   "outputs": [
    {
     "data": {
      "application/vnd.jupyter.widget-view+json": {
       "model_id": "6d72659a72a94ee6992dba8e903af726",
       "version_major": 2,
       "version_minor": 0
      },
      "text/plain": [
       "HBox(children=(HTML(value=''), FloatProgress(value=0.0, max=30.0), HTML(value='')))"
      ]
     },
     "metadata": {},
     "output_type": "display_data"
    },
    {
     "name": "stdout",
     "output_type": "stream",
     "text": [
      "\n"
     ]
    }
   ],
   "source": [
    "# Create final model using the parameters found in the gridsearch above\n",
    "fin_model = implicit.als.AlternatingLeastSquares(factors=num_f,\n",
    "                                                 regularization=reg,\n",
    "                                                 iterations=itr)\n",
    "\n",
    "alpha = 15\n",
    "data = (sparse_content_mat * alpha).astype('double')\n",
    "\n",
    "fin_model.fit(data)\n",
    "\n",
    "user_vecs_fin = sparse.csr_matrix(fin_model.user_factors)\n",
    "item_vecs_fin = sparse.csr_matrix(fin_model.item_factors)"
   ]
  },
  {
   "cell_type": "code",
   "execution_count": 147,
   "metadata": {
    "ExecuteTime": {
     "end_time": "2021-11-18T06:17:54.389105Z",
     "start_time": "2021-11-18T06:17:54.356391Z"
    }
   },
   "outputs": [],
   "source": [
    "def final_anime_model_rec(user_id,\n",
    "                          dataset,\n",
    "                          user_vecs,\n",
    "                          item_vecs,\n",
    "                          user_list,\n",
    "                          anime_list,\n",
    "                          item_lookup,\n",
    "                          num_items=10):\n",
    "    \"\"\"\n",
    "    Returns a list of a user's favorite anime\n",
    "\n",
    "    Parameters\n",
    "    ----------\n",
    "    user_id : The user_id that we aim to provide recommendations for\n",
    "    dataset: Training matrix\n",
    "    user_vecs: User vectors from fitted matrix factorization\n",
    "    anime_vecs: Anime vectors from fitted matrix factorization\n",
    "    user_list: Array of user ID numbers\n",
    "    anime_list: Array of anime ID numbers\n",
    "    item_lookup: Pandas dataframe of anime ID and canonical title\n",
    "\n",
    "    Returns\n",
    "    -------\n",
    "    Top n recommendations based on the user/anime vectors for anime a user has not interacted with\n",
    "    \"\"\"\n",
    "\n",
    "    # Get index row of user_id\n",
    "    cust_ind = np.where(user_list == user_id)[0][0]\n",
    "    pref_vec = dataset[cust_ind, :].toarray()\n",
    "    # Add 1 to everything, so that anime not interacted yet become equal to 1\n",
    "    pref_vec = pref_vec.reshape(-1) + 1\n",
    "    pref_vec[pref_vec > 1] = 0\n",
    "    rec_vector = user_vecs[cust_ind, :].dot(item_vecs.T)\n",
    "    min_max = MaxAbsScaler()\n",
    "    rec_vector_scaled = min_max.fit_transform(rec_vector.reshape(-1, 1))[:, 0]\n",
    "    recommend_vector = pref_vec * rec_vector_scaled\n",
    "    # Anime already interacted have their recommendation multiplied by zero\n",
    "\n",
    "    # Sort the indices of the items into order\n",
    "    product_idx = np.argsort(recommend_vector)[::-1][:num_items]\n",
    "    # of best recommendations\n",
    "    rec_list = []  # start empty list to store anime\n",
    "    for index in product_idx:\n",
    "        code = anime_list[index]\n",
    "        rec_list.append([\n",
    "            code, item_lookup.canonicalTitle.loc[item_lookup.content_id ==\n",
    "                                                 code].iloc[0]\n",
    "        ])\n",
    "\n",
    "    codes = [item[0] for item in rec_list]\n",
    "    descriptions = [item[1] for item in rec_list]\n",
    "    final_frame = pd.DataFrame({\n",
    "        'content_id': codes,\n",
    "        'canonicalTitle': descriptions\n",
    "    })\n",
    "    return final_frame[['content_id', 'canonicalTitle']]"
   ]
  },
  {
   "cell_type": "code",
   "execution_count": 153,
   "metadata": {
    "ExecuteTime": {
     "end_time": "2021-11-18T06:21:42.559237Z",
     "start_time": "2021-11-18T06:21:42.152662Z"
    }
   },
   "outputs": [
    {
     "name": "stderr",
     "output_type": "stream",
     "text": [
      "WARNING:implicit:This method is deprecated. Please use the AlternatingLeastSquares class instead\n"
     ]
    },
    {
     "data": {
      "application/vnd.jupyter.widget-view+json": {
       "model_id": "c7e7823ecae443aaa62f7780ead8d93f",
       "version_major": 2,
       "version_minor": 0
      },
      "text/plain": [
       "HBox(children=(HTML(value=''), FloatProgress(value=0.0, max=30.0), HTML(value='')))"
      ]
     },
     "metadata": {},
     "output_type": "display_data"
    },
    {
     "name": "stdout",
     "output_type": "stream",
     "text": [
      "\n"
     ]
    }
   ],
   "source": [
    "# Set up user and anime vectors to use in the recommendation functionin the gridsearch\n",
    "alpha = 15\n",
    "user_vecs_fin, item_vecs_fin = implicit.alternating_least_squares(\n",
    "    (train * alpha).astype('double'),\n",
    "    factors=num_f,\n",
    "    regularization=reg,\n",
    "    iterations=itr)"
   ]
  },
  {
   "cell_type": "code",
   "execution_count": 158,
   "metadata": {
    "ExecuteTime": {
     "end_time": "2021-11-18T07:31:46.083358Z",
     "start_time": "2021-11-18T07:31:46.052640Z"
    }
   },
   "outputs": [
    {
     "data": {
      "text/html": [
       "<div>\n",
       "<style scoped>\n",
       "    .dataframe tbody tr th:only-of-type {\n",
       "        vertical-align: middle;\n",
       "    }\n",
       "\n",
       "    .dataframe tbody tr th {\n",
       "        vertical-align: top;\n",
       "    }\n",
       "\n",
       "    .dataframe thead th {\n",
       "        text-align: right;\n",
       "    }\n",
       "</style>\n",
       "<table border=\"1\" class=\"dataframe\">\n",
       "  <thead>\n",
       "    <tr style=\"text-align: right;\">\n",
       "      <th></th>\n",
       "      <th>content_id</th>\n",
       "      <th>canonicalTitle</th>\n",
       "    </tr>\n",
       "  </thead>\n",
       "  <tbody>\n",
       "    <tr>\n",
       "      <th>79</th>\n",
       "      <td>263</td>\n",
       "      <td>Fantasista Doll</td>\n",
       "    </tr>\n",
       "    <tr>\n",
       "      <th>334</th>\n",
       "      <td>299</td>\n",
       "      <td>Seikoku no Dragonar</td>\n",
       "    </tr>\n",
       "    <tr>\n",
       "      <th>4</th>\n",
       "      <td>25</td>\n",
       "      <td>Gensoumaden Saiyuuki</td>\n",
       "    </tr>\n",
       "    <tr>\n",
       "      <th>42</th>\n",
       "      <td>147</td>\n",
       "      <td>Gensoumaden Saiyuuki Movie: Requiem - Erabarez...</td>\n",
       "    </tr>\n",
       "    <tr>\n",
       "      <th>207</th>\n",
       "      <td>190</td>\n",
       "      <td>Steins;Gate</td>\n",
       "    </tr>\n",
       "    <tr>\n",
       "      <th>70</th>\n",
       "      <td>240</td>\n",
       "      <td>Binbougami ga!</td>\n",
       "    </tr>\n",
       "    <tr>\n",
       "      <th>373</th>\n",
       "      <td>40</td>\n",
       "      <td>Dagashi Kashi</td>\n",
       "    </tr>\n",
       "    <tr>\n",
       "      <th>157</th>\n",
       "      <td>57</td>\n",
       "      <td>Eromanga-sensei</td>\n",
       "    </tr>\n",
       "    <tr>\n",
       "      <th>96</th>\n",
       "      <td>303</td>\n",
       "      <td>Fate/stay night: Unlimited Blade Works</td>\n",
       "    </tr>\n",
       "    <tr>\n",
       "      <th>82</th>\n",
       "      <td>267</td>\n",
       "      <td>Nagi no Asukara</td>\n",
       "    </tr>\n",
       "  </tbody>\n",
       "</table>\n",
       "</div>"
      ],
      "text/plain": [
       "     content_id                                     canonicalTitle\n",
       "79          263                                    Fantasista Doll\n",
       "334         299                                Seikoku no Dragonar\n",
       "4            25                               Gensoumaden Saiyuuki\n",
       "42          147  Gensoumaden Saiyuuki Movie: Requiem - Erabarez...\n",
       "207         190                                        Steins;Gate\n",
       "70          240                                     Binbougami ga!\n",
       "373          40                                      Dagashi Kashi\n",
       "157          57                                    Eromanga-sensei\n",
       "96          303             Fate/stay night: Unlimited Blade Works\n",
       "82          267                                    Nagi no Asukara"
      ]
     },
     "execution_count": 158,
     "metadata": {},
     "output_type": "execute_result"
    }
   ],
   "source": [
    "get_anime_interacted(1,train,users_arr, anime_arr,anime_lookup).sample(10)"
   ]
  },
  {
   "cell_type": "code",
   "execution_count": 160,
   "metadata": {
    "ExecuteTime": {
     "end_time": "2021-11-18T07:31:56.341245Z",
     "start_time": "2021-11-18T07:31:56.300438Z"
    },
    "scrolled": true
   },
   "outputs": [
    {
     "data": {
      "text/html": [
       "<div>\n",
       "<style scoped>\n",
       "    .dataframe tbody tr th:only-of-type {\n",
       "        vertical-align: middle;\n",
       "    }\n",
       "\n",
       "    .dataframe tbody tr th {\n",
       "        vertical-align: top;\n",
       "    }\n",
       "\n",
       "    .dataframe thead th {\n",
       "        text-align: right;\n",
       "    }\n",
       "</style>\n",
       "<table border=\"1\" class=\"dataframe\">\n",
       "  <thead>\n",
       "    <tr style=\"text-align: right;\">\n",
       "      <th></th>\n",
       "      <th>content_id</th>\n",
       "      <th>canonicalTitle</th>\n",
       "    </tr>\n",
       "  </thead>\n",
       "  <tbody>\n",
       "    <tr>\n",
       "      <th>0</th>\n",
       "      <td>325</td>\n",
       "      <td>When Marnie Was There</td>\n",
       "    </tr>\n",
       "    <tr>\n",
       "      <th>1</th>\n",
       "      <td>188</td>\n",
       "      <td>Angel Beats! Specials</td>\n",
       "    </tr>\n",
       "    <tr>\n",
       "      <th>2</th>\n",
       "      <td>40</td>\n",
       "      <td>Dagashi Kashi</td>\n",
       "    </tr>\n",
       "    <tr>\n",
       "      <th>3</th>\n",
       "      <td>108</td>\n",
       "      <td>CLAMP in Wonderland 2</td>\n",
       "    </tr>\n",
       "    <tr>\n",
       "      <th>4</th>\n",
       "      <td>83</td>\n",
       "      <td>A Place Further Than the Universe</td>\n",
       "    </tr>\n",
       "    <tr>\n",
       "      <th>5</th>\n",
       "      <td>161</td>\n",
       "      <td>Fate/stay night Movie: Unlimited Blade Works</td>\n",
       "    </tr>\n",
       "    <tr>\n",
       "      <th>6</th>\n",
       "      <td>105</td>\n",
       "      <td>Neon Genesis Evangelion: The End of Evangelion</td>\n",
       "    </tr>\n",
       "    <tr>\n",
       "      <th>7</th>\n",
       "      <td>174</td>\n",
       "      <td>Digimon Adventure</td>\n",
       "    </tr>\n",
       "    <tr>\n",
       "      <th>8</th>\n",
       "      <td>16</td>\n",
       "      <td>Shimoneta to Iu Gainen ga Sonzai Shinai Taikut...</td>\n",
       "    </tr>\n",
       "    <tr>\n",
       "      <th>9</th>\n",
       "      <td>186</td>\n",
       "      <td>The Cat Returns</td>\n",
       "    </tr>\n",
       "  </tbody>\n",
       "</table>\n",
       "</div>"
      ],
      "text/plain": [
       "   content_id                                     canonicalTitle\n",
       "0         325                              When Marnie Was There\n",
       "1         188                              Angel Beats! Specials\n",
       "2          40                                      Dagashi Kashi\n",
       "3         108                              CLAMP in Wonderland 2\n",
       "4          83                  A Place Further Than the Universe\n",
       "5         161       Fate/stay night Movie: Unlimited Blade Works\n",
       "6         105     Neon Genesis Evangelion: The End of Evangelion\n",
       "7         174                                  Digimon Adventure\n",
       "8          16  Shimoneta to Iu Gainen ga Sonzai Shinai Taikut...\n",
       "9         186                                    The Cat Returns"
      ]
     },
     "execution_count": 160,
     "metadata": {},
     "output_type": "execute_result"
    }
   ],
   "source": [
    "final_anime_model_rec(1, test, user_vecs_fin, item_vecs_fin, users_arr, anime_arr, anime_lookup, num_items = 10)"
   ]
  },
  {
   "cell_type": "markdown",
   "metadata": {},
   "source": [
    "# Conclusion and Next Steps\n",
    "Based on the precision at k, mean average precision at k, and qualitative evaluation of our recommender system, I would say there can definitely be improvements on how we provide recommendations to Tastyroll's users based on implicit data. At high level, the precision at k value of **2.27** tells us that we are only making roughly ~2 relevant recommendations out of 10 (10 is a parameter we set throughout our recommender evaluations to see how match a users top-N). \n",
    "\n",
    "Moreover, earlier in our notebook we used AUC as an evaluation metric to assess how well our recommender system performs when recommending topN anime vs the topN most popular anime. As a result, we see too in that model that we are roughly recommending just as well if we created a baseline recommender system providing a topN anime recommendation. We see that the AUC evaluation of our recommender system, 0.62 slightly edges the popular benchmark, 0.616.\n",
    "\n",
    "Some next steps I'd recommend to improve our recommender system is to examine more interaction / implicit endpoints within the Kitsu API. In this project focused on collecting data points on what users are favorite-ing, and a users's watch status for an anime. \n",
    "\n",
    "Other endpoints to examine include:\n",
    "- Commented anime\n",
    "- Reviewed anime\n",
    "- Likes on posts related to an anime\n",
    "- Time spent on anime\n",
    "\n",
    "Initially, we created a dictionary to associate certain 'event strength' or weighting against these interaction types. I think it would also be a good idea to create event strength dictionary that is more data informed by performing a deeper EDA on the aforementioned data points to assess / define what high and low levels of interaction for an anime look like."
   ]
  }
 ],
 "metadata": {
  "kernelspec": {
   "display_name": "learn-env",
   "language": "python",
   "name": "learn-env"
  },
  "language_info": {
   "codemirror_mode": {
    "name": "ipython",
    "version": 3
   },
   "file_extension": ".py",
   "mimetype": "text/x-python",
   "name": "python",
   "nbconvert_exporter": "python",
   "pygments_lexer": "ipython3",
   "version": "3.8.5"
  },
  "toc": {
   "base_numbering": 1,
   "nav_menu": {},
   "number_sections": true,
   "sideBar": true,
   "skip_h1_title": false,
   "title_cell": "Table of Contents",
   "title_sidebar": "Contents",
   "toc_cell": false,
   "toc_position": {
    "height": "calc(100% - 180px)",
    "left": "10px",
    "top": "150px",
    "width": "293.25px"
   },
   "toc_section_display": true,
   "toc_window_display": false
  },
  "varInspector": {
   "cols": {
    "lenName": 16,
    "lenType": 16,
    "lenVar": 40
   },
   "kernels_config": {
    "python": {
     "delete_cmd_postfix": "",
     "delete_cmd_prefix": "del ",
     "library": "var_list.py",
     "varRefreshCmd": "print(var_dic_list())"
    },
    "r": {
     "delete_cmd_postfix": ") ",
     "delete_cmd_prefix": "rm(",
     "library": "var_list.r",
     "varRefreshCmd": "cat(var_dic_list()) "
    }
   },
   "types_to_exclude": [
    "module",
    "function",
    "builtin_function_or_method",
    "instance",
    "_Feature"
   ],
   "window_display": false
  }
 },
 "nbformat": 4,
 "nbformat_minor": 4
}
