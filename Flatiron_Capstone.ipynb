{
 "cells": [
  {
   "cell_type": "markdown",
   "metadata": {},
   "source": [
    "# Import Dependencies"
   ]
  },
  {
   "cell_type": "code",
   "execution_count": 2,
   "metadata": {
    "ExecuteTime": {
     "end_time": "2021-10-29T04:55:45.533513Z",
     "start_time": "2021-10-29T04:55:42.442785Z"
    }
   },
   "outputs": [],
   "source": [
    "import requests as req\n",
    "import pandas as pd\n",
    "import numpy as np\n",
    "import math\n",
    "\n",
    "import scipy.sparse as sparse\n",
    "import implicit\n",
    "from sklearn.preprocessing import MinMaxScaler\n",
    "\n",
    "import ast\n",
    "import pprint\n",
    "\n",
    "from tqdm import tqdm"
   ]
  },
  {
   "cell_type": "markdown",
   "metadata": {},
   "source": [
    "# Data Collection\n",
    "The cells below will follow a series of steps to collect data about our users and Anime content."
   ]
  },
  {
   "cell_type": "markdown",
   "metadata": {},
   "source": [
    "## Kitsu API\n",
    "\n",
    "Kitsu is a modern anime discovery platform that helps you track the anime you're watching, discover new anime and socialize with other fans.\n",
    "\n",
    "Within the Kitsu API __https://kitsu.docs.apiary.io/__ -- it contains data pertaining to users and the anime they have watched, rated, liked, commented, and overall have interacted with.\n",
    "\n",
    "In the next few cells we will aim to pull a initial sample of ~500 users and their interaction data.\n",
    "\n",
    "In total, there are 1,182,501 users and through the API, we are able to traverse through 20 results at a time. If we traverse through all 1.1M users only 20 at a time, we will need to make 59,125 iterations. \n",
    "\n",
    "For MVP purposes, we will pull a sample of 5,000 random users only needing 250 iterations."
   ]
  },
  {
   "cell_type": "markdown",
   "metadata": {},
   "source": [
    "To randomly select the 5,000 users knowing we can pull 20 from a page at a time -- we will use the following code to select for those users."
   ]
  },
  {
   "cell_type": "code",
   "execution_count": 3,
   "metadata": {
    "ExecuteTime": {
     "end_time": "2021-10-29T04:55:46.367773Z",
     "start_time": "2021-10-29T04:55:46.351758Z"
    }
   },
   "outputs": [
    {
     "name": "stdout",
     "output_type": "stream",
     "text": [
      "The pages to iterate through: 250 \n",
      "The number of users data to collect: 5000\n"
     ]
    }
   ],
   "source": [
    "num_users = 1182501\n",
    "sample_n = 5000\n",
    "users_per_page = 20\n",
    "pages_n = int(sample_n / users_per_page)\n",
    "\n",
    "# Increment the pages\n",
    "pages_array = np.arange(0,num_users,pages_n)\n",
    "\n",
    "# Shuffle the array of pages\n",
    "np.random.shuffle(pages_array)\n",
    "\n",
    "# Get the first pages_n from pages_array\n",
    "pages_to_query = pages_array[:pages_n]\n",
    "\n",
    "print(f'The pages to iterate through: {pages_n} \\nThe number of users data to collect: {pages_n*users_per_page}')"
   ]
  },
  {
   "cell_type": "code",
   "execution_count": 4,
   "metadata": {
    "ExecuteTime": {
     "end_time": "2021-10-29T04:55:47.141826Z",
     "start_time": "2021-10-29T04:55:47.121439Z"
    }
   },
   "outputs": [],
   "source": [
    "# Create users dict to collect data\n",
    "users_dict = {'id':[],\n",
    "              'name':[],\n",
    "              'location':[],\n",
    "              'createdAt':[],\n",
    "              'lifeSpentOnAnime':[],\n",
    "              'followersCount':[],\n",
    "              'followingCount':[],\n",
    "              'birthday':[],\n",
    "              'commentsCount':[],\n",
    "              'favoritesCount':[],\n",
    "              'likesGivenCount':[],\n",
    "              'reviewsCount':[],\n",
    "              'likesReceivedCount':[],\n",
    "              'postsCount':[],\n",
    "              'ratingsCount':[],\n",
    "              'likesReceivedCount':[],\n",
    "              'proTier':[],\n",
    "              'relationships':[]}"
   ]
  },
  {
   "cell_type": "markdown",
   "metadata": {},
   "source": [
    "## Iterate through pages of the Kitsu API to retrieve user data"
   ]
  },
  {
   "cell_type": "code",
   "execution_count": 4,
   "metadata": {
    "ExecuteTime": {
     "end_time": "2021-10-08T02:56:07.675859Z",
     "start_time": "2021-10-08T02:45:04.898081Z"
    },
    "scrolled": true
   },
   "outputs": [
    {
     "name": "stderr",
     "output_type": "stream",
     "text": [
      "100%|██████████| 250/250 [11:02<00:00,  2.65s/it]\n"
     ]
    }
   ],
   "source": [
    "# Create list of keys to later iterate through \n",
    "data_extract = list(users_dict.keys())\n",
    "data_extract.remove('id')\n",
    "data_extract.remove('relationships')\n",
    "\n",
    "# Set up link to iterate through\n",
    "for page_num in tqdm(pages_to_query):\n",
    "# for page_num in [20]:\n",
    "    \n",
    "    # Set up link to retrieve response from\n",
    "    kitsu_link = f\"https://kitsu.io/api/edge/users?page%5Blimit%5D=20&page%5Boffset%5D={page_num}\"\n",
    "\n",
    "    # Retrieve response\n",
    "    response = req.get(kitsu_link)\n",
    "    data = response.json()\n",
    "\n",
    "    # Iterate through 'data' list in json API response\n",
    "    for user in data['data']:\n",
    "        \n",
    "        # Retrieve desired data points\n",
    "        attr = user['attributes']\n",
    "        user_id = user['id']\n",
    "        rel = user['relationships']\n",
    "        \n",
    "        users_dict['id'].append(user_id)\n",
    "        users_dict['relationships'].append(rel)\n",
    "        \n",
    "        # Iterate through users_dict keys for particular data points of interest\n",
    "        for key in data_extract:\n",
    "            users_dict[key].append(attr.get(key, np.nan))"
   ]
  },
  {
   "cell_type": "code",
   "execution_count": 5,
   "metadata": {
    "ExecuteTime": {
     "end_time": "2021-10-08T02:56:08.656053Z",
     "start_time": "2021-10-08T02:56:07.678438Z"
    }
   },
   "outputs": [],
   "source": [
    "# convert users_dict to a dataframe\n",
    "animeUsers_df = pd.DataFrame(users_dict)\n",
    "\n",
    "# Save to csv\n",
    "# animeUsers_df.to_csv('animeUsers.csv',index=False)"
   ]
  },
  {
   "cell_type": "code",
   "execution_count": 5,
   "metadata": {
    "ExecuteTime": {
     "end_time": "2021-10-29T04:55:51.830239Z",
     "start_time": "2021-10-29T04:55:51.392416Z"
    }
   },
   "outputs": [],
   "source": [
    "animeUsers_df = pd.read_csv('animeUsers.csv')"
   ]
  },
  {
   "cell_type": "code",
   "execution_count": 6,
   "metadata": {
    "ExecuteTime": {
     "end_time": "2021-10-29T04:55:52.139410Z",
     "start_time": "2021-10-29T04:55:52.071550Z"
    },
    "scrolled": false
   },
   "outputs": [
    {
     "data": {
      "text/html": [
       "<div>\n",
       "<style scoped>\n",
       "    .dataframe tbody tr th:only-of-type {\n",
       "        vertical-align: middle;\n",
       "    }\n",
       "\n",
       "    .dataframe tbody tr th {\n",
       "        vertical-align: top;\n",
       "    }\n",
       "\n",
       "    .dataframe thead th {\n",
       "        text-align: right;\n",
       "    }\n",
       "</style>\n",
       "<table border=\"1\" class=\"dataframe\">\n",
       "  <thead>\n",
       "    <tr style=\"text-align: right;\">\n",
       "      <th></th>\n",
       "      <th>id</th>\n",
       "      <th>name</th>\n",
       "      <th>location</th>\n",
       "      <th>createdAt</th>\n",
       "      <th>lifeSpentOnAnime</th>\n",
       "      <th>followersCount</th>\n",
       "      <th>followingCount</th>\n",
       "      <th>birthday</th>\n",
       "      <th>commentsCount</th>\n",
       "      <th>favoritesCount</th>\n",
       "      <th>likesGivenCount</th>\n",
       "      <th>reviewsCount</th>\n",
       "      <th>likesReceivedCount</th>\n",
       "      <th>postsCount</th>\n",
       "      <th>ratingsCount</th>\n",
       "      <th>proTier</th>\n",
       "      <th>relationships</th>\n",
       "    </tr>\n",
       "  </thead>\n",
       "  <tbody>\n",
       "    <tr>\n",
       "      <th>0</th>\n",
       "      <td>717575</td>\n",
       "      <td>ybicona</td>\n",
       "      <td>Baltimore</td>\n",
       "      <td>2020-04-29T16:36:29.021Z</td>\n",
       "      <td>0</td>\n",
       "      <td>0</td>\n",
       "      <td>0</td>\n",
       "      <td>NaN</td>\n",
       "      <td>0</td>\n",
       "      <td>0</td>\n",
       "      <td>0</td>\n",
       "      <td>0</td>\n",
       "      <td>0</td>\n",
       "      <td>0</td>\n",
       "      <td>0</td>\n",
       "      <td>NaN</td>\n",
       "      <td>{'waifu': {'links': {'self': 'https://kitsu.io...</td>\n",
       "    </tr>\n",
       "    <tr>\n",
       "      <th>1</th>\n",
       "      <td>717576</td>\n",
       "      <td>skgsudhirkumar</td>\n",
       "      <td>NaN</td>\n",
       "      <td>2020-04-29T16:36:35.763Z</td>\n",
       "      <td>0</td>\n",
       "      <td>0</td>\n",
       "      <td>0</td>\n",
       "      <td>NaN</td>\n",
       "      <td>0</td>\n",
       "      <td>0</td>\n",
       "      <td>0</td>\n",
       "      <td>0</td>\n",
       "      <td>0</td>\n",
       "      <td>0</td>\n",
       "      <td>0</td>\n",
       "      <td>NaN</td>\n",
       "      <td>{'waifu': {'links': {'self': 'https://kitsu.io...</td>\n",
       "    </tr>\n",
       "    <tr>\n",
       "      <th>2</th>\n",
       "      <td>717577</td>\n",
       "      <td>βαγγέλης_μαχαίρας</td>\n",
       "      <td>NaN</td>\n",
       "      <td>2020-04-29T16:37:05.758Z</td>\n",
       "      <td>0</td>\n",
       "      <td>0</td>\n",
       "      <td>0</td>\n",
       "      <td>NaN</td>\n",
       "      <td>0</td>\n",
       "      <td>0</td>\n",
       "      <td>0</td>\n",
       "      <td>0</td>\n",
       "      <td>0</td>\n",
       "      <td>0</td>\n",
       "      <td>12</td>\n",
       "      <td>NaN</td>\n",
       "      <td>{'waifu': {'links': {'self': 'https://kitsu.io...</td>\n",
       "    </tr>\n",
       "    <tr>\n",
       "      <th>3</th>\n",
       "      <td>717578</td>\n",
       "      <td>Mame</td>\n",
       "      <td>NaN</td>\n",
       "      <td>2020-04-29T16:37:44.164Z</td>\n",
       "      <td>0</td>\n",
       "      <td>0</td>\n",
       "      <td>0</td>\n",
       "      <td>NaN</td>\n",
       "      <td>0</td>\n",
       "      <td>0</td>\n",
       "      <td>0</td>\n",
       "      <td>0</td>\n",
       "      <td>0</td>\n",
       "      <td>0</td>\n",
       "      <td>5</td>\n",
       "      <td>NaN</td>\n",
       "      <td>{'waifu': {'links': {'self': 'https://kitsu.io...</td>\n",
       "    </tr>\n",
       "    <tr>\n",
       "      <th>4</th>\n",
       "      <td>717579</td>\n",
       "      <td>ryan_maulana</td>\n",
       "      <td>NaN</td>\n",
       "      <td>2020-04-29T16:38:07.323Z</td>\n",
       "      <td>0</td>\n",
       "      <td>0</td>\n",
       "      <td>0</td>\n",
       "      <td>NaN</td>\n",
       "      <td>0</td>\n",
       "      <td>0</td>\n",
       "      <td>0</td>\n",
       "      <td>0</td>\n",
       "      <td>0</td>\n",
       "      <td>0</td>\n",
       "      <td>0</td>\n",
       "      <td>NaN</td>\n",
       "      <td>{'waifu': {'links': {'self': 'https://kitsu.io...</td>\n",
       "    </tr>\n",
       "  </tbody>\n",
       "</table>\n",
       "</div>"
      ],
      "text/plain": [
       "       id               name   location                 createdAt  \\\n",
       "0  717575            ybicona  Baltimore  2020-04-29T16:36:29.021Z   \n",
       "1  717576     skgsudhirkumar        NaN  2020-04-29T16:36:35.763Z   \n",
       "2  717577  βαγγέλης_μαχαίρας        NaN  2020-04-29T16:37:05.758Z   \n",
       "3  717578               Mame        NaN  2020-04-29T16:37:44.164Z   \n",
       "4  717579       ryan_maulana        NaN  2020-04-29T16:38:07.323Z   \n",
       "\n",
       "   lifeSpentOnAnime  followersCount  followingCount birthday  commentsCount  \\\n",
       "0                 0               0               0      NaN              0   \n",
       "1                 0               0               0      NaN              0   \n",
       "2                 0               0               0      NaN              0   \n",
       "3                 0               0               0      NaN              0   \n",
       "4                 0               0               0      NaN              0   \n",
       "\n",
       "   favoritesCount  likesGivenCount  reviewsCount  likesReceivedCount  \\\n",
       "0               0                0             0                   0   \n",
       "1               0                0             0                   0   \n",
       "2               0                0             0                   0   \n",
       "3               0                0             0                   0   \n",
       "4               0                0             0                   0   \n",
       "\n",
       "   postsCount  ratingsCount proTier  \\\n",
       "0           0             0     NaN   \n",
       "1           0             0     NaN   \n",
       "2           0            12     NaN   \n",
       "3           0             5     NaN   \n",
       "4           0             0     NaN   \n",
       "\n",
       "                                       relationships  \n",
       "0  {'waifu': {'links': {'self': 'https://kitsu.io...  \n",
       "1  {'waifu': {'links': {'self': 'https://kitsu.io...  \n",
       "2  {'waifu': {'links': {'self': 'https://kitsu.io...  \n",
       "3  {'waifu': {'links': {'self': 'https://kitsu.io...  \n",
       "4  {'waifu': {'links': {'self': 'https://kitsu.io...  "
      ]
     },
     "execution_count": 6,
     "metadata": {},
     "output_type": "execute_result"
    }
   ],
   "source": [
    "# Peek at data\n",
    "animeUsers_df.head()"
   ]
  },
  {
   "cell_type": "code",
   "execution_count": 7,
   "metadata": {
    "ExecuteTime": {
     "end_time": "2021-10-29T04:55:52.453393Z",
     "start_time": "2021-10-29T04:55:52.366761Z"
    }
   },
   "outputs": [
    {
     "data": {
      "text/html": [
       "<div>\n",
       "<style scoped>\n",
       "    .dataframe tbody tr th:only-of-type {\n",
       "        vertical-align: middle;\n",
       "    }\n",
       "\n",
       "    .dataframe tbody tr th {\n",
       "        vertical-align: top;\n",
       "    }\n",
       "\n",
       "    .dataframe thead th {\n",
       "        text-align: right;\n",
       "    }\n",
       "</style>\n",
       "<table border=\"1\" class=\"dataframe\">\n",
       "  <thead>\n",
       "    <tr style=\"text-align: right;\">\n",
       "      <th></th>\n",
       "      <th>id</th>\n",
       "      <th>name</th>\n",
       "      <th>location</th>\n",
       "      <th>createdAt</th>\n",
       "      <th>lifeSpentOnAnime</th>\n",
       "      <th>followersCount</th>\n",
       "      <th>followingCount</th>\n",
       "      <th>birthday</th>\n",
       "      <th>commentsCount</th>\n",
       "      <th>favoritesCount</th>\n",
       "      <th>likesGivenCount</th>\n",
       "      <th>reviewsCount</th>\n",
       "      <th>likesReceivedCount</th>\n",
       "      <th>postsCount</th>\n",
       "      <th>ratingsCount</th>\n",
       "      <th>proTier</th>\n",
       "      <th>relationships</th>\n",
       "    </tr>\n",
       "  </thead>\n",
       "  <tbody>\n",
       "    <tr>\n",
       "      <th>979</th>\n",
       "      <td>85539</td>\n",
       "      <td>maria12021</td>\n",
       "      <td>Norway</td>\n",
       "      <td>2015-04-06T00:55:29.333Z</td>\n",
       "      <td>74217</td>\n",
       "      <td>4</td>\n",
       "      <td>2</td>\n",
       "      <td>2001-04-18</td>\n",
       "      <td>0</td>\n",
       "      <td>209</td>\n",
       "      <td>0</td>\n",
       "      <td>0</td>\n",
       "      <td>0</td>\n",
       "      <td>0</td>\n",
       "      <td>605</td>\n",
       "      <td>NaN</td>\n",
       "      <td>{'waifu': {'links': {'self': 'https://kitsu.io...</td>\n",
       "    </tr>\n",
       "    <tr>\n",
       "      <th>2754</th>\n",
       "      <td>143115</td>\n",
       "      <td>Liv_Martin_Strong</td>\n",
       "      <td>UK</td>\n",
       "      <td>2017-01-16T01:03:19.919Z</td>\n",
       "      <td>0</td>\n",
       "      <td>36</td>\n",
       "      <td>28</td>\n",
       "      <td>1991-08-14</td>\n",
       "      <td>44</td>\n",
       "      <td>139</td>\n",
       "      <td>26</td>\n",
       "      <td>27</td>\n",
       "      <td>30</td>\n",
       "      <td>33</td>\n",
       "      <td>280</td>\n",
       "      <td>NaN</td>\n",
       "      <td>{'waifu': {'links': {'self': 'https://kitsu.io...</td>\n",
       "    </tr>\n",
       "    <tr>\n",
       "      <th>3747</th>\n",
       "      <td>121938</td>\n",
       "      <td>70a573r</td>\n",
       "      <td>The Government</td>\n",
       "      <td>2016-03-20T23:46:32.451Z</td>\n",
       "      <td>20854</td>\n",
       "      <td>6</td>\n",
       "      <td>2</td>\n",
       "      <td>2001-09-11</td>\n",
       "      <td>2</td>\n",
       "      <td>86</td>\n",
       "      <td>4</td>\n",
       "      <td>1</td>\n",
       "      <td>7</td>\n",
       "      <td>3</td>\n",
       "      <td>5</td>\n",
       "      <td>NaN</td>\n",
       "      <td>{'waifu': {'links': {'self': 'https://kitsu.io...</td>\n",
       "    </tr>\n",
       "    <tr>\n",
       "      <th>3971</th>\n",
       "      <td>70211</td>\n",
       "      <td>LadyGira</td>\n",
       "      <td>Pirate Ship</td>\n",
       "      <td>2014-12-09T04:44:12.856Z</td>\n",
       "      <td>451853</td>\n",
       "      <td>5</td>\n",
       "      <td>10</td>\n",
       "      <td>NaN</td>\n",
       "      <td>0</td>\n",
       "      <td>82</td>\n",
       "      <td>10</td>\n",
       "      <td>0</td>\n",
       "      <td>1</td>\n",
       "      <td>0</td>\n",
       "      <td>1040</td>\n",
       "      <td>NaN</td>\n",
       "      <td>{'waifu': {'links': {'self': 'https://kitsu.io...</td>\n",
       "    </tr>\n",
       "    <tr>\n",
       "      <th>2523</th>\n",
       "      <td>86869</td>\n",
       "      <td>nick_gooeygrass</td>\n",
       "      <td>NaN</td>\n",
       "      <td>2015-04-15T23:18:46.962Z</td>\n",
       "      <td>73828</td>\n",
       "      <td>1</td>\n",
       "      <td>1</td>\n",
       "      <td>NaN</td>\n",
       "      <td>0</td>\n",
       "      <td>55</td>\n",
       "      <td>0</td>\n",
       "      <td>0</td>\n",
       "      <td>0</td>\n",
       "      <td>0</td>\n",
       "      <td>96</td>\n",
       "      <td>NaN</td>\n",
       "      <td>{'waifu': {'links': {'self': 'https://kitsu.io...</td>\n",
       "    </tr>\n",
       "    <tr>\n",
       "      <th>2149</th>\n",
       "      <td>78730</td>\n",
       "      <td>Iago</td>\n",
       "      <td>South</td>\n",
       "      <td>2015-02-07T13:48:55.698Z</td>\n",
       "      <td>137029</td>\n",
       "      <td>69</td>\n",
       "      <td>61</td>\n",
       "      <td>NaN</td>\n",
       "      <td>6</td>\n",
       "      <td>51</td>\n",
       "      <td>986</td>\n",
       "      <td>0</td>\n",
       "      <td>-9</td>\n",
       "      <td>3</td>\n",
       "      <td>655</td>\n",
       "      <td>NaN</td>\n",
       "      <td>{'waifu': {'links': {'self': 'https://kitsu.io...</td>\n",
       "    </tr>\n",
       "    <tr>\n",
       "      <th>2487</th>\n",
       "      <td>561112</td>\n",
       "      <td>kevintombs20</td>\n",
       "      <td>NaN</td>\n",
       "      <td>2019-08-13T18:19:22.094Z</td>\n",
       "      <td>0</td>\n",
       "      <td>0</td>\n",
       "      <td>0</td>\n",
       "      <td>NaN</td>\n",
       "      <td>0</td>\n",
       "      <td>46</td>\n",
       "      <td>0</td>\n",
       "      <td>0</td>\n",
       "      <td>0</td>\n",
       "      <td>0</td>\n",
       "      <td>71</td>\n",
       "      <td>NaN</td>\n",
       "      <td>{'waifu': {'links': {'self': 'https://kitsu.io...</td>\n",
       "    </tr>\n",
       "    <tr>\n",
       "      <th>4833</th>\n",
       "      <td>100364</td>\n",
       "      <td>Wolfwood93</td>\n",
       "      <td>Colorado</td>\n",
       "      <td>2015-08-08T17:34:30.626Z</td>\n",
       "      <td>96306</td>\n",
       "      <td>15</td>\n",
       "      <td>6</td>\n",
       "      <td>1993-09-13</td>\n",
       "      <td>2</td>\n",
       "      <td>44</td>\n",
       "      <td>14</td>\n",
       "      <td>0</td>\n",
       "      <td>-2</td>\n",
       "      <td>-1</td>\n",
       "      <td>178</td>\n",
       "      <td>NaN</td>\n",
       "      <td>{'waifu': {'links': {'self': 'https://kitsu.io...</td>\n",
       "    </tr>\n",
       "    <tr>\n",
       "      <th>119</th>\n",
       "      <td>278590</td>\n",
       "      <td>BarretKun</td>\n",
       "      <td>São Bernardo do Campo, SP, Brazil</td>\n",
       "      <td>2018-05-29T16:05:06.030Z</td>\n",
       "      <td>0</td>\n",
       "      <td>1</td>\n",
       "      <td>1</td>\n",
       "      <td>1999-06-24</td>\n",
       "      <td>0</td>\n",
       "      <td>41</td>\n",
       "      <td>0</td>\n",
       "      <td>0</td>\n",
       "      <td>0</td>\n",
       "      <td>0</td>\n",
       "      <td>172</td>\n",
       "      <td>NaN</td>\n",
       "      <td>{'waifu': {'links': {'self': 'https://kitsu.io...</td>\n",
       "    </tr>\n",
       "    <tr>\n",
       "      <th>1970</th>\n",
       "      <td>582074</td>\n",
       "      <td>Legorion</td>\n",
       "      <td>Latvia,Riga</td>\n",
       "      <td>2019-09-22T15:42:08.578Z</td>\n",
       "      <td>0</td>\n",
       "      <td>4</td>\n",
       "      <td>5</td>\n",
       "      <td>1986-09-22</td>\n",
       "      <td>1</td>\n",
       "      <td>39</td>\n",
       "      <td>3</td>\n",
       "      <td>0</td>\n",
       "      <td>0</td>\n",
       "      <td>0</td>\n",
       "      <td>37</td>\n",
       "      <td>NaN</td>\n",
       "      <td>{'waifu': {'links': {'self': 'https://kitsu.io...</td>\n",
       "    </tr>\n",
       "  </tbody>\n",
       "</table>\n",
       "</div>"
      ],
      "text/plain": [
       "          id               name                           location  \\\n",
       "979    85539         maria12021                             Norway   \n",
       "2754  143115  Liv_Martin_Strong                                 UK   \n",
       "3747  121938            70a573r                     The Government   \n",
       "3971   70211           LadyGira                        Pirate Ship   \n",
       "2523   86869    nick_gooeygrass                                NaN   \n",
       "2149   78730               Iago                              South   \n",
       "2487  561112       kevintombs20                                NaN   \n",
       "4833  100364         Wolfwood93                           Colorado   \n",
       "119   278590          BarretKun  São Bernardo do Campo, SP, Brazil   \n",
       "1970  582074           Legorion                        Latvia,Riga   \n",
       "\n",
       "                     createdAt  lifeSpentOnAnime  followersCount  \\\n",
       "979   2015-04-06T00:55:29.333Z             74217               4   \n",
       "2754  2017-01-16T01:03:19.919Z                 0              36   \n",
       "3747  2016-03-20T23:46:32.451Z             20854               6   \n",
       "3971  2014-12-09T04:44:12.856Z            451853               5   \n",
       "2523  2015-04-15T23:18:46.962Z             73828               1   \n",
       "2149  2015-02-07T13:48:55.698Z            137029              69   \n",
       "2487  2019-08-13T18:19:22.094Z                 0               0   \n",
       "4833  2015-08-08T17:34:30.626Z             96306              15   \n",
       "119   2018-05-29T16:05:06.030Z                 0               1   \n",
       "1970  2019-09-22T15:42:08.578Z                 0               4   \n",
       "\n",
       "      followingCount    birthday  commentsCount  favoritesCount  \\\n",
       "979                2  2001-04-18              0             209   \n",
       "2754              28  1991-08-14             44             139   \n",
       "3747               2  2001-09-11              2              86   \n",
       "3971              10         NaN              0              82   \n",
       "2523               1         NaN              0              55   \n",
       "2149              61         NaN              6              51   \n",
       "2487               0         NaN              0              46   \n",
       "4833               6  1993-09-13              2              44   \n",
       "119                1  1999-06-24              0              41   \n",
       "1970               5  1986-09-22              1              39   \n",
       "\n",
       "      likesGivenCount  reviewsCount  likesReceivedCount  postsCount  \\\n",
       "979                 0             0                   0           0   \n",
       "2754               26            27                  30          33   \n",
       "3747                4             1                   7           3   \n",
       "3971               10             0                   1           0   \n",
       "2523                0             0                   0           0   \n",
       "2149              986             0                  -9           3   \n",
       "2487                0             0                   0           0   \n",
       "4833               14             0                  -2          -1   \n",
       "119                 0             0                   0           0   \n",
       "1970                3             0                   0           0   \n",
       "\n",
       "      ratingsCount proTier                                      relationships  \n",
       "979            605     NaN  {'waifu': {'links': {'self': 'https://kitsu.io...  \n",
       "2754           280     NaN  {'waifu': {'links': {'self': 'https://kitsu.io...  \n",
       "3747             5     NaN  {'waifu': {'links': {'self': 'https://kitsu.io...  \n",
       "3971          1040     NaN  {'waifu': {'links': {'self': 'https://kitsu.io...  \n",
       "2523            96     NaN  {'waifu': {'links': {'self': 'https://kitsu.io...  \n",
       "2149           655     NaN  {'waifu': {'links': {'self': 'https://kitsu.io...  \n",
       "2487            71     NaN  {'waifu': {'links': {'self': 'https://kitsu.io...  \n",
       "4833           178     NaN  {'waifu': {'links': {'self': 'https://kitsu.io...  \n",
       "119            172     NaN  {'waifu': {'links': {'self': 'https://kitsu.io...  \n",
       "1970            37     NaN  {'waifu': {'links': {'self': 'https://kitsu.io...  "
      ]
     },
     "execution_count": 7,
     "metadata": {},
     "output_type": "execute_result"
    }
   ],
   "source": [
    "animeUsers_df.sort_values('favoritesCount',ascending=False).head(10)"
   ]
  },
  {
   "cell_type": "code",
   "execution_count": 8,
   "metadata": {
    "ExecuteTime": {
     "end_time": "2021-10-29T04:55:54.585774Z",
     "start_time": "2021-10-29T04:55:53.065909Z"
    },
    "scrolled": false
   },
   "outputs": [
    {
     "name": "stdout",
     "output_type": "stream",
     "text": [
      "commentsCount        2178\n",
      "favoritesCount       4178\n",
      "likesGivenCount      5689\n",
      "reviewsCount          100\n",
      "postsCount            920\n",
      "ratingsCount       135568\n",
      "dtype: int64\n",
      "\n"
     ]
    },
    {
     "data": {
      "image/png": "[encoded data removed]",
      "text/plain": [
       "<Figure size 432x288 with 1 Axes>"
      ]
     },
     "metadata": {
      "needs_background": "light"
     },
     "output_type": "display_data"
    }
   ],
   "source": [
    "# Examine distribution of interaction types among users\n",
    "interaction_list = ['commentsCount',\n",
    "                    'favoritesCount', \n",
    "                    'likesGivenCount', \n",
    "                    'reviewsCount',\n",
    "                    'postsCount', \n",
    "                    'ratingsCount']\n",
    "\n",
    "print(animeUsers_df[interaction_list].sum())\n",
    "print()\n",
    "\n",
    "pd.DataFrame(animeUsers_df[interaction_list].sum()).plot(kind='bar');"
   ]
  },
  {
   "cell_type": "markdown",
   "metadata": {},
   "source": [
    "- favorites\n",
    "- reviews\n",
    "    - https://kitsu.io/api/edge/users/22/reviews; reviews id; https://kitsu.io/api/edge/reviews/review id/media"
   ]
  },
  {
   "cell_type": "code",
   "execution_count": 9,
   "metadata": {
    "ExecuteTime": {
     "end_time": "2021-10-29T04:55:54.823914Z",
     "start_time": "2021-10-29T04:55:54.796949Z"
    }
   },
   "outputs": [],
   "source": [
    "# Peek at few examples of relationships column\n",
    "jt = ast.literal_eval(animeUsers_df['relationships'][1])\n",
    "jt2 = ast.literal_eval(animeUsers_df['relationships'][4])"
   ]
  },
  {
   "cell_type": "code",
   "execution_count": 17,
   "metadata": {
    "ExecuteTime": {
     "end_time": "2021-10-29T04:56:20.883425Z",
     "start_time": "2021-10-29T04:56:20.727145Z"
    }
   },
   "outputs": [
    {
     "data": {
      "text/plain": [
       "{'data': [],\n",
       " 'meta': {'count': 0},\n",
       " 'links': {'first': 'https://kitsu.io/api/edge/users/717579/favorites?page%5Blimit%5D=10&page%5Boffset%5D=0',\n",
       "  'last': 'https://kitsu.io/api/edge/users/717579/favorites?page%5Blimit%5D=10&page%5Boffset%5D=0'}}"
      ]
     },
     "execution_count": 17,
     "metadata": {},
     "output_type": "execute_result"
    }
   ],
   "source": [
    "get_kitsu_response( jt2['favorites']['links']['related'] )"
   ]
  },
  {
   "cell_type": "code",
   "execution_count": 16,
   "metadata": {
    "ExecuteTime": {
     "end_time": "2021-10-29T04:56:18.573365Z",
     "start_time": "2021-10-29T04:56:18.552599Z"
    }
   },
   "outputs": [],
   "source": [
    "def get_kitsu_response(link):\n",
    "    \"\"\"\n",
    "    Returns a pretty printed response from JSON object\n",
    "    \n",
    "    Parameters\n",
    "    ----------\n",
    "    link : str\n",
    "        The URL to query from Kitsu API\n",
    "\n",
    "    Returns\n",
    "    -------\n",
    "    pretty printed view of json response\n",
    "    \n",
    "    \"\"\"\n",
    "    kitsu_response = req.get(link)\n",
    "    kitsu_data = kitsu_response.json()\n",
    "    return kitsu_data"
   ]
  },
  {
   "cell_type": "markdown",
   "metadata": {},
   "source": [
    "## Retrieve Favorite Anime per User"
   ]
  },
  {
   "cell_type": "code",
   "execution_count": 11,
   "metadata": {
    "ExecuteTime": {
     "end_time": "2021-10-29T04:55:56.444644Z",
     "start_time": "2021-10-29T04:55:56.420396Z"
    }
   },
   "outputs": [],
   "source": [
    "def get_user_favorites(user_id):\n",
    "    \"\"\"\n",
    "    Returns a list of a user's favorite anime\n",
    "    \n",
    "    Parameters\n",
    "    ----------\n",
    "    user_id : int\n",
    "        user_id\n",
    "    Returns\n",
    "    -------\n",
    "    Dictionary of the user's favorited anime\n",
    "    \n",
    "    \"\"\"\n",
    "    print(f'Retrieving favorites data for user {user_id}')\n",
    "    kitsu_link = f'https://kitsu.io/api/edge/favorites/?filter[userId]={user_id}&[itemType]=Media'\n",
    "    kitsu_response = req.get(kitsu_link)\n",
    "    kitsu_data = kitsu_response.json()\n",
    "\n",
    "    # Store favorites dictionary\n",
    "    fav_dict = {'user_id':None,\n",
    "                'anime_id':[],\n",
    "                'canonicalTitle':[],\n",
    "                'synopsis':[],\n",
    "                'description':[]}\n",
    "    \n",
    "    # Check for number of favorites -- if more than 10; paginate through all favorites else retrieve favorites on page\n",
    "    favorites_count = kitsu_data['meta']['count']\n",
    "        \n",
    "    pages = math.floor((favorites_count/10)+1)\n",
    "    page_nums = []\n",
    "    count = 0\n",
    "    # Create list of pages to paginate through\n",
    "    for num in range(pages):\n",
    "        page_nums.append(num*10)\n",
    "       \n",
    "    # Retrieve data from each page\n",
    "    for page in tqdm(page_nums):\n",
    "        link = f'https://kitsu.io/api/edge/favorites?filter%5BuserId%5D={user_id}&page%5Blimit%5D=10&page%5Boffset%5D={page}'\n",
    "        fav_page = get_kitsu_response(link)\n",
    "        for fav in fav_page['data']:\n",
    "            \n",
    "            # Get link to retrieve anime data\n",
    "            item = fav['relationships']['item']['links']['related']\n",
    "            anime_response = get_kitsu_response(item)\n",
    "            \n",
    "            # Check that the user's marked favorite is an anime\n",
    "            if anime_response['data']['type'] == 'anime':\n",
    "                \n",
    "                title = anime_response['data']['attributes'].get('canonicalTitle', np.nan)\n",
    "                anime_id = anime_response['data'].get('id', np.nan)\n",
    "                synopsis = anime_response['data']['attributes'].get('synopsis', np.nan)\n",
    "                desc = anime_response['data']['attributes'].get('description', np.nan)\n",
    "\n",
    "                fav_dict['anime_id'].append(anime_id)\n",
    "                fav_dict['canonicalTitle'].append(title)\n",
    "                fav_dict['synopsis'].append(synopsis)\n",
    "                fav_dict['description'].append(desc)\n",
    "                count += 1\n",
    "                \n",
    "            # If the marked favorite is not an anime --> skip\n",
    "            else:\n",
    "                continue\n",
    "    \n",
    "    # Create a list of the users_id to map every item to the user\n",
    "    user_id_list = [user_id]*count\n",
    "    fav_dict['user_id'] = user_id_list\n",
    "    \n",
    "    return fav_dict "
   ]
  },
  {
   "cell_type": "markdown",
   "metadata": {
    "ExecuteTime": {
     "end_time": "2021-10-15T06:20:34.775769Z",
     "start_time": "2021-10-15T06:20:34.754299Z"
    }
   },
   "source": [
    "## Retrieve Library Entries per User"
   ]
  },
  {
   "cell_type": "code",
   "execution_count": 18,
   "metadata": {
    "ExecuteTime": {
     "end_time": "2021-10-29T04:56:24.504338Z",
     "start_time": "2021-10-29T04:56:24.465817Z"
    }
   },
   "outputs": [],
   "source": [
    "def get_user_library_entries(user_id):\n",
    "    \"\"\"\n",
    "    Returns a list of a user's library entries. \n",
    "    The output of this function will detail anime the user has watched, planned to watch, or stopped watching.\n",
    "    \n",
    "    Parameters\n",
    "    ----------\n",
    "    user_id : int\n",
    "        user_id\n",
    "    Returns\n",
    "    -------\n",
    "    Dictionary of the anime a user has interacted with.\n",
    "    \n",
    "    \"\"\"\n",
    "    print(f'Retrieving library entry data for user {user_id}')\n",
    "    kitsu_link = f'https://kitsu.io/api/edge/library-entries/?filter[userId]={user_id}&[kind]=anime'\n",
    "    kitsu_response = req.get(kitsu_link)\n",
    "    kitsu_data = kitsu_response.json()\n",
    "\n",
    "    # Store favorites dictionary\n",
    "    lib_entry_dict = {'user_id':None,\n",
    "                      'anime_id':[],\n",
    "                      'status':[],\n",
    "                      'progress':[],\n",
    "                      'progressedAt':[],\n",
    "                      'startedAt':[],\n",
    "                      'finishedAt':[],\n",
    "                      'canonicalTitle':[],\n",
    "                      'synopsis':[],\n",
    "                      'description':[]}\n",
    "    \n",
    "    # Check for number of favorites -- if more than 10; paginate through all favorites else retrieve favorites on page\n",
    "    entries_count = kitsu_data['meta']['count']\n",
    "        \n",
    "    pages = math.floor((entries_count/10)+1)\n",
    "    page_nums = []\n",
    "    count = 0\n",
    "    # Create list of pages to paginate through\n",
    "    for num in range(pages):\n",
    "        page_nums.append(num*10)\n",
    "       \n",
    "    # Retrieve data from each page\n",
    "    for page in tqdm(page_nums[:5]):\n",
    "        link = f'https://kitsu.io/api/edge/library-entries?filter%5BuserId%5D={user_id}&page%5Blimit%5D=10&page%5Boffset%5D={page}'\n",
    "        le_page = get_kitsu_response(link)\n",
    "        for le in le_page['data']:\n",
    "            \n",
    "            # Retrieve watch status data\n",
    "            attr = le['attributes']\n",
    "            status = attr['status']\n",
    "            progress = attr['progress']\n",
    "            progressedAt = attr['progressedAt']\n",
    "            startedAt = attr['startedAt']\n",
    "            finishedAt = attr['finishedAt']\n",
    "            \n",
    "            # Get link to retrieve anime data\n",
    "            item = le['relationships']['anime']['links']['related']\n",
    "            anime_response = get_kitsu_response(item)\n",
    "            try:\n",
    "                title = anime_response['data']['attributes'].get('canonicalTitle', np.nan)\n",
    "                anime_id = anime_response['data'].get('id', np.nan)\n",
    "                synopsis = anime_response['data']['attributes'].get('synopsis', np.nan)\n",
    "                desc = anime_response['data']['attributes'].get('description', np.nan)\n",
    "                \n",
    "                lib_entry_dict['status'].append(status)\n",
    "                lib_entry_dict['progress'].append(progress)\n",
    "                lib_entry_dict['progressedAt'].append(progressedAt)\n",
    "                lib_entry_dict['startedAt'].append(progressedAt)\n",
    "                lib_entry_dict['finishedAt'].append(finishedAt)\n",
    "                lib_entry_dict['anime_id'].append(anime_id)\n",
    "                lib_entry_dict['canonicalTitle'].append(title)\n",
    "                lib_entry_dict['synopsis'].append(synopsis)\n",
    "                lib_entry_dict['description'].append(desc)\n",
    "                count += 1\n",
    "            except TypeError:\n",
    "                continue\n",
    "    \n",
    "    # Create a list of the users_id to map every item to the user\n",
    "    user_id_list = [user_id]*count\n",
    "    lib_entry_dict['user_id'] = user_id_list\n",
    "    \n",
    "    return lib_entry_dict "
   ]
  },
  {
   "cell_type": "markdown",
   "metadata": {},
   "source": [
    "# Run retrieval functions for a sample of users"
   ]
  },
  {
   "cell_type": "code",
   "execution_count": 19,
   "metadata": {
    "ExecuteTime": {
     "end_time": "2021-10-29T04:56:25.539442Z",
     "start_time": "2021-10-29T04:56:25.523279Z"
    }
   },
   "outputs": [],
   "source": [
    "user_sample_list = [85539, 143115, 121938, 70211, 86869]"
   ]
  },
  {
   "cell_type": "code",
   "execution_count": 20,
   "metadata": {
    "ExecuteTime": {
     "end_time": "2021-10-29T04:57:46.732915Z",
     "start_time": "2021-10-29T04:56:25.858556Z"
    }
   },
   "outputs": [
    {
     "name": "stdout",
     "output_type": "stream",
     "text": [
      "Retrieving favorites data for user 85539\n"
     ]
    },
    {
     "name": "stderr",
     "output_type": "stream",
     "text": [
      "100%|██████████| 21/21 [00:29<00:00,  1.41s/it]\n",
      "  0%|          | 0/14 [00:00<?, ?it/s]"
     ]
    },
    {
     "name": "stdout",
     "output_type": "stream",
     "text": [
      "Retrieving favorites data for user 143115\n"
     ]
    },
    {
     "name": "stderr",
     "output_type": "stream",
     "text": [
      "100%|██████████| 14/14 [00:19<00:00,  1.39s/it]\n",
      "  0%|          | 0/9 [00:00<?, ?it/s]"
     ]
    },
    {
     "name": "stdout",
     "output_type": "stream",
     "text": [
      "Retrieving favorites data for user 121938\n"
     ]
    },
    {
     "name": "stderr",
     "output_type": "stream",
     "text": [
      "100%|██████████| 9/9 [00:11<00:00,  1.31s/it]\n",
      "  0%|          | 0/9 [00:00<?, ?it/s]"
     ]
    },
    {
     "name": "stdout",
     "output_type": "stream",
     "text": [
      "Retrieving favorites data for user 70211\n"
     ]
    },
    {
     "name": "stderr",
     "output_type": "stream",
     "text": [
      "100%|██████████| 9/9 [00:11<00:00,  1.23s/it]\n"
     ]
    },
    {
     "name": "stdout",
     "output_type": "stream",
     "text": [
      "Retrieving favorites data for user 86869\n"
     ]
    },
    {
     "name": "stderr",
     "output_type": "stream",
     "text": [
      "100%|██████████| 6/6 [00:07<00:00,  1.33s/it]\n"
     ]
    }
   ],
   "source": [
    "# Retrieve sample of favorites data per user\n",
    "users_favs_df = pd.DataFrame()\n",
    "\n",
    "for user in user_sample_list:\n",
    "    df = pd.DataFrame(get_user_favorites(user))\n",
    "    users_favs_df = users_favs_df.append(df)"
   ]
  },
  {
   "cell_type": "code",
   "execution_count": 21,
   "metadata": {
    "ExecuteTime": {
     "end_time": "2021-10-29T04:57:47.170328Z",
     "start_time": "2021-10-29T04:57:47.110755Z"
    }
   },
   "outputs": [],
   "source": [
    "users_favs_df.to_csv('animeFavorites_data.csv',index=False)"
   ]
  },
  {
   "cell_type": "code",
   "execution_count": 22,
   "metadata": {
    "ExecuteTime": {
     "end_time": "2021-10-29T04:58:26.108744Z",
     "start_time": "2021-10-29T04:57:47.566027Z"
    }
   },
   "outputs": [
    {
     "name": "stdout",
     "output_type": "stream",
     "text": [
      "Retrieving library entry data for user 85539\n"
     ]
    },
    {
     "name": "stderr",
     "output_type": "stream",
     "text": [
      "100%|██████████| 5/5 [00:07<00:00,  1.50s/it]\n"
     ]
    },
    {
     "name": "stdout",
     "output_type": "stream",
     "text": [
      "Retrieving library entry data for user 143115\n"
     ]
    },
    {
     "name": "stderr",
     "output_type": "stream",
     "text": [
      "100%|██████████| 5/5 [00:07<00:00,  1.47s/it]\n"
     ]
    },
    {
     "name": "stdout",
     "output_type": "stream",
     "text": [
      "Retrieving library entry data for user 121938\n"
     ]
    },
    {
     "name": "stderr",
     "output_type": "stream",
     "text": [
      "100%|██████████| 5/5 [00:07<00:00,  1.47s/it]\n"
     ]
    },
    {
     "name": "stdout",
     "output_type": "stream",
     "text": [
      "Retrieving library entry data for user 70211\n"
     ]
    },
    {
     "name": "stderr",
     "output_type": "stream",
     "text": [
      "100%|██████████| 5/5 [00:07<00:00,  1.42s/it]\n"
     ]
    },
    {
     "name": "stdout",
     "output_type": "stream",
     "text": [
      "Retrieving library entry data for user 86869\n"
     ]
    },
    {
     "name": "stderr",
     "output_type": "stream",
     "text": [
      "100%|██████████| 5/5 [00:06<00:00,  1.32s/it]\n"
     ]
    }
   ],
   "source": [
    "# Retrieve sample of library entries data per user\n",
    "users_le_df = pd.DataFrame()\n",
    "\n",
    "for user in user_sample_list:\n",
    "    df = pd.DataFrame(get_user_library_entries(user))\n",
    "    users_le_df = users_le_df.append(df)"
   ]
  },
  {
   "cell_type": "code",
   "execution_count": 23,
   "metadata": {
    "ExecuteTime": {
     "end_time": "2021-10-29T04:58:26.602292Z",
     "start_time": "2021-10-29T04:58:26.550717Z"
    }
   },
   "outputs": [],
   "source": [
    "users_le_df.to_csv('animeWatchStatus_data.csv',index=False)"
   ]
  },
  {
   "cell_type": "code",
   "execution_count": 24,
   "metadata": {
    "ExecuteTime": {
     "end_time": "2021-10-29T04:58:27.111859Z",
     "start_time": "2021-10-29T04:58:27.066472Z"
    }
   },
   "outputs": [
    {
     "data": {
      "text/html": [
       "<div>\n",
       "<style scoped>\n",
       "    .dataframe tbody tr th:only-of-type {\n",
       "        vertical-align: middle;\n",
       "    }\n",
       "\n",
       "    .dataframe tbody tr th {\n",
       "        vertical-align: top;\n",
       "    }\n",
       "\n",
       "    .dataframe thead th {\n",
       "        text-align: right;\n",
       "    }\n",
       "</style>\n",
       "<table border=\"1\" class=\"dataframe\">\n",
       "  <thead>\n",
       "    <tr style=\"text-align: right;\">\n",
       "      <th></th>\n",
       "      <th>user_id</th>\n",
       "      <th>anime_id</th>\n",
       "      <th>status</th>\n",
       "      <th>progress</th>\n",
       "      <th>progressedAt</th>\n",
       "      <th>startedAt</th>\n",
       "      <th>finishedAt</th>\n",
       "      <th>canonicalTitle</th>\n",
       "      <th>synopsis</th>\n",
       "      <th>description</th>\n",
       "    </tr>\n",
       "  </thead>\n",
       "  <tbody>\n",
       "    <tr>\n",
       "      <th>0</th>\n",
       "      <td>85539</td>\n",
       "      <td>176</td>\n",
       "      <td>completed</td>\n",
       "      <td>1</td>\n",
       "      <td>2016-04-05T21:53:57.987Z</td>\n",
       "      <td>2016-04-05T21:53:57.987Z</td>\n",
       "      <td>2016-04-05T00:00:00.000Z</td>\n",
       "      <td>Spirited Away</td>\n",
       "      <td>Stubborn, spoiled, and naïve, 10-year-old Chih...</td>\n",
       "      <td>Stubborn, spoiled, and naïve, 10-year-old Chih...</td>\n",
       "    </tr>\n",
       "    <tr>\n",
       "      <th>1</th>\n",
       "      <td>85539</td>\n",
       "      <td>6711</td>\n",
       "      <td>completed</td>\n",
       "      <td>1</td>\n",
       "      <td>2015-11-07T21:02:56.128Z</td>\n",
       "      <td>2015-11-07T21:02:56.128Z</td>\n",
       "      <td>2015-11-07T00:00:00.000Z</td>\n",
       "      <td>Wolf Children</td>\n",
       "      <td>Hana, a hard-working college student, falls in...</td>\n",
       "      <td>Hana, a hard-working college student, falls in...</td>\n",
       "    </tr>\n",
       "    <tr>\n",
       "      <th>2</th>\n",
       "      <td>85539</td>\n",
       "      <td>142</td>\n",
       "      <td>completed</td>\n",
       "      <td>1</td>\n",
       "      <td>2016-04-05T21:54:13.337Z</td>\n",
       "      <td>2016-04-05T21:54:13.337Z</td>\n",
       "      <td>2016-04-05T00:00:00.000Z</td>\n",
       "      <td>Princess Mononoke</td>\n",
       "      <td>When an Emishi village is attacked by a fierce...</td>\n",
       "      <td>When an Emishi village is attacked by a fierce...</td>\n",
       "    </tr>\n",
       "    <tr>\n",
       "      <th>3</th>\n",
       "      <td>85539</td>\n",
       "      <td>8403</td>\n",
       "      <td>completed</td>\n",
       "      <td>22</td>\n",
       "      <td>2015-04-06T00:57:29.294Z</td>\n",
       "      <td>2015-04-06T00:57:29.294Z</td>\n",
       "      <td>2015-04-06T00:00:00.000Z</td>\n",
       "      <td>Shigatsu wa Kimi no Uso</td>\n",
       "      <td>Music accompanies the path of the human metron...</td>\n",
       "      <td>Music accompanies the path of the human metron...</td>\n",
       "    </tr>\n",
       "    <tr>\n",
       "      <th>4</th>\n",
       "      <td>85539</td>\n",
       "      <td>8147</td>\n",
       "      <td>completed</td>\n",
       "      <td>24</td>\n",
       "      <td>2017-04-14T04:09:37.510Z</td>\n",
       "      <td>2017-04-14T04:09:37.510Z</td>\n",
       "      <td>2017-04-14T00:00:00.000Z</td>\n",
       "      <td>Kiseijuu: Sei no Kakuritsu</td>\n",
       "      <td>All of a sudden, they arrived: parasitic alien...</td>\n",
       "      <td>All of a sudden, they arrived: parasitic alien...</td>\n",
       "    </tr>\n",
       "  </tbody>\n",
       "</table>\n",
       "</div>"
      ],
      "text/plain": [
       "   user_id anime_id     status  progress              progressedAt  \\\n",
       "0    85539      176  completed         1  2016-04-05T21:53:57.987Z   \n",
       "1    85539     6711  completed         1  2015-11-07T21:02:56.128Z   \n",
       "2    85539      142  completed         1  2016-04-05T21:54:13.337Z   \n",
       "3    85539     8403  completed        22  2015-04-06T00:57:29.294Z   \n",
       "4    85539     8147  completed        24  2017-04-14T04:09:37.510Z   \n",
       "\n",
       "                  startedAt                finishedAt  \\\n",
       "0  2016-04-05T21:53:57.987Z  2016-04-05T00:00:00.000Z   \n",
       "1  2015-11-07T21:02:56.128Z  2015-11-07T00:00:00.000Z   \n",
       "2  2016-04-05T21:54:13.337Z  2016-04-05T00:00:00.000Z   \n",
       "3  2015-04-06T00:57:29.294Z  2015-04-06T00:00:00.000Z   \n",
       "4  2017-04-14T04:09:37.510Z  2017-04-14T00:00:00.000Z   \n",
       "\n",
       "               canonicalTitle  \\\n",
       "0               Spirited Away   \n",
       "1               Wolf Children   \n",
       "2           Princess Mononoke   \n",
       "3     Shigatsu wa Kimi no Uso   \n",
       "4  Kiseijuu: Sei no Kakuritsu   \n",
       "\n",
       "                                            synopsis  \\\n",
       "0  Stubborn, spoiled, and naïve, 10-year-old Chih...   \n",
       "1  Hana, a hard-working college student, falls in...   \n",
       "2  When an Emishi village is attacked by a fierce...   \n",
       "3  Music accompanies the path of the human metron...   \n",
       "4  All of a sudden, they arrived: parasitic alien...   \n",
       "\n",
       "                                         description  \n",
       "0  Stubborn, spoiled, and naïve, 10-year-old Chih...  \n",
       "1  Hana, a hard-working college student, falls in...  \n",
       "2  When an Emishi village is attacked by a fierce...  \n",
       "3  Music accompanies the path of the human metron...  \n",
       "4  All of a sudden, they arrived: parasitic alien...  "
      ]
     },
     "execution_count": 24,
     "metadata": {},
     "output_type": "execute_result"
    }
   ],
   "source": [
    "users_le_df.head()"
   ]
  },
  {
   "cell_type": "markdown",
   "metadata": {},
   "source": [
    "# Data Processing to set up Recommender Model"
   ]
  },
  {
   "cell_type": "code",
   "execution_count": 25,
   "metadata": {
    "ExecuteTime": {
     "end_time": "2021-10-29T04:58:27.596046Z",
     "start_time": "2021-10-29T04:58:27.567571Z"
    }
   },
   "outputs": [],
   "source": [
    "# Create status column to align and later combine with users_le_df\n",
    "# 'favorite' will be used as an event type\n",
    "users_favs_df['status'] = 'favorite'"
   ]
  },
  {
   "cell_type": "code",
   "execution_count": 26,
   "metadata": {
    "ExecuteTime": {
     "end_time": "2021-10-29T04:58:28.100523Z",
     "start_time": "2021-10-29T04:58:28.063269Z"
    }
   },
   "outputs": [
    {
     "data": {
      "text/html": [
       "<div>\n",
       "<style scoped>\n",
       "    .dataframe tbody tr th:only-of-type {\n",
       "        vertical-align: middle;\n",
       "    }\n",
       "\n",
       "    .dataframe tbody tr th {\n",
       "        vertical-align: top;\n",
       "    }\n",
       "\n",
       "    .dataframe thead th {\n",
       "        text-align: right;\n",
       "    }\n",
       "</style>\n",
       "<table border=\"1\" class=\"dataframe\">\n",
       "  <thead>\n",
       "    <tr style=\"text-align: right;\">\n",
       "      <th></th>\n",
       "      <th>user_id</th>\n",
       "      <th>anime_id</th>\n",
       "      <th>canonicalTitle</th>\n",
       "      <th>synopsis</th>\n",
       "      <th>description</th>\n",
       "      <th>status</th>\n",
       "    </tr>\n",
       "  </thead>\n",
       "  <tbody>\n",
       "    <tr>\n",
       "      <th>0</th>\n",
       "      <td>85539</td>\n",
       "      <td>8403</td>\n",
       "      <td>Shigatsu wa Kimi no Uso</td>\n",
       "      <td>Music accompanies the path of the human metron...</td>\n",
       "      <td>Music accompanies the path of the human metron...</td>\n",
       "      <td>favorite</td>\n",
       "    </tr>\n",
       "    <tr>\n",
       "      <th>1</th>\n",
       "      <td>85539</td>\n",
       "      <td>8147</td>\n",
       "      <td>Kiseijuu: Sei no Kakuritsu</td>\n",
       "      <td>All of a sudden, they arrived: parasitic alien...</td>\n",
       "      <td>All of a sudden, they arrived: parasitic alien...</td>\n",
       "      <td>favorite</td>\n",
       "    </tr>\n",
       "    <tr>\n",
       "      <th>2</th>\n",
       "      <td>85539</td>\n",
       "      <td>6836</td>\n",
       "      <td>Tsuritama</td>\n",
       "      <td>Yuki Sanada is a socially awkward young man wh...</td>\n",
       "      <td>Yuki Sanada is a socially awkward young man wh...</td>\n",
       "      <td>favorite</td>\n",
       "    </tr>\n",
       "    <tr>\n",
       "      <th>3</th>\n",
       "      <td>85539</td>\n",
       "      <td>8333</td>\n",
       "      <td>Gugure! Kokkuri-san</td>\n",
       "      <td>Kohina Ichimatsu, the self-proclaimed doll, ca...</td>\n",
       "      <td>Kohina Ichimatsu, the self-proclaimed doll, ca...</td>\n",
       "      <td>favorite</td>\n",
       "    </tr>\n",
       "    <tr>\n",
       "      <th>4</th>\n",
       "      <td>85539</td>\n",
       "      <td>5981</td>\n",
       "      <td>Ano Hi Mita Hana no Namae wo Bokutachi wa Mada...</td>\n",
       "      <td>Jinta Yadomi is peacefully living as a recluse...</td>\n",
       "      <td>Jinta Yadomi is peacefully living as a recluse...</td>\n",
       "      <td>favorite</td>\n",
       "    </tr>\n",
       "  </tbody>\n",
       "</table>\n",
       "</div>"
      ],
      "text/plain": [
       "   user_id anime_id                                     canonicalTitle  \\\n",
       "0    85539     8403                            Shigatsu wa Kimi no Uso   \n",
       "1    85539     8147                         Kiseijuu: Sei no Kakuritsu   \n",
       "2    85539     6836                                          Tsuritama   \n",
       "3    85539     8333                                Gugure! Kokkuri-san   \n",
       "4    85539     5981  Ano Hi Mita Hana no Namae wo Bokutachi wa Mada...   \n",
       "\n",
       "                                            synopsis  \\\n",
       "0  Music accompanies the path of the human metron...   \n",
       "1  All of a sudden, they arrived: parasitic alien...   \n",
       "2  Yuki Sanada is a socially awkward young man wh...   \n",
       "3  Kohina Ichimatsu, the self-proclaimed doll, ca...   \n",
       "4  Jinta Yadomi is peacefully living as a recluse...   \n",
       "\n",
       "                                         description    status  \n",
       "0  Music accompanies the path of the human metron...  favorite  \n",
       "1  All of a sudden, they arrived: parasitic alien...  favorite  \n",
       "2  Yuki Sanada is a socially awkward young man wh...  favorite  \n",
       "3  Kohina Ichimatsu, the self-proclaimed doll, ca...  favorite  \n",
       "4  Jinta Yadomi is peacefully living as a recluse...  favorite  "
      ]
     },
     "execution_count": 26,
     "metadata": {},
     "output_type": "execute_result"
    }
   ],
   "source": [
    "users_favs_df.head()"
   ]
  },
  {
   "cell_type": "code",
   "execution_count": 27,
   "metadata": {
    "ExecuteTime": {
     "end_time": "2021-10-29T04:58:28.589067Z",
     "start_time": "2021-10-29T04:58:28.558508Z"
    }
   },
   "outputs": [
    {
     "name": "stdout",
     "output_type": "stream",
     "text": [
      "(306, 6)\n",
      "(239, 10)\n"
     ]
    }
   ],
   "source": [
    "print(users_favs_df.shape)\n",
    "print(users_le_df.shape)"
   ]
  },
  {
   "cell_type": "code",
   "execution_count": 28,
   "metadata": {
    "ExecuteTime": {
     "end_time": "2021-10-29T04:58:29.098970Z",
     "start_time": "2021-10-29T04:58:29.075500Z"
    }
   },
   "outputs": [
    {
     "data": {
      "text/plain": [
       "Index(['user_id', 'anime_id', 'status', 'progress', 'progressedAt',\n",
       "       'startedAt', 'finishedAt', 'canonicalTitle', 'synopsis', 'description'],\n",
       "      dtype='object')"
      ]
     },
     "execution_count": 28,
     "metadata": {},
     "output_type": "execute_result"
    }
   ],
   "source": [
    "users_le_df.columns"
   ]
  },
  {
   "cell_type": "code",
   "execution_count": 29,
   "metadata": {
    "ExecuteTime": {
     "end_time": "2021-10-29T04:58:29.551916Z",
     "start_time": "2021-10-29T04:58:29.536962Z"
    }
   },
   "outputs": [
    {
     "data": {
      "text/plain": [
       "['user_id', 'anime_id', 'canonicalTitle', 'synopsis', 'description', 'status']"
      ]
     },
     "execution_count": 29,
     "metadata": {},
     "output_type": "execute_result"
    }
   ],
   "source": [
    "list(users_favs_df.columns)"
   ]
  },
  {
   "cell_type": "code",
   "execution_count": 30,
   "metadata": {
    "ExecuteTime": {
     "end_time": "2021-10-29T04:58:30.080435Z",
     "start_time": "2021-10-29T04:58:30.034742Z"
    }
   },
   "outputs": [
    {
     "data": {
      "text/html": [
       "<div>\n",
       "<style scoped>\n",
       "    .dataframe tbody tr th:only-of-type {\n",
       "        vertical-align: middle;\n",
       "    }\n",
       "\n",
       "    .dataframe tbody tr th {\n",
       "        vertical-align: top;\n",
       "    }\n",
       "\n",
       "    .dataframe thead th {\n",
       "        text-align: right;\n",
       "    }\n",
       "</style>\n",
       "<table border=\"1\" class=\"dataframe\">\n",
       "  <thead>\n",
       "    <tr style=\"text-align: right;\">\n",
       "      <th></th>\n",
       "      <th>user_id</th>\n",
       "      <th>anime_id</th>\n",
       "      <th>canonicalTitle</th>\n",
       "      <th>synopsis</th>\n",
       "      <th>description</th>\n",
       "      <th>status</th>\n",
       "    </tr>\n",
       "  </thead>\n",
       "  <tbody>\n",
       "    <tr>\n",
       "      <th>0</th>\n",
       "      <td>85539</td>\n",
       "      <td>176</td>\n",
       "      <td>Spirited Away</td>\n",
       "      <td>Stubborn, spoiled, and naïve, 10-year-old Chih...</td>\n",
       "      <td>Stubborn, spoiled, and naïve, 10-year-old Chih...</td>\n",
       "      <td>completed</td>\n",
       "    </tr>\n",
       "    <tr>\n",
       "      <th>1</th>\n",
       "      <td>85539</td>\n",
       "      <td>6711</td>\n",
       "      <td>Wolf Children</td>\n",
       "      <td>Hana, a hard-working college student, falls in...</td>\n",
       "      <td>Hana, a hard-working college student, falls in...</td>\n",
       "      <td>completed</td>\n",
       "    </tr>\n",
       "    <tr>\n",
       "      <th>2</th>\n",
       "      <td>85539</td>\n",
       "      <td>142</td>\n",
       "      <td>Princess Mononoke</td>\n",
       "      <td>When an Emishi village is attacked by a fierce...</td>\n",
       "      <td>When an Emishi village is attacked by a fierce...</td>\n",
       "      <td>completed</td>\n",
       "    </tr>\n",
       "    <tr>\n",
       "      <th>3</th>\n",
       "      <td>85539</td>\n",
       "      <td>8403</td>\n",
       "      <td>Shigatsu wa Kimi no Uso</td>\n",
       "      <td>Music accompanies the path of the human metron...</td>\n",
       "      <td>Music accompanies the path of the human metron...</td>\n",
       "      <td>completed</td>\n",
       "    </tr>\n",
       "    <tr>\n",
       "      <th>4</th>\n",
       "      <td>85539</td>\n",
       "      <td>8147</td>\n",
       "      <td>Kiseijuu: Sei no Kakuritsu</td>\n",
       "      <td>All of a sudden, they arrived: parasitic alien...</td>\n",
       "      <td>All of a sudden, they arrived: parasitic alien...</td>\n",
       "      <td>completed</td>\n",
       "    </tr>\n",
       "  </tbody>\n",
       "</table>\n",
       "</div>"
      ],
      "text/plain": [
       "   user_id anime_id              canonicalTitle  \\\n",
       "0    85539      176               Spirited Away   \n",
       "1    85539     6711               Wolf Children   \n",
       "2    85539      142           Princess Mononoke   \n",
       "3    85539     8403     Shigatsu wa Kimi no Uso   \n",
       "4    85539     8147  Kiseijuu: Sei no Kakuritsu   \n",
       "\n",
       "                                            synopsis  \\\n",
       "0  Stubborn, spoiled, and naïve, 10-year-old Chih...   \n",
       "1  Hana, a hard-working college student, falls in...   \n",
       "2  When an Emishi village is attacked by a fierce...   \n",
       "3  Music accompanies the path of the human metron...   \n",
       "4  All of a sudden, they arrived: parasitic alien...   \n",
       "\n",
       "                                         description     status  \n",
       "0  Stubborn, spoiled, and naïve, 10-year-old Chih...  completed  \n",
       "1  Hana, a hard-working college student, falls in...  completed  \n",
       "2  When an Emishi village is attacked by a fierce...  completed  \n",
       "3  Music accompanies the path of the human metron...  completed  \n",
       "4  All of a sudden, they arrived: parasitic alien...  completed  "
      ]
     },
     "execution_count": 30,
     "metadata": {},
     "output_type": "execute_result"
    }
   ],
   "source": [
    "# Set columns between both dataframes to be equal for combining\n",
    "col_list = list(users_favs_df.columns)\n",
    "\n",
    "users_le_df_append = users_le_df.copy()\n",
    "\n",
    "users_le_df_append = users_le_df_append[col_list]\n",
    "\n",
    "user_interaction_df = users_le_df_append.append(users_favs_df, ignore_index=True)\n",
    "\n",
    "user_interaction_df.head()"
   ]
  },
  {
   "cell_type": "markdown",
   "metadata": {},
   "source": [
    "Below we will assign an arbitrary event strength for the type of interactions users have had with certain types of anime. "
   ]
  },
  {
   "cell_type": "code",
   "execution_count": 31,
   "metadata": {
    "ExecuteTime": {
     "end_time": "2021-10-29T04:58:30.684174Z",
     "start_time": "2021-10-29T04:58:30.664738Z"
    }
   },
   "outputs": [],
   "source": [
    "# Set up event strength dict to assign arbitrary strength score towards interaction types\n",
    "event_strength = {\n",
    "    'completed':6.0,\n",
    "    'favorite':5.0,\n",
    "    'current':4.0,\n",
    "    'planned':3.0,\n",
    "    'on_hold':2.0,\n",
    "    'dropped':1.0\n",
    "}"
   ]
  },
  {
   "cell_type": "code",
   "execution_count": 32,
   "metadata": {
    "ExecuteTime": {
     "end_time": "2021-10-29T04:58:31.275669Z",
     "start_time": "2021-10-29T04:58:31.258125Z"
    }
   },
   "outputs": [],
   "source": [
    "# Map event strength scores according to status set in user_interaction_df\n",
    "user_interaction_df['eventStrength'] = user_interaction_df['status'].apply(lambda x: event_strength[x])"
   ]
  },
  {
   "cell_type": "code",
   "execution_count": 33,
   "metadata": {
    "ExecuteTime": {
     "end_time": "2021-10-29T04:58:31.900588Z",
     "start_time": "2021-10-29T04:58:31.855476Z"
    }
   },
   "outputs": [
    {
     "data": {
      "text/html": [
       "<div>\n",
       "<style scoped>\n",
       "    .dataframe tbody tr th:only-of-type {\n",
       "        vertical-align: middle;\n",
       "    }\n",
       "\n",
       "    .dataframe tbody tr th {\n",
       "        vertical-align: top;\n",
       "    }\n",
       "\n",
       "    .dataframe thead th {\n",
       "        text-align: right;\n",
       "    }\n",
       "</style>\n",
       "<table border=\"1\" class=\"dataframe\">\n",
       "  <thead>\n",
       "    <tr style=\"text-align: right;\">\n",
       "      <th></th>\n",
       "      <th>user_id</th>\n",
       "      <th>anime_id</th>\n",
       "      <th>canonicalTitle</th>\n",
       "      <th>synopsis</th>\n",
       "      <th>description</th>\n",
       "      <th>status</th>\n",
       "      <th>eventStrength</th>\n",
       "    </tr>\n",
       "  </thead>\n",
       "  <tbody>\n",
       "    <tr>\n",
       "      <th>0</th>\n",
       "      <td>85539</td>\n",
       "      <td>176</td>\n",
       "      <td>Spirited Away</td>\n",
       "      <td>Stubborn, spoiled, and naïve, 10-year-old Chih...</td>\n",
       "      <td>Stubborn, spoiled, and naïve, 10-year-old Chih...</td>\n",
       "      <td>completed</td>\n",
       "      <td>6.0</td>\n",
       "    </tr>\n",
       "    <tr>\n",
       "      <th>1</th>\n",
       "      <td>85539</td>\n",
       "      <td>6711</td>\n",
       "      <td>Wolf Children</td>\n",
       "      <td>Hana, a hard-working college student, falls in...</td>\n",
       "      <td>Hana, a hard-working college student, falls in...</td>\n",
       "      <td>completed</td>\n",
       "      <td>6.0</td>\n",
       "    </tr>\n",
       "    <tr>\n",
       "      <th>2</th>\n",
       "      <td>85539</td>\n",
       "      <td>142</td>\n",
       "      <td>Princess Mononoke</td>\n",
       "      <td>When an Emishi village is attacked by a fierce...</td>\n",
       "      <td>When an Emishi village is attacked by a fierce...</td>\n",
       "      <td>completed</td>\n",
       "      <td>6.0</td>\n",
       "    </tr>\n",
       "    <tr>\n",
       "      <th>3</th>\n",
       "      <td>85539</td>\n",
       "      <td>8403</td>\n",
       "      <td>Shigatsu wa Kimi no Uso</td>\n",
       "      <td>Music accompanies the path of the human metron...</td>\n",
       "      <td>Music accompanies the path of the human metron...</td>\n",
       "      <td>completed</td>\n",
       "      <td>6.0</td>\n",
       "    </tr>\n",
       "    <tr>\n",
       "      <th>4</th>\n",
       "      <td>85539</td>\n",
       "      <td>8147</td>\n",
       "      <td>Kiseijuu: Sei no Kakuritsu</td>\n",
       "      <td>All of a sudden, they arrived: parasitic alien...</td>\n",
       "      <td>All of a sudden, they arrived: parasitic alien...</td>\n",
       "      <td>completed</td>\n",
       "      <td>6.0</td>\n",
       "    </tr>\n",
       "  </tbody>\n",
       "</table>\n",
       "</div>"
      ],
      "text/plain": [
       "   user_id anime_id              canonicalTitle  \\\n",
       "0    85539      176               Spirited Away   \n",
       "1    85539     6711               Wolf Children   \n",
       "2    85539      142           Princess Mononoke   \n",
       "3    85539     8403     Shigatsu wa Kimi no Uso   \n",
       "4    85539     8147  Kiseijuu: Sei no Kakuritsu   \n",
       "\n",
       "                                            synopsis  \\\n",
       "0  Stubborn, spoiled, and naïve, 10-year-old Chih...   \n",
       "1  Hana, a hard-working college student, falls in...   \n",
       "2  When an Emishi village is attacked by a fierce...   \n",
       "3  Music accompanies the path of the human metron...   \n",
       "4  All of a sudden, they arrived: parasitic alien...   \n",
       "\n",
       "                                         description     status  eventStrength  \n",
       "0  Stubborn, spoiled, and naïve, 10-year-old Chih...  completed            6.0  \n",
       "1  Hana, a hard-working college student, falls in...  completed            6.0  \n",
       "2  When an Emishi village is attacked by a fierce...  completed            6.0  \n",
       "3  Music accompanies the path of the human metron...  completed            6.0  \n",
       "4  All of a sudden, they arrived: parasitic alien...  completed            6.0  "
      ]
     },
     "execution_count": 33,
     "metadata": {},
     "output_type": "execute_result"
    }
   ],
   "source": [
    "# Peek at data\n",
    "user_interaction_df.head()"
   ]
  },
  {
   "cell_type": "code",
   "execution_count": 34,
   "metadata": {
    "ExecuteTime": {
     "end_time": "2021-10-29T04:58:32.549878Z",
     "start_time": "2021-10-29T04:58:32.509169Z"
    }
   },
   "outputs": [
    {
     "data": {
      "text/html": [
       "<div>\n",
       "<style scoped>\n",
       "    .dataframe tbody tr th:only-of-type {\n",
       "        vertical-align: middle;\n",
       "    }\n",
       "\n",
       "    .dataframe tbody tr th {\n",
       "        vertical-align: top;\n",
       "    }\n",
       "\n",
       "    .dataframe thead th {\n",
       "        text-align: right;\n",
       "    }\n",
       "</style>\n",
       "<table border=\"1\" class=\"dataframe\">\n",
       "  <thead>\n",
       "    <tr style=\"text-align: right;\">\n",
       "      <th></th>\n",
       "      <th>user_id</th>\n",
       "      <th>anime_id</th>\n",
       "      <th>canonicalTitle</th>\n",
       "      <th>eventStrength</th>\n",
       "    </tr>\n",
       "  </thead>\n",
       "  <tbody>\n",
       "    <tr>\n",
       "      <th>7</th>\n",
       "      <td>70211</td>\n",
       "      <td>1219</td>\n",
       "      <td>Case Closed: The Phantom of Baker Street</td>\n",
       "      <td>6.0</td>\n",
       "    </tr>\n",
       "    <tr>\n",
       "      <th>133</th>\n",
       "      <td>85539</td>\n",
       "      <td>10877</td>\n",
       "      <td>Ansatsu Kyoushitsu 2nd Season</td>\n",
       "      <td>5.0</td>\n",
       "    </tr>\n",
       "    <tr>\n",
       "      <th>424</th>\n",
       "      <td>143115</td>\n",
       "      <td>11469</td>\n",
       "      <td>Boku no Hero Academia</td>\n",
       "      <td>6.0</td>\n",
       "    </tr>\n",
       "    <tr>\n",
       "      <th>318</th>\n",
       "      <td>86869</td>\n",
       "      <td>6726</td>\n",
       "      <td>Jormungand</td>\n",
       "      <td>11.0</td>\n",
       "    </tr>\n",
       "    <tr>\n",
       "      <th>282</th>\n",
       "      <td>86869</td>\n",
       "      <td>10029</td>\n",
       "      <td>Rokka no Yuusha</td>\n",
       "      <td>6.0</td>\n",
       "    </tr>\n",
       "    <tr>\n",
       "      <th>323</th>\n",
       "      <td>86869</td>\n",
       "      <td>7245</td>\n",
       "      <td>Kotoura-san</td>\n",
       "      <td>6.0</td>\n",
       "    </tr>\n",
       "    <tr>\n",
       "      <th>49</th>\n",
       "      <td>70211</td>\n",
       "      <td>4989</td>\n",
       "      <td>Gintama: The Movie</td>\n",
       "      <td>5.0</td>\n",
       "    </tr>\n",
       "    <tr>\n",
       "      <th>350</th>\n",
       "      <td>86869</td>\n",
       "      <td>8409</td>\n",
       "      <td>Garo: Honoo no Kokuin</td>\n",
       "      <td>5.0</td>\n",
       "    </tr>\n",
       "    <tr>\n",
       "      <th>388</th>\n",
       "      <td>121938</td>\n",
       "      <td>5389</td>\n",
       "      <td>Squid Girl</td>\n",
       "      <td>3.0</td>\n",
       "    </tr>\n",
       "    <tr>\n",
       "      <th>116</th>\n",
       "      <td>70211</td>\n",
       "      <td>923</td>\n",
       "      <td>Sennen Joyuu</td>\n",
       "      <td>5.0</td>\n",
       "    </tr>\n",
       "  </tbody>\n",
       "</table>\n",
       "</div>"
      ],
      "text/plain": [
       "     user_id anime_id                            canonicalTitle  eventStrength\n",
       "7      70211     1219  Case Closed: The Phantom of Baker Street            6.0\n",
       "133    85539    10877             Ansatsu Kyoushitsu 2nd Season            5.0\n",
       "424   143115    11469                     Boku no Hero Academia            6.0\n",
       "318    86869     6726                                Jormungand           11.0\n",
       "282    86869    10029                           Rokka no Yuusha            6.0\n",
       "323    86869     7245                               Kotoura-san            6.0\n",
       "49     70211     4989                        Gintama: The Movie            5.0\n",
       "350    86869     8409                     Garo: Honoo no Kokuin            5.0\n",
       "388   121938     5389                                Squid Girl            3.0\n",
       "116    70211      923                              Sennen Joyuu            5.0"
      ]
     },
     "execution_count": 34,
     "metadata": {},
     "output_type": "execute_result"
    }
   ],
   "source": [
    "grouped_df = user_interaction_df.groupby(['user_id', 'anime_id', 'canonicalTitle'])['eventStrength'].sum().reset_index()\n",
    "grouped_df.sample(10)"
   ]
  },
  {
   "cell_type": "markdown",
   "metadata": {},
   "source": [
    "# Fit Alternating Least Squares Model"
   ]
  },
  {
   "cell_type": "code",
   "execution_count": 49,
   "metadata": {
    "ExecuteTime": {
     "end_time": "2021-10-29T05:12:06.100089Z",
     "start_time": "2021-10-29T05:12:05.359657Z"
    }
   },
   "outputs": [
    {
     "data": {
      "application/vnd.jupyter.widget-view+json": {
       "model_id": "3c7627692d5b4f05bff587699a68ce7a",
       "version_major": 2,
       "version_minor": 0
      },
      "text/plain": [
       "HBox(children=(HTML(value=''), FloatProgress(value=0.0, max=50.0), HTML(value='')))"
      ]
     },
     "metadata": {},
     "output_type": "display_data"
    },
    {
     "name": "stdout",
     "output_type": "stream",
     "text": [
      "\n"
     ]
    }
   ],
   "source": [
    "grouped_df['canonicalTitle'] = grouped_df['canonicalTitle'].astype(\"category\")\n",
    "grouped_df['user_id'] = grouped_df['user_id'].astype(\"category\")\n",
    "grouped_df['anime_id'] = grouped_df['anime_id'].astype(\"category\")\n",
    "grouped_df['person_id'] = grouped_df['user_id'].cat.codes\n",
    "grouped_df['content_id'] = grouped_df['anime_id'].cat.codes\n",
    "\n",
    "sparse_content_person = sparse.csr_matrix((grouped_df['eventStrength'].astype(float), (grouped_df['content_id'], grouped_df['person_id'])))\n",
    "sparse_person_content = sparse.csr_matrix((grouped_df['eventStrength'].astype(float), (grouped_df['person_id'], grouped_df['content_id'])))\n",
    "\n",
    "model = implicit.als.AlternatingLeastSquares(factors=20, regularization=0.1, iterations=50)\n",
    "\n",
    "alpha = 15\n",
    "data = (sparse_content_person * alpha).astype('double')\n",
    "model.fit(data)"
   ]
  },
  {
   "cell_type": "code",
   "execution_count": 50,
   "metadata": {
    "ExecuteTime": {
     "end_time": "2021-10-29T05:12:06.939765Z",
     "start_time": "2021-10-29T05:12:06.892644Z"
    }
   },
   "outputs": [
    {
     "data": {
      "text/html": [
       "<div>\n",
       "<style scoped>\n",
       "    .dataframe tbody tr th:only-of-type {\n",
       "        vertical-align: middle;\n",
       "    }\n",
       "\n",
       "    .dataframe tbody tr th {\n",
       "        vertical-align: top;\n",
       "    }\n",
       "\n",
       "    .dataframe thead th {\n",
       "        text-align: right;\n",
       "    }\n",
       "</style>\n",
       "<table border=\"1\" class=\"dataframe\">\n",
       "  <thead>\n",
       "    <tr style=\"text-align: right;\">\n",
       "      <th></th>\n",
       "      <th>user_id</th>\n",
       "      <th>anime_id</th>\n",
       "      <th>canonicalTitle</th>\n",
       "      <th>eventStrength</th>\n",
       "      <th>person_id</th>\n",
       "      <th>content_id</th>\n",
       "    </tr>\n",
       "  </thead>\n",
       "  <tbody>\n",
       "    <tr>\n",
       "      <th>411</th>\n",
       "      <td>121938</td>\n",
       "      <td>8271</td>\n",
       "      <td>Tokyo Ghoul</td>\n",
       "      <td>6.0</td>\n",
       "      <td>3</td>\n",
       "      <td>334</td>\n",
       "    </tr>\n",
       "    <tr>\n",
       "      <th>130</th>\n",
       "      <td>85539</td>\n",
       "      <td>10740</td>\n",
       "      <td>One Punch Man</td>\n",
       "      <td>5.0</td>\n",
       "      <td>1</td>\n",
       "      <td>22</td>\n",
       "    </tr>\n",
       "    <tr>\n",
       "      <th>273</th>\n",
       "      <td>85539</td>\n",
       "      <td>8644</td>\n",
       "      <td>Gakkou Gurashi!</td>\n",
       "      <td>5.0</td>\n",
       "      <td>1</td>\n",
       "      <td>357</td>\n",
       "    </tr>\n",
       "    <tr>\n",
       "      <th>158</th>\n",
       "      <td>85539</td>\n",
       "      <td>11939</td>\n",
       "      <td>Fune wo Amu</td>\n",
       "      <td>5.0</td>\n",
       "      <td>1</td>\n",
       "      <td>58</td>\n",
       "    </tr>\n",
       "    <tr>\n",
       "      <th>277</th>\n",
       "      <td>85539</td>\n",
       "      <td>8735</td>\n",
       "      <td>Kyoukai no Kanata Movie 1: I'll Be Here - Kako...</td>\n",
       "      <td>3.0</td>\n",
       "      <td>1</td>\n",
       "      <td>366</td>\n",
       "    </tr>\n",
       "    <tr>\n",
       "      <th>214</th>\n",
       "      <td>85539</td>\n",
       "      <td>6146</td>\n",
       "      <td>Jinrui wa Suitai Shimashita</td>\n",
       "      <td>5.0</td>\n",
       "      <td>1</td>\n",
       "      <td>204</td>\n",
       "    </tr>\n",
       "    <tr>\n",
       "      <th>15</th>\n",
       "      <td>70211</td>\n",
       "      <td>1415</td>\n",
       "      <td>Code Geass: Lelouch of the Rebellion</td>\n",
       "      <td>6.0</td>\n",
       "      <td>0</td>\n",
       "      <td>88</td>\n",
       "    </tr>\n",
       "    <tr>\n",
       "      <th>464</th>\n",
       "      <td>143115</td>\n",
       "      <td>7960</td>\n",
       "      <td>Batman Beyond: Return of the Joker</td>\n",
       "      <td>5.0</td>\n",
       "      <td>4</td>\n",
       "      <td>307</td>\n",
       "    </tr>\n",
       "    <tr>\n",
       "      <th>207</th>\n",
       "      <td>85539</td>\n",
       "      <td>5646</td>\n",
       "      <td>Steins;Gate</td>\n",
       "      <td>2.0</td>\n",
       "      <td>1</td>\n",
       "      <td>190</td>\n",
       "    </tr>\n",
       "    <tr>\n",
       "      <th>89</th>\n",
       "      <td>70211</td>\n",
       "      <td>7664</td>\n",
       "      <td>Free!</td>\n",
       "      <td>11.0</td>\n",
       "      <td>0</td>\n",
       "      <td>280</td>\n",
       "    </tr>\n",
       "  </tbody>\n",
       "</table>\n",
       "</div>"
      ],
      "text/plain": [
       "    user_id anime_id                                     canonicalTitle  \\\n",
       "411  121938     8271                                        Tokyo Ghoul   \n",
       "130   85539    10740                                      One Punch Man   \n",
       "273   85539     8644                                    Gakkou Gurashi!   \n",
       "158   85539    11939                                        Fune wo Amu   \n",
       "277   85539     8735  Kyoukai no Kanata Movie 1: I'll Be Here - Kako...   \n",
       "214   85539     6146                        Jinrui wa Suitai Shimashita   \n",
       "15    70211     1415               Code Geass: Lelouch of the Rebellion   \n",
       "464  143115     7960                 Batman Beyond: Return of the Joker   \n",
       "207   85539     5646                                        Steins;Gate   \n",
       "89    70211     7664                                              Free!   \n",
       "\n",
       "     eventStrength  person_id  content_id  \n",
       "411            6.0          3         334  \n",
       "130            5.0          1          22  \n",
       "273            5.0          1         357  \n",
       "158            5.0          1          58  \n",
       "277            3.0          1         366  \n",
       "214            5.0          1         204  \n",
       "15             6.0          0          88  \n",
       "464            5.0          4         307  \n",
       "207            2.0          1         190  \n",
       "89            11.0          0         280  "
      ]
     },
     "execution_count": 50,
     "metadata": {},
     "output_type": "execute_result"
    }
   ],
   "source": [
    "grouped_df.sample(10)"
   ]
  },
  {
   "cell_type": "code",
   "execution_count": 51,
   "metadata": {
    "ExecuteTime": {
     "end_time": "2021-10-29T05:12:08.189824Z",
     "start_time": "2021-10-29T05:12:08.150491Z"
    }
   },
   "outputs": [
    {
     "name": "stdout",
     "output_type": "stream",
     "text": [
      "Sword Art Online\n",
      "Gangsta.\n",
      "The Devil is a Part-Timer!\n",
      "Strike the Blood\n",
      "Toradora!\n",
      "Nausicaä of the Valley of the Wind\n",
      "Chuunibyou demo Koi ga Shitai!\n",
      "Yuri!!! on Ice\n",
      "Mahou Shoujo Madoka★Magica\n",
      "Majo no Takkyuubin\n"
     ]
    }
   ],
   "source": [
    "content_id = 220\n",
    "n_similar = 10\n",
    "\n",
    "person_vecs = model.user_factors\n",
    "content_vecs = model.item_factors\n",
    "\n",
    "content_norms = np.sqrt((content_vecs * content_vecs).sum(axis=1))\n",
    "\n",
    "scores = content_vecs.dot(content_vecs[content_id]) / content_norms\n",
    "top_idx = np.argpartition(scores, -n_similar)[-n_similar:]\n",
    "similar = sorted(zip(top_idx, scores[top_idx] / content_norms[content_id]), key=lambda x: -x[1])\n",
    "\n",
    "for content in similar:\n",
    "    idx, score = content\n",
    "    print(grouped_df.canonicalTitle.loc[grouped_df.content_id == idx].iloc[0])"
   ]
  },
  {
   "cell_type": "code",
   "execution_count": 53,
   "metadata": {
    "ExecuteTime": {
     "end_time": "2021-10-29T05:12:45.100822Z",
     "start_time": "2021-10-29T05:12:45.050639Z"
    }
   },
   "outputs": [
    {
     "name": "stdout",
     "output_type": "stream",
     "text": [
      "                                               title     score\n",
      "0                         The Devil is a Part-Timer!  0.005232\n",
      "1                                          Fate/Zero  0.005151\n",
      "2                                        Summer Wars  0.005110\n",
      "3                                       Angel Beats!  0.005062\n",
      "4                                   Strike the Blood  0.004966\n",
      "5                     Baka to Test to Shoukanjuu Ni!  0.004962\n",
      "6  Danganronpa: Kibou no Gakuen to Zetsubou no Ko...  0.004941\n",
      "7                                          Toradora!  0.004824\n",
      "8                   Fullmetal Alchemist: Brotherhood  0.003884\n",
      "9                                    No Game No Life  0.003451\n"
     ]
    }
   ],
   "source": [
    "def recommend(person_id, sparse_person_content, person_vecs, content_vecs, num_contents=10):\n",
    "    # Get the interactions scores from the sparse person content matrix\n",
    "    person_interactions = sparse_person_content[person_id,:].toarray()\n",
    "    # Add 1 to everything, so that articles with no interaction yet become equal to 1\n",
    "    person_interactions = person_interactions.reshape(-1) + 1\n",
    "    # Make articles already interacted zero\n",
    "    person_interactions[person_interactions > 1] = 0\n",
    "    # Get dot product of person vector and all content vectors\n",
    "    rec_vector = person_vecs[person_id,:].dot(content_vecs.T).toarray()\n",
    "    \n",
    "    # Scale this recommendation vector between 0 and 1\n",
    "    min_max = MinMaxScaler()\n",
    "    rec_vector_scaled = min_max.fit_transform(rec_vector.reshape(-1,1))[:,0]\n",
    "    # Content already interacted have their recommendation multiplied by zero\n",
    "    recommend_vector = person_interactions * rec_vector_scaled\n",
    "    # Sort the indices of the content into order of best recommendations\n",
    "    content_idx = np.argsort(recommend_vector)[::-1][:num_contents]\n",
    "    \n",
    "    # Start empty list to store titles and scores\n",
    "    titles = []\n",
    "    scores = []\n",
    "\n",
    "    for idx in content_idx:\n",
    "        # Append titles and scores to the list\n",
    "        titles.append(grouped_df.canonicalTitle.loc[grouped_df.content_id == idx].iloc[0])\n",
    "        scores.append(recommend_vector[idx])\n",
    "\n",
    "    recommendations = pd.DataFrame({'title': titles, 'score': scores})\n",
    "\n",
    "    return recommendations\n",
    "    \n",
    "# Get the trained person and content vectors. We convert them to csr matrices\n",
    "person_vecs = sparse.csr_matrix(model.user_factors)\n",
    "content_vecs = sparse.csr_matrix(model.item_factors)\n",
    "\n",
    "# Create recommendations for person with id 50\n",
    "person_id = 1\n",
    "\n",
    "recommendations = recommend(person_id, sparse_person_content, person_vecs, content_vecs)\n",
    "\n",
    "print(recommendations)"
   ]
  },
  {
   "cell_type": "code",
   "execution_count": null,
   "metadata": {},
   "outputs": [],
   "source": []
  }
 ],
 "metadata": {
  "kernelspec": {
   "display_name": "learn-env",
   "language": "python",
   "name": "learn-env"
  },
  "language_info": {
   "codemirror_mode": {
    "name": "ipython",
    "version": 3
   },
   "file_extension": ".py",
   "mimetype": "text/x-python",
   "name": "python",
   "nbconvert_exporter": "python",
   "pygments_lexer": "ipython3",
   "version": "3.8.5"
  },
  "toc": {
   "base_numbering": 1,
   "nav_menu": {},
   "number_sections": true,
   "sideBar": true,
   "skip_h1_title": false,
   "title_cell": "Table of Contents",
   "title_sidebar": "Contents",
   "toc_cell": false,
   "toc_position": {
    "height": "calc(100% - 180px)",
    "left": "10px",
    "top": "150px",
    "width": "273.273px"
   },
   "toc_section_display": true,
   "toc_window_display": false
  },
  "varInspector": {
   "cols": {
    "lenName": 16,
    "lenType": 16,
    "lenVar": 40
   },
   "kernels_config": {
    "python": {
     "delete_cmd_postfix": "",
     "delete_cmd_prefix": "del ",
     "library": "var_list.py",
     "varRefreshCmd": "print(var_dic_list())"
    },
    "r": {
     "delete_cmd_postfix": ") ",
     "delete_cmd_prefix": "rm(",
     "library": "var_list.r",
     "varRefreshCmd": "cat(var_dic_list()) "
    }
   },
   "types_to_exclude": [
    "module",
    "function",
    "builtin_function_or_method",
    "instance",
    "_Feature"
   ],
   "window_display": false
  }
 },
 "nbformat": 4,
 "nbformat_minor": 4
}
